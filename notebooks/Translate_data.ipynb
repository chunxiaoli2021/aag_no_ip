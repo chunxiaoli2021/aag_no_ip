{
 "cells": [
  {
   "cell_type": "code",
   "execution_count": 1,
   "metadata": {},
   "outputs": [],
   "source": [
    "### load package\n",
    "import pandas as pd\n",
    "pd.set_option('display.max_rows', 500)\n",
    "import numpy as np\n",
    "import gurobipy as gp\n",
    "import time\n",
    "model_sanitized_path = 'C:/Users/52427/Documents/Cases/Case11_Baixiang/Baixiang_supply_chain_optimization/model_sanitized/'\n",
    "from datetime import date\n",
    "\n",
    "today = date.today()\n",
    "today = str(today).replace('-','')"
   ]
  },
  {
   "cell_type": "code",
   "execution_count": 2,
   "metadata": {},
   "outputs": [],
   "source": [
    "file_name = model_sanitized_path + 'model_input_20220616_EN_v2.xlsx'\n",
    "xls = pd.ExcelFile(file_name)\n",
    "\n",
    "customers_df = pd.read_excel(xls, 'Input_CustomerList')\n",
    "\n",
    "factories_df = pd.read_excel(xls, 'Input_FactoryList')\n",
    "\n",
    "products_df = pd.read_excel(xls, 'Input_ProductList')\n",
    "\n",
    "demand_df = pd.read_excel(xls, 'Input_CustomerDemand')\n",
    "\n",
    "trans_policies_df = pd.read_excel(xls, 'Input_TransportationPolicy')\n",
    "\n",
    "prod_policies_df = pd.read_excel(xls, 'Input_CapacityByLineByProduct')\n",
    "\n",
    "prod_line_policies_df = pd.read_excel(xls, 'Input_CapacityByLine')\n",
    "\n",
    "factory_var_cost_df = pd.read_excel(xls, 'Input_FactoryVariableCost')\n",
    "\n",
    "factory_fixed_cost_df = pd.read_excel(xls, 'Input_FactoryFixedCost')\n",
    "\n",
    "inv_df = pd.read_excel(xls, 'Input_InventoryPolicy')\n",
    "\n",
    "### load baseline data tables\n",
    "hist_outbound_trans_df = pd.read_excel(xls, sheet_name='Input_HistShipmentFactoryToCust')\n",
    "\n",
    "hist_inbound_trans_df = pd.read_excel(xls, sheet_name='Input_HistShipmentAmongFactory')\n",
    "\n",
    "hist_prod_df = pd.read_excel(xls, sheet_name='Input_HistProduction')\n",
    "\n",
    "hist_inv_df = pd.read_excel(xls, sheet_name='Input_HistInventoryLevel')\n",
    "\n",
    "xls.close()"
   ]
  },
  {
   "cell_type": "code",
   "execution_count": 3,
   "metadata": {},
   "outputs": [],
   "source": [
    "### create lists of basic model elements\n",
    "customers = [x for x in customers_df['CustomerName']]\n",
    "\n",
    "factories = [x for x in factories_df['FactoryName']]\n",
    "\n",
    "products = [x for x in products_df['ProductName']]\n",
    "\n",
    "months = range(1, 13)\n",
    "\n",
    "\n",
    "### create dict of CN and EN\n",
    "customers_dict = dict(zip(customers, ['CZ_'+ str(i) for i in range(1,len(customers)+1)]))\n",
    "\n",
    "factories_dict = dict(zip(factories, ['FAC_'+ str(i) for i in range(1,len(factories)+1)]))\n",
    "\n",
    "products_dict = dict(zip(products, ['PROD_'+ str(i) for i in range(1,len(products)+1)]))\n",
    "\n",
    "destinations_dict = {**customers_dict, **factories_dict}"
   ]
  },
  {
   "cell_type": "code",
   "execution_count": 4,
   "metadata": {},
   "outputs": [],
   "source": [
    "### replace CN names with EN names\n",
    "customers_df.replace({'CustomerName': customers_dict}, inplace=True)\n",
    "\n",
    "factories_df.replace({'FactoryName': factories_dict}, inplace=True)\n",
    "\n",
    "products_df.replace({'ProductName': products_dict}, inplace=True)\n",
    "\n",
    "demand_df.replace({'CustomerName': customers_dict, 'ProductName': products_dict}, inplace=True)\n",
    "\n",
    "trans_policies_df.replace({'Origin': factories_dict, 'Destination': destinations_dict}, inplace=True)\n",
    "\n",
    "prod_policies_df.replace({'FactoryName': factories_dict, 'ProductName': products_dict}, inplace=True)\n",
    "\n",
    "prod_line_policies_df.replace({'FactoryName': factories_dict}, inplace=True)\n",
    "\n",
    "factory_var_cost_df.replace({'FactoryName': factories_dict, 'ProductName': products_dict}, inplace=True)\n",
    "### remove products that are not in product list\n",
    "factory_var_cost_df = factory_var_cost_df[factory_var_cost_df['ProductName'].isin(list(products_dict.values()))]\n",
    "\n",
    "factory_fixed_cost_df.replace({'FactoryName': factories_dict}, inplace=True)\n",
    "\n",
    "inv_df.replace({'FactoryName': factories_dict}, inplace=True)\n",
    "\n",
    "### load baseline data tables\n",
    "hist_outbound_trans_df.replace({'Origin': factories_dict, 'Destination': customers_dict, 'ProductName': products_dict}, inplace=True)\n",
    "\n",
    "hist_inbound_trans_df.replace({'Origin': factories_dict, 'Destination': factories_dict, 'ProductName': products_dict}, inplace=True)\n",
    "\n",
    "hist_prod_df.replace({'FactoryName': factories_dict, 'ProductName': products_dict}, inplace=True)\n",
    "\n",
    "hist_inv_df.replace({'FactoryName': factories_dict}, inplace=True)"
   ]
  },
  {
   "cell_type": "code",
   "execution_count": 5,
   "metadata": {},
   "outputs": [],
   "source": [
    "### save model output template\n",
    "writer = pd.ExcelWriter(model_sanitized_path + 'model_input_'+ today +'_EN_v2.xlsx', engine='xlsxwriter')\n",
    "\n",
    "### input data tables\n",
    "products_df.to_excel(writer, sheet_name='Input_ProductList', index=False)\n",
    "customers_df.to_excel(writer, sheet_name='Input_CustomerList', index=False)\n",
    "factories_df.to_excel(writer, sheet_name='Input_FactoryList', index=False)\n",
    "factory_var_cost_df.to_excel(writer, sheet_name='Input_FactoryVariableCost', index=False)\n",
    "factory_fixed_cost_df.to_excel(writer, sheet_name='Input_FactoryFixedCost', index=False)\n",
    "trans_policies_df.to_excel(writer, sheet_name='Input_TransportationPolicy', index=False)\n",
    "prod_policies_df.to_excel(writer, sheet_name='Input_CapacityByLineByProduct', index=False)\n",
    "prod_line_policies_df.to_excel(writer, sheet_name='Input_CapacityByLine', index=False)\n",
    "inv_df.to_excel(writer, sheet_name='Input_InventoryPolicy', index=False)\n",
    "demand_df.to_excel(writer, sheet_name='Input_CustomerDemand', index=False)\n",
    "hist_outbound_trans_df.to_excel(writer, sheet_name='Input_HistShipmentFactoryToCust', index=False)\n",
    "hist_inbound_trans_df.to_excel(writer, sheet_name='Input_HistShipmentAmongFactory', index=False)\n",
    "hist_prod_df.to_excel(writer, sheet_name='Input_HistProduction', index=False)\n",
    "hist_inv_df.to_excel(writer, sheet_name='Input_HistInventoryLevel', index=False)\n",
    "\n",
    "writer.save()"
   ]
  },
  {
   "cell_type": "code",
   "execution_count": 6,
   "metadata": {},
   "outputs": [
    {
     "name": "stderr",
     "output_type": "stream",
     "text": [
      "c:\\Users\\52427\\.conda\\envs\\gurobienv\\lib\\site-packages\\xlsxwriter\\workbook.py:339: UserWarning: Calling close() on already closed file.\n",
      "  warn(\"Calling close() on already closed file.\")\n"
     ]
    }
   ],
   "source": [
    "writer.close()"
   ]
  },
  {
   "cell_type": "code",
   "execution_count": null,
   "metadata": {},
   "outputs": [],
   "source": []
  }
 ],
 "metadata": {
  "kernelspec": {
   "display_name": "Python 3.9.7 ('gurobienv')",
   "language": "python",
   "name": "python3"
  },
  "language_info": {
   "codemirror_mode": {
    "name": "ipython",
    "version": 3
   },
   "file_extension": ".py",
   "mimetype": "text/x-python",
   "name": "python",
   "nbconvert_exporter": "python",
   "pygments_lexer": "ipython3",
   "version": "3.9.7"
  },
  "orig_nbformat": 4,
  "vscode": {
   "interpreter": {
    "hash": "18e91175e1516bff4eef934baab7668e39e52ce0c83f1a8b750e9bc89fc9161f"
   }
  }
 },
 "nbformat": 4,
 "nbformat_minor": 2
}
