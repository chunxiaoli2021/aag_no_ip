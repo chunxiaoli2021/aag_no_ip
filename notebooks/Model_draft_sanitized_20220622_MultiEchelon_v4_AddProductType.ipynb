{
 "cells": [
  {
   "cell_type": "code",
   "execution_count": 1,
   "metadata": {},
   "outputs": [],
   "source": [
    "### load package\n",
    "import pandas as pd\n",
    "pd.set_option('display.max_rows', 500)\n",
    "import numpy as np\n",
    "import gurobipy as gp\n",
    "import time\n",
    "model_sanitized_path = 'C:/Users/52427/Documents/Cases/Case11_Baixiang/Baixiang_supply_chain_optimization/model_sanitized/'\n",
    "from datetime import date\n",
    "\n",
    "today = date.today()\n",
    "today = str(today).replace('-','')\n",
    "\n"
   ]
  },
  {
   "cell_type": "markdown",
   "metadata": {},
   "source": [
    "### Load input tables"
   ]
  },
  {
   "cell_type": "code",
   "execution_count": 2,
   "metadata": {},
   "outputs": [],
   "source": [
    "file_name = model_sanitized_path + 'model_input_20220622_EN.xlsx'\n",
    "xls = pd.ExcelFile(file_name)\n",
    "\n",
    "periods_df = pd.read_excel(xls, 'Input_PeriodList')\n",
    "\n",
    "customers_df = pd.read_excel(xls, 'Input_CustomerList')\n",
    "### clean customers min perc demand satisfied: cap at 100% & set null to 100% by default \n",
    "customers_df.loc[customers_df['MinimumPercDemandSatisfied']>1, 'MinimumPercDemandSatisfied'] = 1\n",
    "customers_df.loc[customers_df['MinimumPercDemandSatisfied'].isnull(), 'MinimumPercDemandSatisfied'] = 1\n",
    "\n",
    "sites_df = pd.read_excel(xls, 'Input_SiteList')\n",
    "\n",
    "productionlines_df = pd.read_excel(xls, 'Input_ProductionLineList')\n",
    "\n",
    "products_df = pd.read_excel(xls, 'Input_ProductList')\n",
    "\n",
    "demand_df = pd.read_excel(xls, 'Input_CustomerDemand')\n",
    "\n",
    "trans_policies_df = pd.read_excel(xls, 'Input_TransportationPolicy')\n",
    "\n",
    "prod_policies_df = pd.read_excel(xls, 'Input_ProductionPolicy')\n",
    "\n",
    "inv_df = pd.read_excel(xls, 'Input_InventoryPolicy')\n",
    "\n",
    "### load baseline data tables\n",
    "hist_outbound_trans_df = pd.read_excel(xls, sheet_name='Input_HistCustomerFlows')\n",
    "\n",
    "hist_inbound_trans_df = pd.read_excel(xls, sheet_name='Input_HistIntersiteFlows')\n",
    "\n",
    "hist_prod_df = pd.read_excel(xls, sheet_name='Input_HistProduction')\n",
    "\n",
    "xls.close()"
   ]
  },
  {
   "cell_type": "code",
   "execution_count": 3,
   "metadata": {},
   "outputs": [
    {
     "name": "stdout",
     "output_type": "stream",
     "text": [
      "# customers: 293\n",
      "# sites: 18\n",
      "# productionlines: 59\n",
      "# products: 61\n",
      "# customer-product combinations in demand table: 34115\n",
      "# customers in demand table: 293\n",
      "# products in demand table: 61\n",
      "# all lanes: 2718\n",
      "# origins in transportation table: 18\n",
      "# destinations in transportation table: 302\n",
      "# line-product combinations: 187\n",
      "# lines: 59\n",
      "# dcs to customers: 34932\n",
      "# factories to dcs: 506\n",
      "# production combs: 1642\n"
     ]
    }
   ],
   "source": [
    "### print data info\n",
    "print('# customers:', customers_df.shape[0])\n",
    "print('# sites:', sites_df.shape[0])\n",
    "print('# productionlines:', productionlines_df.shape[0])\n",
    "print('# products:', products_df.shape[0])\n",
    "print('# customer-product combinations in demand table:', demand_df.shape[0])\n",
    "print('# customers in demand table:', len(demand_df['CustomerName'].unique()))\n",
    "print('# products in demand table:', len(demand_df['ProductName'].unique()))\n",
    "print('# all lanes:', trans_policies_df[['Origin','Destination']].drop_duplicates().shape[0])\n",
    "print('# origins in transportation table:', trans_policies_df[['Origin']].drop_duplicates().shape[0])\n",
    "print('# destinations in transportation table:', trans_policies_df[['Destination']].drop_duplicates().shape[0])\n",
    "print('# line-product combinations:',prod_policies_df.shape[0])\n",
    "print('# lines:',prod_policies_df[['ProductionLine']].drop_duplicates().shape[0])\n",
    "\n",
    "### print baseline data info\n",
    "print('# dcs to customers:', hist_outbound_trans_df.shape[0])\n",
    "print('# factories to dcs:', hist_inbound_trans_df.shape[0])\n",
    "print('# production combs:', hist_prod_df.shape[0])"
   ]
  },
  {
   "cell_type": "markdown",
   "metadata": {},
   "source": [
    "### Preprocess"
   ]
  },
  {
   "cell_type": "code",
   "execution_count": 4,
   "metadata": {},
   "outputs": [],
   "source": [
    "### create lists of basic model elements\n",
    "customers = [x for x in customers_df['CustomerName']]\n",
    "\n",
    "dcs = [x for x in sites_df['SiteName'][sites_df['SiteName'].str.contains('DC')]]\n",
    "\n",
    "factories = [x for x in sites_df['SiteName'][sites_df['SiteName'].str.contains('FAC')]]\n",
    "\n",
    "productionlines = [(x['FactoryName'],x['ProductionLine']) for _, x in productionlines_df.iterrows()]\n",
    "\n",
    "products = [x for x in products_df['ProductName']]\n",
    "\n",
    "periods = [x for x in periods_df['PeriodName']]\n",
    "\n",
    "n_periods = len(periods)"
   ]
  },
  {
   "cell_type": "code",
   "execution_count": 5,
   "metadata": {},
   "outputs": [],
   "source": [
    "### product type\n",
    "prod_type = products_df.groupby(['ProductName'])['ProductType'].max().to_dict()\n",
    "\n",
    "### customer demand\n",
    "cust_demand = demand_df.groupby(['CustomerName', 'ProductName', 'Period'])['CustomerDemand'].sum().to_dict()\n",
    "overall_cust_demand = demand_df.groupby(['CustomerName'])['CustomerDemand'].sum().to_dict()\n",
    "\n",
    "### customer demand min percsatisfied\n",
    "min_perc_dmd_satisfied = customers_df.groupby(['CustomerName'])['MinimumPercDemandSatisfied'].max().to_dict()\n",
    "\n",
    "### production capacity\n",
    "line_product_rate = prod_policies_df.groupby(['FactoryName', 'ProductionLine', 'ProductName'])['MachineHoursPerUnit'].sum().to_dict()\n",
    "\n",
    "line_capacity_cap = productionlines_df.groupby(['FactoryName', 'ProductionLine'])['MachineHourCapacityPerPeriod'].sum().to_dict()\n",
    "\n",
    "line_product_dict = prod_policies_df.groupby(['FactoryName','ProductionLine'])['ProductName'].apply(list).to_dict()\n",
    "\n",
    "### factory-attached warehouse storage capacity\n",
    "site_storage_cap = sites_df[sites_df['StorageCapacity'].notnull()].groupby(['SiteName'])['StorageCapacity'].max().to_dict()\n",
    "\n",
    "### factory-attached warehouse handling capacity\n",
    "site_handling_cap = sites_df[sites_df['HandlingCapacityPerPeriod'].notnull()].groupby(['SiteName'])['HandlingCapacityPerPeriod'].max().to_dict()\n",
    "\n",
    "### factory variable production cost\n",
    "var_prod_cost = prod_policies_df.groupby(['FactoryName', 'ProductionLine', 'ProductName'])['VariableProductionCost'].sum().to_dict()\n",
    "\n",
    "### dc variable handling cost \n",
    "var_handling_cost = sites_df.groupby(['SiteName'])['VariableHandlingCost'].sum().to_dict()\n",
    "\n",
    "### factory fixed cost\n",
    "site_fixed_cost = sites_df.groupby(['SiteName'])['FixedOperatingCostPerHorizon'].sum().to_dict()\n",
    "\n",
    "### product line fixed cost\n",
    "productline_fixed_cost = productionlines_df.groupby(['FactoryName','ProductionLine'])['FixedOperatingCostPerHorizon'].sum().to_dict()\n",
    "\n",
    "### transportation cost\n",
    "transp_cost = trans_policies_df.groupby(['Origin', 'Destination', 'ProductType'])['VariableTransportationCost'].max().to_dict()\n",
    "\n",
    "### transportation distance\n",
    "transp_dist = trans_policies_df.groupby(['Origin', 'Destination', 'ProductType'])['Distance'].max().to_dict()\n",
    "\n",
    "### unit product cubic meters\n",
    "product_cubic = products_df.groupby(['ProductName'])['Volume'].max().to_dict()\n",
    "\n",
    "### inventory turns\n",
    "inv_turns = inv_df.groupby(['SiteName','ProductName'])['InventoryTurns'].max().to_dict()\n",
    "\n",
    "### initial inventory\n",
    "initial_inv = inv_df.groupby(['SiteName','ProductName'])['InitialInventory'].max().to_dict()"
   ]
  },
  {
   "cell_type": "code",
   "execution_count": 6,
   "metadata": {},
   "outputs": [],
   "source": [
    "### historical factory-to-customer flows\n",
    "hist_fc_flows = hist_outbound_trans_df.groupby(\n",
    "    ['Origin', 'Destination', 'ProductName', 'Period'])['HistoricalShipment'].sum().to_dict()\n",
    "\n",
    "### historical inter-factory flows\n",
    "hist_ff_flows = hist_inbound_trans_df.groupby(\n",
    "    ['Origin', 'Destination', 'ProductName', 'Period'])['HistoricalShipment'].sum().to_dict()\n",
    "\n",
    "### historical production\n",
    "hist_prod_flows = hist_prod_df.groupby(\n",
    "    ['FactoryName', 'ProductionLine', 'ProductName', 'Period'])['HistoricalProduction'].sum().to_dict()"
   ]
  },
  {
   "cell_type": "code",
   "execution_count": 7,
   "metadata": {},
   "outputs": [],
   "source": [
    "### generate index sets\n",
    "ss_lanes = gp.tuplelist([(o, d, p, m) for o in factories for d in dcs for p in products for m in periods]) \n",
    "\n",
    "sc_lanes = gp.tuplelist([(o, d, p, m) for o in dcs for (d, p, m) in cust_demand]) \n",
    "\n",
    "# prod_policies_period_df = pd.merge(prod_policies_df[['FactoryName', 'ProductionLine', 'ProductName']].assign(temp=1), \n",
    "#                                   pd.DataFrame(periods, columns =['Period']).assign(temp=1), on='temp').drop('temp', axis=1)\n",
    "# prod_policies = gp.tuplelist(zip(prod_policies_period_df['FactoryName'], prod_policies_period_df['ProductionLine'], \n",
    "#                                  prod_policies_period_df['ProductName'], prod_policies_period_df['Period']))\n",
    "prod_policies = gp.tuplelist([(f, l, p, m) for (f, l, p) in line_product_rate for m in periods])\n",
    "\n",
    "\n",
    "dc_inv_basis = gp.tuplelist([(dc, p, m) for dc in dcs for p in products for m in list(periods) + [max(periods)+1]])\n",
    "\n",
    "f_inv_basis = gp.tuplelist([(f, p, m) for f in factories for p in products for m in list(periods) + [max(periods)+1]])\n",
    "\n",
    "### per unit penalty cost of using dummy lanes\n",
    "dmd_pen = np.ceil(max(var_prod_cost.values())*10 + max(var_handling_cost.values())*10 + max(transp_cost.values())*10)"
   ]
  },
  {
   "cell_type": "markdown",
   "metadata": {},
   "source": [
    "### Scenario setting"
   ]
  },
  {
   "cell_type": "code",
   "execution_count": 8,
   "metadata": {},
   "outputs": [
    {
     "data": {
      "text/html": [
       "<div>\n",
       "<style scoped>\n",
       "    .dataframe tbody tr th:only-of-type {\n",
       "        vertical-align: middle;\n",
       "    }\n",
       "\n",
       "    .dataframe tbody tr th {\n",
       "        vertical-align: top;\n",
       "    }\n",
       "\n",
       "    .dataframe thead th {\n",
       "        text-align: right;\n",
       "    }\n",
       "</style>\n",
       "<table border=\"1\" class=\"dataframe\">\n",
       "  <thead>\n",
       "    <tr style=\"text-align: right;\">\n",
       "      <th></th>\n",
       "      <th>dc_handling_cap</th>\n",
       "      <th>dc_storage_cap</th>\n",
       "      <th>factory_handling_cap</th>\n",
       "      <th>factory_storage_cap</th>\n",
       "      <th>perc_demand_satisfied</th>\n",
       "      <th>hist_fc</th>\n",
       "      <th>hist_ff</th>\n",
       "      <th>hist_prod</th>\n",
       "      <th>hist_no_prod</th>\n",
       "      <th>fix_factories_open</th>\n",
       "      <th>fix_dcs_open</th>\n",
       "      <th>num_factories_open</th>\n",
       "      <th>num_dcs_open</th>\n",
       "      <th>dc_initial_inv</th>\n",
       "      <th>factory_initial_inv</th>\n",
       "    </tr>\n",
       "  </thead>\n",
       "  <tbody>\n",
       "    <tr>\n",
       "      <th>Baseline2021</th>\n",
       "      <td>False</td>\n",
       "      <td>False</td>\n",
       "      <td>False</td>\n",
       "      <td>False</td>\n",
       "      <td>False</td>\n",
       "      <td>True</td>\n",
       "      <td>True</td>\n",
       "      <td>True</td>\n",
       "      <td>True</td>\n",
       "      <td>True</td>\n",
       "      <td>True</td>\n",
       "      <td>9</td>\n",
       "      <td>9</td>\n",
       "      <td>True</td>\n",
       "      <td>True</td>\n",
       "    </tr>\n",
       "    <tr>\n",
       "      <th>Unconstrainted</th>\n",
       "      <td>True</td>\n",
       "      <td>True</td>\n",
       "      <td>True</td>\n",
       "      <td>True</td>\n",
       "      <td>False</td>\n",
       "      <td>False</td>\n",
       "      <td>False</td>\n",
       "      <td>False</td>\n",
       "      <td>False</td>\n",
       "      <td>True</td>\n",
       "      <td>True</td>\n",
       "      <td>9</td>\n",
       "      <td>9</td>\n",
       "      <td>True</td>\n",
       "      <td>True</td>\n",
       "    </tr>\n",
       "    <tr>\n",
       "      <th>CloseOneFactory</th>\n",
       "      <td>True</td>\n",
       "      <td>True</td>\n",
       "      <td>True</td>\n",
       "      <td>True</td>\n",
       "      <td>False</td>\n",
       "      <td>False</td>\n",
       "      <td>False</td>\n",
       "      <td>False</td>\n",
       "      <td>False</td>\n",
       "      <td>True</td>\n",
       "      <td>True</td>\n",
       "      <td>8</td>\n",
       "      <td>8</td>\n",
       "      <td>True</td>\n",
       "      <td>True</td>\n",
       "    </tr>\n",
       "    <tr>\n",
       "      <th>Unconstrainted+RemoveStorageCons</th>\n",
       "      <td>True</td>\n",
       "      <td>False</td>\n",
       "      <td>True</td>\n",
       "      <td>False</td>\n",
       "      <td>False</td>\n",
       "      <td>False</td>\n",
       "      <td>False</td>\n",
       "      <td>False</td>\n",
       "      <td>False</td>\n",
       "      <td>True</td>\n",
       "      <td>True</td>\n",
       "      <td>9</td>\n",
       "      <td>9</td>\n",
       "      <td>True</td>\n",
       "      <td>True</td>\n",
       "    </tr>\n",
       "    <tr>\n",
       "      <th>Unconstrainted+RemoveHandlingCons</th>\n",
       "      <td>False</td>\n",
       "      <td>True</td>\n",
       "      <td>False</td>\n",
       "      <td>True</td>\n",
       "      <td>False</td>\n",
       "      <td>False</td>\n",
       "      <td>False</td>\n",
       "      <td>False</td>\n",
       "      <td>False</td>\n",
       "      <td>True</td>\n",
       "      <td>True</td>\n",
       "      <td>9</td>\n",
       "      <td>9</td>\n",
       "      <td>True</td>\n",
       "      <td>True</td>\n",
       "    </tr>\n",
       "  </tbody>\n",
       "</table>\n",
       "</div>"
      ],
      "text/plain": [
       "                                   dc_handling_cap  dc_storage_cap  \\\n",
       "Baseline2021                                 False           False   \n",
       "Unconstrainted                                True            True   \n",
       "CloseOneFactory                               True            True   \n",
       "Unconstrainted+RemoveStorageCons              True           False   \n",
       "Unconstrainted+RemoveHandlingCons            False            True   \n",
       "\n",
       "                                   factory_handling_cap  factory_storage_cap  \\\n",
       "Baseline2021                                      False                False   \n",
       "Unconstrainted                                     True                 True   \n",
       "CloseOneFactory                                    True                 True   \n",
       "Unconstrainted+RemoveStorageCons                   True                False   \n",
       "Unconstrainted+RemoveHandlingCons                 False                 True   \n",
       "\n",
       "                                   perc_demand_satisfied  hist_fc  hist_ff  \\\n",
       "Baseline2021                                       False     True     True   \n",
       "Unconstrainted                                     False    False    False   \n",
       "CloseOneFactory                                    False    False    False   \n",
       "Unconstrainted+RemoveStorageCons                   False    False    False   \n",
       "Unconstrainted+RemoveHandlingCons                  False    False    False   \n",
       "\n",
       "                                   hist_prod  hist_no_prod  \\\n",
       "Baseline2021                            True          True   \n",
       "Unconstrainted                         False         False   \n",
       "CloseOneFactory                        False         False   \n",
       "Unconstrainted+RemoveStorageCons       False         False   \n",
       "Unconstrainted+RemoveHandlingCons      False         False   \n",
       "\n",
       "                                   fix_factories_open  fix_dcs_open  \\\n",
       "Baseline2021                                     True          True   \n",
       "Unconstrainted                                   True          True   \n",
       "CloseOneFactory                                  True          True   \n",
       "Unconstrainted+RemoveStorageCons                 True          True   \n",
       "Unconstrainted+RemoveHandlingCons                True          True   \n",
       "\n",
       "                                   num_factories_open  num_dcs_open  \\\n",
       "Baseline2021                                        9             9   \n",
       "Unconstrainted                                      9             9   \n",
       "CloseOneFactory                                     8             8   \n",
       "Unconstrainted+RemoveStorageCons                    9             9   \n",
       "Unconstrainted+RemoveHandlingCons                   9             9   \n",
       "\n",
       "                                   dc_initial_inv  factory_initial_inv  \n",
       "Baseline2021                                 True                 True  \n",
       "Unconstrainted                               True                 True  \n",
       "CloseOneFactory                              True                 True  \n",
       "Unconstrainted+RemoveStorageCons             True                 True  \n",
       "Unconstrainted+RemoveHandlingCons            True                 True  "
      ]
     },
     "execution_count": 8,
     "metadata": {},
     "output_type": "execute_result"
    }
   ],
   "source": [
    "# scenarios matrix\n",
    "scenario_list = ['Baseline2021','Unconstrainted','CloseOneFactory','Unconstrainted+RemoveStorageCons','Unconstrainted+RemoveHandlingCons']\n",
    "constr_setting = {'dc_handling_cap':[False, True, True, True, False], \n",
    "                  'dc_storage_cap':[False, True, True, False, True],\n",
    "                  'factory_handling_cap':[False, True, True, True, False], \n",
    "                  'factory_storage_cap':[False, True, True, False, True],\n",
    "                  'perc_demand_satisfied':[False, False, False, False, False],\n",
    "                  'hist_fc':[True, False, False, False, False], \n",
    "                  'hist_ff':[True, False, False, False, False], \n",
    "                  'hist_prod':[True, False, False, False, False], \n",
    "                  'hist_no_prod':[True, False, False, False, False], \n",
    "                  'fix_factories_open':[True, True, True, True, True],\n",
    "                  'fix_dcs_open':[True, True, True, True, True],\n",
    "                  'num_factories_open':[9, 9, 8, 9, 9], \n",
    "                  'num_dcs_open':[9, 9, 8, 9, 9], \n",
    "                  'dc_initial_inv': [True, True, True, True, True],\n",
    "                  'factory_initial_inv': [True, True, True, True, True]}\n",
    "scenario_matrix = pd.DataFrame(constr_setting, index=scenario_list)\n",
    "scenario_matrix"
   ]
  },
  {
   "cell_type": "markdown",
   "metadata": {},
   "source": [
    "### Network Optimization Model"
   ]
  },
  {
   "cell_type": "code",
   "execution_count": 9,
   "metadata": {},
   "outputs": [],
   "source": [
    "#scenario = 'Baseline2021'\n",
    "#scenario = 'Unconstrainted'\n",
    "#scenario = 'CloseOneFactory'\n",
    "#scenario = 'Unconstrainted+RemoveStorageCons'\n",
    "scenario = 'Unconstrainted+RemoveHandlingCons'"
   ]
  },
  {
   "cell_type": "code",
   "execution_count": 10,
   "metadata": {
    "scrolled": true
   },
   "outputs": [
    {
     "name": "stdout",
     "output_type": "stream",
     "text": [
      "Set parameter CloudAccessID\n",
      "Set parameter CloudSecretKey\n",
      "Set parameter CloudPool to value \"800758-SCORteamCOMMON\"\n",
      "Set parameter CSAppName to value \"SCOR Team Common License\"\n",
      "Set parameter LicenseID\n",
      "Waiting for cloud server to start (pool 800758-SCORteamCOMMON)...\n",
      "Starting...\n",
      "Starting...\n",
      "Starting...\n",
      "Compute Server job ID: 74846e19-1ee3-4b5e-a456-90c04f878e89\n",
      "Capacity available on '800758-SCORteamCOMMON' cloud pool - connecting...\n",
      "Established HTTPS encrypted connection\n",
      "Gurobi Optimizer version 9.5.1 build v9.5.1rc2 (win64)\n",
      "Gurobi Compute Server Worker version 9.5.1 build v9.5.1rc2 (linux64)\n",
      "Thread count: 16 physical cores, 32 logical processors, using up to 32 threads\n",
      "Optimize a model with 49374 rows, 417037 columns and 812835 nonzeros\n",
      "Model fingerprint: 0x52c19ee6\n",
      "Variable types: 416960 continuous, 77 integer (77 binary)\n",
      "Coefficient statistics:\n",
      "  Matrix range     [5e-04, 2e+05]\n",
      "  Objective range  [4e-01, 6e+06]\n",
      "  Bounds range     [1e+00, 1e+00]\n",
      "  RHS range        [5e-01, 3e+05]\n",
      "Found heuristic solution: objective 3.207422e+09\n",
      "Presolve removed 8102 rows and 89524 columns\n",
      "Presolve time: 2.37s\n",
      "Presolved: 41272 rows, 327513 columns, 661964 nonzeros\n",
      "Found heuristic solution: objective 3.205578e+09\n",
      "Variable types: 327469 continuous, 44 integer (44 binary)\n",
      "\n",
      "Deterministic concurrent LP optimizer: primal and dual simplex\n",
      "Showing first log only...\n",
      "\n",
      "\n",
      "Root simplex log...\n",
      "\n",
      "Iteration    Objective       Primal Inf.    Dual Inf.      Time\n",
      "   99382    5.6679606e+08   0.000000e+00   7.618358e+06      5s\n",
      "Concurrent spin time: 0.00s\n",
      "\n",
      "Solved with dual simplex\n",
      "\n",
      "Root relaxation: objective 4.651799e+08, 66407 iterations, 3.79 seconds (3.80 work units)\n",
      "\n",
      "    Nodes    |    Current Node    |     Objective Bounds      |     Work\n",
      " Expl Unexpl |  Obj  Depth IntInf | Incumbent    BestBd   Gap | It/Node Time\n",
      "\n",
      "     0     0 4.6518e+08    0   29 3.2056e+09 4.6518e+08  85.5%     -    7s\n",
      "H    0     0                    5.042675e+08 4.6518e+08  7.75%     -    7s\n",
      "     0     0 4.6725e+08    0   28 5.0427e+08 4.6725e+08  7.34%     -    9s\n",
      "H    0     0                    5.030592e+08 4.6725e+08  7.12%     -    9s\n",
      "     0     0 4.6767e+08    0   29 5.0306e+08 4.6767e+08  7.03%     -   11s\n",
      "     0     0 4.6790e+08    0   27 5.0306e+08 4.6790e+08  6.99%     -   12s\n",
      "     0     0 4.6833e+08    0   25 5.0306e+08 4.6833e+08  6.90%     -   13s\n",
      "     0     0 4.6839e+08    0   24 5.0306e+08 4.6839e+08  6.89%     -   13s\n",
      "     0     0 4.6839e+08    0   24 5.0306e+08 4.6839e+08  6.89%     -   14s\n",
      "     0     0 4.6854e+08    0   27 5.0306e+08 4.6854e+08  6.86%     -   16s\n",
      "H    0     0                    5.020764e+08 4.6854e+08  6.68%     -   16s\n",
      "H    0     0                    4.805668e+08 4.6854e+08  2.50%     -   17s\n",
      "     0     0 4.6869e+08    0   26 4.8057e+08 4.6869e+08  2.47%     -   18s\n",
      "     0     0 4.6878e+08    0   26 4.8057e+08 4.6878e+08  2.45%     -   19s\n",
      "     0     0 4.6878e+08    0   26 4.8057e+08 4.6878e+08  2.45%     -   20s\n",
      "     0     0 4.6878e+08    0   26 4.8057e+08 4.6878e+08  2.45%     -   20s\n",
      "     0     0 4.6891e+08    0   25 4.8057e+08 4.6891e+08  2.43%     -   22s\n",
      "     0     0 4.6914e+08    0   28 4.8057e+08 4.6914e+08  2.38%     -   24s\n",
      "     0     0 4.6916e+08    0   27 4.8057e+08 4.6916e+08  2.37%     -   25s\n",
      "     0     0 4.6916e+08    0   27 4.8057e+08 4.6916e+08  2.37%     -   26s\n",
      "     0     0 4.6916e+08    0   26 4.8057e+08 4.6916e+08  2.37%     -   26s\n",
      "     0     0 4.6929e+08    0   26 4.8057e+08 4.6929e+08  2.35%     -   28s\n",
      "     0     0 4.6938e+08    0   27 4.8057e+08 4.6938e+08  2.33%     -   31s\n",
      "     0     0 4.6940e+08    0   28 4.8057e+08 4.6940e+08  2.32%     -   32s\n",
      "     0     0 4.6940e+08    0   28 4.8057e+08 4.6940e+08  2.32%     -   32s\n",
      "     0     0 4.6940e+08    0   28 4.8057e+08 4.6940e+08  2.32%     -   33s\n",
      "     0     0 4.6947e+08    0   27 4.8057e+08 4.6947e+08  2.31%     -   35s\n",
      "     0     0 4.6961e+08    0   27 4.8057e+08 4.6961e+08  2.28%     -   37s\n",
      "     0     0 4.6961e+08    0   27 4.8057e+08 4.6961e+08  2.28%     -   38s\n",
      "     0     0 4.6962e+08    0   28 4.8057e+08 4.6962e+08  2.28%     -   39s\n",
      "     0     0 4.6962e+08    0   28 4.8057e+08 4.6962e+08  2.28%     -   39s\n",
      "     0     0 4.6974e+08    0   29 4.8057e+08 4.6974e+08  2.25%     -   42s\n",
      "H    0     0                    4.771381e+08 4.6974e+08  1.55%     -   44s\n",
      "     0     0 4.6982e+08    0   29 4.7714e+08 4.6982e+08  1.53%     -   46s\n",
      "     0     0 4.6985e+08    0   30 4.7714e+08 4.6985e+08  1.53%     -   47s\n",
      "     0     0 4.6985e+08    0   30 4.7714e+08 4.6985e+08  1.53%     -   48s\n",
      "     0     0 4.6989e+08    0   29 4.7714e+08 4.6989e+08  1.52%     -   50s\n",
      "     0     0 4.6997e+08    0   29 4.7714e+08 4.6997e+08  1.50%     -   52s\n",
      "     0     0 4.6997e+08    0   29 4.7714e+08 4.6997e+08  1.50%     -   52s\n",
      "     0     0 4.6997e+08    0   28 4.7714e+08 4.6997e+08  1.50%     -   53s\n",
      "     0     0 4.6997e+08    0   26 4.7714e+08 4.6997e+08  1.50%     -   54s\n",
      "     0     0 4.7000e+08    0   26 4.7714e+08 4.7000e+08  1.50%     -   56s\n",
      "     0     0 4.7002e+08    0   27 4.7714e+08 4.7002e+08  1.49%     -   57s\n",
      "     0     0 4.7002e+08    0   29 4.7714e+08 4.7002e+08  1.49%     -   58s\n",
      "     0     0 4.7003e+08    0   29 4.7714e+08 4.7003e+08  1.49%     -   59s\n",
      "     0     0 4.7003e+08    0   29 4.7714e+08 4.7003e+08  1.49%     -   60s\n",
      "     0     0 4.7009e+08    0   29 4.7714e+08 4.7009e+08  1.48%     -   63s\n",
      "     0     0 4.7012e+08    0   31 4.7714e+08 4.7012e+08  1.47%     -   66s\n",
      "     0     0 4.7012e+08    0   29 4.7714e+08 4.7012e+08  1.47%     -   67s\n",
      "     0     0 4.7016e+08    0   28 4.7714e+08 4.7016e+08  1.46%     -   70s\n",
      "     0     0 4.7016e+08    0   28 4.7714e+08 4.7016e+08  1.46%     -   72s\n",
      "     0     0 4.7017e+08    0   31 4.7714e+08 4.7017e+08  1.46%     -   74s\n",
      "     0     0 4.7018e+08    0   29 4.7714e+08 4.7018e+08  1.46%     -   77s\n",
      "     0     0 4.7018e+08    0   27 4.7714e+08 4.7018e+08  1.46%     -   79s\n",
      "     0     2 4.7021e+08    0   27 4.7714e+08 4.7021e+08  1.45%     -   90s\n",
      "     7    16 4.7384e+08    3   24 4.7714e+08 4.7091e+08  1.30%  1957  100s\n",
      "    15    32 4.7453e+08    4   24 4.7714e+08 4.7102e+08  1.28%  2832  110s\n",
      "    31    48 4.7527e+08    5   22 4.7714e+08 4.7106e+08  1.27%  3074  117s\n",
      "H   40    48                    4.767175e+08 4.7106e+08  1.19%  2881  117s\n",
      "    47    62 4.7520e+08    5   22 4.7672e+08 4.7106e+08  1.19%  2798  124s\n",
      "    63    76 4.7531e+08    6   19 4.7672e+08 4.7173e+08  1.05%  2756  130s\n",
      "    79    84 4.7593e+08    7   20 4.7672e+08 4.7173e+08  1.05%  2799  140s\n",
      "    95    93 infeasible    7      4.7672e+08 4.7173e+08  1.05%  2921  150s\n",
      "   119   102     cutoff    8      4.7672e+08 4.7173e+08  1.05%  2980  161s\n",
      "H  126   102                    4.757885e+08 4.7173e+08  0.85%  3096  161s\n",
      "   136    97     cutoff    9      4.7579e+08 4.7173e+08  0.85%  3160  165s\n",
      "   163   110 4.7330e+08    6   27 4.7579e+08 4.7189e+08  0.82%  2929  180s\n",
      "   184   130 4.7374e+08    6   25 4.7579e+08 4.7195e+08  0.81%  3069  197s\n",
      "   212   141 4.7423e+08    7   25 4.7579e+08 4.7195e+08  0.81%  3018  207s\n",
      "   229   163 4.7396e+08    7   25 4.7579e+08 4.7195e+08  0.81%  2910  210s\n",
      "   263   191 4.7440e+08    9   23 4.7579e+08 4.7195e+08  0.81%  2741  217s\n",
      "   306   214 4.7480e+08   10   22 4.7579e+08 4.7195e+08  0.81%  2531  220s\n",
      "   420   237 4.7553e+08   12   19 4.7579e+08 4.7195e+08  0.81%  2098  235s\n",
      "   475   244 4.7575e+08   13   18 4.7579e+08 4.7195e+08  0.81%  2037  245s\n",
      "H  478   244                    4.751806e+08 4.7195e+08  0.68%  2051  245s\n",
      "   505   274     cutoff   14      4.7518e+08 4.7232e+08  0.60%  2027  252s\n",
      "   556   285 4.7317e+08    8   23 4.7518e+08 4.7232e+08  0.60%  1957  257s\n",
      "   606   288     cutoff   10      4.7518e+08 4.7232e+08  0.60%  1904  263s\n",
      "   643   277 4.7411e+08   11   21 4.7518e+08 4.7232e+08  0.60%  1876  270s\n",
      "   690   285     cutoff   13      4.7518e+08 4.7232e+08  0.60%  1854  276s\n",
      "   746   280 4.7437e+08   10   20 4.7518e+08 4.7232e+08  0.60%  1820  287s\n",
      "   787   292 4.7461e+08   11   19 4.7518e+08 4.7232e+08  0.60%  1833  296s\n",
      "   839   300     cutoff   12      4.7518e+08 4.7266e+08  0.53%  1804  303s\n",
      "   906   283 4.7461e+08    8   19 4.7518e+08 4.7266e+08  0.53%  1779  312s\n",
      "   942   278 4.7435e+08    7   21 4.7518e+08 4.7266e+08  0.53%  1844  320s\n",
      "   973   267     cutoff    8      4.7518e+08 4.7266e+08  0.53%  1883  329s\n",
      "  1019   251 4.7475e+08   10   23 4.7518e+08 4.7266e+08  0.53%  1912  338s\n",
      "  1061   242     cutoff   11      4.7518e+08 4.7324e+08  0.41%  1951  394s\n",
      "  1090   234 4.7461e+08    6   17 4.7518e+08 4.7375e+08  0.30%  2008  403s\n",
      "  1155   201     cutoff    7      4.7518e+08 4.7392e+08  0.27%  2012  414s\n",
      "  1215   159     cutoff    8      4.7518e+08 4.7416e+08  0.22%  2054  428s\n",
      "  1284   113     cutoff    9      4.7518e+08 4.7417e+08  0.21%  2094  439s\n",
      "  1363    19 4.7493e+08    8   18 4.7518e+08 4.7474e+08  0.09%  2109  447s\n",
      "\n",
      "Cutting planes:\n",
      "  Gomory: 13\n",
      "  Implied bound: 67\n",
      "  MIR: 184\n",
      "  Flow cover: 2729\n",
      "  Flow path: 37\n",
      "  Inf proof: 3\n",
      "  Relax-and-lift: 16\n",
      "\n",
      "Explored 1489 nodes (3145476 simplex iterations) in 449.31 seconds (513.65 work units)\n",
      "Thread count was 32 (of 32 available processors)\n",
      "\n",
      "Solution count 10: 4.75181e+08 4.75788e+08 4.76718e+08 ... 3.20742e+09\n",
      "\n",
      "Optimal solution found (tolerance 1.00e-04)\n",
      "Best objective 4.751806258618e+08, best bound 4.751806258608e+08, gap 0.0000%\n",
      "\n",
      "optimal\n",
      "model build time: 79 s\n",
      "model solve time: 510 s\n",
      "total operating cost: 475180625.86179566\n"
     ]
    }
   ],
   "source": [
    "time_start = time.time()\n",
    "\n",
    "### create model\n",
    "m = gp.Model('BXNetworkOpt')\n",
    "\n",
    "### decision variables\n",
    "ss_flow = m.addVars(ss_lanes, vtype=gp.GRB.CONTINUOUS, name='ff_flow') # factory to dc flows\n",
    "sc_flow = m.addVars(sc_lanes, vtype=gp.GRB.CONTINUOUS, name='fc_flow') # dc to customer flows\n",
    "prod_flow = m.addVars(prod_policies, vtype=gp.GRB.CONTINUOUS, name='prod_flow') # production volume\n",
    "f_inv_level = m.addVars(f_inv_basis, vtype=gp.GRB.CONTINUOUS, name='f_inv_level') # factory beginning inventory level of each period\n",
    "dc_inv_level = m.addVars(dc_inv_basis, vtype=gp.GRB.CONTINUOUS, name='dc_inv_level') # dc beginning inventory level of each period\n",
    "f_open = m.addVars(factories, vtype=gp.GRB.BINARY, name='f_open') # factory open or not\n",
    "dc_open = m.addVars(dcs, vtype=gp.GRB.BINARY, name='dc_open') # dc open or not\n",
    "productline_open = m.addVars(productionlines, vtype=gp.GRB.BINARY, name='dc_open') # product line open or not\n",
    "demand_slack = m.addVars(cust_demand, vtype=gp.GRB.CONTINUOUS, name='demand_slack') # slack variable for unmatched demand\n",
    "\n",
    "m.update()\n",
    "\n",
    "### objective function\n",
    "tot_var_prod_cost = gp.quicksum(prod_flow[(f, l, p, m)]*var_prod_cost[(f, l, p)] for (f, l, p, m) in prod_policies)\n",
    "tot_dc_var_handling_cost = gp.quicksum(sc_flow[(o, d, p, m)]*var_handling_cost[(o)] for (o, d, p, m) in sc_lanes)\n",
    "tot_f_var_handling_cost = gp.quicksum(ss_flow[(o, d, p, m)]*var_handling_cost[(o)] for (o, d, p, m) in ss_lanes) \n",
    "tot_site_fixed_cost = gp.quicksum(f_open[f]*site_fixed_cost[f] for f in factories) + \\\n",
    "                        gp.quicksum(dc_open[dc]*site_fixed_cost[dc] for dc in dcs) + \\\n",
    "                        gp.quicksum(productline_open[(f, l)]*productline_fixed_cost[(f, l)] for (f, l) in productionlines)\n",
    "tot_ss_transp_cost = gp.quicksum(ss_flow[(o, d, p, m)]*product_cubic[p]*transp_cost[(o, d, prod_type[p])] for (o, d, p, m) in ss_lanes)\n",
    "tot_sc_transp_cost = gp.quicksum(sc_flow[(o, d, p, m)]*product_cubic[p]*transp_cost[(o, d, prod_type[p])] for (o, d, p, m) in sc_lanes)\n",
    "tot_dmd_pen_cost = demand_slack.sum('*', '*', '*')*dmd_pen\n",
    "tot_cost = tot_var_prod_cost + tot_dc_var_handling_cost + tot_f_var_handling_cost + tot_site_fixed_cost + tot_ss_transp_cost + tot_sc_transp_cost + tot_dmd_pen_cost\n",
    "\n",
    "m.setObjective(tot_cost, gp.GRB.MINIMIZE)\n",
    "\n",
    "### demand satisfaction\n",
    "### soft demand satisfication cons\n",
    "m.addConstrs(\n",
    "    (sc_flow.sum('*', c, p, m) == cust_demand[(c, p, m)] + demand_slack[(c, p, m)] for (c, p, m) in cust_demand.keys()), 'customer_demand'\n",
    ")\n",
    "\n",
    "### at least x% demand must be satisfied for each customer\n",
    "if scenario_matrix.loc[scenario, 'perc_demand_satisfied']:\n",
    "    m.addConstr(\n",
    "        (sc_flow.sum('*', c, '*', '*') >= 0.8 * sum(overall_cust_demand[c]) for c in customers), 'perc_demand_satisfied'\n",
    "    )\n",
    "\n",
    "### flow balance\n",
    "### factory flow balance\n",
    "m.addConstrs(\n",
    "    (f_inv_level[(f, p, m)] + prod_flow.sum(f, '*', p, m) == ss_flow.sum(f, '*', p, m) + f_inv_level[(f, p, m+1)] for f in factories for p in products for m in periods), 'flow_balance'\n",
    ")\n",
    "### dc flow balance\n",
    "m.addConstrs(\n",
    "    (dc_inv_level[(dc, p, m)] + ss_flow.sum('*', dc, p, m) == sc_flow.sum(dc, '*', p, m) + dc_inv_level[(dc, p, m+1)]\n",
    "     for dc in dcs for p in products for m in periods), 'flow_balance'\n",
    ")\n",
    "\n",
    "### factory production capacity by line\n",
    "m.addConstrs(\n",
    "    (gp.quicksum([prod_flow[(f, l, p, m)] * line_product_rate[(f, l, p)] for p in line_product_dict[(f, l)]])<= line_capacity_cap[(f, l)]*productline_open[(f, l)] for (f, l) in productionlines for m in periods), 'line_capacity_cap'\n",
    ")\n",
    "\n",
    "### product line open\n",
    "m.addConstrs(\n",
    "    (productline_open[(f, l)] <= f_open[f] for (f, l) in productionlines), 'productline_open'\n",
    ")\n",
    "\n",
    "### dc handling capacity\n",
    "if scenario_matrix.loc[scenario, 'dc_handling_cap']:\n",
    "    m.addConstrs(\n",
    "        (sc_flow.sum(dc, '*', '*', m) \n",
    "         <= site_handling_cap[dc]*dc_open[dc] for dc in set(dcs).intersection(site_handling_cap.keys()) for m in periods), 'dc_handling_cap'\n",
    "    )\n",
    "\n",
    "### dc storage capacity\n",
    "if scenario_matrix.loc[scenario, 'dc_storage_cap']:\n",
    "    m.addConstrs(\n",
    "        (dc_inv_level.sum(dc, '*', m) \n",
    "         <= site_storage_cap[dc]*dc_open[dc] for dc in set(dcs).intersection(site_storage_cap.keys()) for m in periods), 'dc_storage_cap'\n",
    "    )\n",
    "\n",
    "### factory handling capacity\n",
    "if scenario_matrix.loc[scenario, 'factory_handling_cap']:\n",
    "    m.addConstrs(\n",
    "        (ss_flow.sum(f, '*', '*', m) \n",
    "         <= site_handling_cap[f]*f_open[f] for f in set(factories).intersection(site_handling_cap.keys()) for m in periods), 'factory_handling_cap'\n",
    "    )\n",
    "\n",
    "### factory storage capacity\n",
    "if scenario_matrix.loc[scenario, 'factory_storage_cap']:\n",
    "    m.addConstrs(\n",
    "        (f_inv_level.sum(f, '*', m) \n",
    "         <= site_storage_cap[f]*f_open[f] for f in set(factories).intersection(site_storage_cap.keys()) for m in periods), 'factory_storage_cap'\n",
    "    )\n",
    "\n",
    "\n",
    "\n",
    "### number of factories open\n",
    "if scenario_matrix.loc[scenario, 'fix_factories_open']:\n",
    "    m.addConstr(\n",
    "        (f_open.sum('*') == scenario_matrix.loc[scenario, 'num_factories_open']), 'num_factories_open'\n",
    "    )\n",
    "\n",
    "### number of dcs open\n",
    "if scenario_matrix.loc[scenario, 'fix_dcs_open']:\n",
    "    m.addConstr(\n",
    "        (dc_open.sum('*') == scenario_matrix.loc[scenario, 'num_dcs_open']), 'num_dcs_open'\n",
    "    )\n",
    "\n",
    "### dc inital inventory\n",
    "if scenario_matrix.loc[scenario, 'dc_initial_inv']:\n",
    "    m.addConstrs(\n",
    "        (dc_inv_level[(dc, p, 1)] == initial_inv[(dc, p)] for dc in dcs for p in products), 'dc_intial_inv'\n",
    "    )\n",
    "\n",
    "### factory inital inventory\n",
    "if scenario_matrix.loc[scenario, 'factory_initial_inv']:\n",
    "    m.addConstrs(\n",
    "        (f_inv_level[(f, p, 1)] == initial_inv[(f, p)] for f in factories for p in products), 'f_intial_inv'\n",
    "    )\n",
    "\n",
    "##########################historical cons\n",
    "### historical factory-to-customer flows\n",
    "if scenario_matrix.loc[scenario, 'hist_fc']:\n",
    "    m.addConstrs(\n",
    "        (sc_flow[(o, d, p, m)] == hist_fc_flows[(o, d, p, m)] for (o, d, p, m) in hist_fc_flows.keys()), 'hist_fc'\n",
    "    )\n",
    "\n",
    "### historical inter-factory flows\n",
    "if scenario_matrix.loc[scenario, 'hist_ff']:\n",
    "    m.addConstrs(\n",
    "        (ss_flow[(o, d, p, m)] == hist_ff_flows[(o, d, p, m)] for (o, d, p, m) in hist_ff_flows.keys()), 'hist_ff'\n",
    "    )\n",
    "\n",
    "### historical production\n",
    "if scenario_matrix.loc[scenario, 'hist_prod']:\n",
    "    m.addConstrs(\n",
    "        (prod_flow[(f, l, p, m)] == hist_prod_flows[(f, l, p, m)] for (f, l, p, m) in hist_prod_flows.keys()), 'hist_prod'\n",
    "    )\n",
    "\n",
    "### historical no production\n",
    "if scenario_matrix.loc[scenario, 'hist_no_prod']:\n",
    "    m.addConstrs(\n",
    "        (prod_flow[(f, l, p, m)] == 0 for (f, l, p, m) in [x for x in prod_policies if x not in hist_prod_flows.keys()]), \n",
    "        'hist_no_prod'\n",
    "    )\n",
    "\n",
    "\n",
    "\n",
    "time_build_end = time.time()\n",
    "\n",
    "### solve the model\n",
    "m.optimize()\n",
    "time_solve_end = time.time()\n",
    "\n",
    "print()\n",
    "print('optimal' if m.status==gp.GRB.OPTIMAL else 'infeasible')\n",
    "print('model build time:', round(time_build_end - time_start), 's')\n",
    "print('model solve time:', round(time_solve_end - time_build_end), 's')\n",
    "tot_oprt_cost = tot_var_prod_cost.getValue() + tot_dc_var_handling_cost.getValue() + tot_f_var_handling_cost.getValue() \\\n",
    "                + tot_site_fixed_cost.getValue() + tot_sc_transp_cost.getValue() + tot_ss_transp_cost.getValue()\n",
    "print('total operating cost:', tot_oprt_cost)\n",
    "\n",
    "### 11.5 mins for unconstraint+removeHandlingCons scenario: 33w continous 44 intergers"
   ]
  },
  {
   "cell_type": "markdown",
   "metadata": {},
   "source": [
    "### Optimization Results"
   ]
  },
  {
   "cell_type": "code",
   "execution_count": null,
   "metadata": {},
   "outputs": [
    {
     "data": {
      "text/plain": [
       "False"
      ]
     },
     "execution_count": 12,
     "metadata": {},
     "output_type": "execute_result"
    }
   ],
   "source": [
    "sc_flow_res = []\n",
    "\n",
    "for i in sc_lanes:\n",
    "    if sc_flow[i].x > 0:\n",
    "        var_output = {\n",
    "            'Origin': i[0],\n",
    "            'Destination': i[1],\n",
    "            'ProductName': i[2],\n",
    "            'ProductType': prod_type[i[2]],\n",
    "            'Period': i[3],\n",
    "            'Quantity': sc_flow[i].x\n",
    "        }\n",
    "        sc_flow_res.append(var_output)\n",
    "\n",
    "sc_flow_res_df = pd.DataFrame.from_records(sc_flow_res)\n",
    "\n",
    "len(sc_flow_res_df) == len(hist_outbound_trans_df)"
   ]
  },
  {
   "cell_type": "code",
   "execution_count": null,
   "metadata": {},
   "outputs": [
    {
     "data": {
      "text/plain": [
       "False"
      ]
     },
     "execution_count": 13,
     "metadata": {},
     "output_type": "execute_result"
    }
   ],
   "source": [
    "ss_flow_res = []\n",
    "\n",
    "for i in ss_lanes:\n",
    "    if ss_flow[i].x > 0:\n",
    "        var_output = {\n",
    "            'Origin': i[0],\n",
    "            'Destination': i[1],\n",
    "            'ProductName': i[2],\n",
    "            'ProductType': prod_type[i[2]],\n",
    "            'Period': i[3],\n",
    "            'Quantity': ss_flow[i].x\n",
    "        }\n",
    "        ss_flow_res.append(var_output)\n",
    "\n",
    "ss_flow_res_df = pd.DataFrame.from_records(ss_flow_res)\n",
    "\n",
    "len(ss_flow_res_df) == len(hist_inbound_trans_df)"
   ]
  },
  {
   "cell_type": "code",
   "execution_count": null,
   "metadata": {},
   "outputs": [
    {
     "data": {
      "text/plain": [
       "False"
      ]
     },
     "execution_count": 14,
     "metadata": {},
     "output_type": "execute_result"
    }
   ],
   "source": [
    "prod_flow_res = []\n",
    "\n",
    "for i in prod_policies:\n",
    "    if prod_flow[i].x > 0:\n",
    "        var_output = {\n",
    "            'FactoryName': i[0],\n",
    "            'ProductionLine': i[1],\n",
    "            'ProductName': i[2],\n",
    "            'ProductType': prod_type[i[2]],\n",
    "            'Period': i[3],\n",
    "            'Quantity': prod_flow[i].x\n",
    "        }\n",
    "        prod_flow_res.append(var_output)\n",
    "        \n",
    "prod_flow_res_df = pd.DataFrame.from_records(prod_flow_res)\n",
    "\n",
    "len(prod_flow_res_df) == len(hist_prod_df)"
   ]
  },
  {
   "cell_type": "code",
   "execution_count": null,
   "metadata": {},
   "outputs": [
    {
     "data": {
      "text/html": [
       "<div>\n",
       "<style scoped>\n",
       "    .dataframe tbody tr th:only-of-type {\n",
       "        vertical-align: middle;\n",
       "    }\n",
       "\n",
       "    .dataframe tbody tr th {\n",
       "        vertical-align: top;\n",
       "    }\n",
       "\n",
       "    .dataframe thead th {\n",
       "        text-align: right;\n",
       "    }\n",
       "</style>\n",
       "<table border=\"1\" class=\"dataframe\">\n",
       "  <thead>\n",
       "    <tr style=\"text-align: right;\">\n",
       "      <th></th>\n",
       "      <th>SiteName</th>\n",
       "      <th>SiteType</th>\n",
       "      <th>ProductName</th>\n",
       "      <th>ProductType</th>\n",
       "      <th>Period</th>\n",
       "      <th>Quantity</th>\n",
       "    </tr>\n",
       "  </thead>\n",
       "  <tbody>\n",
       "    <tr>\n",
       "      <th>0</th>\n",
       "      <td>DC_1</td>\n",
       "      <td>Distribution Center</td>\n",
       "      <td>PROD_1</td>\n",
       "      <td>AMB</td>\n",
       "      <td>1</td>\n",
       "      <td>0.0</td>\n",
       "    </tr>\n",
       "    <tr>\n",
       "      <th>1</th>\n",
       "      <td>DC_1</td>\n",
       "      <td>Distribution Center</td>\n",
       "      <td>PROD_1</td>\n",
       "      <td>AMB</td>\n",
       "      <td>2</td>\n",
       "      <td>0.0</td>\n",
       "    </tr>\n",
       "    <tr>\n",
       "      <th>2</th>\n",
       "      <td>DC_1</td>\n",
       "      <td>Distribution Center</td>\n",
       "      <td>PROD_1</td>\n",
       "      <td>AMB</td>\n",
       "      <td>3</td>\n",
       "      <td>0.0</td>\n",
       "    </tr>\n",
       "    <tr>\n",
       "      <th>3</th>\n",
       "      <td>DC_1</td>\n",
       "      <td>Distribution Center</td>\n",
       "      <td>PROD_1</td>\n",
       "      <td>AMB</td>\n",
       "      <td>4</td>\n",
       "      <td>0.0</td>\n",
       "    </tr>\n",
       "    <tr>\n",
       "      <th>4</th>\n",
       "      <td>DC_1</td>\n",
       "      <td>Distribution Center</td>\n",
       "      <td>PROD_1</td>\n",
       "      <td>AMB</td>\n",
       "      <td>5</td>\n",
       "      <td>0.0</td>\n",
       "    </tr>\n",
       "  </tbody>\n",
       "</table>\n",
       "</div>"
      ],
      "text/plain": [
       "  SiteName             SiteType ProductName ProductType  Period  Quantity\n",
       "0     DC_1  Distribution Center      PROD_1         AMB       1       0.0\n",
       "1     DC_1  Distribution Center      PROD_1         AMB       2       0.0\n",
       "2     DC_1  Distribution Center      PROD_1         AMB       3       0.0\n",
       "3     DC_1  Distribution Center      PROD_1         AMB       4       0.0\n",
       "4     DC_1  Distribution Center      PROD_1         AMB       5       0.0"
      ]
     },
     "execution_count": 19,
     "metadata": {},
     "output_type": "execute_result"
    }
   ],
   "source": [
    "dc_inv_level_res = []\n",
    "\n",
    "for i in dc_inv_basis:\n",
    "    var_output = {\n",
    "        'SiteName': i[0],\n",
    "        'SiteType': 'Distribution Center',\n",
    "        'ProductName': i[1],\n",
    "        'ProductType': prod_type[i[1]],\n",
    "        'Period': i[2],\n",
    "        'Quantity': dc_inv_level[i].x\n",
    "    }\n",
    "    dc_inv_level_res.append(var_output)\n",
    "    \n",
    "dc_inv_level_res_df = pd.DataFrame.from_records(dc_inv_level_res)\n",
    "\n",
    "dc_inv_level_res_df.head()"
   ]
  },
  {
   "cell_type": "code",
   "execution_count": 20,
   "metadata": {},
   "outputs": [],
   "source": [
    "f_inv_level_res = []\n",
    "\n",
    "for i in f_inv_basis:\n",
    "    var_output = {\n",
    "        'SiteName': i[0],\n",
    "        'SiteType': 'Factory',\n",
    "        'ProductName': i[1],\n",
    "        'ProductType': prod_type[i[1]],\n",
    "        'Period': i[2],\n",
    "        'Quantity': f_inv_level[i].x\n",
    "    }\n",
    "    f_inv_level_res.append(var_output)\n",
    "        \n",
    "f_inv_level_res_df = pd.DataFrame.from_records(f_inv_level_res)\n",
    "\n",
    "f_inv_level_res_df.head()\n",
    "\n",
    "### concat factory and dc inventory level df\n",
    "inv_level_res_df = pd.concat([f_inv_level_res_df, dc_inv_level_res_df])\n",
    "inv_level_res_df = inv_level_res_df[inv_level_res_df['Period']!=1]\\\n",
    "                    .assign(Period = lambda x: x['Period']-1)\\\n",
    "                        .rename({'Quantity' : 'EndOfPeriodInventory'}, axis=1)"
   ]
  },
  {
   "cell_type": "code",
   "execution_count": 21,
   "metadata": {},
   "outputs": [
    {
     "name": "stdout",
     "output_type": "stream",
     "text": [
      "Quantity    7.000750e-13\n",
      "dtype: float64\n"
     ]
    }
   ],
   "source": [
    "demand_slack_res = [] \n",
    "\n",
    "for i in cust_demand:\n",
    "    if demand_slack[i].x > 0:\n",
    "        var_output = {\n",
    "            'FactoryName': i[0],\n",
    "            'ProductName': i[1],\n",
    "            'ProductType': prod_type[i[1]],\n",
    "            'Period': i[2],\n",
    "            'Quantity': demand_slack[i].x\n",
    "        }\n",
    "        demand_slack_res.append(var_output)\n",
    "        \n",
    "demand_slack_res_df = pd.DataFrame.from_records(demand_slack_res)\n",
    "\n",
    "if len(demand_slack_res_df)>1:\n",
    "    print(demand_slack_res_df[['Quantity']].sum())\n",
    "else:\n",
    "    print('no unsatisfied demand')"
   ]
  },
  {
   "cell_type": "code",
   "execution_count": 22,
   "metadata": {},
   "outputs": [
    {
     "data": {
      "text/html": [
       "<div>\n",
       "<style scoped>\n",
       "    .dataframe tbody tr th:only-of-type {\n",
       "        vertical-align: middle;\n",
       "    }\n",
       "\n",
       "    .dataframe tbody tr th {\n",
       "        vertical-align: top;\n",
       "    }\n",
       "\n",
       "    .dataframe thead th {\n",
       "        text-align: right;\n",
       "    }\n",
       "</style>\n",
       "<table border=\"1\" class=\"dataframe\">\n",
       "  <thead>\n",
       "    <tr style=\"text-align: right;\">\n",
       "      <th></th>\n",
       "      <th>SiteName</th>\n",
       "      <th>SiteStatus</th>\n",
       "    </tr>\n",
       "  </thead>\n",
       "  <tbody>\n",
       "    <tr>\n",
       "      <th>0</th>\n",
       "      <td>FAC_1</td>\n",
       "      <td>1.0</td>\n",
       "    </tr>\n",
       "    <tr>\n",
       "      <th>1</th>\n",
       "      <td>FAC_2</td>\n",
       "      <td>1.0</td>\n",
       "    </tr>\n",
       "    <tr>\n",
       "      <th>2</th>\n",
       "      <td>FAC_3</td>\n",
       "      <td>1.0</td>\n",
       "    </tr>\n",
       "    <tr>\n",
       "      <th>3</th>\n",
       "      <td>FAC_4</td>\n",
       "      <td>1.0</td>\n",
       "    </tr>\n",
       "    <tr>\n",
       "      <th>4</th>\n",
       "      <td>FAC_5</td>\n",
       "      <td>1.0</td>\n",
       "    </tr>\n",
       "    <tr>\n",
       "      <th>5</th>\n",
       "      <td>FAC_6</td>\n",
       "      <td>1.0</td>\n",
       "    </tr>\n",
       "    <tr>\n",
       "      <th>6</th>\n",
       "      <td>FAC_7</td>\n",
       "      <td>1.0</td>\n",
       "    </tr>\n",
       "    <tr>\n",
       "      <th>7</th>\n",
       "      <td>FAC_8</td>\n",
       "      <td>1.0</td>\n",
       "    </tr>\n",
       "    <tr>\n",
       "      <th>8</th>\n",
       "      <td>FAC_9</td>\n",
       "      <td>1.0</td>\n",
       "    </tr>\n",
       "  </tbody>\n",
       "</table>\n",
       "</div>"
      ],
      "text/plain": [
       "  SiteName  SiteStatus\n",
       "0    FAC_1         1.0\n",
       "1    FAC_2         1.0\n",
       "2    FAC_3         1.0\n",
       "3    FAC_4         1.0\n",
       "4    FAC_5         1.0\n",
       "5    FAC_6         1.0\n",
       "6    FAC_7         1.0\n",
       "7    FAC_8         1.0\n",
       "8    FAC_9         1.0"
      ]
     },
     "execution_count": 22,
     "metadata": {},
     "output_type": "execute_result"
    }
   ],
   "source": [
    "f_open_res = []\n",
    "\n",
    "for i in factories:\n",
    "    var_output = {\n",
    "        'SiteName': i,\n",
    "        'SiteStatus': f_open[i].x\n",
    "    }\n",
    "    f_open_res.append(var_output)\n",
    "        \n",
    "f_open_res_df = pd.DataFrame.from_records(f_open_res)\n",
    "\n",
    "f_open_res_df"
   ]
  },
  {
   "cell_type": "code",
   "execution_count": 23,
   "metadata": {},
   "outputs": [
    {
     "data": {
      "text/html": [
       "<div>\n",
       "<style scoped>\n",
       "    .dataframe tbody tr th:only-of-type {\n",
       "        vertical-align: middle;\n",
       "    }\n",
       "\n",
       "    .dataframe tbody tr th {\n",
       "        vertical-align: top;\n",
       "    }\n",
       "\n",
       "    .dataframe thead th {\n",
       "        text-align: right;\n",
       "    }\n",
       "</style>\n",
       "<table border=\"1\" class=\"dataframe\">\n",
       "  <thead>\n",
       "    <tr style=\"text-align: right;\">\n",
       "      <th></th>\n",
       "      <th>SiteName</th>\n",
       "      <th>SiteStatus</th>\n",
       "    </tr>\n",
       "  </thead>\n",
       "  <tbody>\n",
       "    <tr>\n",
       "      <th>0</th>\n",
       "      <td>DC_1</td>\n",
       "      <td>1.0</td>\n",
       "    </tr>\n",
       "    <tr>\n",
       "      <th>1</th>\n",
       "      <td>DC_2</td>\n",
       "      <td>1.0</td>\n",
       "    </tr>\n",
       "    <tr>\n",
       "      <th>2</th>\n",
       "      <td>DC_3</td>\n",
       "      <td>1.0</td>\n",
       "    </tr>\n",
       "    <tr>\n",
       "      <th>3</th>\n",
       "      <td>DC_4</td>\n",
       "      <td>1.0</td>\n",
       "    </tr>\n",
       "    <tr>\n",
       "      <th>4</th>\n",
       "      <td>DC_5</td>\n",
       "      <td>1.0</td>\n",
       "    </tr>\n",
       "    <tr>\n",
       "      <th>5</th>\n",
       "      <td>DC_6</td>\n",
       "      <td>1.0</td>\n",
       "    </tr>\n",
       "    <tr>\n",
       "      <th>6</th>\n",
       "      <td>DC_7</td>\n",
       "      <td>1.0</td>\n",
       "    </tr>\n",
       "    <tr>\n",
       "      <th>7</th>\n",
       "      <td>DC_8</td>\n",
       "      <td>1.0</td>\n",
       "    </tr>\n",
       "    <tr>\n",
       "      <th>8</th>\n",
       "      <td>DC_9</td>\n",
       "      <td>1.0</td>\n",
       "    </tr>\n",
       "  </tbody>\n",
       "</table>\n",
       "</div>"
      ],
      "text/plain": [
       "  SiteName  SiteStatus\n",
       "0     DC_1         1.0\n",
       "1     DC_2         1.0\n",
       "2     DC_3         1.0\n",
       "3     DC_4         1.0\n",
       "4     DC_5         1.0\n",
       "5     DC_6         1.0\n",
       "6     DC_7         1.0\n",
       "7     DC_8         1.0\n",
       "8     DC_9         1.0"
      ]
     },
     "execution_count": 23,
     "metadata": {},
     "output_type": "execute_result"
    }
   ],
   "source": [
    "dc_open_res = []\n",
    "\n",
    "for i in dcs:\n",
    "    var_output = {\n",
    "        'SiteName': i,\n",
    "        'SiteStatus': dc_open[i].x\n",
    "    }\n",
    "    dc_open_res.append(var_output)\n",
    "        \n",
    "dc_open_res_df = pd.DataFrame.from_records(dc_open_res)\n",
    "\n",
    "dc_open_res_df"
   ]
  },
  {
   "cell_type": "code",
   "execution_count": 24,
   "metadata": {},
   "outputs": [
    {
     "data": {
      "text/html": [
       "<div>\n",
       "<style scoped>\n",
       "    .dataframe tbody tr th:only-of-type {\n",
       "        vertical-align: middle;\n",
       "    }\n",
       "\n",
       "    .dataframe tbody tr th {\n",
       "        vertical-align: top;\n",
       "    }\n",
       "\n",
       "    .dataframe thead th {\n",
       "        text-align: right;\n",
       "    }\n",
       "</style>\n",
       "<table border=\"1\" class=\"dataframe\">\n",
       "  <thead>\n",
       "    <tr style=\"text-align: right;\">\n",
       "      <th></th>\n",
       "      <th>FactoryName</th>\n",
       "      <th>ProductionLine</th>\n",
       "      <th>LineStatus</th>\n",
       "    </tr>\n",
       "  </thead>\n",
       "  <tbody>\n",
       "    <tr>\n",
       "      <th>0</th>\n",
       "      <td>FAC_1</td>\n",
       "      <td>FAC_1_LINE_11</td>\n",
       "      <td>1.0</td>\n",
       "    </tr>\n",
       "    <tr>\n",
       "      <th>1</th>\n",
       "      <td>FAC_1</td>\n",
       "      <td>FAC_1_LINE_12</td>\n",
       "      <td>0.0</td>\n",
       "    </tr>\n",
       "    <tr>\n",
       "      <th>2</th>\n",
       "      <td>FAC_1</td>\n",
       "      <td>FAC_1_LINE_13</td>\n",
       "      <td>1.0</td>\n",
       "    </tr>\n",
       "    <tr>\n",
       "      <th>3</th>\n",
       "      <td>FAC_1</td>\n",
       "      <td>FAC_1_LINE_14</td>\n",
       "      <td>1.0</td>\n",
       "    </tr>\n",
       "    <tr>\n",
       "      <th>4</th>\n",
       "      <td>FAC_1</td>\n",
       "      <td>FAC_1_LINE_15</td>\n",
       "      <td>1.0</td>\n",
       "    </tr>\n",
       "  </tbody>\n",
       "</table>\n",
       "</div>"
      ],
      "text/plain": [
       "  FactoryName ProductionLine  LineStatus\n",
       "0       FAC_1  FAC_1_LINE_11         1.0\n",
       "1       FAC_1  FAC_1_LINE_12         0.0\n",
       "2       FAC_1  FAC_1_LINE_13         1.0\n",
       "3       FAC_1  FAC_1_LINE_14         1.0\n",
       "4       FAC_1  FAC_1_LINE_15         1.0"
      ]
     },
     "execution_count": 24,
     "metadata": {},
     "output_type": "execute_result"
    }
   ],
   "source": [
    "productline_open_res = []\n",
    "\n",
    "for i in productionlines:\n",
    "    var_output = {\n",
    "        'FactoryName': i[0],\n",
    "        'ProductionLine': i[1],\n",
    "        'LineStatus': productline_open[i].x\n",
    "    }\n",
    "    productline_open_res.append(var_output)\n",
    "        \n",
    "productline_open_res_df = pd.DataFrame.from_records(productline_open_res)\n",
    "\n",
    "productline_open_res_df.head()"
   ]
  },
  {
   "cell_type": "markdown",
   "metadata": {},
   "source": [
    "### Prepare output tables"
   ]
  },
  {
   "cell_type": "code",
   "execution_count": 41,
   "metadata": {},
   "outputs": [],
   "source": [
    "### add cost of flow and production\n",
    "sc_flow_res_df_1 = sc_flow_res_df.merge(trans_policies_df, on = ['Origin','Destination','ProductType'])\\\n",
    "    .merge(products_df[['ProductName','Volume']], on = ['ProductName'])\\\n",
    "        .assign(**{\"TransportationCost\": lambda x: x['Quantity']*x['Volume']*x['VariableTransportationCost']})\\\n",
    "            .merge(sites_df[['SiteName','VariableHandlingCost']].rename({'SiteName':'Origin'},axis=1), on = ['Origin'])\\\n",
    "                .assign(**{\"HandlingCost\": lambda x: x['Quantity']*x['VariableHandlingCost']})\n",
    "\n",
    "\n",
    "ss_flow_res_df_1 = ss_flow_res_df.merge(trans_policies_df, on = ['Origin','Destination','ProductType'])\\\n",
    "    .merge(products_df[['ProductName','Volume']], on = ['ProductName'])\\\n",
    "        .assign(**{\"TransportationCost\": lambda x: x['Quantity']*x['Volume']*x['VariableTransportationCost']})\\\n",
    "            .merge(sites_df[['SiteName','VariableHandlingCost']].rename({'SiteName':'Origin'},axis=1), on = ['Origin'])\\\n",
    "                .assign(**{\"HandlingCost\": lambda x: x['Quantity']*x['VariableHandlingCost']})\n",
    "\n",
    "prod_flow_res_df_1 = prod_flow_res_df.merge(prod_policies_df, on = ['FactoryName','ProductionLine','ProductName'])\\\n",
    "    .assign(**{\"ProductionCost\": lambda x: x['Quantity']*x['VariableProductionCost']})\\\n",
    "        .assign(**{'MachineHours': lambda x: x['Quantity'] * x['MachineHoursPerUnit']})\n",
    "\n",
    "site_open_res_df_1 = sites_df[['SiteName','FixedOperatingCostPerHorizon']].merge(pd.concat([f_open_res_df,dc_open_res_df]), on = 'SiteName', how= 'left')\\\n",
    "    .assign(**{'SiteFixedOperatingCost': lambda x: x['SiteStatus']*x['FixedOperatingCostPerHorizon']})\n",
    "\n",
    "inv_level_res_df_1 = inv_level_res_df.merge(pd.concat([ss_flow_res_df.groupby(['Origin','ProductName','Period'])['Quantity'].sum().reset_index().rename({'Origin':'SiteName','Quantity':'Throughput'}, axis=1),\n",
    "                                sc_flow_res_df.groupby(['Origin','ProductName','Period'])['Quantity'].sum().reset_index().rename({'Origin':'SiteName','Quantity':'Throughput'}, axis=1)]),\n",
    "                                on = ['SiteName', 'ProductName', 'Period'])\\\n",
    "                                    .merge(inv_df[['SiteName', 'ProductName','InventoryTurns']], on = ['SiteName', 'ProductName'])\\\n",
    "                                        .assign(MonthlyInventoryTurns = lambda x: x['InventoryTurns'] / 12,\n",
    "                                                TurnEstimatedInventory  = lambda x: x['Throughput'] / x['InventoryTurns'])\\\n",
    "                                                    .drop(['InventoryTurns'], axis=1)\n",
    "                                                    \n",
    "### period cost summary \n",
    "period_cost_summary = sc_flow_res_df_1.groupby(['Period'])[['TransportationCost','HandlingCost','Quantity']].sum().reset_index()\\\n",
    "    .rename({'TransportationCost':'TransportationCostCustomerFlows','HandlingCost':'DCHandlingCost','Quantity':'QuantityCustomerFlows'},axis=1)\\\n",
    "        .merge(ss_flow_res_df_1.groupby(['Period'])[['TransportationCost','HandlingCost','Quantity']].sum().reset_index()\\\n",
    "            .rename({'TransportationCost':'TransportationCostIntersiteFlows','HandlingCost':'FactoryHandlingCost','Quantity':'QuantityIntersiteFlows'},axis=1), on = ['Period'])\\\n",
    "                .assign(**{'TransportationCost': lambda x: (x['TransportationCostCustomerFlows']+x['TransportationCostIntersiteFlows'])})\\\n",
    "                    .merge(prod_flow_res_df_1.groupby(['Period'])[['ProductionCost','Quantity','MachineHours']].sum().reset_index()\\\n",
    "                        .rename({'ProductionCost':'FactoryProductionCost', 'Quantity':'FactoryProductionQuantity'},axis=1), on = ['Period'])\\\n",
    "                            .assign(SiteFixedOperatingCost = site_open_res_df_1[['FixedOperatingCostPerHorizon']].sum()[0]/n_periods, \n",
    "                                    NumberOfSitesOpen = site_open_res_df_1[['SiteStatus']].sum()[0])\\\n",
    "                                        .assign(TotalCost = lambda x: x['TransportationCost']+x['DCHandlingCost']+x['FactoryProductionCost']+x['SiteFixedOperatingCost'])\\\n",
    "                                            .merge(demand_df.groupby('Period')['CustomerDemand'].sum().reset_index().rename({'CustomerDemand':'TotalDemand'}, axis=1), on = ['Period'])\\\n",
    "                                                .assign(DemandSatisfiedPerc = lambda x: x['QuantityCustomerFlows'] / x['TotalDemand'])\n",
    "                                            # .assign(ProductionCapacityUtilization = lambda x: x['MachineHours']/prod_line_policies_df['MachineHourCapacity'].sum(),\n",
    "                                            #         HandlingCapacityUtilization = lambda x: x['QuantityCustomerFlows']/sites_df['HandlingCapacity'].sum(),\n",
    "                                            #         ### use inventory turns to calculate periodly storage utilization, is it ok?\n",
    "                                            #         StorageCapacityUtilization = lambda x: x['QuantityCustomerFlows']/(inv_df['InventoryTurns'].mean()/n_periods*sites_df['StorageCapacity'].sum()))\n",
    "  \n",
    "### site cost summary\n",
    "##### factory cost summary\n",
    "factory_cost_summary = ss_flow_res_df_1.groupby(['Origin']).apply(lambda x : pd.Series({'TransportationCost': x['TransportationCost'].sum(),\n",
    "                                                                                        'HandlingCost': x['HandlingCost'].sum(),\n",
    "                                                                                        'Quantity': x['Quantity'].sum(),\n",
    "                                                                                        'MaxDistance':x['Distance'].max(),\n",
    "                                                                                        'WeightedAverageDistance':(x['Quantity']*x['Volume']*x['Distance']).sum() / (x['Quantity']*x['Volume']).sum(),\n",
    "                                                                                        })).reset_index()\\\n",
    "            .rename({'Origin':'SiteName', 'TransportationCost':'OutboundTransportationCost', 'Quantity':'ThoughputLevel'},axis=1)\\\n",
    "                .merge(f_open_res_df.merge(sites_df[['SiteName','FixedOperatingCostPerHorizon']], on = ['SiteName']).assign(FixedOperatingCostPerHorizon = lambda x: x['FixedOperatingCostPerHorizon']*x['SiteStatus']), on = ['SiteName'])\\\n",
    "                    .merge(prod_flow_res_df_1.groupby(['FactoryName'])[['ProductionCost','MachineHours']].sum().reset_index()\\\n",
    "                        .merge(productionlines_df.groupby(['FactoryName']).agg({'MachineHourCapacityPerPeriod':'sum'}).reset_index(), on = ['FactoryName'])\\\n",
    "                            .assign(MachineHourCapacityPerHorizon = lambda x: x['MachineHourCapacityPerPeriod']*n_periods,\n",
    "                                    ProductionCapacityUtilization = lambda x: x['MachineHours']/x['MachineHourCapacityPerHorizon'])\\\n",
    "                                    .rename({'FactoryName':'SiteName'},axis=1), on = 'SiteName')\\\n",
    "                                        .merge(sites_df[['SiteName','StorageCapacity','HandlingCapacityPerPeriod']], on = ['SiteName'])\\\n",
    "                                            .assign(HandlingCapacityPerHorizon = lambda x: x['HandlingCapacityPerPeriod']*n_periods)\\\n",
    "                                                .merge(inv_level_res_df_1.groupby(['SiteName'])[['TurnEstimatedInventory','EndOfPeriodInventory']].mean().reset_index(), on = ['SiteName'])\\\n",
    "                                                    .assign(HandlingCapacityUtilization = lambda x: x['ThoughputLevel']/x['HandlingCapacityPerHorizon'],\n",
    "                                                            StorageCapacityUtilization = lambda x: np.where(x['StorageCapacity'] == 0, np.NaN, x['EndOfPeriodInventory']/x['StorageCapacity']))\\\n",
    "                                                                .drop(['MachineHourCapacityPerPeriod','MachineHourCapacityPerHorizon','MachineHours'], axis=1)\n",
    "                                        \n",
    "factory_cost_summary.insert(1, 'SiteType', 'Factory')\n",
    "##### dc cost summary\n",
    "dc_cost_summary = sc_flow_res_df_1.groupby(['Origin']).apply(lambda x : pd.Series({'TransportationCost': x['TransportationCost'].sum(),\n",
    "                                                                                    'HandlingCost': x['HandlingCost'].sum(),\n",
    "                                                                                    'Quantity': x['Quantity'].sum(),\n",
    "                                                                                    'MaxDistance':x['Distance'].max(),\n",
    "                                                                                    'WeightedAverageDistance':(x['Quantity']*x['Volume']*x['Distance']).sum() / (x['Quantity']*x['Volume']).sum(),\n",
    "                                                                                    })).reset_index()\\\n",
    "    .rename({'Origin':'SiteName', 'TransportationCost':'OutboundTransportationCost', 'Quantity':'ThoughputLevel'},axis=1)\\\n",
    "        .merge(dc_open_res_df.merge(sites_df[['SiteName','FixedOperatingCostPerHorizon']], on = ['SiteName']).assign(FixedOperatingCostPerHorizon = lambda x: x['FixedOperatingCostPerHorizon']*x['SiteStatus']), on = ['SiteName'])\\\n",
    "            .merge(sites_df[['SiteName','StorageCapacity','HandlingCapacityPerPeriod']], on = ['SiteName'])\\\n",
    "                .assign(HandlingCapacityPerHorizon = lambda x: x['HandlingCapacityPerPeriod']*n_periods)\\\n",
    "                    .merge(inv_level_res_df_1.groupby(['SiteName'])[['TurnEstimatedInventory','EndOfPeriodInventory']].mean().reset_index(), on = ['SiteName'])\\\n",
    "                        .assign(HandlingCapacityUtilization = lambda x: x['ThoughputLevel']/x['HandlingCapacityPerHorizon'],\n",
    "                                StorageCapacityUtilization = lambda x: np.where(x['StorageCapacity'] == 0, np.NaN, x['EndOfPeriodInventory']/x['StorageCapacity']))\n",
    "            \n",
    "dc_cost_summary.insert(1, 'SiteType', 'Distribution Center')\n",
    "site_cost_summary = pd.concat([factory_cost_summary, dc_cost_summary]).drop(['HandlingCapacityPerPeriod'], axis=1)\n",
    "\n",
    "### product line cost summary\n",
    "productline_cost_summary = prod_flow_res_df_1.groupby(['FactoryName','ProductionLine'])[['ProductionCost','MachineHours']].sum().reset_index()\\\n",
    "    .merge(productline_open_res_df, on = ['FactoryName','ProductionLine'], how = 'outer').fillna(0) \\\n",
    "        .merge(productionlines_df[['FactoryName','ProductionLine','MachineHourCapacityPerPeriod','FixedOperatingCostPerHorizon']].assign(), on = ['FactoryName','ProductionLine'], how = 'outer')\\\n",
    "            .assign(FixedOperatingCost = lambda x: x['FixedOperatingCostPerHorizon'] * x['LineStatus'],\n",
    "                    MachineHourCapacityPerHorizon = lambda x: x['MachineHourCapacityPerPeriod']*n_periods,\n",
    "                    ProductionCapacityUtilization = lambda x: x['MachineHours']/x['MachineHourCapacityPerHorizon'])"
   ]
  },
  {
   "cell_type": "markdown",
   "metadata": {},
   "source": [
    "### Save to Excel"
   ]
  },
  {
   "cell_type": "code",
   "execution_count": 44,
   "metadata": {},
   "outputs": [
    {
     "name": "stderr",
     "output_type": "stream",
     "text": [
      "c:\\Users\\52427\\.conda\\envs\\gurobienv\\lib\\site-packages\\xlsxwriter\\workbook.py:339: UserWarning: Calling close() on already closed file.\n",
      "  warn(\"Calling close() on already closed file.\")\n"
     ]
    }
   ],
   "source": [
    "### save model output template\n",
    "writer = pd.ExcelWriter(model_sanitized_path + 'model_output_'+ today +'_'+scenario+'.xlsx', engine='xlsxwriter')\n",
    "\n",
    "### output data tables\n",
    "pd.DataFrame({'Scenario': [scenario],\n",
    "                'TotalCost':[tot_cost.getValue()-tot_dmd_pen_cost.getValue()],\n",
    "                'SiteFixedOperatingCost':[tot_site_fixed_cost.getValue()],\n",
    "                'FactoryProductionCost':[tot_var_prod_cost.getValue()],\n",
    "                'FactoryHandlingCost':[tot_f_var_handling_cost.getValue()],\n",
    "                'DCHandlingCost':[tot_dc_var_handling_cost.getValue()],\n",
    "                'TransportationCost':[tot_sc_transp_cost.getValue()+tot_ss_transp_cost.getValue()],\n",
    "                'TransportationCostCustomerFlows':[tot_sc_transp_cost.getValue()],\n",
    "                'TransportationCostIntersiteFlows':[tot_ss_transp_cost.getValue()],\n",
    "                'DemandSatisfiedPerc': [sc_flow_res_df_1['Quantity'].sum() / demand_df['CustomerDemand'].sum()],\n",
    "                'TotalDemand':[demand_df['CustomerDemand'].sum()],\n",
    "                'QuantityCustomerFlows':[sc_flow_res_df_1['Quantity'].sum()],\n",
    "                'QuantityIntersiteFlows':[ss_flow_res_df_1['Quantity'].sum()],\n",
    "                'FactoryProductionQuantity':[prod_flow_res_df_1['Quantity'].sum()],\n",
    "                'NumberOfDCsOpen':[dc_open_res_df['SiteStatus'].sum()],\n",
    "                'NumberOfFactoriesOpen':[f_open_res_df['SiteStatus'].sum()],\n",
    "                'MaxDistanceCustomerFlows':[sc_flow_res_df_1['Distance'].max()],\n",
    "                'WeightedAverageDistanceCustomerFlows':[(sc_flow_res_df_1['Quantity']*sc_flow_res_df_1['Volume']*sc_flow_res_df_1['Distance']).sum() / (sc_flow_res_df_1['Quantity']*sc_flow_res_df_1['Volume']).sum()],\n",
    "                'WeightedAverageDistanceIntersiteFlows':[(ss_flow_res_df_1['Quantity']*ss_flow_res_df_1['Volume']*ss_flow_res_df_1['Distance']).sum() / (ss_flow_res_df_1['Quantity']*ss_flow_res_df_1['Volume']).sum()]\n",
    "                })\\\n",
    "        .to_excel(writer, sheet_name='Output_CostSummary', index=False)\n",
    "period_cost_summary.assign(**{'Scenario': scenario})[['Scenario','Period','TotalCost','SiteFixedOperatingCost','FactoryProductionCost','FactoryHandlingCost',\n",
    "                        'DCHandlingCost','TransportationCost','TransportationCostCustomerFlows','TransportationCostIntersiteFlows',\n",
    "                        'DemandSatisfiedPerc','TotalDemand','QuantityCustomerFlows','QuantityIntersiteFlows','FactoryProductionQuantity']] \\\n",
    "                        .to_excel(writer, sheet_name='Output_CostSummaryByPeriod', index=False)\n",
    "#site_cost_summary.insert(0, 'Scenario', scenario)\n",
    "site_cost_summary.assign(**{'Scenario': scenario})[['Scenario','SiteName', 'SiteType','SiteStatus', 'FixedOperatingCostPerHorizon','ProductionCost','HandlingCost','OutboundTransportationCost',\n",
    "                'ProductionCapacityUtilization','ThoughputLevel', 'HandlingCapacityPerHorizon','HandlingCapacityUtilization','StorageCapacity','TurnEstimatedInventory','EndOfPeriodInventory','StorageCapacityUtilization',\n",
    "                'MaxDistance', 'WeightedAverageDistance']]\\\n",
    "                .to_excel(writer, sheet_name='Output_CostSummaryBySite', index=False)\n",
    "productline_cost_summary.insert(0, 'Scenario', scenario)\n",
    "productline_cost_summary.to_excel(writer, sheet_name='Output_CostSummaryByProductLine', index=False)\n",
    "        \n",
    "sc_flow_res_df_1.assign(**{'Scenario': scenario})[['Scenario','Origin','Destination','ProductName','ProductType','Period','Quantity','TransportationCost','HandlingCost']].to_excel(writer, sheet_name='Output_CustomerFlows', index=False)\n",
    "ss_flow_res_df_1.assign(**{'Scenario': scenario})[['Scenario','Origin','Destination','ProductName','ProductType','Period','Quantity','TransportationCost']].to_excel(writer, sheet_name='Output_IntersiteFlows', index=False)\n",
    "prod_flow_res_df_1.assign(**{'Scenario': scenario})[['Scenario','FactoryName', 'ProductionLine', 'ProductName','ProductType', 'Period', 'Quantity', 'ProductionCost']].to_excel(writer, sheet_name='Output_ProductionFlows', index=False)\n",
    "inv_level_res_df_1.assign(**{'Scenario': scenario})[['Scenario','SiteName','ProductName','ProductType','Period','EndOfPeriodInventory','TurnEstimatedInventory']].to_excel(writer, sheet_name='Output_InventoryLevel', index=False)\n",
    "\n",
    "### need further cleaning format before send to client\n",
    "### input data tables\n",
    "periods_df.to_excel(writer, sheet_name='Input_PeriodList', index=False)\n",
    "products_df.to_excel(writer, sheet_name='Input_ProductList', index=False)\n",
    "customers_df.to_excel(writer, sheet_name='Input_CustomerList', index=False)\n",
    "sites_df.to_excel(writer, sheet_name='Input_SiteList', index=False)\n",
    "productionlines_df.to_excel(writer, sheet_name='Input_ProductLineList', index=False)\n",
    "trans_policies_df.to_excel(writer, sheet_name='Input_TransportationPolicy', index=False)\n",
    "prod_policies_df.to_excel(writer, sheet_name='Input_ProductionPolicy', index=False)\n",
    "inv_df.to_excel(writer, sheet_name='Input_InventoryPolicy', index=False)\n",
    "demand_df.to_excel(writer, sheet_name='Input_CustomerDemand', index=False)\n",
    "hist_outbound_trans_df.to_excel(writer, sheet_name='Input_HistShipmentFactoryToCust', index=False)\n",
    "hist_inbound_trans_df.to_excel(writer, sheet_name='Input_HistShipmentAmongFactory', index=False)\n",
    "hist_prod_df.to_excel(writer, sheet_name='Input_HistProduction', index=False)\n",
    "\n",
    "writer.save()\n",
    "writer.close()"
   ]
  },
  {
   "cell_type": "code",
   "execution_count": 3,
   "metadata": {},
   "outputs": [],
   "source": [
    "time.time()"
   ]
  },
  {
   "cell_type": "markdown",
   "metadata": {},
   "source": [
    "### Visualization"
   ]
  },
  {
   "cell_type": "code",
   "execution_count": 1,
   "metadata": {},
   "outputs": [],
   "source": [
    "### load package\n",
    "import pandas as pd\n",
    "pd.set_option('display.max_rows', 500)\n",
    "import numpy as np\n",
    "import time\n",
    "import plotly.graph_objects as go\n",
    "import plotly.express as px\n",
    "token = open(\".mapbox_token\").read() # you will need your own token\n",
    "\n",
    "\n",
    "model_sanitized_path = 'C:/Users/52427/Documents/Cases/Case11_Baixiang/Baixiang_supply_chain_optimization/model_sanitized/'\n",
    "\n",
    "file_name = model_sanitized_path + 'model_output_20220620_Unconstrainted+RemoveHandlingCons.xlsx'\n",
    "xls = pd.ExcelFile(file_name)\n",
    "\n",
    "### input table\n",
    "periods_df = pd.read_excel(xls, 'Input_PeriodList')\n",
    "customers_df = pd.read_excel(xls, 'Input_CustomerList')\n",
    "sites_df = pd.read_excel(xls, 'Input_SiteList')\n",
    "productionlines_df = pd.read_excel(xls, 'Input_ProductLineList')\n",
    "products_df = pd.read_excel(xls, 'Input_ProductList')\n",
    "demand_df = pd.read_excel(xls, 'Input_CustomerDemand')\n",
    "\n",
    "### output table\n",
    "sc_flow_res_df_1 = pd.read_excel(xls, 'Output_CustomerFlows')\n",
    "ss_flow_res_df_1 = pd.read_excel(xls, 'Output_IntersiteFlows')\n",
    "prod_flow_res_df_1 = pd.read_excel(xls, 'Output_ProductionFlows')\n",
    "\n",
    "\n",
    "xls.close()"
   ]
  },
  {
   "cell_type": "code",
   "execution_count": 54,
   "metadata": {},
   "outputs": [],
   "source": [
    "### plot df preparation\n",
    "sc_flow_plot_df = sc_flow_res_df_1.groupby(['Origin', 'Destination'])['Quantity'].sum().reset_index()\\\n",
    "                    .merge(customers_df[['CustomerName','Longitude','Latitude']].rename({'CustomerName':'Destination','Longitude':'end_lon','Latitude':'end_lat'}, axis=1), on='Destination')\\\n",
    "                        .merge(sites_df[['SiteName','Longitude','Latitude']].rename({'SiteName':'Origin','Longitude':'start_lon','Latitude':'start_lat'}, axis=1), on='Origin')\\\n",
    "                            .assign(Path = lambda x: x['Origin']+' to '+x['Destination'])\n",
    "\n",
    "ss_flow_plot_df = ss_flow_res_df_1.groupby(['Origin', 'Destination'])['Quantity'].sum().reset_index()\\\n",
    "                    .merge(sites_df[['SiteName','Longitude','Latitude']].rename({'SiteName':'Destination','Longitude':'end_lon','Latitude':'end_lat'}, axis=1), on='Destination')\\\n",
    "                        .merge(sites_df[['SiteName','Longitude','Latitude']].rename({'SiteName':'Origin','Longitude':'start_lon','Latitude':'start_lat'}, axis=1), on='Origin')\\\n",
    "                            .assign(Path = lambda x: x['Origin']+' to '+x['Destination'])\n",
    "\n",
    "prod_flow_plot_df = prod_flow_res_df_1.groupby(['FactoryName'])['Quantity'].sum().reset_index()\\\n",
    "                        .merge(sites_df[['SiteName','Longitude','Latitude']].rename({'SiteName':'FactoryName'}, axis=1), on='FactoryName')\n",
    "\n",
    "demand_plot_df = demand_df.groupby(['CustomerName'])['CustomerDemand'].sum().reset_index()\\\n",
    "                    .merge(customers_df[['CustomerName','Longitude','Latitude']], on='CustomerName')"
   ]
  },
  {
   "cell_type": "code",
   "execution_count": 56,
   "metadata": {},
   "outputs": [
    {
     "data": {
      "application/vnd.plotly.v1+json": {
       "config": {
        "plotlyServerURL": "https://plot.ly"
       },
       "data": [
        {
         "customdata": [
          [
           "CZ_1"
          ],
          [
           "CZ_10"
          ],
          [
           "CZ_100"
          ],
          [
           "CZ_101"
          ],
          [
           "CZ_102"
          ],
          [
           "CZ_103"
          ],
          [
           "CZ_104"
          ],
          [
           "CZ_105"
          ],
          [
           "CZ_106"
          ],
          [
           "CZ_107"
          ],
          [
           "CZ_108"
          ],
          [
           "CZ_109"
          ],
          [
           "CZ_11"
          ],
          [
           "CZ_110"
          ],
          [
           "CZ_111"
          ],
          [
           "CZ_112"
          ],
          [
           "CZ_113"
          ],
          [
           "CZ_114"
          ],
          [
           "CZ_115"
          ],
          [
           "CZ_116"
          ],
          [
           "CZ_117"
          ],
          [
           "CZ_118"
          ],
          [
           "CZ_119"
          ],
          [
           "CZ_12"
          ],
          [
           "CZ_120"
          ],
          [
           "CZ_121"
          ],
          [
           "CZ_122"
          ],
          [
           "CZ_123"
          ],
          [
           "CZ_124"
          ],
          [
           "CZ_125"
          ],
          [
           "CZ_126"
          ],
          [
           "CZ_127"
          ],
          [
           "CZ_128"
          ],
          [
           "CZ_129"
          ],
          [
           "CZ_13"
          ],
          [
           "CZ_130"
          ],
          [
           "CZ_131"
          ],
          [
           "CZ_132"
          ],
          [
           "CZ_133"
          ],
          [
           "CZ_134"
          ],
          [
           "CZ_135"
          ],
          [
           "CZ_136"
          ],
          [
           "CZ_137"
          ],
          [
           "CZ_138"
          ],
          [
           "CZ_139"
          ],
          [
           "CZ_14"
          ],
          [
           "CZ_140"
          ],
          [
           "CZ_141"
          ],
          [
           "CZ_142"
          ],
          [
           "CZ_143"
          ],
          [
           "CZ_144"
          ],
          [
           "CZ_145"
          ],
          [
           "CZ_146"
          ],
          [
           "CZ_147"
          ],
          [
           "CZ_148"
          ],
          [
           "CZ_149"
          ],
          [
           "CZ_15"
          ],
          [
           "CZ_150"
          ],
          [
           "CZ_151"
          ],
          [
           "CZ_152"
          ],
          [
           "CZ_153"
          ],
          [
           "CZ_154"
          ],
          [
           "CZ_155"
          ],
          [
           "CZ_156"
          ],
          [
           "CZ_157"
          ],
          [
           "CZ_158"
          ],
          [
           "CZ_159"
          ],
          [
           "CZ_16"
          ],
          [
           "CZ_160"
          ],
          [
           "CZ_161"
          ],
          [
           "CZ_162"
          ],
          [
           "CZ_163"
          ],
          [
           "CZ_164"
          ],
          [
           "CZ_165"
          ],
          [
           "CZ_166"
          ],
          [
           "CZ_167"
          ],
          [
           "CZ_168"
          ],
          [
           "CZ_169"
          ],
          [
           "CZ_17"
          ],
          [
           "CZ_170"
          ],
          [
           "CZ_171"
          ],
          [
           "CZ_172"
          ],
          [
           "CZ_173"
          ],
          [
           "CZ_174"
          ],
          [
           "CZ_175"
          ],
          [
           "CZ_176"
          ],
          [
           "CZ_177"
          ],
          [
           "CZ_178"
          ],
          [
           "CZ_179"
          ],
          [
           "CZ_18"
          ],
          [
           "CZ_180"
          ],
          [
           "CZ_181"
          ],
          [
           "CZ_182"
          ],
          [
           "CZ_183"
          ],
          [
           "CZ_184"
          ],
          [
           "CZ_185"
          ],
          [
           "CZ_186"
          ],
          [
           "CZ_187"
          ],
          [
           "CZ_188"
          ],
          [
           "CZ_189"
          ],
          [
           "CZ_19"
          ],
          [
           "CZ_190"
          ],
          [
           "CZ_191"
          ],
          [
           "CZ_192"
          ],
          [
           "CZ_193"
          ],
          [
           "CZ_194"
          ],
          [
           "CZ_195"
          ],
          [
           "CZ_196"
          ],
          [
           "CZ_197"
          ],
          [
           "CZ_198"
          ],
          [
           "CZ_199"
          ],
          [
           "CZ_2"
          ],
          [
           "CZ_20"
          ],
          [
           "CZ_200"
          ],
          [
           "CZ_201"
          ],
          [
           "CZ_202"
          ],
          [
           "CZ_203"
          ],
          [
           "CZ_204"
          ],
          [
           "CZ_205"
          ],
          [
           "CZ_206"
          ],
          [
           "CZ_207"
          ],
          [
           "CZ_208"
          ],
          [
           "CZ_209"
          ],
          [
           "CZ_21"
          ],
          [
           "CZ_210"
          ],
          [
           "CZ_211"
          ],
          [
           "CZ_212"
          ],
          [
           "CZ_213"
          ],
          [
           "CZ_214"
          ],
          [
           "CZ_215"
          ],
          [
           "CZ_216"
          ],
          [
           "CZ_217"
          ],
          [
           "CZ_218"
          ],
          [
           "CZ_219"
          ],
          [
           "CZ_22"
          ],
          [
           "CZ_220"
          ],
          [
           "CZ_221"
          ],
          [
           "CZ_222"
          ],
          [
           "CZ_223"
          ],
          [
           "CZ_224"
          ],
          [
           "CZ_225"
          ],
          [
           "CZ_226"
          ],
          [
           "CZ_227"
          ],
          [
           "CZ_228"
          ],
          [
           "CZ_229"
          ],
          [
           "CZ_23"
          ],
          [
           "CZ_230"
          ],
          [
           "CZ_231"
          ],
          [
           "CZ_232"
          ],
          [
           "CZ_233"
          ],
          [
           "CZ_234"
          ],
          [
           "CZ_235"
          ],
          [
           "CZ_236"
          ],
          [
           "CZ_237"
          ],
          [
           "CZ_238"
          ],
          [
           "CZ_239"
          ],
          [
           "CZ_24"
          ],
          [
           "CZ_240"
          ],
          [
           "CZ_241"
          ],
          [
           "CZ_242"
          ],
          [
           "CZ_243"
          ],
          [
           "CZ_244"
          ],
          [
           "CZ_245"
          ],
          [
           "CZ_246"
          ],
          [
           "CZ_247"
          ],
          [
           "CZ_248"
          ],
          [
           "CZ_249"
          ],
          [
           "CZ_25"
          ],
          [
           "CZ_250"
          ],
          [
           "CZ_251"
          ],
          [
           "CZ_252"
          ],
          [
           "CZ_253"
          ],
          [
           "CZ_254"
          ],
          [
           "CZ_255"
          ],
          [
           "CZ_256"
          ],
          [
           "CZ_257"
          ],
          [
           "CZ_258"
          ],
          [
           "CZ_259"
          ],
          [
           "CZ_26"
          ],
          [
           "CZ_260"
          ],
          [
           "CZ_261"
          ],
          [
           "CZ_262"
          ],
          [
           "CZ_263"
          ],
          [
           "CZ_264"
          ],
          [
           "CZ_265"
          ],
          [
           "CZ_266"
          ],
          [
           "CZ_267"
          ],
          [
           "CZ_268"
          ],
          [
           "CZ_269"
          ],
          [
           "CZ_27"
          ],
          [
           "CZ_270"
          ],
          [
           "CZ_271"
          ],
          [
           "CZ_272"
          ],
          [
           "CZ_273"
          ],
          [
           "CZ_274"
          ],
          [
           "CZ_275"
          ],
          [
           "CZ_276"
          ],
          [
           "CZ_277"
          ],
          [
           "CZ_278"
          ],
          [
           "CZ_279"
          ],
          [
           "CZ_28"
          ],
          [
           "CZ_280"
          ],
          [
           "CZ_281"
          ],
          [
           "CZ_282"
          ],
          [
           "CZ_283"
          ],
          [
           "CZ_284"
          ],
          [
           "CZ_285"
          ],
          [
           "CZ_286"
          ],
          [
           "CZ_287"
          ],
          [
           "CZ_288"
          ],
          [
           "CZ_289"
          ],
          [
           "CZ_29"
          ],
          [
           "CZ_290"
          ],
          [
           "CZ_291"
          ],
          [
           "CZ_292"
          ],
          [
           "CZ_293"
          ],
          [
           "CZ_3"
          ],
          [
           "CZ_30"
          ],
          [
           "CZ_31"
          ],
          [
           "CZ_32"
          ],
          [
           "CZ_33"
          ],
          [
           "CZ_34"
          ],
          [
           "CZ_35"
          ],
          [
           "CZ_36"
          ],
          [
           "CZ_37"
          ],
          [
           "CZ_38"
          ],
          [
           "CZ_39"
          ],
          [
           "CZ_4"
          ],
          [
           "CZ_40"
          ],
          [
           "CZ_41"
          ],
          [
           "CZ_42"
          ],
          [
           "CZ_43"
          ],
          [
           "CZ_44"
          ],
          [
           "CZ_45"
          ],
          [
           "CZ_46"
          ],
          [
           "CZ_47"
          ],
          [
           "CZ_48"
          ],
          [
           "CZ_49"
          ],
          [
           "CZ_5"
          ],
          [
           "CZ_50"
          ],
          [
           "CZ_51"
          ],
          [
           "CZ_52"
          ],
          [
           "CZ_53"
          ],
          [
           "CZ_54"
          ],
          [
           "CZ_55"
          ],
          [
           "CZ_56"
          ],
          [
           "CZ_57"
          ],
          [
           "CZ_58"
          ],
          [
           "CZ_59"
          ],
          [
           "CZ_6"
          ],
          [
           "CZ_60"
          ],
          [
           "CZ_61"
          ],
          [
           "CZ_62"
          ],
          [
           "CZ_63"
          ],
          [
           "CZ_64"
          ],
          [
           "CZ_65"
          ],
          [
           "CZ_66"
          ],
          [
           "CZ_67"
          ],
          [
           "CZ_68"
          ],
          [
           "CZ_69"
          ],
          [
           "CZ_7"
          ],
          [
           "CZ_70"
          ],
          [
           "CZ_71"
          ],
          [
           "CZ_72"
          ],
          [
           "CZ_73"
          ],
          [
           "CZ_74"
          ],
          [
           "CZ_75"
          ],
          [
           "CZ_76"
          ],
          [
           "CZ_77"
          ],
          [
           "CZ_78"
          ],
          [
           "CZ_79"
          ],
          [
           "CZ_8"
          ],
          [
           "CZ_80"
          ],
          [
           "CZ_81"
          ],
          [
           "CZ_82"
          ],
          [
           "CZ_83"
          ],
          [
           "CZ_84"
          ],
          [
           "CZ_85"
          ],
          [
           "CZ_86"
          ],
          [
           "CZ_87"
          ],
          [
           "CZ_88"
          ],
          [
           "CZ_89"
          ],
          [
           "CZ_9"
          ],
          [
           "CZ_90"
          ],
          [
           "CZ_91"
          ],
          [
           "CZ_92"
          ],
          [
           "CZ_93"
          ],
          [
           "CZ_94"
          ],
          [
           "CZ_95"
          ],
          [
           "CZ_96"
          ],
          [
           "CZ_97"
          ],
          [
           "CZ_98"
          ],
          [
           "CZ_99"
          ]
         ],
         "hovertemplate": "<b>%{hovertext}</b><br><br>CustomerDemand=%{marker.size}<br>Latitude=%{lat}<br>Longitude=%{lon}<br>CustomerName=%{customdata[0]}<extra></extra>",
         "hovertext": [
          "CZ_1",
          "CZ_10",
          "CZ_100",
          "CZ_101",
          "CZ_102",
          "CZ_103",
          "CZ_104",
          "CZ_105",
          "CZ_106",
          "CZ_107",
          "CZ_108",
          "CZ_109",
          "CZ_11",
          "CZ_110",
          "CZ_111",
          "CZ_112",
          "CZ_113",
          "CZ_114",
          "CZ_115",
          "CZ_116",
          "CZ_117",
          "CZ_118",
          "CZ_119",
          "CZ_12",
          "CZ_120",
          "CZ_121",
          "CZ_122",
          "CZ_123",
          "CZ_124",
          "CZ_125",
          "CZ_126",
          "CZ_127",
          "CZ_128",
          "CZ_129",
          "CZ_13",
          "CZ_130",
          "CZ_131",
          "CZ_132",
          "CZ_133",
          "CZ_134",
          "CZ_135",
          "CZ_136",
          "CZ_137",
          "CZ_138",
          "CZ_139",
          "CZ_14",
          "CZ_140",
          "CZ_141",
          "CZ_142",
          "CZ_143",
          "CZ_144",
          "CZ_145",
          "CZ_146",
          "CZ_147",
          "CZ_148",
          "CZ_149",
          "CZ_15",
          "CZ_150",
          "CZ_151",
          "CZ_152",
          "CZ_153",
          "CZ_154",
          "CZ_155",
          "CZ_156",
          "CZ_157",
          "CZ_158",
          "CZ_159",
          "CZ_16",
          "CZ_160",
          "CZ_161",
          "CZ_162",
          "CZ_163",
          "CZ_164",
          "CZ_165",
          "CZ_166",
          "CZ_167",
          "CZ_168",
          "CZ_169",
          "CZ_17",
          "CZ_170",
          "CZ_171",
          "CZ_172",
          "CZ_173",
          "CZ_174",
          "CZ_175",
          "CZ_176",
          "CZ_177",
          "CZ_178",
          "CZ_179",
          "CZ_18",
          "CZ_180",
          "CZ_181",
          "CZ_182",
          "CZ_183",
          "CZ_184",
          "CZ_185",
          "CZ_186",
          "CZ_187",
          "CZ_188",
          "CZ_189",
          "CZ_19",
          "CZ_190",
          "CZ_191",
          "CZ_192",
          "CZ_193",
          "CZ_194",
          "CZ_195",
          "CZ_196",
          "CZ_197",
          "CZ_198",
          "CZ_199",
          "CZ_2",
          "CZ_20",
          "CZ_200",
          "CZ_201",
          "CZ_202",
          "CZ_203",
          "CZ_204",
          "CZ_205",
          "CZ_206",
          "CZ_207",
          "CZ_208",
          "CZ_209",
          "CZ_21",
          "CZ_210",
          "CZ_211",
          "CZ_212",
          "CZ_213",
          "CZ_214",
          "CZ_215",
          "CZ_216",
          "CZ_217",
          "CZ_218",
          "CZ_219",
          "CZ_22",
          "CZ_220",
          "CZ_221",
          "CZ_222",
          "CZ_223",
          "CZ_224",
          "CZ_225",
          "CZ_226",
          "CZ_227",
          "CZ_228",
          "CZ_229",
          "CZ_23",
          "CZ_230",
          "CZ_231",
          "CZ_232",
          "CZ_233",
          "CZ_234",
          "CZ_235",
          "CZ_236",
          "CZ_237",
          "CZ_238",
          "CZ_239",
          "CZ_24",
          "CZ_240",
          "CZ_241",
          "CZ_242",
          "CZ_243",
          "CZ_244",
          "CZ_245",
          "CZ_246",
          "CZ_247",
          "CZ_248",
          "CZ_249",
          "CZ_25",
          "CZ_250",
          "CZ_251",
          "CZ_252",
          "CZ_253",
          "CZ_254",
          "CZ_255",
          "CZ_256",
          "CZ_257",
          "CZ_258",
          "CZ_259",
          "CZ_26",
          "CZ_260",
          "CZ_261",
          "CZ_262",
          "CZ_263",
          "CZ_264",
          "CZ_265",
          "CZ_266",
          "CZ_267",
          "CZ_268",
          "CZ_269",
          "CZ_27",
          "CZ_270",
          "CZ_271",
          "CZ_272",
          "CZ_273",
          "CZ_274",
          "CZ_275",
          "CZ_276",
          "CZ_277",
          "CZ_278",
          "CZ_279",
          "CZ_28",
          "CZ_280",
          "CZ_281",
          "CZ_282",
          "CZ_283",
          "CZ_284",
          "CZ_285",
          "CZ_286",
          "CZ_287",
          "CZ_288",
          "CZ_289",
          "CZ_29",
          "CZ_290",
          "CZ_291",
          "CZ_292",
          "CZ_293",
          "CZ_3",
          "CZ_30",
          "CZ_31",
          "CZ_32",
          "CZ_33",
          "CZ_34",
          "CZ_35",
          "CZ_36",
          "CZ_37",
          "CZ_38",
          "CZ_39",
          "CZ_4",
          "CZ_40",
          "CZ_41",
          "CZ_42",
          "CZ_43",
          "CZ_44",
          "CZ_45",
          "CZ_46",
          "CZ_47",
          "CZ_48",
          "CZ_49",
          "CZ_5",
          "CZ_50",
          "CZ_51",
          "CZ_52",
          "CZ_53",
          "CZ_54",
          "CZ_55",
          "CZ_56",
          "CZ_57",
          "CZ_58",
          "CZ_59",
          "CZ_6",
          "CZ_60",
          "CZ_61",
          "CZ_62",
          "CZ_63",
          "CZ_64",
          "CZ_65",
          "CZ_66",
          "CZ_67",
          "CZ_68",
          "CZ_69",
          "CZ_7",
          "CZ_70",
          "CZ_71",
          "CZ_72",
          "CZ_73",
          "CZ_74",
          "CZ_75",
          "CZ_76",
          "CZ_77",
          "CZ_78",
          "CZ_79",
          "CZ_8",
          "CZ_80",
          "CZ_81",
          "CZ_82",
          "CZ_83",
          "CZ_84",
          "CZ_85",
          "CZ_86",
          "CZ_87",
          "CZ_88",
          "CZ_89",
          "CZ_9",
          "CZ_90",
          "CZ_91",
          "CZ_92",
          "CZ_93",
          "CZ_94",
          "CZ_95",
          "CZ_96",
          "CZ_97",
          "CZ_98",
          "CZ_99"
         ],
         "lat": [
          45.76952421736279,
          34.77346975390627,
          29.87713052207049,
          28.26333077443565,
          46.79771597065292,
          47.35231321775213,
          38.87297673416556,
          32.01093810474285,
          32.14893045727153,
          35.21640061005598,
          49.20963003946251,
          25.27640737125314,
          27.62617060128652,
          32.30357289491218,
          42.22154773477672,
          31.73575608295598,
          36.06141171846495,
          34.79814088178576,
          32.45800429536821,
          40.70959455770206,
          37.73828947669901,
          32.99281483167919,
          40.8411402225846,
          31.2323452344023,
          36.09740671694131,
          27.7033952036923,
          41.09306620182436,
          41.57143607080685,
          28.31533925357757,
          32.62754369430915,
          34.36339558112846,
          30.27471062336162,
          33.06937808326742,
          40.65629113306126,
          34.7477864125606,
          39.902626245166,
          39.902626245166,
          39.08314262375163,
          37.87005096677684,
          32.63157768676001,
          35.54352430899147,
          35.70948020808187,
          35.76184910581689,
          32.06232355267544,
          22.81969289402053,
          25.83501973395543,
          24.87704868485578,
          28.68621233484596,
          31.35470362228185,
          24.81346271120227,
          22.63914531488788,
          23.11434132447145,
          39.93427691598691,
          35.30359480186157,
          36.06681047224894,
          36.65078171281274,
          33.01335650611892,
          24.48248267708086,
          46.64426752618719,
          37.92798045819693,
          32.18972309867631,
          41.10674546752389,
          40.81607321636371,
          39.33042586350068,
          33.76759369387327,
          34.98452245844625,
          21.48363837917861,
          42.88538963725586,
          31.82258053795522,
          43.83561599238054,
          37.99690919719102,
          31.98233962550012,
          31.30106716114456,
          36.58534208664667,
          33.62771504579078,
          31.67242798566556,
          34.41554751048077,
          30.74842732095237,
          27.95235980536817,
          35.41536554965287,
          31.2117043271299,
          31.12899552745817,
          29.55486012728612,
          30.13175078920077,
          31.90165666241077,
          30.07825703112998,
          27.88504356472883,
          28.75519768160823,
          29.58280912023783,
          35.60153855696797,
          31.46973069933239,
          30.84007214993655,
          31.87008571552613,
          30.57472618688221,
          28.87483938230682,
          30.53563957427876,
          29.3418851374181,
          30.45874152168983,
          30.0523443545809,
          32.43782752968448,
          33.34881077578557,
          31.14329275102384,
          29.98320267641596,
          30.45656364420607,
          36.01603794874545,
          35.02716522530418,
          36.19521524648712,
          40.07557310802614,
          45.61772161997866,
          46.58720522020402,
          38.98239939588928,
          40.82308854129995,
          36.20000612709986,
          40.66544437055811,
          38.91322925994839,
          30.54578375093637,
          43.65052523160977,
          28.23172481249612,
          42.25587691695832,
          38.48673019128655,
          26.66910233527991,
          26.42398447631974,
          32.68679720585862,
          35.23412907616527,
          46.65196017516132,
          33.40263907882024,
          38.28487573162408,
          31.49306603700403,
          30.94293557276461,
          33.64794994611666,
          29.71706301538657,
          37.38135642016103,
          34.81129214820155,
          23.47955829321463,
          34.59768100862672,
          38.85133075491287,
          26.89680824683814,
          31.81274316521338,
          23.11442986508254,
          37.85646220510019,
          26.0776181921898,
          23.13183994295568,
          24.3281899387336,
          41.80326291802402,
          42.88877357900488,
          39.998962954379,
          22.5814332706114,
          34.58218380144906,
          29.11994460352727,
          38.9252336905743,
          42.01951815368355,
          36.50197437688492,
          30.89639388346604,
          37.46284183566092,
          41.87872843096351,
          23.55239616559447,
          30.66714344132274,
          27.83068422933131,
          27.82126896986176,
          27.24212198420047,
          35.49110504705786,
          41.29208302479014,
          30.03238398245454,
          30.33771856112028,
          44.54969496595082,
          30.94771223306929,
          41.7262449323065,
          23.02325767171811,
          28.55701776626178,
          33.611763586717,
          30.59551563172663,
          23.35675589262061,
          31.03762682496149,
          33.96458366057329,
          35.74730281423409,
          34.03705424166669,
          24.69568601285607,
          19.52310520944081,
          37.4340837447518,
          33.95726296715417,
          22.54582555967459,
          27.83319689390759,
          24.51593413543268,
          41.26517446940125,
          23.90524065563987,
          41.11791379409293,
          34.8978478277209,
          28.97315464783074,
          36.61722375080831,
          29.08204039822681,
          26.25752124739282,
          26.58699009505417,
          27.72918933516938,
          26.59628129977204,
          26.25661020954963,
          25.09093405808564,
          27.73477832582868,
          27.30596661372806,
          26.65133479795816,
          24.40661137243972,
          36.45663192740123,
          29.84391849264382,
          34.47290911965604,
          30.39463323771165,
          29.5658490143256,
          25.07789418380283,
          30.20208788314098,
          21.86070458069074,
          32.50359180804994,
          20.01938822575099,
          31.69209471228168,
          30.24827350364001,
          47.3474843456173,
          23.74619659509287,
          34.76650596571172,
          21.27309617063639,
          27.1168104600029,
          37.49941170198301,
          22.52033709433309,
          27.55830958891995,
          37.51752738993748,
          39.62954759868035,
          34.20706393180895,
          40.95250667908144,
          40.99301005071572,
          37.07009447918728,
          36.70632018861866,
          28.45827544557124,
          25.77348538002096,
          41.93748279699102,
          36.08811024456974,
          35.10507345109453,
          40.74177069274513,
          32.89211160308685,
          35.58120785689678,
          28.65933140957997,
          36.81297525993266,
          34.50130608517758,
          27.81871943652997,
          29.3596514802874,
          36.62556357656246,
          34.34312953840049,
          29.03470474864293,
          37.43323604935444,
          33.58291634117343,
          33.87210573316656,
          28.47103856667617,
          46.07553890622198,
          39.60724263159052,
          34.33105343685244,
          39.6544390366507,
          29.27146640241873,
          27.99755639661836,
          43.81463051275358,
          29.70763010190234,
          37.51203174558772,
          45.13980772046496,
          43.93128150032256,
          23.40338124080785,
          26.85859236359501,
          26.26684005591786,
          23.36564593259077,
          22.01021097537386,
          22.82805845259796,
          27.34168368255112,
          24.88316116418696,
          25.49299843430843,
          25.60952165934802,
          25.04856596148663,
          24.35509872756021,
          24.43652522328061,
          23.02409533068309,
          23.88016567387444,
          25.85588172220572,
          30.92704875840485,
          24.29123871036554,
          38.41608696241872,
          50.24368593698285,
          30.69441159948845,
          45.80177718939836,
          32.91799515400531,
          35.41664985448086,
          39.53695727577932,
          38.04166913884188,
          33.84602023421478,
          37.68634353557753,
          30.54886596183148,
          25.45688085615284,
          32.39608761324173,
          38.30390787880884,
          34.62069425847153,
          43.16385395902515,
          36.54466066268684
         ],
         "legendgroup": "",
         "lon": [
          130.9954707831791,
          111.1941341473168,
          121.5461886035697,
          117.0639390123689,
          130.3111451263799,
          123.9116401073984,
          115.4584681544313,
          112.1163256977821,
          114.0851344571613,
          113.2354557720119,
          119.7583899763413,
          110.2856160493322,
          113.8492410599548,
          118.3117146495258,
          123.7201627592107,
          116.5167623870941,
          103.8318948117832,
          114.3017451893433,
          119.91838005602,
          120.8317448357023,
          115.6642998789322,
          112.5224592560118,
          111.7422639952268,
          121.4691632652304,
          114.3863032251404,
          111.9879998873743,
          121.1213539396126,
          120.4446736419042,
          109.7344422775661,
          116.9945269148156,
          107.2332812200772,
          109.4832871762125,
          107.0188196460534,
          109.8346292526299,
          113.6193255888591,
          116.4012828477588,
          116.4012828477588,
          117.1946754317495,
          112.5425630342325,
          110.7926649102856,
          106.6610286688978,
          107.6388965577504,
          115.0233457843086,
          118.7916846702178,
          108.362477121497,
          114.9303090866153,
          118.6711374909511,
          115.8532852729079,
          118.4275501703881,
          113.5923294112387,
          110.1602485882664,
          114.4112231590118,
          119.5947177212679,
          113.9208970878092,
          120.3775084640287,
          117.1138686856124,
          114.0164292106147,
          118.084448093873,
          131.1510069771096,
          102.6362981150711,
          119.4203835018594,
          122.9888556604474,
          111.7587040406893,
          112.4259678830538,
          113.1863800141984,
          102.9093063078813,
          109.115632600491,
          125.1371243298611,
          117.2217530206498,
          126.5438692036536,
          106.1939858033097,
          120.8900735716123,
          120.5811331033317,
          109.4843056704631,
          114.6914875280797,
          118.501560200216,
          115.6508712568022,
          120.7511656273119,
          116.3531836141162,
          116.5818042476442,
          107.4633548893442,
          104.3952141871174,
          103.7633582225082,
          104.6252370576223,
          102.223006553013,
          103.8464324283255,
          102.265841134515,
          104.6408382179202,
          105.0552159487049,
          103.2082935117161,
          104.6765055884907,
          106.1066772287715,
          106.7433360907896,
          104.0640406467982,
          105.4386624441242,
          105.5894893487255,
          104.7757456053025,
          106.6294280176608,
          101.9607944939152,
          105.8396443188976,
          120.1586027412798,
          97.17148314940665,
          103.0114015388349,
          114.8672467200515,
          106.2384139928036,
          111.0017399957335,
          113.1095869618306,
          113.2931269502874,
          122.8331420715561,
          125.0967328203679,
          106.3785987467326,
          114.8814226622556,
          117.081554321523,
          122.2302400702165,
          121.6097414873907,
          117.0583094488215,
          122.2378879047936,
          112.9333749497692,
          118.8806794224993,
          106.2265069321992,
          119.5433363814137,
          111.6082031062636,
          109.0241758754163,
          115.4747879692151,
          126.9625904009473,
          104.9189654162553,
          109.7290105322149,
          120.3073076042237,
          118.7536914610581,
          116.95899047143,
          118.3322856589073,
          117.9648159835762,
          117.3178308871384,
          111.274015703365,
          119.2160715736077,
          105.7247062442973,
          112.5667549296271,
          119.9692475651995,
          109.5947354798691,
          113.574107092927,
          119.2917011892226,
          113.2591072209036,
          109.4113447001055,
          123.4253315842275,
          129.5019905807352,
          124.3489462400518,
          113.0764574145007,
          105.7210163282105,
          110.4742346915475,
          100.4481121115437,
          121.6649262102888,
          102.1022159005829,
          120.0819509034296,
          121.4427159708412,
          123.9514479031235,
          116.3681272690569,
          117.4860824783757,
          113.1281661277162,
          114.9125028115343,
          111.46221384419,
          112.8457114258861,
          123.7605948505183,
          120.5761448871077,
          112.2340263095486,
          129.6261051100511,
          117.8067260077645,
          125.9340480370677,
          113.7465689259144,
          112.3494809086573,
          119.0098472690756,
          114.2999542047298,
          116.6775143618734,
          112.1934245655764,
          118.2696951415908,
          114.2913498473666,
          113.8467520160274,
          108.0810096435724,
          109.5767984155979,
          118.669113279668,
          116.7928608550622,
          114.0527603784418,
          112.9386306519383,
          117.6427017011435,
          123.2312079197878,
          106.6147948071433,
          122.0652294108859,
          108.9405296688392,
          118.854654147615,
          101.7762927404526,
          119.6427445137875,
          107.5179199131978,
          107.9787341141204,
          106.9235728918846,
          104.8278184351933,
          105.944234857304,
          104.9039323613744,
          109.1850122201689,
          105.2807802738927,
          106.6265908397277,
          111.5615733816437,
          115.9797083411264,
          114.3170938337267,
          100.243467122574,
          114.8898001694227,
          106.5478312634267,
          117.0126782413234,
          115.0331487829698,
          111.9771709235079,
          80.10358684866438,
          110.3448278590682,
          113.3762466668986,
          120.2053988812982,
          130.2901267545506,
          114.6957546912138,
          113.7474156266135,
          110.354889157503,
          114.9875428650263,
          105.1931310282931,
          113.3873020309186,
          109.9938246198597,
          111.1379504274304,
          118.1738965760385,
          117.2783803771574,
          117.9561006544303,
          113.1253090209648,
          114.4989149321016,
          119.1558595520424,
          117.9384605453474,
          113.0092286976784,
          126.4177249758252,
          111.512738356361,
          118.3507031521379,
          107.3820708392117,
          115.8088195468257,
          104.623617338011,
          121.4163247141463,
          118.0488583987726,
          109.504625293394,
          114.4114676050099,
          113.122987599309,
          114.5332139277783,
          108.9355291153062,
          111.6928984567219,
          116.3515748491772,
          114.0106299585456,
          109.9354974186974,
          119.9183913224205,
          122.0608579323195,
          109.7756072826352,
          108.70432818877,
          106.7894841071682,
          117.1730932594236,
          120.6953146770179,
          125.3170556355448,
          115.9968498897885,
          122.1153552474822,
          124.8188159261021,
          116.0414004756569,
          104.2141451396921,
          100.226617197402,
          117.6337852475838,
          103.3727785187104,
          100.7966529405068,
          100.9653388647515,
          103.7153750119609,
          102.8314726024856,
          103.7941408167699,
          100.266540437132,
          101.5265948761278,
          102.5452870357915,
          98.58474196486381,
          113.1159291678165,
          100.0783382546188,
          98.85270009438005,
          113.9114171453589,
          116.1174052422547,
          112.727613615456,
          127.521248509938,
          111.2808231203681,
          126.5289038817265,
          117.3838768458563,
          119.5214386156121,
          116.677852879759,
          114.5088610208725,
          115.7731280236451,
          112.7462041891047,
          114.3363714923768,
          119.0030583278949,
          119.4074816928227,
          116.833033542554,
          112.4477739744806,
          124.3442076195231,
          104.1357374526611
         ],
         "marker": {
          "color": "fuchsia",
          "size": [
           2529,
           289446,
           150555,
           64039,
           14888,
           161546,
           3807755,
           350025,
           1652213,
           846519,
           124090,
           35973,
           57801,
           304339,
           353377,
           1114638,
           135784,
           1707342,
           34357,
           318853,
           337324,
           2236574,
           59403,
           9673,
           1706118,
           430380,
           192882,
           422598,
           397726,
           136279,
           128349,
           449659,
           131894,
           72832,
           2803884,
           570333,
           235794,
           506042,
           565519,
           105754,
           449179,
           476707,
           1776787,
           145663,
           94965,
           87800,
           66675,
           115953,
           162119,
           13241,
           10299,
           6265,
           595836,
           1626008,
           782660.154533,
           1750838.81669,
           1714847,
           15278,
           4394,
           17530,
           11252,
           205394,
           31859,
           313367,
           830788,
           293021,
           752,
           143511,
           535995,
           481393,
           518916,
           73158,
           233559,
           213075,
           1668797,
           71456,
           2041719,
           244774,
           56495,
           1697824.9442,
           198427,
           37009,
           207195,
           135433,
           97934,
           97917,
           1088843,
           262653,
           143352,
           156271,
           82710,
           104063,
           287827,
           153066,
           311553,
           16764,
           94195,
           141778,
           29148,
           70525,
           80058,
           111483,
           105709,
           206877,
           450839,
           252781,
           551090,
           516684,
           336498,
           45032,
           73789,
           1003278,
           1249440.74,
           96830,
           241908,
           636100,
           335191,
           580523,
           233416,
           174014,
           14538,
           426649,
           268092,
           2156339.09,
           140705,
           1160911,
           259618,
           126441,
           237512,
           648864,
           25321,
           1141835.09,
           556222.16,
           23905,
           437542,
           11700,
           301444,
           44333,
           10170,
           99978,
           33916,
           23020,
           48627,
           457888,
           40695,
           139503,
           61528,
           445219,
           189909,
           3703,
           386798,
           121029,
           95425,
           1065476.97,
           86757,
           19042,
           231213,
           206140,
           52316,
           395733,
           173353,
           33062,
           209446,
           258336,
           55253,
           64959,
           130019,
           28260,
           178095,
           272932,
           147945,
           19792,
           34609,
           308237,
           472371,
           894259,
           25464,
           17936,
           260610.34,
           55973,
           129982,
           212633,
           19318,
           139515,
           3474,
           40425,
           94628,
           7674,
           57510,
           427846,
           64506,
           257129,
           199833,
           158981,
           55864,
           25960,
           488053,
           578623,
           71838,
           23338,
           778455.33,
           81506,
           2570,
           3105,
           884378,
           7242,
           87561,
           4903,
           2600,
           2550,
           29514,
           193465,
           2000,
           8548,
           5770,
           4004,
           296037,
           257236,
           11748,
           466958,
           511722,
           1630742,
           935650,
           863784,
           69019,
           1809001.67,
           1909574.92,
           204865,
           256322,
           22310,
           262423,
           3506235.6,
           85366,
           410700,
           473555,
           31857,
           279972.25,
           282403,
           303387,
           650512,
           2076474.83,
           665363,
           199047,
           858773.1799999999,
           397964,
           504558,
           46423,
           290312,
           234301,
           401721,
           9030,
           53466,
           140993,
           1358832,
           300622,
           227199.33,
           540412,
           36951,
           74988,
           5628,
           8339,
           94280,
           14945,
           34475,
           654956,
           116955,
           72557,
           29305,
           24662,
           6590,
           54771,
           5040,
           4710,
           4700,
           75588,
           7867,
           323049,
           28628,
           113735,
           234979,
           428941,
           596970.08,
           1225373,
           2413481.33,
           330724,
           721005,
           63786,
           17756,
           42149,
           1316940,
           2068337,
           493446,
           51229
          ],
          "sizemode": "area",
          "sizeref": 9519.3875
         },
         "mode": "markers",
         "name": "",
         "showlegend": false,
         "subplot": "mapbox",
         "type": "scattermapbox"
        }
       ],
       "layout": {
        "height": 300,
        "legend": {
         "itemsizing": "constant",
         "tracegroupgap": 0
        },
        "mapbox": {
         "accesstoken": "pk.eyJ1IjoiY2h1bnhpYW9saSIsImEiOiJjbDRtb3V3a2QxeTk2M2pyeXozYXV2NTl6In0.YzvDEk9hGVLJPXLHVrPiLQ",
         "center": {
          "lat": 32.970298766345785,
          "lon": 113.55928129239248
         },
         "domain": {
          "x": [
           0,
           1
          ],
          "y": [
           0,
           1
          ]
         },
         "style": "dark",
         "zoom": 3
        },
        "margin": {
         "b": 0,
         "l": 0,
         "r": 0,
         "t": 0
        },
        "template": {
         "data": {
          "bar": [
           {
            "error_x": {
             "color": "#2a3f5f"
            },
            "error_y": {
             "color": "#2a3f5f"
            },
            "marker": {
             "line": {
              "color": "#E5ECF6",
              "width": 0.5
             },
             "pattern": {
              "fillmode": "overlay",
              "size": 10,
              "solidity": 0.2
             }
            },
            "type": "bar"
           }
          ],
          "barpolar": [
           {
            "marker": {
             "line": {
              "color": "#E5ECF6",
              "width": 0.5
             },
             "pattern": {
              "fillmode": "overlay",
              "size": 10,
              "solidity": 0.2
             }
            },
            "type": "barpolar"
           }
          ],
          "carpet": [
           {
            "aaxis": {
             "endlinecolor": "#2a3f5f",
             "gridcolor": "white",
             "linecolor": "white",
             "minorgridcolor": "white",
             "startlinecolor": "#2a3f5f"
            },
            "baxis": {
             "endlinecolor": "#2a3f5f",
             "gridcolor": "white",
             "linecolor": "white",
             "minorgridcolor": "white",
             "startlinecolor": "#2a3f5f"
            },
            "type": "carpet"
           }
          ],
          "choropleth": [
           {
            "colorbar": {
             "outlinewidth": 0,
             "ticks": ""
            },
            "type": "choropleth"
           }
          ],
          "contour": [
           {
            "colorbar": {
             "outlinewidth": 0,
             "ticks": ""
            },
            "colorscale": [
             [
              0,
              "#0d0887"
             ],
             [
              0.1111111111111111,
              "#46039f"
             ],
             [
              0.2222222222222222,
              "#7201a8"
             ],
             [
              0.3333333333333333,
              "#9c179e"
             ],
             [
              0.4444444444444444,
              "#bd3786"
             ],
             [
              0.5555555555555556,
              "#d8576b"
             ],
             [
              0.6666666666666666,
              "#ed7953"
             ],
             [
              0.7777777777777778,
              "#fb9f3a"
             ],
             [
              0.8888888888888888,
              "#fdca26"
             ],
             [
              1,
              "#f0f921"
             ]
            ],
            "type": "contour"
           }
          ],
          "contourcarpet": [
           {
            "colorbar": {
             "outlinewidth": 0,
             "ticks": ""
            },
            "type": "contourcarpet"
           }
          ],
          "heatmap": [
           {
            "colorbar": {
             "outlinewidth": 0,
             "ticks": ""
            },
            "colorscale": [
             [
              0,
              "#0d0887"
             ],
             [
              0.1111111111111111,
              "#46039f"
             ],
             [
              0.2222222222222222,
              "#7201a8"
             ],
             [
              0.3333333333333333,
              "#9c179e"
             ],
             [
              0.4444444444444444,
              "#bd3786"
             ],
             [
              0.5555555555555556,
              "#d8576b"
             ],
             [
              0.6666666666666666,
              "#ed7953"
             ],
             [
              0.7777777777777778,
              "#fb9f3a"
             ],
             [
              0.8888888888888888,
              "#fdca26"
             ],
             [
              1,
              "#f0f921"
             ]
            ],
            "type": "heatmap"
           }
          ],
          "heatmapgl": [
           {
            "colorbar": {
             "outlinewidth": 0,
             "ticks": ""
            },
            "colorscale": [
             [
              0,
              "#0d0887"
             ],
             [
              0.1111111111111111,
              "#46039f"
             ],
             [
              0.2222222222222222,
              "#7201a8"
             ],
             [
              0.3333333333333333,
              "#9c179e"
             ],
             [
              0.4444444444444444,
              "#bd3786"
             ],
             [
              0.5555555555555556,
              "#d8576b"
             ],
             [
              0.6666666666666666,
              "#ed7953"
             ],
             [
              0.7777777777777778,
              "#fb9f3a"
             ],
             [
              0.8888888888888888,
              "#fdca26"
             ],
             [
              1,
              "#f0f921"
             ]
            ],
            "type": "heatmapgl"
           }
          ],
          "histogram": [
           {
            "marker": {
             "pattern": {
              "fillmode": "overlay",
              "size": 10,
              "solidity": 0.2
             }
            },
            "type": "histogram"
           }
          ],
          "histogram2d": [
           {
            "colorbar": {
             "outlinewidth": 0,
             "ticks": ""
            },
            "colorscale": [
             [
              0,
              "#0d0887"
             ],
             [
              0.1111111111111111,
              "#46039f"
             ],
             [
              0.2222222222222222,
              "#7201a8"
             ],
             [
              0.3333333333333333,
              "#9c179e"
             ],
             [
              0.4444444444444444,
              "#bd3786"
             ],
             [
              0.5555555555555556,
              "#d8576b"
             ],
             [
              0.6666666666666666,
              "#ed7953"
             ],
             [
              0.7777777777777778,
              "#fb9f3a"
             ],
             [
              0.8888888888888888,
              "#fdca26"
             ],
             [
              1,
              "#f0f921"
             ]
            ],
            "type": "histogram2d"
           }
          ],
          "histogram2dcontour": [
           {
            "colorbar": {
             "outlinewidth": 0,
             "ticks": ""
            },
            "colorscale": [
             [
              0,
              "#0d0887"
             ],
             [
              0.1111111111111111,
              "#46039f"
             ],
             [
              0.2222222222222222,
              "#7201a8"
             ],
             [
              0.3333333333333333,
              "#9c179e"
             ],
             [
              0.4444444444444444,
              "#bd3786"
             ],
             [
              0.5555555555555556,
              "#d8576b"
             ],
             [
              0.6666666666666666,
              "#ed7953"
             ],
             [
              0.7777777777777778,
              "#fb9f3a"
             ],
             [
              0.8888888888888888,
              "#fdca26"
             ],
             [
              1,
              "#f0f921"
             ]
            ],
            "type": "histogram2dcontour"
           }
          ],
          "mesh3d": [
           {
            "colorbar": {
             "outlinewidth": 0,
             "ticks": ""
            },
            "type": "mesh3d"
           }
          ],
          "parcoords": [
           {
            "line": {
             "colorbar": {
              "outlinewidth": 0,
              "ticks": ""
             }
            },
            "type": "parcoords"
           }
          ],
          "pie": [
           {
            "automargin": true,
            "type": "pie"
           }
          ],
          "scatter": [
           {
            "marker": {
             "colorbar": {
              "outlinewidth": 0,
              "ticks": ""
             }
            },
            "type": "scatter"
           }
          ],
          "scatter3d": [
           {
            "line": {
             "colorbar": {
              "outlinewidth": 0,
              "ticks": ""
             }
            },
            "marker": {
             "colorbar": {
              "outlinewidth": 0,
              "ticks": ""
             }
            },
            "type": "scatter3d"
           }
          ],
          "scattercarpet": [
           {
            "marker": {
             "colorbar": {
              "outlinewidth": 0,
              "ticks": ""
             }
            },
            "type": "scattercarpet"
           }
          ],
          "scattergeo": [
           {
            "marker": {
             "colorbar": {
              "outlinewidth": 0,
              "ticks": ""
             }
            },
            "type": "scattergeo"
           }
          ],
          "scattergl": [
           {
            "marker": {
             "colorbar": {
              "outlinewidth": 0,
              "ticks": ""
             }
            },
            "type": "scattergl"
           }
          ],
          "scattermapbox": [
           {
            "marker": {
             "colorbar": {
              "outlinewidth": 0,
              "ticks": ""
             }
            },
            "type": "scattermapbox"
           }
          ],
          "scatterpolar": [
           {
            "marker": {
             "colorbar": {
              "outlinewidth": 0,
              "ticks": ""
             }
            },
            "type": "scatterpolar"
           }
          ],
          "scatterpolargl": [
           {
            "marker": {
             "colorbar": {
              "outlinewidth": 0,
              "ticks": ""
             }
            },
            "type": "scatterpolargl"
           }
          ],
          "scatterternary": [
           {
            "marker": {
             "colorbar": {
              "outlinewidth": 0,
              "ticks": ""
             }
            },
            "type": "scatterternary"
           }
          ],
          "surface": [
           {
            "colorbar": {
             "outlinewidth": 0,
             "ticks": ""
            },
            "colorscale": [
             [
              0,
              "#0d0887"
             ],
             [
              0.1111111111111111,
              "#46039f"
             ],
             [
              0.2222222222222222,
              "#7201a8"
             ],
             [
              0.3333333333333333,
              "#9c179e"
             ],
             [
              0.4444444444444444,
              "#bd3786"
             ],
             [
              0.5555555555555556,
              "#d8576b"
             ],
             [
              0.6666666666666666,
              "#ed7953"
             ],
             [
              0.7777777777777778,
              "#fb9f3a"
             ],
             [
              0.8888888888888888,
              "#fdca26"
             ],
             [
              1,
              "#f0f921"
             ]
            ],
            "type": "surface"
           }
          ],
          "table": [
           {
            "cells": {
             "fill": {
              "color": "#EBF0F8"
             },
             "line": {
              "color": "white"
             }
            },
            "header": {
             "fill": {
              "color": "#C8D4E3"
             },
             "line": {
              "color": "white"
             }
            },
            "type": "table"
           }
          ]
         },
         "layout": {
          "annotationdefaults": {
           "arrowcolor": "#2a3f5f",
           "arrowhead": 0,
           "arrowwidth": 1
          },
          "autotypenumbers": "strict",
          "coloraxis": {
           "colorbar": {
            "outlinewidth": 0,
            "ticks": ""
           }
          },
          "colorscale": {
           "diverging": [
            [
             0,
             "#8e0152"
            ],
            [
             0.1,
             "#c51b7d"
            ],
            [
             0.2,
             "#de77ae"
            ],
            [
             0.3,
             "#f1b6da"
            ],
            [
             0.4,
             "#fde0ef"
            ],
            [
             0.5,
             "#f7f7f7"
            ],
            [
             0.6,
             "#e6f5d0"
            ],
            [
             0.7,
             "#b8e186"
            ],
            [
             0.8,
             "#7fbc41"
            ],
            [
             0.9,
             "#4d9221"
            ],
            [
             1,
             "#276419"
            ]
           ],
           "sequential": [
            [
             0,
             "#0d0887"
            ],
            [
             0.1111111111111111,
             "#46039f"
            ],
            [
             0.2222222222222222,
             "#7201a8"
            ],
            [
             0.3333333333333333,
             "#9c179e"
            ],
            [
             0.4444444444444444,
             "#bd3786"
            ],
            [
             0.5555555555555556,
             "#d8576b"
            ],
            [
             0.6666666666666666,
             "#ed7953"
            ],
            [
             0.7777777777777778,
             "#fb9f3a"
            ],
            [
             0.8888888888888888,
             "#fdca26"
            ],
            [
             1,
             "#f0f921"
            ]
           ],
           "sequentialminus": [
            [
             0,
             "#0d0887"
            ],
            [
             0.1111111111111111,
             "#46039f"
            ],
            [
             0.2222222222222222,
             "#7201a8"
            ],
            [
             0.3333333333333333,
             "#9c179e"
            ],
            [
             0.4444444444444444,
             "#bd3786"
            ],
            [
             0.5555555555555556,
             "#d8576b"
            ],
            [
             0.6666666666666666,
             "#ed7953"
            ],
            [
             0.7777777777777778,
             "#fb9f3a"
            ],
            [
             0.8888888888888888,
             "#fdca26"
            ],
            [
             1,
             "#f0f921"
            ]
           ]
          },
          "colorway": [
           "#636efa",
           "#EF553B",
           "#00cc96",
           "#ab63fa",
           "#FFA15A",
           "#19d3f3",
           "#FF6692",
           "#B6E880",
           "#FF97FF",
           "#FECB52"
          ],
          "font": {
           "color": "#2a3f5f"
          },
          "geo": {
           "bgcolor": "white",
           "lakecolor": "white",
           "landcolor": "#E5ECF6",
           "showlakes": true,
           "showland": true,
           "subunitcolor": "white"
          },
          "hoverlabel": {
           "align": "left"
          },
          "hovermode": "closest",
          "mapbox": {
           "style": "light"
          },
          "paper_bgcolor": "white",
          "plot_bgcolor": "#E5ECF6",
          "polar": {
           "angularaxis": {
            "gridcolor": "white",
            "linecolor": "white",
            "ticks": ""
           },
           "bgcolor": "#E5ECF6",
           "radialaxis": {
            "gridcolor": "white",
            "linecolor": "white",
            "ticks": ""
           }
          },
          "scene": {
           "xaxis": {
            "backgroundcolor": "#E5ECF6",
            "gridcolor": "white",
            "gridwidth": 2,
            "linecolor": "white",
            "showbackground": true,
            "ticks": "",
            "zerolinecolor": "white"
           },
           "yaxis": {
            "backgroundcolor": "#E5ECF6",
            "gridcolor": "white",
            "gridwidth": 2,
            "linecolor": "white",
            "showbackground": true,
            "ticks": "",
            "zerolinecolor": "white"
           },
           "zaxis": {
            "backgroundcolor": "#E5ECF6",
            "gridcolor": "white",
            "gridwidth": 2,
            "linecolor": "white",
            "showbackground": true,
            "ticks": "",
            "zerolinecolor": "white"
           }
          },
          "shapedefaults": {
           "line": {
            "color": "#2a3f5f"
           }
          },
          "ternary": {
           "aaxis": {
            "gridcolor": "white",
            "linecolor": "white",
            "ticks": ""
           },
           "baxis": {
            "gridcolor": "white",
            "linecolor": "white",
            "ticks": ""
           },
           "bgcolor": "#E5ECF6",
           "caxis": {
            "gridcolor": "white",
            "linecolor": "white",
            "ticks": ""
           }
          },
          "title": {
           "x": 0.05
          },
          "xaxis": {
           "automargin": true,
           "gridcolor": "white",
           "linecolor": "white",
           "ticks": "",
           "title": {
            "standoff": 15
           },
           "zerolinecolor": "white",
           "zerolinewidth": 2
          },
          "yaxis": {
           "automargin": true,
           "gridcolor": "white",
           "linecolor": "white",
           "ticks": "",
           "title": {
            "standoff": 15
           },
           "zerolinecolor": "white",
           "zerolinewidth": 2
          }
         }
        }
       }
      }
     },
     "metadata": {},
     "output_type": "display_data"
    }
   ],
   "source": [
    "### plot customers\n",
    "fig = px.scatter_mapbox(demand_plot_df, lat=\"Latitude\", lon=\"Longitude\", size=\"CustomerDemand\", \n",
    "                        hover_name=\"CustomerName\", hover_data=[\"CustomerName\"],\n",
    "                        color_discrete_sequence=[\"fuchsia\"], zoom=3, height=300)\n",
    "                        \n",
    "fig.update_layout(mapbox_style=\"dark\", mapbox_accesstoken=token)\n",
    "fig.update_layout(margin={\"r\":0,\"t\":0,\"l\":0,\"b\":0})\n",
    "fig.show()"
   ]
  },
  {
   "cell_type": "code",
   "execution_count": 57,
   "metadata": {},
   "outputs": [
    {
     "data": {
      "application/vnd.plotly.v1+json": {
       "config": {
        "plotlyServerURL": "https://plot.ly"
       },
       "data": [
        {
         "customdata": [
          [
           "FAC_1"
          ],
          [
           "FAC_2"
          ],
          [
           "FAC_3"
          ],
          [
           "FAC_4"
          ],
          [
           "FAC_5"
          ],
          [
           "FAC_6"
          ],
          [
           "FAC_7"
          ],
          [
           "FAC_8"
          ],
          [
           "FAC_9"
          ]
         ],
         "hovertemplate": "<b>%{hovertext}</b><br><br>Quantity=%{marker.size}<br>Latitude=%{lat}<br>Longitude=%{lon}<br>FactoryName=%{customdata[0]}<extra></extra>",
         "hovertext": [
          "FAC_1",
          "FAC_2",
          "FAC_3",
          "FAC_4",
          "FAC_5",
          "FAC_6",
          "FAC_7",
          "FAC_8",
          "FAC_9"
         ],
         "lat": [
          35.57782374620747,
          39.32561126337727,
          34.48747888097904,
          34.63031715995263,
          43.15403445056779,
          30.43526374766115,
          37.66638377238687,
          32.00530522681915,
          29.38079929558913
         ],
         "legendgroup": "",
         "lon": [
          116.7762098856255,
          115.8678449047579,
          113.792328127149,
          108.9336012932089,
          124.4181295045634,
          103.7963218966275,
          112.6719120037593,
          119.0494352058129,
          113.1584727838096
         ],
         "marker": {
          "color": "fuchsia",
          "size": [
           23301821.630873438,
           10964068.779930986,
           30466789.400249712,
           8241694,
           8761580.281919755,
           7757920.225211488,
           6999139.408426869,
           1171083,
           12566321.098810753
          ],
          "sizemode": "area",
          "sizeref": 76166.97350062428
         },
         "mode": "markers",
         "name": "",
         "showlegend": false,
         "subplot": "mapbox",
         "type": "scattermapbox"
        }
       ],
       "layout": {
        "height": 300,
        "legend": {
         "itemsizing": "constant",
         "tracegroupgap": 0
        },
        "mapbox": {
         "accesstoken": "pk.eyJ1IjoiY2h1bnhpYW9saSIsImEiOiJjbDRtb3V3a2QxeTk2M2pyeXozYXV2NTl6In0.YzvDEk9hGVLJPXLHVrPiLQ",
         "center": {
          "lat": 35.184779727060054,
          "lon": 114.27380617836823
         },
         "domain": {
          "x": [
           0,
           1
          ],
          "y": [
           0,
           1
          ]
         },
         "style": "dark",
         "zoom": 3
        },
        "margin": {
         "b": 0,
         "l": 0,
         "r": 0,
         "t": 0
        },
        "template": {
         "data": {
          "bar": [
           {
            "error_x": {
             "color": "#2a3f5f"
            },
            "error_y": {
             "color": "#2a3f5f"
            },
            "marker": {
             "line": {
              "color": "#E5ECF6",
              "width": 0.5
             },
             "pattern": {
              "fillmode": "overlay",
              "size": 10,
              "solidity": 0.2
             }
            },
            "type": "bar"
           }
          ],
          "barpolar": [
           {
            "marker": {
             "line": {
              "color": "#E5ECF6",
              "width": 0.5
             },
             "pattern": {
              "fillmode": "overlay",
              "size": 10,
              "solidity": 0.2
             }
            },
            "type": "barpolar"
           }
          ],
          "carpet": [
           {
            "aaxis": {
             "endlinecolor": "#2a3f5f",
             "gridcolor": "white",
             "linecolor": "white",
             "minorgridcolor": "white",
             "startlinecolor": "#2a3f5f"
            },
            "baxis": {
             "endlinecolor": "#2a3f5f",
             "gridcolor": "white",
             "linecolor": "white",
             "minorgridcolor": "white",
             "startlinecolor": "#2a3f5f"
            },
            "type": "carpet"
           }
          ],
          "choropleth": [
           {
            "colorbar": {
             "outlinewidth": 0,
             "ticks": ""
            },
            "type": "choropleth"
           }
          ],
          "contour": [
           {
            "colorbar": {
             "outlinewidth": 0,
             "ticks": ""
            },
            "colorscale": [
             [
              0,
              "#0d0887"
             ],
             [
              0.1111111111111111,
              "#46039f"
             ],
             [
              0.2222222222222222,
              "#7201a8"
             ],
             [
              0.3333333333333333,
              "#9c179e"
             ],
             [
              0.4444444444444444,
              "#bd3786"
             ],
             [
              0.5555555555555556,
              "#d8576b"
             ],
             [
              0.6666666666666666,
              "#ed7953"
             ],
             [
              0.7777777777777778,
              "#fb9f3a"
             ],
             [
              0.8888888888888888,
              "#fdca26"
             ],
             [
              1,
              "#f0f921"
             ]
            ],
            "type": "contour"
           }
          ],
          "contourcarpet": [
           {
            "colorbar": {
             "outlinewidth": 0,
             "ticks": ""
            },
            "type": "contourcarpet"
           }
          ],
          "heatmap": [
           {
            "colorbar": {
             "outlinewidth": 0,
             "ticks": ""
            },
            "colorscale": [
             [
              0,
              "#0d0887"
             ],
             [
              0.1111111111111111,
              "#46039f"
             ],
             [
              0.2222222222222222,
              "#7201a8"
             ],
             [
              0.3333333333333333,
              "#9c179e"
             ],
             [
              0.4444444444444444,
              "#bd3786"
             ],
             [
              0.5555555555555556,
              "#d8576b"
             ],
             [
              0.6666666666666666,
              "#ed7953"
             ],
             [
              0.7777777777777778,
              "#fb9f3a"
             ],
             [
              0.8888888888888888,
              "#fdca26"
             ],
             [
              1,
              "#f0f921"
             ]
            ],
            "type": "heatmap"
           }
          ],
          "heatmapgl": [
           {
            "colorbar": {
             "outlinewidth": 0,
             "ticks": ""
            },
            "colorscale": [
             [
              0,
              "#0d0887"
             ],
             [
              0.1111111111111111,
              "#46039f"
             ],
             [
              0.2222222222222222,
              "#7201a8"
             ],
             [
              0.3333333333333333,
              "#9c179e"
             ],
             [
              0.4444444444444444,
              "#bd3786"
             ],
             [
              0.5555555555555556,
              "#d8576b"
             ],
             [
              0.6666666666666666,
              "#ed7953"
             ],
             [
              0.7777777777777778,
              "#fb9f3a"
             ],
             [
              0.8888888888888888,
              "#fdca26"
             ],
             [
              1,
              "#f0f921"
             ]
            ],
            "type": "heatmapgl"
           }
          ],
          "histogram": [
           {
            "marker": {
             "pattern": {
              "fillmode": "overlay",
              "size": 10,
              "solidity": 0.2
             }
            },
            "type": "histogram"
           }
          ],
          "histogram2d": [
           {
            "colorbar": {
             "outlinewidth": 0,
             "ticks": ""
            },
            "colorscale": [
             [
              0,
              "#0d0887"
             ],
             [
              0.1111111111111111,
              "#46039f"
             ],
             [
              0.2222222222222222,
              "#7201a8"
             ],
             [
              0.3333333333333333,
              "#9c179e"
             ],
             [
              0.4444444444444444,
              "#bd3786"
             ],
             [
              0.5555555555555556,
              "#d8576b"
             ],
             [
              0.6666666666666666,
              "#ed7953"
             ],
             [
              0.7777777777777778,
              "#fb9f3a"
             ],
             [
              0.8888888888888888,
              "#fdca26"
             ],
             [
              1,
              "#f0f921"
             ]
            ],
            "type": "histogram2d"
           }
          ],
          "histogram2dcontour": [
           {
            "colorbar": {
             "outlinewidth": 0,
             "ticks": ""
            },
            "colorscale": [
             [
              0,
              "#0d0887"
             ],
             [
              0.1111111111111111,
              "#46039f"
             ],
             [
              0.2222222222222222,
              "#7201a8"
             ],
             [
              0.3333333333333333,
              "#9c179e"
             ],
             [
              0.4444444444444444,
              "#bd3786"
             ],
             [
              0.5555555555555556,
              "#d8576b"
             ],
             [
              0.6666666666666666,
              "#ed7953"
             ],
             [
              0.7777777777777778,
              "#fb9f3a"
             ],
             [
              0.8888888888888888,
              "#fdca26"
             ],
             [
              1,
              "#f0f921"
             ]
            ],
            "type": "histogram2dcontour"
           }
          ],
          "mesh3d": [
           {
            "colorbar": {
             "outlinewidth": 0,
             "ticks": ""
            },
            "type": "mesh3d"
           }
          ],
          "parcoords": [
           {
            "line": {
             "colorbar": {
              "outlinewidth": 0,
              "ticks": ""
             }
            },
            "type": "parcoords"
           }
          ],
          "pie": [
           {
            "automargin": true,
            "type": "pie"
           }
          ],
          "scatter": [
           {
            "marker": {
             "colorbar": {
              "outlinewidth": 0,
              "ticks": ""
             }
            },
            "type": "scatter"
           }
          ],
          "scatter3d": [
           {
            "line": {
             "colorbar": {
              "outlinewidth": 0,
              "ticks": ""
             }
            },
            "marker": {
             "colorbar": {
              "outlinewidth": 0,
              "ticks": ""
             }
            },
            "type": "scatter3d"
           }
          ],
          "scattercarpet": [
           {
            "marker": {
             "colorbar": {
              "outlinewidth": 0,
              "ticks": ""
             }
            },
            "type": "scattercarpet"
           }
          ],
          "scattergeo": [
           {
            "marker": {
             "colorbar": {
              "outlinewidth": 0,
              "ticks": ""
             }
            },
            "type": "scattergeo"
           }
          ],
          "scattergl": [
           {
            "marker": {
             "colorbar": {
              "outlinewidth": 0,
              "ticks": ""
             }
            },
            "type": "scattergl"
           }
          ],
          "scattermapbox": [
           {
            "marker": {
             "colorbar": {
              "outlinewidth": 0,
              "ticks": ""
             }
            },
            "type": "scattermapbox"
           }
          ],
          "scatterpolar": [
           {
            "marker": {
             "colorbar": {
              "outlinewidth": 0,
              "ticks": ""
             }
            },
            "type": "scatterpolar"
           }
          ],
          "scatterpolargl": [
           {
            "marker": {
             "colorbar": {
              "outlinewidth": 0,
              "ticks": ""
             }
            },
            "type": "scatterpolargl"
           }
          ],
          "scatterternary": [
           {
            "marker": {
             "colorbar": {
              "outlinewidth": 0,
              "ticks": ""
             }
            },
            "type": "scatterternary"
           }
          ],
          "surface": [
           {
            "colorbar": {
             "outlinewidth": 0,
             "ticks": ""
            },
            "colorscale": [
             [
              0,
              "#0d0887"
             ],
             [
              0.1111111111111111,
              "#46039f"
             ],
             [
              0.2222222222222222,
              "#7201a8"
             ],
             [
              0.3333333333333333,
              "#9c179e"
             ],
             [
              0.4444444444444444,
              "#bd3786"
             ],
             [
              0.5555555555555556,
              "#d8576b"
             ],
             [
              0.6666666666666666,
              "#ed7953"
             ],
             [
              0.7777777777777778,
              "#fb9f3a"
             ],
             [
              0.8888888888888888,
              "#fdca26"
             ],
             [
              1,
              "#f0f921"
             ]
            ],
            "type": "surface"
           }
          ],
          "table": [
           {
            "cells": {
             "fill": {
              "color": "#EBF0F8"
             },
             "line": {
              "color": "white"
             }
            },
            "header": {
             "fill": {
              "color": "#C8D4E3"
             },
             "line": {
              "color": "white"
             }
            },
            "type": "table"
           }
          ]
         },
         "layout": {
          "annotationdefaults": {
           "arrowcolor": "#2a3f5f",
           "arrowhead": 0,
           "arrowwidth": 1
          },
          "autotypenumbers": "strict",
          "coloraxis": {
           "colorbar": {
            "outlinewidth": 0,
            "ticks": ""
           }
          },
          "colorscale": {
           "diverging": [
            [
             0,
             "#8e0152"
            ],
            [
             0.1,
             "#c51b7d"
            ],
            [
             0.2,
             "#de77ae"
            ],
            [
             0.3,
             "#f1b6da"
            ],
            [
             0.4,
             "#fde0ef"
            ],
            [
             0.5,
             "#f7f7f7"
            ],
            [
             0.6,
             "#e6f5d0"
            ],
            [
             0.7,
             "#b8e186"
            ],
            [
             0.8,
             "#7fbc41"
            ],
            [
             0.9,
             "#4d9221"
            ],
            [
             1,
             "#276419"
            ]
           ],
           "sequential": [
            [
             0,
             "#0d0887"
            ],
            [
             0.1111111111111111,
             "#46039f"
            ],
            [
             0.2222222222222222,
             "#7201a8"
            ],
            [
             0.3333333333333333,
             "#9c179e"
            ],
            [
             0.4444444444444444,
             "#bd3786"
            ],
            [
             0.5555555555555556,
             "#d8576b"
            ],
            [
             0.6666666666666666,
             "#ed7953"
            ],
            [
             0.7777777777777778,
             "#fb9f3a"
            ],
            [
             0.8888888888888888,
             "#fdca26"
            ],
            [
             1,
             "#f0f921"
            ]
           ],
           "sequentialminus": [
            [
             0,
             "#0d0887"
            ],
            [
             0.1111111111111111,
             "#46039f"
            ],
            [
             0.2222222222222222,
             "#7201a8"
            ],
            [
             0.3333333333333333,
             "#9c179e"
            ],
            [
             0.4444444444444444,
             "#bd3786"
            ],
            [
             0.5555555555555556,
             "#d8576b"
            ],
            [
             0.6666666666666666,
             "#ed7953"
            ],
            [
             0.7777777777777778,
             "#fb9f3a"
            ],
            [
             0.8888888888888888,
             "#fdca26"
            ],
            [
             1,
             "#f0f921"
            ]
           ]
          },
          "colorway": [
           "#636efa",
           "#EF553B",
           "#00cc96",
           "#ab63fa",
           "#FFA15A",
           "#19d3f3",
           "#FF6692",
           "#B6E880",
           "#FF97FF",
           "#FECB52"
          ],
          "font": {
           "color": "#2a3f5f"
          },
          "geo": {
           "bgcolor": "white",
           "lakecolor": "white",
           "landcolor": "#E5ECF6",
           "showlakes": true,
           "showland": true,
           "subunitcolor": "white"
          },
          "hoverlabel": {
           "align": "left"
          },
          "hovermode": "closest",
          "mapbox": {
           "style": "light"
          },
          "paper_bgcolor": "white",
          "plot_bgcolor": "#E5ECF6",
          "polar": {
           "angularaxis": {
            "gridcolor": "white",
            "linecolor": "white",
            "ticks": ""
           },
           "bgcolor": "#E5ECF6",
           "radialaxis": {
            "gridcolor": "white",
            "linecolor": "white",
            "ticks": ""
           }
          },
          "scene": {
           "xaxis": {
            "backgroundcolor": "#E5ECF6",
            "gridcolor": "white",
            "gridwidth": 2,
            "linecolor": "white",
            "showbackground": true,
            "ticks": "",
            "zerolinecolor": "white"
           },
           "yaxis": {
            "backgroundcolor": "#E5ECF6",
            "gridcolor": "white",
            "gridwidth": 2,
            "linecolor": "white",
            "showbackground": true,
            "ticks": "",
            "zerolinecolor": "white"
           },
           "zaxis": {
            "backgroundcolor": "#E5ECF6",
            "gridcolor": "white",
            "gridwidth": 2,
            "linecolor": "white",
            "showbackground": true,
            "ticks": "",
            "zerolinecolor": "white"
           }
          },
          "shapedefaults": {
           "line": {
            "color": "#2a3f5f"
           }
          },
          "ternary": {
           "aaxis": {
            "gridcolor": "white",
            "linecolor": "white",
            "ticks": ""
           },
           "baxis": {
            "gridcolor": "white",
            "linecolor": "white",
            "ticks": ""
           },
           "bgcolor": "#E5ECF6",
           "caxis": {
            "gridcolor": "white",
            "linecolor": "white",
            "ticks": ""
           }
          },
          "title": {
           "x": 0.05
          },
          "xaxis": {
           "automargin": true,
           "gridcolor": "white",
           "linecolor": "white",
           "ticks": "",
           "title": {
            "standoff": 15
           },
           "zerolinecolor": "white",
           "zerolinewidth": 2
          },
          "yaxis": {
           "automargin": true,
           "gridcolor": "white",
           "linecolor": "white",
           "ticks": "",
           "title": {
            "standoff": 15
           },
           "zerolinecolor": "white",
           "zerolinewidth": 2
          }
         }
        }
       }
      }
     },
     "metadata": {},
     "output_type": "display_data"
    }
   ],
   "source": [
    "### plot sites\n",
    "fig = px.scatter_mapbox(prod_flow_plot_df, lat=\"Latitude\", lon=\"Longitude\", size=\"Quantity\", \n",
    "                        hover_name=\"FactoryName\", hover_data=[\"FactoryName\"],\n",
    "                        color_discrete_sequence=[\"fuchsia\"], zoom=3, height=300)\n",
    "                        \n",
    "fig.update_layout(mapbox_style=\"dark\", mapbox_accesstoken=token)\n",
    "fig.update_layout(margin={\"r\":0,\"t\":0,\"l\":0,\"b\":0})\n",
    "fig.show()"
   ]
  },
  {
   "cell_type": "code",
   "execution_count": 76,
   "metadata": {},
   "outputs": [
    {
     "data": {
      "application/vnd.plotly.v1+json": {
       "config": {
        "plotlyServerURL": "https://plot.ly"
       },
       "data": [
        {
         "hovertemplate": "<b>%{hovertext}</b><br><br>color=DC_1<br>lat=%{lat}<br>lon=%{lon}<extra></extra>",
         "hovertext": [
          "DC_1 to CZ_104",
          "DC_1 to CZ_104",
          null,
          "DC_1 to CZ_106",
          "DC_1 to CZ_106",
          null,
          "DC_1 to CZ_107",
          "DC_1 to CZ_107",
          null,
          "DC_1 to CZ_110",
          "DC_1 to CZ_110",
          null,
          "DC_1 to CZ_112",
          "DC_1 to CZ_112",
          null,
          "DC_1 to CZ_114",
          "DC_1 to CZ_114",
          null,
          "DC_1 to CZ_115",
          "DC_1 to CZ_115",
          null,
          "DC_1 to CZ_116",
          "DC_1 to CZ_116",
          null,
          "DC_1 to CZ_117",
          "DC_1 to CZ_117",
          null,
          "DC_1 to CZ_12",
          "DC_1 to CZ_12",
          null,
          "DC_1 to CZ_120",
          "DC_1 to CZ_120",
          null,
          "DC_1 to CZ_122",
          "DC_1 to CZ_122",
          null,
          "DC_1 to CZ_125",
          "DC_1 to CZ_125",
          null,
          "DC_1 to CZ_130",
          "DC_1 to CZ_130",
          null,
          "DC_1 to CZ_132",
          "DC_1 to CZ_132",
          null,
          "DC_1 to CZ_133",
          "DC_1 to CZ_133",
          null,
          "DC_1 to CZ_137",
          "DC_1 to CZ_137",
          null,
          "DC_1 to CZ_138",
          "DC_1 to CZ_138",
          null,
          "DC_1 to CZ_142",
          "DC_1 to CZ_142",
          null,
          "DC_1 to CZ_146",
          "DC_1 to CZ_146",
          null,
          "DC_1 to CZ_147",
          "DC_1 to CZ_147",
          null,
          "DC_1 to CZ_148",
          "DC_1 to CZ_148",
          null,
          "DC_1 to CZ_149",
          "DC_1 to CZ_149",
          null,
          "DC_1 to CZ_15",
          "DC_1 to CZ_15",
          null,
          "DC_1 to CZ_153",
          "DC_1 to CZ_153",
          null,
          "DC_1 to CZ_154",
          "DC_1 to CZ_154",
          null,
          "DC_1 to CZ_156",
          "DC_1 to CZ_156",
          null,
          "DC_1 to CZ_160",
          "DC_1 to CZ_160",
          null,
          "DC_1 to CZ_163",
          "DC_1 to CZ_163",
          null,
          "DC_1 to CZ_166",
          "DC_1 to CZ_166",
          null,
          "DC_1 to CZ_167",
          "DC_1 to CZ_167",
          null,
          "DC_1 to CZ_168",
          "DC_1 to CZ_168",
          null,
          "DC_1 to CZ_170",
          "DC_1 to CZ_170",
          null,
          "DC_1 to CZ_19",
          "DC_1 to CZ_19",
          null,
          "DC_1 to CZ_195",
          "DC_1 to CZ_195",
          null,
          "DC_1 to CZ_20",
          "DC_1 to CZ_20",
          null,
          "DC_1 to CZ_200",
          "DC_1 to CZ_200",
          null,
          "DC_1 to CZ_201",
          "DC_1 to CZ_201",
          null,
          "DC_1 to CZ_202",
          "DC_1 to CZ_202",
          null,
          "DC_1 to CZ_205",
          "DC_1 to CZ_205",
          null,
          "DC_1 to CZ_21",
          "DC_1 to CZ_21",
          null,
          "DC_1 to CZ_212",
          "DC_1 to CZ_212",
          null,
          "DC_1 to CZ_214",
          "DC_1 to CZ_214",
          null,
          "DC_1 to CZ_215",
          "DC_1 to CZ_215",
          null,
          "DC_1 to CZ_216",
          "DC_1 to CZ_216",
          null,
          "DC_1 to CZ_217",
          "DC_1 to CZ_217",
          null,
          "DC_1 to CZ_218",
          "DC_1 to CZ_218",
          null,
          "DC_1 to CZ_22",
          "DC_1 to CZ_22",
          null,
          "DC_1 to CZ_222",
          "DC_1 to CZ_222",
          null,
          "DC_1 to CZ_224",
          "DC_1 to CZ_224",
          null,
          "DC_1 to CZ_228",
          "DC_1 to CZ_228",
          null,
          "DC_1 to CZ_23",
          "DC_1 to CZ_23",
          null,
          "DC_1 to CZ_234",
          "DC_1 to CZ_234",
          null,
          "DC_1 to CZ_236",
          "DC_1 to CZ_236",
          null,
          "DC_1 to CZ_237",
          "DC_1 to CZ_237",
          null,
          "DC_1 to CZ_238",
          "DC_1 to CZ_238",
          null,
          "DC_1 to CZ_24",
          "DC_1 to CZ_24",
          null,
          "DC_1 to CZ_243",
          "DC_1 to CZ_243",
          null,
          "DC_1 to CZ_248",
          "DC_1 to CZ_248",
          null,
          "DC_1 to CZ_251",
          "DC_1 to CZ_251",
          null,
          "DC_1 to CZ_255",
          "DC_1 to CZ_255",
          null,
          "DC_1 to CZ_256",
          "DC_1 to CZ_256",
          null,
          "DC_1 to CZ_26",
          "DC_1 to CZ_26",
          null,
          "DC_1 to CZ_260",
          "DC_1 to CZ_260",
          null,
          "DC_1 to CZ_264",
          "DC_1 to CZ_264",
          null,
          "DC_1 to CZ_266",
          "DC_1 to CZ_266",
          null,
          "DC_1 to CZ_28",
          "DC_1 to CZ_28",
          null,
          "DC_1 to CZ_33",
          "DC_1 to CZ_33",
          null,
          "DC_1 to CZ_34",
          "DC_1 to CZ_34",
          null,
          "DC_1 to CZ_35",
          "DC_1 to CZ_35",
          null,
          "DC_1 to CZ_36",
          "DC_1 to CZ_36",
          null,
          "DC_1 to CZ_38",
          "DC_1 to CZ_38",
          null,
          "DC_1 to CZ_39",
          "DC_1 to CZ_39",
          null,
          "DC_1 to CZ_42",
          "DC_1 to CZ_42",
          null,
          "DC_1 to CZ_43",
          "DC_1 to CZ_43",
          null,
          "DC_1 to CZ_48",
          "DC_1 to CZ_48",
          null,
          "DC_1 to CZ_51",
          "DC_1 to CZ_51",
          null,
          "DC_1 to CZ_54",
          "DC_1 to CZ_54",
          null,
          "DC_1 to CZ_55",
          "DC_1 to CZ_55",
          null,
          "DC_1 to CZ_62",
          "DC_1 to CZ_62",
          null,
          "DC_1 to CZ_65",
          "DC_1 to CZ_65",
          null,
          "DC_1 to CZ_84",
          "DC_1 to CZ_84",
          null,
          "DC_1 to CZ_88",
          "DC_1 to CZ_88",
          null,
          "DC_1 to CZ_89",
          "DC_1 to CZ_89",
          null,
          "DC_1 to CZ_90",
          "DC_1 to CZ_90",
          null,
          "DC_1 to CZ_95",
          "DC_1 to CZ_95",
          null,
          "DC_1 to CZ_96",
          "DC_1 to CZ_96",
          null
         ],
         "lat": [
          35.57782374620747,
          38.87297673416556,
          null,
          35.57782374620747,
          32.14893045727153,
          null,
          35.57782374620747,
          35.21640061005598,
          null,
          35.57782374620747,
          32.30357289491218,
          null,
          35.57782374620747,
          31.73575608295598,
          null,
          35.57782374620747,
          34.79814088178576,
          null,
          35.57782374620747,
          32.45800429536821,
          null,
          35.57782374620747,
          40.70959455770206,
          null,
          35.57782374620747,
          37.73828947669901,
          null,
          35.57782374620747,
          31.2323452344023,
          null,
          35.57782374620747,
          36.09740671694131,
          null,
          35.57782374620747,
          41.09306620182436,
          null,
          35.57782374620747,
          32.62754369430915,
          null,
          35.57782374620747,
          39.902626245166,
          null,
          35.57782374620747,
          39.08314262375163,
          null,
          35.57782374620747,
          37.87005096677684,
          null,
          35.57782374620747,
          35.76184910581689,
          null,
          35.57782374620747,
          32.06232355267544,
          null,
          35.57782374620747,
          31.35470362228185,
          null,
          35.57782374620747,
          39.93427691598691,
          null,
          35.57782374620747,
          35.30359480186157,
          null,
          35.57782374620747,
          36.06681047224894,
          null,
          35.57782374620747,
          36.65078171281274,
          null,
          35.57782374620747,
          33.01335650611892,
          null,
          35.57782374620747,
          32.18972309867631,
          null,
          35.57782374620747,
          41.10674546752389,
          null,
          35.57782374620747,
          39.33042586350068,
          null,
          35.57782374620747,
          31.82258053795522,
          null,
          35.57782374620747,
          31.98233962550012,
          null,
          35.57782374620747,
          33.62771504579078,
          null,
          35.57782374620747,
          31.67242798566556,
          null,
          35.57782374620747,
          34.41554751048077,
          null,
          35.57782374620747,
          35.41536554965287,
          null,
          35.57782374620747,
          33.34881077578557,
          null,
          35.57782374620747,
          36.19521524648712,
          null,
          35.57782374620747,
          36.20000612709986,
          null,
          35.57782374620747,
          40.66544437055811,
          null,
          35.57782374620747,
          38.91322925994839,
          null,
          35.57782374620747,
          30.54578375093637,
          null,
          35.57782374620747,
          42.25587691695832,
          null,
          35.57782374620747,
          35.23412907616527,
          null,
          35.57782374620747,
          38.28487573162408,
          null,
          35.57782374620747,
          30.94293557276461,
          null,
          35.57782374620747,
          33.64794994611666,
          null,
          35.57782374620747,
          29.71706301538657,
          null,
          35.57782374620747,
          37.38135642016103,
          null,
          35.57782374620747,
          34.81129214820155,
          null,
          35.57782374620747,
          34.59768100862672,
          null,
          35.57782374620747,
          31.81274316521338,
          null,
          35.57782374620747,
          37.85646220510019,
          null,
          35.57782374620747,
          41.80326291802402,
          null,
          35.57782374620747,
          39.998962954379,
          null,
          35.57782374620747,
          42.01951815368355,
          null,
          35.57782374620747,
          30.89639388346604,
          null,
          35.57782374620747,
          37.46284183566092,
          null,
          35.57782374620747,
          41.87872843096351,
          null,
          35.57782374620747,
          30.66714344132274,
          null,
          35.57782374620747,
          35.49110504705786,
          null,
          35.57782374620747,
          30.94771223306929,
          null,
          35.57782374620747,
          33.611763586717,
          null,
          35.57782374620747,
          33.96458366057329,
          null,
          35.57782374620747,
          35.74730281423409,
          null,
          35.57782374620747,
          37.4340837447518,
          null,
          35.57782374620747,
          33.95726296715417,
          null,
          35.57782374620747,
          41.26517446940125,
          null,
          35.57782374620747,
          41.11791379409293,
          null,
          35.57782374620747,
          36.45663192740123,
          null,
          35.57782374620747,
          37.51752738993748,
          null,
          35.57782374620747,
          39.62954759868035,
          null,
          35.57782374620747,
          34.20706393180895,
          null,
          35.57782374620747,
          40.95250667908144,
          null,
          35.57782374620747,
          37.07009447918728,
          null,
          35.57782374620747,
          36.70632018861866,
          null,
          35.57782374620747,
          36.08811024456974,
          null,
          35.57782374620747,
          35.10507345109453,
          null,
          35.57782374620747,
          36.81297525993266,
          null,
          35.57782374620747,
          36.62556357656246,
          null,
          35.57782374620747,
          37.43323604935444,
          null,
          35.57782374620747,
          33.58291634117343,
          null,
          35.57782374620747,
          27.99755639661836,
          null,
          35.57782374620747,
          37.51203174558772,
          null,
          35.57782374620747,
          38.41608696241872,
          null,
          35.57782374620747,
          32.91799515400531,
          null,
          35.57782374620747,
          35.41664985448086,
          null,
          35.57782374620747,
          38.04166913884188,
          null,
          35.57782374620747,
          32.39608761324173,
          null,
          35.57782374620747,
          38.30390787880884,
          null
         ],
         "legendgroup": "DC_1",
         "line": {
          "color": "#636efa",
          "width": 1
         },
         "lon": [
          116.7762098856255,
          115.4584681544313,
          null,
          116.7762098856255,
          114.0851344571613,
          null,
          116.7762098856255,
          113.2354557720119,
          null,
          116.7762098856255,
          118.3117146495258,
          null,
          116.7762098856255,
          116.5167623870941,
          null,
          116.7762098856255,
          114.3017451893433,
          null,
          116.7762098856255,
          119.91838005602,
          null,
          116.7762098856255,
          120.8317448357023,
          null,
          116.7762098856255,
          115.6642998789322,
          null,
          116.7762098856255,
          121.4691632652304,
          null,
          116.7762098856255,
          114.3863032251404,
          null,
          116.7762098856255,
          121.1213539396126,
          null,
          116.7762098856255,
          116.9945269148156,
          null,
          116.7762098856255,
          116.4012828477588,
          null,
          116.7762098856255,
          117.1946754317495,
          null,
          116.7762098856255,
          112.5425630342325,
          null,
          116.7762098856255,
          115.0233457843086,
          null,
          116.7762098856255,
          118.7916846702178,
          null,
          116.7762098856255,
          118.4275501703881,
          null,
          116.7762098856255,
          119.5947177212679,
          null,
          116.7762098856255,
          113.9208970878092,
          null,
          116.7762098856255,
          120.3775084640287,
          null,
          116.7762098856255,
          117.1138686856124,
          null,
          116.7762098856255,
          114.0164292106147,
          null,
          116.7762098856255,
          119.4203835018594,
          null,
          116.7762098856255,
          122.9888556604474,
          null,
          116.7762098856255,
          112.4259678830538,
          null,
          116.7762098856255,
          117.2217530206498,
          null,
          116.7762098856255,
          120.8900735716123,
          null,
          116.7762098856255,
          114.6914875280797,
          null,
          116.7762098856255,
          118.501560200216,
          null,
          116.7762098856255,
          115.6508712568022,
          null,
          116.7762098856255,
          116.5818042476442,
          null,
          116.7762098856255,
          120.1586027412798,
          null,
          116.7762098856255,
          113.1095869618306,
          null,
          116.7762098856255,
          117.081554321523,
          null,
          116.7762098856255,
          122.2302400702165,
          null,
          116.7762098856255,
          121.6097414873907,
          null,
          116.7762098856255,
          117.0583094488215,
          null,
          116.7762098856255,
          118.8806794224993,
          null,
          116.7762098856255,
          115.4747879692151,
          null,
          116.7762098856255,
          109.7290105322149,
          null,
          116.7762098856255,
          118.7536914610581,
          null,
          116.7762098856255,
          116.95899047143,
          null,
          116.7762098856255,
          118.3322856589073,
          null,
          116.7762098856255,
          117.9648159835762,
          null,
          116.7762098856255,
          117.3178308871384,
          null,
          116.7762098856255,
          119.2160715736077,
          null,
          116.7762098856255,
          119.9692475651995,
          null,
          116.7762098856255,
          113.574107092927,
          null,
          116.7762098856255,
          123.4253315842275,
          null,
          116.7762098856255,
          124.3489462400518,
          null,
          116.7762098856255,
          121.6649262102888,
          null,
          116.7762098856255,
          120.0819509034296,
          null,
          116.7762098856255,
          121.4427159708412,
          null,
          116.7762098856255,
          123.9514479031235,
          null,
          116.7762098856255,
          117.4860824783757,
          null,
          116.7762098856255,
          112.8457114258861,
          null,
          116.7762098856255,
          117.8067260077645,
          null,
          116.7762098856255,
          119.0098472690756,
          null,
          116.7762098856255,
          118.2696951415908,
          null,
          116.7762098856255,
          114.2913498473666,
          null,
          116.7762098856255,
          118.669113279668,
          null,
          116.7762098856255,
          116.7928608550622,
          null,
          116.7762098856255,
          123.2312079197878,
          null,
          116.7762098856255,
          122.0652294108859,
          null,
          116.7762098856255,
          115.9797083411264,
          null,
          116.7762098856255,
          111.1379504274304,
          null,
          116.7762098856255,
          118.1738965760385,
          null,
          116.7762098856255,
          117.2783803771574,
          null,
          116.7762098856255,
          117.9561006544303,
          null,
          116.7762098856255,
          114.4989149321016,
          null,
          116.7762098856255,
          119.1558595520424,
          null,
          116.7762098856255,
          111.512738356361,
          null,
          116.7762098856255,
          118.3507031521379,
          null,
          116.7762098856255,
          118.0488583987726,
          null,
          116.7762098856255,
          114.5332139277783,
          null,
          116.7762098856255,
          116.3515748491772,
          null,
          116.7762098856255,
          114.0106299585456,
          null,
          116.7762098856255,
          120.6953146770179,
          null,
          116.7762098856255,
          122.1153552474822,
          null,
          116.7762098856255,
          112.727613615456,
          null,
          116.7762098856255,
          117.3838768458563,
          null,
          116.7762098856255,
          119.5214386156121,
          null,
          116.7762098856255,
          114.5088610208725,
          null,
          116.7762098856255,
          119.4074816928227,
          null,
          116.7762098856255,
          116.833033542554,
          null
         ],
         "mode": "lines",
         "name": "DC_1",
         "opacity": 0.8,
         "showlegend": true,
         "subplot": "mapbox",
         "type": "scattermapbox"
        },
        {
         "hovertemplate": "<b>%{hovertext}</b><br><br>color=DC_2<br>lat=%{lat}<br>lon=%{lon}<extra></extra>",
         "hovertext": [
          "DC_2 to CZ_104",
          "DC_2 to CZ_104",
          null,
          "DC_2 to CZ_116",
          "DC_2 to CZ_116",
          null,
          "DC_2 to CZ_117",
          "DC_2 to CZ_117",
          null,
          "DC_2 to CZ_120",
          "DC_2 to CZ_120",
          null,
          "DC_2 to CZ_122",
          "DC_2 to CZ_122",
          null,
          "DC_2 to CZ_130",
          "DC_2 to CZ_130",
          null,
          "DC_2 to CZ_132",
          "DC_2 to CZ_132",
          null,
          "DC_2 to CZ_137",
          "DC_2 to CZ_137",
          null,
          "DC_2 to CZ_146",
          "DC_2 to CZ_146",
          null,
          "DC_2 to CZ_149",
          "DC_2 to CZ_149",
          null,
          "DC_2 to CZ_154",
          "DC_2 to CZ_154",
          null,
          "DC_2 to CZ_156",
          "DC_2 to CZ_156",
          null,
          "DC_2 to CZ_200",
          "DC_2 to CZ_200",
          null,
          "DC_2 to CZ_201",
          "DC_2 to CZ_201",
          null,
          "DC_2 to CZ_205",
          "DC_2 to CZ_205",
          null,
          "DC_2 to CZ_217",
          "DC_2 to CZ_217",
          null,
          "DC_2 to CZ_224",
          "DC_2 to CZ_224",
          null,
          "DC_2 to CZ_234",
          "DC_2 to CZ_234",
          null,
          "DC_2 to CZ_256",
          "DC_2 to CZ_256",
          null,
          "DC_2 to CZ_26",
          "DC_2 to CZ_26",
          null,
          "DC_2 to CZ_264",
          "DC_2 to CZ_264",
          null,
          "DC_2 to CZ_266",
          "DC_2 to CZ_266",
          null,
          "DC_2 to CZ_28",
          "DC_2 to CZ_28",
          null,
          "DC_2 to CZ_34",
          "DC_2 to CZ_34",
          null,
          "DC_2 to CZ_36",
          "DC_2 to CZ_36",
          null,
          "DC_2 to CZ_38",
          "DC_2 to CZ_38",
          null,
          "DC_2 to CZ_43",
          "DC_2 to CZ_43",
          null,
          "DC_2 to CZ_48",
          "DC_2 to CZ_48",
          null,
          "DC_2 to CZ_51",
          "DC_2 to CZ_51",
          null,
          "DC_2 to CZ_54",
          "DC_2 to CZ_54",
          null,
          "DC_2 to CZ_84",
          "DC_2 to CZ_84",
          null,
          "DC_2 to CZ_90",
          "DC_2 to CZ_90",
          null,
          "DC_2 to CZ_96",
          "DC_2 to CZ_96",
          null,
          "DC_2 to CZ_111",
          "DC_2 to CZ_111",
          null,
          "DC_2 to CZ_119",
          "DC_2 to CZ_119",
          null,
          "DC_2 to CZ_123",
          "DC_2 to CZ_123",
          null,
          "DC_2 to CZ_129",
          "DC_2 to CZ_129",
          null,
          "DC_2 to CZ_131",
          "DC_2 to CZ_131",
          null,
          "DC_2 to CZ_196",
          "DC_2 to CZ_196",
          null,
          "DC_2 to CZ_2",
          "DC_2 to CZ_2",
          null,
          "DC_2 to CZ_203",
          "DC_2 to CZ_203",
          null,
          "DC_2 to CZ_230",
          "DC_2 to CZ_230",
          null,
          "DC_2 to CZ_244",
          "DC_2 to CZ_244",
          null,
          "DC_2 to CZ_37",
          "DC_2 to CZ_37",
          null,
          "DC_2 to CZ_45",
          "DC_2 to CZ_45",
          null,
          "DC_2 to CZ_57",
          "DC_2 to CZ_57",
          null,
          "DC_2 to CZ_59",
          "DC_2 to CZ_59",
          null,
          "DC_2 to CZ_63",
          "DC_2 to CZ_63",
          null,
          "DC_2 to CZ_67",
          "DC_2 to CZ_67",
          null,
          "DC_2 to CZ_9",
          "DC_2 to CZ_9",
          null
         ],
         "lat": [
          39.32561126337727,
          38.87297673416556,
          null,
          39.32561126337727,
          40.70959455770206,
          null,
          39.32561126337727,
          37.73828947669901,
          null,
          39.32561126337727,
          36.09740671694131,
          null,
          39.32561126337727,
          41.09306620182436,
          null,
          39.32561126337727,
          39.902626245166,
          null,
          39.32561126337727,
          39.08314262375163,
          null,
          39.32561126337727,
          35.76184910581689,
          null,
          39.32561126337727,
          39.93427691598691,
          null,
          39.32561126337727,
          36.65078171281274,
          null,
          39.32561126337727,
          41.10674546752389,
          null,
          39.32561126337727,
          39.33042586350068,
          null,
          39.32561126337727,
          40.66544437055811,
          null,
          39.32561126337727,
          38.91322925994839,
          null,
          39.32561126337727,
          42.25587691695832,
          null,
          39.32561126337727,
          37.38135642016103,
          null,
          39.32561126337727,
          37.85646220510019,
          null,
          39.32561126337727,
          42.01951815368355,
          null,
          39.32561126337727,
          35.74730281423409,
          null,
          39.32561126337727,
          37.4340837447518,
          null,
          39.32561126337727,
          41.26517446940125,
          null,
          39.32561126337727,
          41.11791379409293,
          null,
          39.32561126337727,
          36.45663192740123,
          null,
          39.32561126337727,
          39.62954759868035,
          null,
          39.32561126337727,
          40.95250667908144,
          null,
          39.32561126337727,
          37.07009447918728,
          null,
          39.32561126337727,
          35.10507345109453,
          null,
          39.32561126337727,
          36.81297525993266,
          null,
          39.32561126337727,
          36.62556357656246,
          null,
          39.32561126337727,
          37.43323604935444,
          null,
          39.32561126337727,
          38.41608696241872,
          null,
          39.32561126337727,
          38.04166913884188,
          null,
          39.32561126337727,
          38.30390787880884,
          null,
          39.32561126337727,
          42.22154773477672,
          null,
          39.32561126337727,
          40.8411402225846,
          null,
          39.32561126337727,
          41.57143607080685,
          null,
          39.32561126337727,
          40.65629113306126,
          null,
          39.32561126337727,
          39.902626245166,
          null,
          39.32561126337727,
          40.07557310802614,
          null,
          39.32561126337727,
          40.82308854129995,
          null,
          39.32561126337727,
          43.65052523160977,
          null,
          39.32561126337727,
          22.5814332706114,
          null,
          39.32561126337727,
          41.29208302479014,
          null,
          39.32561126337727,
          40.99301005071572,
          null,
          39.32561126337727,
          32.89211160308685,
          null,
          39.32561126337727,
          28.47103856667617,
          null,
          39.32561126337727,
          39.60724263159052,
          null,
          39.32561126337727,
          43.81463051275358,
          null,
          39.32561126337727,
          43.93128150032256,
          null,
          39.32561126337727,
          39.53695727577932,
          null
         ],
         "legendgroup": "DC_2",
         "line": {
          "color": "#EF553B",
          "width": 1
         },
         "lon": [
          115.8678449047579,
          115.4584681544313,
          null,
          115.8678449047579,
          120.8317448357023,
          null,
          115.8678449047579,
          115.6642998789322,
          null,
          115.8678449047579,
          114.3863032251404,
          null,
          115.8678449047579,
          121.1213539396126,
          null,
          115.8678449047579,
          116.4012828477588,
          null,
          115.8678449047579,
          117.1946754317495,
          null,
          115.8678449047579,
          115.0233457843086,
          null,
          115.8678449047579,
          119.5947177212679,
          null,
          115.8678449047579,
          117.1138686856124,
          null,
          115.8678449047579,
          122.9888556604474,
          null,
          115.8678449047579,
          112.4259678830538,
          null,
          115.8678449047579,
          122.2302400702165,
          null,
          115.8678449047579,
          121.6097414873907,
          null,
          115.8678449047579,
          118.8806794224993,
          null,
          115.8678449047579,
          117.9648159835762,
          null,
          115.8678449047579,
          113.574107092927,
          null,
          115.8678449047579,
          121.6649262102888,
          null,
          115.8678449047579,
          114.2913498473666,
          null,
          115.8678449047579,
          118.669113279668,
          null,
          115.8678449047579,
          123.2312079197878,
          null,
          115.8678449047579,
          122.0652294108859,
          null,
          115.8678449047579,
          115.9797083411264,
          null,
          115.8678449047579,
          118.1738965760385,
          null,
          115.8678449047579,
          117.9561006544303,
          null,
          115.8678449047579,
          114.4989149321016,
          null,
          115.8678449047579,
          118.3507031521379,
          null,
          115.8678449047579,
          118.0488583987726,
          null,
          115.8678449047579,
          114.5332139277783,
          null,
          115.8678449047579,
          116.3515748491772,
          null,
          115.8678449047579,
          112.727613615456,
          null,
          115.8678449047579,
          114.5088610208725,
          null,
          115.8678449047579,
          116.833033542554,
          null,
          115.8678449047579,
          123.7201627592107,
          null,
          115.8678449047579,
          111.7422639952268,
          null,
          115.8678449047579,
          120.4446736419042,
          null,
          115.8678449047579,
          109.8346292526299,
          null,
          115.8678449047579,
          116.4012828477588,
          null,
          115.8678449047579,
          113.2931269502874,
          null,
          115.8678449047579,
          114.8814226622556,
          null,
          115.8678449047579,
          122.2378879047936,
          null,
          115.8678449047579,
          113.0764574145007,
          null,
          115.8678449047579,
          123.7605948505183,
          null,
          115.8678449047579,
          113.1253090209648,
          null,
          115.8678449047579,
          115.8088195468257,
          null,
          115.8678449047579,
          119.9183913224205,
          null,
          115.8678449047579,
          109.7756072826352,
          null,
          115.8678449047579,
          125.3170556355448,
          null,
          115.8678449047579,
          116.0414004756569,
          null,
          115.8678449047579,
          116.677852879759,
          null
         ],
         "mode": "lines",
         "name": "DC_2",
         "opacity": 0.8,
         "showlegend": true,
         "subplot": "mapbox",
         "type": "scattermapbox"
        },
        {
         "hovertemplate": "<b>%{hovertext}</b><br><br>color=DC_3<br>lat=%{lat}<br>lon=%{lon}<extra></extra>",
         "hovertext": [
          "DC_3 to CZ_104",
          "DC_3 to CZ_104",
          null,
          "DC_3 to CZ_106",
          "DC_3 to CZ_106",
          null,
          "DC_3 to CZ_107",
          "DC_3 to CZ_107",
          null,
          "DC_3 to CZ_110",
          "DC_3 to CZ_110",
          null,
          "DC_3 to CZ_112",
          "DC_3 to CZ_112",
          null,
          "DC_3 to CZ_114",
          "DC_3 to CZ_114",
          null,
          "DC_3 to CZ_117",
          "DC_3 to CZ_117",
          null,
          "DC_3 to CZ_120",
          "DC_3 to CZ_120",
          null,
          "DC_3 to CZ_125",
          "DC_3 to CZ_125",
          null,
          "DC_3 to CZ_137",
          "DC_3 to CZ_137",
          null,
          "DC_3 to CZ_138",
          "DC_3 to CZ_138",
          null,
          "DC_3 to CZ_142",
          "DC_3 to CZ_142",
          null,
          "DC_3 to CZ_147",
          "DC_3 to CZ_147",
          null,
          "DC_3 to CZ_15",
          "DC_3 to CZ_15",
          null,
          "DC_3 to CZ_160",
          "DC_3 to CZ_160",
          null,
          "DC_3 to CZ_166",
          "DC_3 to CZ_166",
          null,
          "DC_3 to CZ_168",
          "DC_3 to CZ_168",
          null,
          "DC_3 to CZ_19",
          "DC_3 to CZ_19",
          null,
          "DC_3 to CZ_195",
          "DC_3 to CZ_195",
          null,
          "DC_3 to CZ_202",
          "DC_3 to CZ_202",
          null,
          "DC_3 to CZ_21",
          "DC_3 to CZ_21",
          null,
          "DC_3 to CZ_215",
          "DC_3 to CZ_215",
          null,
          "DC_3 to CZ_216",
          "DC_3 to CZ_216",
          null,
          "DC_3 to CZ_24",
          "DC_3 to CZ_24",
          null,
          "DC_3 to CZ_243",
          "DC_3 to CZ_243",
          null,
          "DC_3 to CZ_248",
          "DC_3 to CZ_248",
          null,
          "DC_3 to CZ_251",
          "DC_3 to CZ_251",
          null,
          "DC_3 to CZ_256",
          "DC_3 to CZ_256",
          null,
          "DC_3 to CZ_260",
          "DC_3 to CZ_260",
          null,
          "DC_3 to CZ_35",
          "DC_3 to CZ_35",
          null,
          "DC_3 to CZ_38",
          "DC_3 to CZ_38",
          null,
          "DC_3 to CZ_42",
          "DC_3 to CZ_42",
          null,
          "DC_3 to CZ_51",
          "DC_3 to CZ_51",
          null,
          "DC_3 to CZ_55",
          "DC_3 to CZ_55",
          null,
          "DC_3 to CZ_88",
          "DC_3 to CZ_88",
          null,
          "DC_3 to CZ_90",
          "DC_3 to CZ_90",
          null,
          "DC_3 to CZ_10",
          "DC_3 to CZ_10",
          null,
          "DC_3 to CZ_105",
          "DC_3 to CZ_105",
          null,
          "DC_3 to CZ_118",
          "DC_3 to CZ_118",
          null,
          "DC_3 to CZ_124",
          "DC_3 to CZ_124",
          null,
          "DC_3 to CZ_127",
          "DC_3 to CZ_127",
          null,
          "DC_3 to CZ_13",
          "DC_3 to CZ_13",
          null,
          "DC_3 to CZ_134",
          "DC_3 to CZ_134",
          null,
          "DC_3 to CZ_141",
          "DC_3 to CZ_141",
          null,
          "DC_3 to CZ_143",
          "DC_3 to CZ_143",
          null,
          "DC_3 to CZ_150",
          "DC_3 to CZ_150",
          null,
          "DC_3 to CZ_157",
          "DC_3 to CZ_157",
          null,
          "DC_3 to CZ_164",
          "DC_3 to CZ_164",
          null,
          "DC_3 to CZ_17",
          "DC_3 to CZ_17",
          null,
          "DC_3 to CZ_184",
          "DC_3 to CZ_184",
          null,
          "DC_3 to CZ_192",
          "DC_3 to CZ_192",
          null,
          "DC_3 to CZ_194",
          "DC_3 to CZ_194",
          null,
          "DC_3 to CZ_232",
          "DC_3 to CZ_232",
          null,
          "DC_3 to CZ_246",
          "DC_3 to CZ_246",
          null,
          "DC_3 to CZ_252",
          "DC_3 to CZ_252",
          null,
          "DC_3 to CZ_253",
          "DC_3 to CZ_253",
          null,
          "DC_3 to CZ_254",
          "DC_3 to CZ_254",
          null,
          "DC_3 to CZ_257",
          "DC_3 to CZ_257",
          null,
          "DC_3 to CZ_259",
          "DC_3 to CZ_259",
          null,
          "DC_3 to CZ_263",
          "DC_3 to CZ_263",
          null,
          "DC_3 to CZ_280",
          "DC_3 to CZ_280",
          null,
          "DC_3 to CZ_284",
          "DC_3 to CZ_284",
          null,
          "DC_3 to CZ_285",
          "DC_3 to CZ_285",
          null,
          "DC_3 to CZ_288",
          "DC_3 to CZ_288",
          null,
          "DC_3 to CZ_289",
          "DC_3 to CZ_289",
          null,
          "DC_3 to CZ_292",
          "DC_3 to CZ_292",
          null,
          "DC_3 to CZ_32",
          "DC_3 to CZ_32",
          null,
          "DC_3 to CZ_53",
          "DC_3 to CZ_53",
          null,
          "DC_3 to CZ_6",
          "DC_3 to CZ_6",
          null,
          "DC_3 to CZ_61",
          "DC_3 to CZ_61",
          null,
          "DC_3 to CZ_64",
          "DC_3 to CZ_64",
          null,
          "DC_3 to CZ_7",
          "DC_3 to CZ_7",
          null,
          "DC_3 to CZ_82",
          "DC_3 to CZ_82",
          null,
          "DC_3 to CZ_83",
          "DC_3 to CZ_83",
          null,
          "DC_3 to CZ_86",
          "DC_3 to CZ_86",
          null,
          "DC_3 to CZ_91",
          "DC_3 to CZ_91",
          null,
          "DC_3 to CZ_92",
          "DC_3 to CZ_92",
          null,
          "DC_3 to CZ_93",
          "DC_3 to CZ_93",
          null,
          "DC_3 to CZ_94",
          "DC_3 to CZ_94",
          null,
          "DC_3 to CZ_97",
          "DC_3 to CZ_97",
          null
         ],
         "lat": [
          34.48747888097904,
          38.87297673416556,
          null,
          34.48747888097904,
          32.14893045727153,
          null,
          34.48747888097904,
          35.21640061005598,
          null,
          34.48747888097904,
          32.30357289491218,
          null,
          34.48747888097904,
          31.73575608295598,
          null,
          34.48747888097904,
          34.79814088178576,
          null,
          34.48747888097904,
          37.73828947669901,
          null,
          34.48747888097904,
          36.09740671694131,
          null,
          34.48747888097904,
          32.62754369430915,
          null,
          34.48747888097904,
          35.76184910581689,
          null,
          34.48747888097904,
          32.06232355267544,
          null,
          34.48747888097904,
          31.35470362228185,
          null,
          34.48747888097904,
          35.30359480186157,
          null,
          34.48747888097904,
          33.01335650611892,
          null,
          34.48747888097904,
          31.82258053795522,
          null,
          34.48747888097904,
          33.62771504579078,
          null,
          34.48747888097904,
          34.41554751048077,
          null,
          34.48747888097904,
          33.34881077578557,
          null,
          34.48747888097904,
          36.19521524648712,
          null,
          34.48747888097904,
          30.54578375093637,
          null,
          34.48747888097904,
          35.23412907616527,
          null,
          34.48747888097904,
          33.64794994611666,
          null,
          34.48747888097904,
          29.71706301538657,
          null,
          34.48747888097904,
          30.66714344132274,
          null,
          34.48747888097904,
          35.49110504705786,
          null,
          34.48747888097904,
          30.94771223306929,
          null,
          34.48747888097904,
          33.611763586717,
          null,
          34.48747888097904,
          35.74730281423409,
          null,
          34.48747888097904,
          33.95726296715417,
          null,
          34.48747888097904,
          34.20706393180895,
          null,
          34.48747888097904,
          37.07009447918728,
          null,
          34.48747888097904,
          36.08811024456974,
          null,
          34.48747888097904,
          36.62556357656246,
          null,
          34.48747888097904,
          33.58291634117343,
          null,
          34.48747888097904,
          32.91799515400531,
          null,
          34.48747888097904,
          38.04166913884188,
          null,
          34.48747888097904,
          34.77346975390627,
          null,
          34.48747888097904,
          32.01093810474285,
          null,
          34.48747888097904,
          32.99281483167919,
          null,
          34.48747888097904,
          28.31533925357757,
          null,
          34.48747888097904,
          30.27471062336162,
          null,
          34.48747888097904,
          34.7477864125606,
          null,
          34.48747888097904,
          32.63157768676001,
          null,
          34.48747888097904,
          28.68621233484596,
          null,
          34.48747888097904,
          24.81346271120227,
          null,
          34.48747888097904,
          24.48248267708086,
          null,
          34.48747888097904,
          33.76759369387327,
          null,
          34.48747888097904,
          31.30106716114456,
          null,
          34.48747888097904,
          27.95235980536817,
          null,
          34.48747888097904,
          28.87483938230682,
          null,
          34.48747888097904,
          30.45656364420607,
          null,
          34.48747888097904,
          35.02716522530418,
          null,
          34.48747888097904,
          29.11994460352727,
          null,
          34.48747888097904,
          30.33771856112028,
          null,
          34.48747888097904,
          30.59551563172663,
          null,
          34.48747888097904,
          23.35675589262061,
          null,
          34.48747888097904,
          31.03762682496149,
          null,
          34.48747888097904,
          34.03705424166669,
          null,
          34.48747888097904,
          19.52310520944081,
          null,
          34.48747888097904,
          24.51593413543268,
          null,
          34.48747888097904,
          29.84391849264382,
          null,
          34.48747888097904,
          25.07789418380283,
          null,
          34.48747888097904,
          30.20208788314098,
          null,
          34.48747888097904,
          20.01938822575099,
          null,
          34.48747888097904,
          31.69209471228168,
          null,
          34.48747888097904,
          34.76650596571172,
          null,
          34.48747888097904,
          27.55830958891995,
          null,
          34.48747888097904,
          29.03470474864293,
          null,
          34.48747888097904,
          34.33105343685244,
          null,
          34.48747888097904,
          29.27146640241873,
          null,
          34.48747888097904,
          29.70763010190234,
          null,
          34.48747888097904,
          26.26684005591786,
          null,
          34.48747888097904,
          30.92704875840485,
          null,
          34.48747888097904,
          24.29123871036554,
          null,
          34.48747888097904,
          30.69441159948845,
          null,
          34.48747888097904,
          33.84602023421478,
          null,
          34.48747888097904,
          37.68634353557753,
          null,
          34.48747888097904,
          30.54886596183148,
          null,
          34.48747888097904,
          25.45688085615284,
          null,
          34.48747888097904,
          34.62069425847153,
          null
         ],
         "legendgroup": "DC_3",
         "line": {
          "color": "#00cc96",
          "width": 1
         },
         "lon": [
          113.792328127149,
          115.4584681544313,
          null,
          113.792328127149,
          114.0851344571613,
          null,
          113.792328127149,
          113.2354557720119,
          null,
          113.792328127149,
          118.3117146495258,
          null,
          113.792328127149,
          116.5167623870941,
          null,
          113.792328127149,
          114.3017451893433,
          null,
          113.792328127149,
          115.6642998789322,
          null,
          113.792328127149,
          114.3863032251404,
          null,
          113.792328127149,
          116.9945269148156,
          null,
          113.792328127149,
          115.0233457843086,
          null,
          113.792328127149,
          118.7916846702178,
          null,
          113.792328127149,
          118.4275501703881,
          null,
          113.792328127149,
          113.9208970878092,
          null,
          113.792328127149,
          114.0164292106147,
          null,
          113.792328127149,
          117.2217530206498,
          null,
          113.792328127149,
          114.6914875280797,
          null,
          113.792328127149,
          115.6508712568022,
          null,
          113.792328127149,
          120.1586027412798,
          null,
          113.792328127149,
          113.1095869618306,
          null,
          113.792328127149,
          117.0583094488215,
          null,
          113.792328127149,
          115.4747879692151,
          null,
          113.792328127149,
          116.95899047143,
          null,
          113.792328127149,
          118.3322856589073,
          null,
          113.792328127149,
          117.4860824783757,
          null,
          113.792328127149,
          112.8457114258861,
          null,
          113.792328127149,
          117.8067260077645,
          null,
          113.792328127149,
          119.0098472690756,
          null,
          113.792328127149,
          114.2913498473666,
          null,
          113.792328127149,
          116.7928608550622,
          null,
          113.792328127149,
          117.2783803771574,
          null,
          113.792328127149,
          114.4989149321016,
          null,
          113.792328127149,
          111.512738356361,
          null,
          113.792328127149,
          114.5332139277783,
          null,
          113.792328127149,
          114.0106299585456,
          null,
          113.792328127149,
          117.3838768458563,
          null,
          113.792328127149,
          114.5088610208725,
          null,
          113.792328127149,
          111.1941341473168,
          null,
          113.792328127149,
          112.1163256977821,
          null,
          113.792328127149,
          112.5224592560118,
          null,
          113.792328127149,
          109.7344422775661,
          null,
          113.792328127149,
          109.4832871762125,
          null,
          113.792328127149,
          113.6193255888591,
          null,
          113.792328127149,
          110.7926649102856,
          null,
          113.792328127149,
          115.8532852729079,
          null,
          113.792328127149,
          113.5923294112387,
          null,
          113.792328127149,
          118.084448093873,
          null,
          113.792328127149,
          113.1863800141984,
          null,
          113.792328127149,
          120.5811331033317,
          null,
          113.792328127149,
          116.3531836141162,
          null,
          113.792328127149,
          105.4386624441242,
          null,
          113.792328127149,
          114.8672467200515,
          null,
          113.792328127149,
          111.0017399957335,
          null,
          113.792328127149,
          110.4742346915475,
          null,
          113.792328127149,
          112.2340263095486,
          null,
          113.792328127149,
          114.2999542047298,
          null,
          113.792328127149,
          116.6775143618734,
          null,
          113.792328127149,
          112.1934245655764,
          null,
          113.792328127149,
          113.8467520160274,
          null,
          113.792328127149,
          109.5767984155979,
          null,
          113.792328127149,
          117.6427017011435,
          null,
          113.792328127149,
          114.3170938337267,
          null,
          113.792328127149,
          117.0126782413234,
          null,
          113.792328127149,
          115.0331487829698,
          null,
          113.792328127149,
          110.3448278590682,
          null,
          113.792328127149,
          113.3762466668986,
          null,
          113.792328127149,
          113.7474156266135,
          null,
          113.792328127149,
          109.9938246198597,
          null,
          113.792328127149,
          111.6928984567219,
          null,
          113.792328127149,
          108.70432818877,
          null,
          113.792328127149,
          117.1730932594236,
          null,
          113.792328127149,
          115.9968498897885,
          null,
          113.792328127149,
          117.6337852475838,
          null,
          113.792328127149,
          113.9114171453589,
          null,
          113.792328127149,
          116.1174052422547,
          null,
          113.792328127149,
          111.2808231203681,
          null,
          113.792328127149,
          115.7731280236451,
          null,
          113.792328127149,
          112.7462041891047,
          null,
          113.792328127149,
          114.3363714923768,
          null,
          113.792328127149,
          119.0030583278949,
          null,
          113.792328127149,
          112.4477739744806,
          null
         ],
         "mode": "lines",
         "name": "DC_3",
         "opacity": 0.8,
         "showlegend": true,
         "subplot": "mapbox",
         "type": "scattermapbox"
        },
        {
         "hovertemplate": "<b>%{hovertext}</b><br><br>color=DC_4<br>lat=%{lat}<br>lon=%{lon}<extra></extra>",
         "hovertext": [
          "DC_4 to CZ_104",
          "DC_4 to CZ_104",
          null,
          "DC_4 to CZ_107",
          "DC_4 to CZ_107",
          null,
          "DC_4 to CZ_112",
          "DC_4 to CZ_112",
          null,
          "DC_4 to CZ_114",
          "DC_4 to CZ_114",
          null,
          "DC_4 to CZ_116",
          "DC_4 to CZ_116",
          null,
          "DC_4 to CZ_117",
          "DC_4 to CZ_117",
          null,
          "DC_4 to CZ_120",
          "DC_4 to CZ_120",
          null,
          "DC_4 to CZ_122",
          "DC_4 to CZ_122",
          null,
          "DC_4 to CZ_130",
          "DC_4 to CZ_130",
          null,
          "DC_4 to CZ_133",
          "DC_4 to CZ_133",
          null,
          "DC_4 to CZ_137",
          "DC_4 to CZ_137",
          null,
          "DC_4 to CZ_146",
          "DC_4 to CZ_146",
          null,
          "DC_4 to CZ_147",
          "DC_4 to CZ_147",
          null,
          "DC_4 to CZ_15",
          "DC_4 to CZ_15",
          null,
          "DC_4 to CZ_154",
          "DC_4 to CZ_154",
          null,
          "DC_4 to CZ_156",
          "DC_4 to CZ_156",
          null,
          "DC_4 to CZ_166",
          "DC_4 to CZ_166",
          null,
          "DC_4 to CZ_168",
          "DC_4 to CZ_168",
          null,
          "DC_4 to CZ_195",
          "DC_4 to CZ_195",
          null,
          "DC_4 to CZ_205",
          "DC_4 to CZ_205",
          null,
          "DC_4 to CZ_212",
          "DC_4 to CZ_212",
          null,
          "DC_4 to CZ_215",
          "DC_4 to CZ_215",
          null,
          "DC_4 to CZ_22",
          "DC_4 to CZ_22",
          null,
          "DC_4 to CZ_224",
          "DC_4 to CZ_224",
          null,
          "DC_4 to CZ_228",
          "DC_4 to CZ_228",
          null,
          "DC_4 to CZ_234",
          "DC_4 to CZ_234",
          null,
          "DC_4 to CZ_238",
          "DC_4 to CZ_238",
          null,
          "DC_4 to CZ_243",
          "DC_4 to CZ_243",
          null,
          "DC_4 to CZ_251",
          "DC_4 to CZ_251",
          null,
          "DC_4 to CZ_255",
          "DC_4 to CZ_255",
          null,
          "DC_4 to CZ_256",
          "DC_4 to CZ_256",
          null,
          "DC_4 to CZ_260",
          "DC_4 to CZ_260",
          null,
          "DC_4 to CZ_264",
          "DC_4 to CZ_264",
          null,
          "DC_4 to CZ_266",
          "DC_4 to CZ_266",
          null,
          "DC_4 to CZ_33",
          "DC_4 to CZ_33",
          null,
          "DC_4 to CZ_34",
          "DC_4 to CZ_34",
          null,
          "DC_4 to CZ_36",
          "DC_4 to CZ_36",
          null,
          "DC_4 to CZ_38",
          "DC_4 to CZ_38",
          null,
          "DC_4 to CZ_42",
          "DC_4 to CZ_42",
          null,
          "DC_4 to CZ_51",
          "DC_4 to CZ_51",
          null,
          "DC_4 to CZ_55",
          "DC_4 to CZ_55",
          null,
          "DC_4 to CZ_84",
          "DC_4 to CZ_84",
          null,
          "DC_4 to CZ_90",
          "DC_4 to CZ_90",
          null,
          "DC_4 to CZ_96",
          "DC_4 to CZ_96",
          null,
          "DC_4 to CZ_119",
          "DC_4 to CZ_119",
          null,
          "DC_4 to CZ_129",
          "DC_4 to CZ_129",
          null,
          "DC_4 to CZ_131",
          "DC_4 to CZ_131",
          null,
          "DC_4 to CZ_196",
          "DC_4 to CZ_196",
          null,
          "DC_4 to CZ_2",
          "DC_4 to CZ_2",
          null,
          "DC_4 to CZ_203",
          "DC_4 to CZ_203",
          null,
          "DC_4 to CZ_37",
          "DC_4 to CZ_37",
          null,
          "DC_4 to CZ_59",
          "DC_4 to CZ_59",
          null,
          "DC_4 to CZ_9",
          "DC_4 to CZ_9",
          null,
          "DC_4 to CZ_10",
          "DC_4 to CZ_10",
          null,
          "DC_4 to CZ_105",
          "DC_4 to CZ_105",
          null,
          "DC_4 to CZ_118",
          "DC_4 to CZ_118",
          null,
          "DC_4 to CZ_13",
          "DC_4 to CZ_13",
          null,
          "DC_4 to CZ_134",
          "DC_4 to CZ_134",
          null,
          "DC_4 to CZ_157",
          "DC_4 to CZ_157",
          null,
          "DC_4 to CZ_184",
          "DC_4 to CZ_184",
          null,
          "DC_4 to CZ_194",
          "DC_4 to CZ_194",
          null,
          "DC_4 to CZ_257",
          "DC_4 to CZ_257",
          null,
          "DC_4 to CZ_289",
          "DC_4 to CZ_289",
          null,
          "DC_4 to CZ_6",
          "DC_4 to CZ_6",
          null,
          "DC_4 to CZ_91",
          "DC_4 to CZ_91",
          null,
          "DC_4 to CZ_92",
          "DC_4 to CZ_92",
          null,
          "DC_4 to CZ_97",
          "DC_4 to CZ_97",
          null,
          "DC_4 to CZ_113",
          "DC_4 to CZ_113",
          null,
          "DC_4 to CZ_126",
          "DC_4 to CZ_126",
          null,
          "DC_4 to CZ_128",
          "DC_4 to CZ_128",
          null,
          "DC_4 to CZ_135",
          "DC_4 to CZ_135",
          null,
          "DC_4 to CZ_136",
          "DC_4 to CZ_136",
          null,
          "DC_4 to CZ_152",
          "DC_4 to CZ_152",
          null,
          "DC_4 to CZ_155",
          "DC_4 to CZ_155",
          null,
          "DC_4 to CZ_158",
          "DC_4 to CZ_158",
          null,
          "DC_4 to CZ_162",
          "DC_4 to CZ_162",
          null,
          "DC_4 to CZ_165",
          "DC_4 to CZ_165",
          null,
          "DC_4 to CZ_171",
          "DC_4 to CZ_171",
          null,
          "DC_4 to CZ_172",
          "DC_4 to CZ_172",
          null,
          "DC_4 to CZ_174",
          "DC_4 to CZ_174",
          null,
          "DC_4 to CZ_175",
          "DC_4 to CZ_175",
          null,
          "DC_4 to CZ_177",
          "DC_4 to CZ_177",
          null,
          "DC_4 to CZ_178",
          "DC_4 to CZ_178",
          null,
          "DC_4 to CZ_18",
          "DC_4 to CZ_18",
          null,
          "DC_4 to CZ_180",
          "DC_4 to CZ_180",
          null,
          "DC_4 to CZ_181",
          "DC_4 to CZ_181",
          null,
          "DC_4 to CZ_182",
          "DC_4 to CZ_182",
          null,
          "DC_4 to CZ_185",
          "DC_4 to CZ_185",
          null,
          "DC_4 to CZ_186",
          "DC_4 to CZ_186",
          null,
          "DC_4 to CZ_187",
          "DC_4 to CZ_187",
          null,
          "DC_4 to CZ_188",
          "DC_4 to CZ_188",
          null,
          "DC_4 to CZ_189",
          "DC_4 to CZ_189",
          null,
          "DC_4 to CZ_190",
          "DC_4 to CZ_190",
          null,
          "DC_4 to CZ_191",
          "DC_4 to CZ_191",
          null,
          "DC_4 to CZ_193",
          "DC_4 to CZ_193",
          null,
          "DC_4 to CZ_199",
          "DC_4 to CZ_199",
          null,
          "DC_4 to CZ_206",
          "DC_4 to CZ_206",
          null,
          "DC_4 to CZ_209",
          "DC_4 to CZ_209",
          null,
          "DC_4 to CZ_211",
          "DC_4 to CZ_211",
          null,
          "DC_4 to CZ_220",
          "DC_4 to CZ_220",
          null,
          "DC_4 to CZ_231",
          "DC_4 to CZ_231",
          null,
          "DC_4 to CZ_233",
          "DC_4 to CZ_233",
          null,
          "DC_4 to CZ_235",
          "DC_4 to CZ_235",
          null,
          "DC_4 to CZ_267",
          "DC_4 to CZ_267",
          null,
          "DC_4 to CZ_269",
          "DC_4 to CZ_269",
          null,
          "DC_4 to CZ_272",
          "DC_4 to CZ_272",
          null,
          "DC_4 to CZ_273",
          "DC_4 to CZ_273",
          null,
          "DC_4 to CZ_281",
          "DC_4 to CZ_281",
          null,
          "DC_4 to CZ_283",
          "DC_4 to CZ_283",
          null,
          "DC_4 to CZ_287",
          "DC_4 to CZ_287",
          null,
          "DC_4 to CZ_30",
          "DC_4 to CZ_30",
          null,
          "DC_4 to CZ_44",
          "DC_4 to CZ_44",
          null,
          "DC_4 to CZ_46",
          "DC_4 to CZ_46",
          null,
          "DC_4 to CZ_49",
          "DC_4 to CZ_49",
          null,
          "DC_4 to CZ_52",
          "DC_4 to CZ_52",
          null,
          "DC_4 to CZ_56",
          "DC_4 to CZ_56",
          null,
          "DC_4 to CZ_58",
          "DC_4 to CZ_58",
          null,
          "DC_4 to CZ_60",
          "DC_4 to CZ_60",
          null,
          "DC_4 to CZ_69",
          "DC_4 to CZ_69",
          null,
          "DC_4 to CZ_73",
          "DC_4 to CZ_73",
          null,
          "DC_4 to CZ_76",
          "DC_4 to CZ_76",
          null,
          "DC_4 to CZ_79",
          "DC_4 to CZ_79",
          null,
          "DC_4 to CZ_81",
          "DC_4 to CZ_81",
          null,
          "DC_4 to CZ_99",
          "DC_4 to CZ_99",
          null
         ],
         "lat": [
          34.63031715995263,
          38.87297673416556,
          null,
          34.63031715995263,
          35.21640061005598,
          null,
          34.63031715995263,
          31.73575608295598,
          null,
          34.63031715995263,
          34.79814088178576,
          null,
          34.63031715995263,
          40.70959455770206,
          null,
          34.63031715995263,
          37.73828947669901,
          null,
          34.63031715995263,
          36.09740671694131,
          null,
          34.63031715995263,
          41.09306620182436,
          null,
          34.63031715995263,
          39.902626245166,
          null,
          34.63031715995263,
          37.87005096677684,
          null,
          34.63031715995263,
          35.76184910581689,
          null,
          34.63031715995263,
          39.93427691598691,
          null,
          34.63031715995263,
          35.30359480186157,
          null,
          34.63031715995263,
          33.01335650611892,
          null,
          34.63031715995263,
          41.10674546752389,
          null,
          34.63031715995263,
          39.33042586350068,
          null,
          34.63031715995263,
          33.62771504579078,
          null,
          34.63031715995263,
          34.41554751048077,
          null,
          34.63031715995263,
          36.19521524648712,
          null,
          34.63031715995263,
          42.25587691695832,
          null,
          34.63031715995263,
          38.28487573162408,
          null,
          34.63031715995263,
          33.64794994611666,
          null,
          34.63031715995263,
          34.59768100862672,
          null,
          34.63031715995263,
          37.85646220510019,
          null,
          34.63031715995263,
          41.80326291802402,
          null,
          34.63031715995263,
          42.01951815368355,
          null,
          34.63031715995263,
          41.87872843096351,
          null,
          34.63031715995263,
          35.49110504705786,
          null,
          34.63031715995263,
          33.611763586717,
          null,
          34.63031715995263,
          33.96458366057329,
          null,
          34.63031715995263,
          35.74730281423409,
          null,
          34.63031715995263,
          33.95726296715417,
          null,
          34.63031715995263,
          41.26517446940125,
          null,
          34.63031715995263,
          41.11791379409293,
          null,
          34.63031715995263,
          37.51752738993748,
          null,
          34.63031715995263,
          39.62954759868035,
          null,
          34.63031715995263,
          40.95250667908144,
          null,
          34.63031715995263,
          37.07009447918728,
          null,
          34.63031715995263,
          36.08811024456974,
          null,
          34.63031715995263,
          36.62556357656246,
          null,
          34.63031715995263,
          33.58291634117343,
          null,
          34.63031715995263,
          38.41608696241872,
          null,
          34.63031715995263,
          38.04166913884188,
          null,
          34.63031715995263,
          38.30390787880884,
          null,
          34.63031715995263,
          40.8411402225846,
          null,
          34.63031715995263,
          40.65629113306126,
          null,
          34.63031715995263,
          39.902626245166,
          null,
          34.63031715995263,
          40.07557310802614,
          null,
          34.63031715995263,
          40.82308854129995,
          null,
          34.63031715995263,
          43.65052523160977,
          null,
          34.63031715995263,
          40.99301005071572,
          null,
          34.63031715995263,
          39.60724263159052,
          null,
          34.63031715995263,
          39.53695727577932,
          null,
          34.63031715995263,
          34.77346975390627,
          null,
          34.63031715995263,
          32.01093810474285,
          null,
          34.63031715995263,
          32.99281483167919,
          null,
          34.63031715995263,
          34.7477864125606,
          null,
          34.63031715995263,
          32.63157768676001,
          null,
          34.63031715995263,
          33.76759369387327,
          null,
          34.63031715995263,
          28.87483938230682,
          null,
          34.63031715995263,
          35.02716522530418,
          null,
          34.63031715995263,
          34.03705424166669,
          null,
          34.63031715995263,
          31.69209471228168,
          null,
          34.63031715995263,
          34.33105343685244,
          null,
          34.63031715995263,
          33.84602023421478,
          null,
          34.63031715995263,
          37.68634353557753,
          null,
          34.63031715995263,
          34.62069425847153,
          null,
          34.63031715995263,
          36.06141171846495,
          null,
          34.63031715995263,
          34.36339558112846,
          null,
          34.63031715995263,
          33.06937808326742,
          null,
          34.63031715995263,
          35.54352430899147,
          null,
          34.63031715995263,
          35.70948020808187,
          null,
          34.63031715995263,
          37.92798045819693,
          null,
          34.63031715995263,
          40.81607321636371,
          null,
          34.63031715995263,
          34.98452245844625,
          null,
          34.63031715995263,
          37.99690919719102,
          null,
          34.63031715995263,
          36.58534208664667,
          null,
          34.63031715995263,
          31.2117043271299,
          null,
          34.63031715995263,
          31.12899552745817,
          null,
          34.63031715995263,
          30.13175078920077,
          null,
          34.63031715995263,
          31.90165666241077,
          null,
          34.63031715995263,
          27.88504356472883,
          null,
          34.63031715995263,
          28.75519768160823,
          null,
          34.63031715995263,
          35.60153855696797,
          null,
          34.63031715995263,
          31.46973069933239,
          null,
          34.63031715995263,
          30.84007214993655,
          null,
          34.63031715995263,
          31.87008571552613,
          null,
          34.63031715995263,
          30.53563957427876,
          null,
          34.63031715995263,
          29.3418851374181,
          null,
          34.63031715995263,
          30.45874152168983,
          null,
          34.63031715995263,
          30.0523443545809,
          null,
          34.63031715995263,
          32.43782752968448,
          null,
          34.63031715995263,
          31.14329275102384,
          null,
          34.63031715995263,
          29.98320267641596,
          null,
          34.63031715995263,
          36.01603794874545,
          null,
          34.63031715995263,
          38.98239939588928,
          null,
          34.63031715995263,
          38.48673019128655,
          null,
          34.63031715995263,
          32.68679720585862,
          null,
          34.63031715995263,
          33.40263907882024,
          null,
          34.63031715995263,
          38.85133075491287,
          null,
          34.63031715995263,
          34.58218380144906,
          null,
          34.63031715995263,
          38.9252336905743,
          null,
          34.63031715995263,
          36.50197437688492,
          null,
          34.63031715995263,
          34.8978478277209,
          null,
          34.63031715995263,
          36.61722375080831,
          null,
          34.63031715995263,
          27.72918933516938,
          null,
          34.63031715995263,
          26.59628129977204,
          null,
          34.63031715995263,
          34.47290911965604,
          null,
          34.63031715995263,
          29.5658490143256,
          null,
          34.63031715995263,
          32.50359180804994,
          null,
          34.63031715995263,
          37.49941170198301,
          null,
          34.63031715995263,
          40.74177069274513,
          null,
          34.63031715995263,
          35.58120785689678,
          null,
          34.63031715995263,
          34.50130608517758,
          null,
          34.63031715995263,
          34.34312953840049,
          null,
          34.63031715995263,
          33.87210573316656,
          null,
          34.63031715995263,
          46.07553890622198,
          null,
          34.63031715995263,
          39.6544390366507,
          null,
          34.63031715995263,
          26.85859236359501,
          null,
          34.63031715995263,
          27.34168368255112,
          null,
          34.63031715995263,
          25.60952165934802,
          null,
          34.63031715995263,
          24.43652522328061,
          null,
          34.63031715995263,
          25.85588172220572,
          null,
          34.63031715995263,
          36.54466066268684,
          null
         ],
         "legendgroup": "DC_4",
         "line": {
          "color": "#ab63fa",
          "width": 1
         },
         "lon": [
          108.9336012932089,
          115.4584681544313,
          null,
          108.9336012932089,
          113.2354557720119,
          null,
          108.9336012932089,
          116.5167623870941,
          null,
          108.9336012932089,
          114.3017451893433,
          null,
          108.9336012932089,
          120.8317448357023,
          null,
          108.9336012932089,
          115.6642998789322,
          null,
          108.9336012932089,
          114.3863032251404,
          null,
          108.9336012932089,
          121.1213539396126,
          null,
          108.9336012932089,
          116.4012828477588,
          null,
          108.9336012932089,
          112.5425630342325,
          null,
          108.9336012932089,
          115.0233457843086,
          null,
          108.9336012932089,
          119.5947177212679,
          null,
          108.9336012932089,
          113.9208970878092,
          null,
          108.9336012932089,
          114.0164292106147,
          null,
          108.9336012932089,
          122.9888556604474,
          null,
          108.9336012932089,
          112.4259678830538,
          null,
          108.9336012932089,
          114.6914875280797,
          null,
          108.9336012932089,
          115.6508712568022,
          null,
          108.9336012932089,
          113.1095869618306,
          null,
          108.9336012932089,
          118.8806794224993,
          null,
          108.9336012932089,
          109.7290105322149,
          null,
          108.9336012932089,
          116.95899047143,
          null,
          108.9336012932089,
          119.2160715736077,
          null,
          108.9336012932089,
          113.574107092927,
          null,
          108.9336012932089,
          123.4253315842275,
          null,
          108.9336012932089,
          121.6649262102888,
          null,
          108.9336012932089,
          123.9514479031235,
          null,
          108.9336012932089,
          112.8457114258861,
          null,
          108.9336012932089,
          119.0098472690756,
          null,
          108.9336012932089,
          118.2696951415908,
          null,
          108.9336012932089,
          114.2913498473666,
          null,
          108.9336012932089,
          116.7928608550622,
          null,
          108.9336012932089,
          123.2312079197878,
          null,
          108.9336012932089,
          122.0652294108859,
          null,
          108.9336012932089,
          111.1379504274304,
          null,
          108.9336012932089,
          118.1738965760385,
          null,
          108.9336012932089,
          117.9561006544303,
          null,
          108.9336012932089,
          114.4989149321016,
          null,
          108.9336012932089,
          111.512738356361,
          null,
          108.9336012932089,
          114.5332139277783,
          null,
          108.9336012932089,
          114.0106299585456,
          null,
          108.9336012932089,
          112.727613615456,
          null,
          108.9336012932089,
          114.5088610208725,
          null,
          108.9336012932089,
          116.833033542554,
          null,
          108.9336012932089,
          111.7422639952268,
          null,
          108.9336012932089,
          109.8346292526299,
          null,
          108.9336012932089,
          116.4012828477588,
          null,
          108.9336012932089,
          113.2931269502874,
          null,
          108.9336012932089,
          114.8814226622556,
          null,
          108.9336012932089,
          122.2378879047936,
          null,
          108.9336012932089,
          113.1253090209648,
          null,
          108.9336012932089,
          109.7756072826352,
          null,
          108.9336012932089,
          116.677852879759,
          null,
          108.9336012932089,
          111.1941341473168,
          null,
          108.9336012932089,
          112.1163256977821,
          null,
          108.9336012932089,
          112.5224592560118,
          null,
          108.9336012932089,
          113.6193255888591,
          null,
          108.9336012932089,
          110.7926649102856,
          null,
          108.9336012932089,
          113.1863800141984,
          null,
          108.9336012932089,
          105.4386624441242,
          null,
          108.9336012932089,
          111.0017399957335,
          null,
          108.9336012932089,
          113.8467520160274,
          null,
          108.9336012932089,
          113.3762466668986,
          null,
          108.9336012932089,
          108.70432818877,
          null,
          108.9336012932089,
          115.7731280236451,
          null,
          108.9336012932089,
          112.7462041891047,
          null,
          108.9336012932089,
          112.4477739744806,
          null,
          108.9336012932089,
          103.8318948117832,
          null,
          108.9336012932089,
          107.2332812200772,
          null,
          108.9336012932089,
          107.0188196460534,
          null,
          108.9336012932089,
          106.6610286688978,
          null,
          108.9336012932089,
          107.6388965577504,
          null,
          108.9336012932089,
          102.6362981150711,
          null,
          108.9336012932089,
          111.7587040406893,
          null,
          108.9336012932089,
          102.9093063078813,
          null,
          108.9336012932089,
          106.1939858033097,
          null,
          108.9336012932089,
          109.4843056704631,
          null,
          108.9336012932089,
          107.4633548893442,
          null,
          108.9336012932089,
          104.3952141871174,
          null,
          108.9336012932089,
          104.6252370576223,
          null,
          108.9336012932089,
          102.223006553013,
          null,
          108.9336012932089,
          102.265841134515,
          null,
          108.9336012932089,
          104.6408382179202,
          null,
          108.9336012932089,
          103.2082935117161,
          null,
          108.9336012932089,
          104.6765055884907,
          null,
          108.9336012932089,
          106.1066772287715,
          null,
          108.9336012932089,
          106.7433360907896,
          null,
          108.9336012932089,
          105.5894893487255,
          null,
          108.9336012932089,
          104.7757456053025,
          null,
          108.9336012932089,
          106.6294280176608,
          null,
          108.9336012932089,
          101.9607944939152,
          null,
          108.9336012932089,
          105.8396443188976,
          null,
          108.9336012932089,
          97.17148314940665,
          null,
          108.9336012932089,
          103.0114015388349,
          null,
          108.9336012932089,
          106.2384139928036,
          null,
          108.9336012932089,
          106.3785987467326,
          null,
          108.9336012932089,
          106.2265069321992,
          null,
          108.9336012932089,
          109.0241758754163,
          null,
          108.9336012932089,
          104.9189654162553,
          null,
          108.9336012932089,
          105.7247062442973,
          null,
          108.9336012932089,
          105.7210163282105,
          null,
          108.9336012932089,
          100.4481121115437,
          null,
          108.9336012932089,
          102.1022159005829,
          null,
          108.9336012932089,
          108.9405296688392,
          null,
          108.9336012932089,
          101.7762927404526,
          null,
          108.9336012932089,
          106.9235728918846,
          null,
          108.9336012932089,
          104.8278184351933,
          null,
          108.9336012932089,
          100.243467122574,
          null,
          108.9336012932089,
          106.5478312634267,
          null,
          108.9336012932089,
          80.10358684866438,
          null,
          108.9336012932089,
          105.1931310282931,
          null,
          108.9336012932089,
          107.3820708392117,
          null,
          108.9336012932089,
          104.623617338011,
          null,
          108.9336012932089,
          109.504625293394,
          null,
          108.9336012932089,
          108.9355291153062,
          null,
          108.9336012932089,
          109.9354974186974,
          null,
          108.9336012932089,
          122.0608579323195,
          null,
          108.9336012932089,
          106.7894841071682,
          null,
          108.9336012932089,
          100.226617197402,
          null,
          108.9336012932089,
          103.7153750119609,
          null,
          108.9336012932089,
          100.266540437132,
          null,
          108.9336012932089,
          98.58474196486381,
          null,
          108.9336012932089,
          98.85270009438005,
          null,
          108.9336012932089,
          104.1357374526611,
          null
         ],
         "mode": "lines",
         "name": "DC_4",
         "opacity": 0.8,
         "showlegend": true,
         "subplot": "mapbox",
         "type": "scattermapbox"
        },
        {
         "hovertemplate": "<b>%{hovertext}</b><br><br>color=DC_7<br>lat=%{lat}<br>lon=%{lon}<extra></extra>",
         "hovertext": [
          "DC_7 to CZ_104",
          "DC_7 to CZ_104",
          null,
          "DC_7 to CZ_107",
          "DC_7 to CZ_107",
          null,
          "DC_7 to CZ_112",
          "DC_7 to CZ_112",
          null,
          "DC_7 to CZ_117",
          "DC_7 to CZ_117",
          null,
          "DC_7 to CZ_120",
          "DC_7 to CZ_120",
          null,
          "DC_7 to CZ_130",
          "DC_7 to CZ_130",
          null,
          "DC_7 to CZ_133",
          "DC_7 to CZ_133",
          null,
          "DC_7 to CZ_137",
          "DC_7 to CZ_137",
          null,
          "DC_7 to CZ_156",
          "DC_7 to CZ_156",
          null,
          "DC_7 to CZ_195",
          "DC_7 to CZ_195",
          null,
          "DC_7 to CZ_205",
          "DC_7 to CZ_205",
          null,
          "DC_7 to CZ_212",
          "DC_7 to CZ_212",
          null,
          "DC_7 to CZ_215",
          "DC_7 to CZ_215",
          null,
          "DC_7 to CZ_224",
          "DC_7 to CZ_224",
          null,
          "DC_7 to CZ_243",
          "DC_7 to CZ_243",
          null,
          "DC_7 to CZ_256",
          "DC_7 to CZ_256",
          null,
          "DC_7 to CZ_33",
          "DC_7 to CZ_33",
          null,
          "DC_7 to CZ_38",
          "DC_7 to CZ_38",
          null,
          "DC_7 to CZ_42",
          "DC_7 to CZ_42",
          null,
          "DC_7 to CZ_51",
          "DC_7 to CZ_51",
          null,
          "DC_7 to CZ_84",
          "DC_7 to CZ_84",
          null,
          "DC_7 to CZ_90",
          "DC_7 to CZ_90",
          null,
          "DC_7 to CZ_96",
          "DC_7 to CZ_96",
          null,
          "DC_7 to CZ_119",
          "DC_7 to CZ_119",
          null,
          "DC_7 to CZ_129",
          "DC_7 to CZ_129",
          null,
          "DC_7 to CZ_196",
          "DC_7 to CZ_196",
          null,
          "DC_7 to CZ_2",
          "DC_7 to CZ_2",
          null,
          "DC_7 to CZ_37",
          "DC_7 to CZ_37",
          null,
          "DC_7 to CZ_59",
          "DC_7 to CZ_59",
          null,
          "DC_7 to CZ_67",
          "DC_7 to CZ_67",
          null,
          "DC_7 to CZ_10",
          "DC_7 to CZ_10",
          null,
          "DC_7 to CZ_194",
          "DC_7 to CZ_194",
          null,
          "DC_7 to CZ_6",
          "DC_7 to CZ_6",
          null,
          "DC_7 to CZ_92",
          "DC_7 to CZ_92",
          null,
          "DC_7 to CZ_97",
          "DC_7 to CZ_97",
          null,
          "DC_7 to CZ_155",
          "DC_7 to CZ_155",
          null,
          "DC_7 to CZ_44",
          "DC_7 to CZ_44",
          null
         ],
         "lat": [
          37.66638377238687,
          38.87297673416556,
          null,
          37.66638377238687,
          35.21640061005598,
          null,
          37.66638377238687,
          31.73575608295598,
          null,
          37.66638377238687,
          37.73828947669901,
          null,
          37.66638377238687,
          36.09740671694131,
          null,
          37.66638377238687,
          39.902626245166,
          null,
          37.66638377238687,
          37.87005096677684,
          null,
          37.66638377238687,
          35.76184910581689,
          null,
          37.66638377238687,
          39.33042586350068,
          null,
          37.66638377238687,
          36.19521524648712,
          null,
          37.66638377238687,
          42.25587691695832,
          null,
          37.66638377238687,
          38.28487573162408,
          null,
          37.66638377238687,
          33.64794994611666,
          null,
          37.66638377238687,
          37.85646220510019,
          null,
          37.66638377238687,
          35.49110504705786,
          null,
          37.66638377238687,
          35.74730281423409,
          null,
          37.66638377238687,
          37.51752738993748,
          null,
          37.66638377238687,
          37.07009447918728,
          null,
          37.66638377238687,
          36.08811024456974,
          null,
          37.66638377238687,
          36.62556357656246,
          null,
          37.66638377238687,
          38.41608696241872,
          null,
          37.66638377238687,
          38.04166913884188,
          null,
          37.66638377238687,
          38.30390787880884,
          null,
          37.66638377238687,
          40.8411402225846,
          null,
          37.66638377238687,
          40.65629113306126,
          null,
          37.66638377238687,
          40.07557310802614,
          null,
          37.66638377238687,
          40.82308854129995,
          null,
          37.66638377238687,
          40.99301005071572,
          null,
          37.66638377238687,
          39.60724263159052,
          null,
          37.66638377238687,
          43.93128150032256,
          null,
          37.66638377238687,
          34.77346975390627,
          null,
          37.66638377238687,
          35.02716522530418,
          null,
          37.66638377238687,
          34.33105343685244,
          null,
          37.66638377238687,
          37.68634353557753,
          null,
          37.66638377238687,
          34.62069425847153,
          null,
          37.66638377238687,
          40.81607321636371,
          null,
          37.66638377238687,
          40.74177069274513,
          null
         ],
         "legendgroup": "DC_7",
         "line": {
          "color": "#FFA15A",
          "width": 1
         },
         "lon": [
          112.6719120037593,
          115.4584681544313,
          null,
          112.6719120037593,
          113.2354557720119,
          null,
          112.6719120037593,
          116.5167623870941,
          null,
          112.6719120037593,
          115.6642998789322,
          null,
          112.6719120037593,
          114.3863032251404,
          null,
          112.6719120037593,
          116.4012828477588,
          null,
          112.6719120037593,
          112.5425630342325,
          null,
          112.6719120037593,
          115.0233457843086,
          null,
          112.6719120037593,
          112.4259678830538,
          null,
          112.6719120037593,
          113.1095869618306,
          null,
          112.6719120037593,
          118.8806794224993,
          null,
          112.6719120037593,
          109.7290105322149,
          null,
          112.6719120037593,
          116.95899047143,
          null,
          112.6719120037593,
          113.574107092927,
          null,
          112.6719120037593,
          112.8457114258861,
          null,
          112.6719120037593,
          114.2913498473666,
          null,
          112.6719120037593,
          111.1379504274304,
          null,
          112.6719120037593,
          114.4989149321016,
          null,
          112.6719120037593,
          111.512738356361,
          null,
          112.6719120037593,
          114.5332139277783,
          null,
          112.6719120037593,
          112.727613615456,
          null,
          112.6719120037593,
          114.5088610208725,
          null,
          112.6719120037593,
          116.833033542554,
          null,
          112.6719120037593,
          111.7422639952268,
          null,
          112.6719120037593,
          109.8346292526299,
          null,
          112.6719120037593,
          113.2931269502874,
          null,
          112.6719120037593,
          114.8814226622556,
          null,
          112.6719120037593,
          113.1253090209648,
          null,
          112.6719120037593,
          109.7756072826352,
          null,
          112.6719120037593,
          116.0414004756569,
          null,
          112.6719120037593,
          111.1941341473168,
          null,
          112.6719120037593,
          111.0017399957335,
          null,
          112.6719120037593,
          108.70432818877,
          null,
          112.6719120037593,
          112.7462041891047,
          null,
          112.6719120037593,
          112.4477739744806,
          null,
          112.6719120037593,
          111.7587040406893,
          null,
          112.6719120037593,
          107.3820708392117,
          null
         ],
         "mode": "lines",
         "name": "DC_7",
         "opacity": 0.8,
         "showlegend": true,
         "subplot": "mapbox",
         "type": "scattermapbox"
        },
        {
         "hovertemplate": "<b>%{hovertext}</b><br><br>color=DC_8<br>lat=%{lat}<br>lon=%{lon}<extra></extra>",
         "hovertext": [
          "DC_8 to CZ_106",
          "DC_8 to CZ_106",
          null,
          "DC_8 to CZ_110",
          "DC_8 to CZ_110",
          null,
          "DC_8 to CZ_112",
          "DC_8 to CZ_112",
          null,
          "DC_8 to CZ_115",
          "DC_8 to CZ_115",
          null,
          "DC_8 to CZ_12",
          "DC_8 to CZ_12",
          null,
          "DC_8 to CZ_125",
          "DC_8 to CZ_125",
          null,
          "DC_8 to CZ_138",
          "DC_8 to CZ_138",
          null,
          "DC_8 to CZ_142",
          "DC_8 to CZ_142",
          null,
          "DC_8 to CZ_148",
          "DC_8 to CZ_148",
          null,
          "DC_8 to CZ_153",
          "DC_8 to CZ_153",
          null,
          "DC_8 to CZ_154",
          "DC_8 to CZ_154",
          null,
          "DC_8 to CZ_160",
          "DC_8 to CZ_160",
          null,
          "DC_8 to CZ_163",
          "DC_8 to CZ_163",
          null,
          "DC_8 to CZ_167",
          "DC_8 to CZ_167",
          null,
          "DC_8 to CZ_19",
          "DC_8 to CZ_19",
          null,
          "DC_8 to CZ_200",
          "DC_8 to CZ_200",
          null,
          "DC_8 to CZ_202",
          "DC_8 to CZ_202",
          null,
          "DC_8 to CZ_214",
          "DC_8 to CZ_214",
          null,
          "DC_8 to CZ_215",
          "DC_8 to CZ_215",
          null,
          "DC_8 to CZ_216",
          "DC_8 to CZ_216",
          null,
          "DC_8 to CZ_22",
          "DC_8 to CZ_22",
          null,
          "DC_8 to CZ_222",
          "DC_8 to CZ_222",
          null,
          "DC_8 to CZ_23",
          "DC_8 to CZ_23",
          null,
          "DC_8 to CZ_236",
          "DC_8 to CZ_236",
          null,
          "DC_8 to CZ_24",
          "DC_8 to CZ_24",
          null,
          "DC_8 to CZ_248",
          "DC_8 to CZ_248",
          null,
          "DC_8 to CZ_251",
          "DC_8 to CZ_251",
          null,
          "DC_8 to CZ_255",
          "DC_8 to CZ_255",
          null,
          "DC_8 to CZ_260",
          "DC_8 to CZ_260",
          null,
          "DC_8 to CZ_35",
          "DC_8 to CZ_35",
          null,
          "DC_8 to CZ_62",
          "DC_8 to CZ_62",
          null,
          "DC_8 to CZ_88",
          "DC_8 to CZ_88",
          null,
          "DC_8 to CZ_89",
          "DC_8 to CZ_89",
          null,
          "DC_8 to CZ_95",
          "DC_8 to CZ_95",
          null,
          "DC_8 to CZ_45",
          "DC_8 to CZ_45",
          null,
          "DC_8 to CZ_57",
          "DC_8 to CZ_57",
          null,
          "DC_8 to CZ_164",
          "DC_8 to CZ_164",
          null,
          "DC_8 to CZ_91",
          "DC_8 to CZ_91",
          null,
          "DC_8 to CZ_94",
          "DC_8 to CZ_94",
          null,
          "DC_8 to CZ_100",
          "DC_8 to CZ_100",
          null,
          "DC_8 to CZ_169",
          "DC_8 to CZ_169",
          null,
          "DC_8 to CZ_207",
          "DC_8 to CZ_207",
          null,
          "DC_8 to CZ_213",
          "DC_8 to CZ_213",
          null,
          "DC_8 to CZ_225",
          "DC_8 to CZ_225",
          null,
          "DC_8 to CZ_245",
          "DC_8 to CZ_245",
          null,
          "DC_8 to CZ_268",
          "DC_8 to CZ_268",
          null,
          "DC_8 to CZ_27",
          "DC_8 to CZ_27",
          null,
          "DC_8 to CZ_29",
          "DC_8 to CZ_29",
          null,
          "DC_8 to CZ_47",
          "DC_8 to CZ_47",
          null
         ],
         "lat": [
          32.00530522681915,
          32.14893045727153,
          null,
          32.00530522681915,
          32.30357289491218,
          null,
          32.00530522681915,
          31.73575608295598,
          null,
          32.00530522681915,
          32.45800429536821,
          null,
          32.00530522681915,
          31.2323452344023,
          null,
          32.00530522681915,
          32.62754369430915,
          null,
          32.00530522681915,
          32.06232355267544,
          null,
          32.00530522681915,
          31.35470362228185,
          null,
          32.00530522681915,
          36.06681047224894,
          null,
          32.00530522681915,
          32.18972309867631,
          null,
          32.00530522681915,
          41.10674546752389,
          null,
          32.00530522681915,
          31.82258053795522,
          null,
          32.00530522681915,
          31.98233962550012,
          null,
          32.00530522681915,
          31.67242798566556,
          null,
          32.00530522681915,
          33.34881077578557,
          null,
          32.00530522681915,
          40.66544437055811,
          null,
          32.00530522681915,
          30.54578375093637,
          null,
          32.00530522681915,
          30.94293557276461,
          null,
          32.00530522681915,
          33.64794994611666,
          null,
          32.00530522681915,
          29.71706301538657,
          null,
          32.00530522681915,
          34.59768100862672,
          null,
          32.00530522681915,
          31.81274316521338,
          null,
          32.00530522681915,
          39.998962954379,
          null,
          32.00530522681915,
          30.89639388346604,
          null,
          32.00530522681915,
          30.66714344132274,
          null,
          32.00530522681915,
          30.94771223306929,
          null,
          32.00530522681915,
          33.611763586717,
          null,
          32.00530522681915,
          33.96458366057329,
          null,
          32.00530522681915,
          33.95726296715417,
          null,
          32.00530522681915,
          34.20706393180895,
          null,
          32.00530522681915,
          27.99755639661836,
          null,
          32.00530522681915,
          32.91799515400531,
          null,
          32.00530522681915,
          35.41664985448086,
          null,
          32.00530522681915,
          32.39608761324173,
          null,
          32.00530522681915,
          32.89211160308685,
          null,
          32.00530522681915,
          28.47103856667617,
          null,
          32.00530522681915,
          31.30106716114456,
          null,
          32.00530522681915,
          33.84602023421478,
          null,
          32.00530522681915,
          25.45688085615284,
          null,
          32.00530522681915,
          29.87713052207049,
          null,
          32.00530522681915,
          30.74842732095237,
          null,
          32.00530522681915,
          26.66910233527991,
          null,
          32.00530522681915,
          31.49306603700403,
          null,
          32.00530522681915,
          26.0776181921898,
          null,
          32.00530522681915,
          30.03238398245454,
          null,
          32.00530522681915,
          28.97315464783074,
          null,
          32.00530522681915,
          29.08204039822681,
          null,
          32.00530522681915,
          30.24827350364001,
          null,
          32.00530522681915,
          28.65933140957997,
          null
         ],
         "legendgroup": "DC_8",
         "line": {
          "color": "#19d3f3",
          "width": 1
         },
         "lon": [
          119.0494352058129,
          114.0851344571613,
          null,
          119.0494352058129,
          118.3117146495258,
          null,
          119.0494352058129,
          116.5167623870941,
          null,
          119.0494352058129,
          119.91838005602,
          null,
          119.0494352058129,
          121.4691632652304,
          null,
          119.0494352058129,
          116.9945269148156,
          null,
          119.0494352058129,
          118.7916846702178,
          null,
          119.0494352058129,
          118.4275501703881,
          null,
          119.0494352058129,
          120.3775084640287,
          null,
          119.0494352058129,
          119.4203835018594,
          null,
          119.0494352058129,
          122.9888556604474,
          null,
          119.0494352058129,
          117.2217530206498,
          null,
          119.0494352058129,
          120.8900735716123,
          null,
          119.0494352058129,
          118.501560200216,
          null,
          119.0494352058129,
          120.1586027412798,
          null,
          119.0494352058129,
          122.2302400702165,
          null,
          119.0494352058129,
          117.0583094488215,
          null,
          119.0494352058129,
          118.7536914610581,
          null,
          119.0494352058129,
          116.95899047143,
          null,
          119.0494352058129,
          118.3322856589073,
          null,
          119.0494352058129,
          119.2160715736077,
          null,
          119.0494352058129,
          119.9692475651995,
          null,
          119.0494352058129,
          124.3489462400518,
          null,
          119.0494352058129,
          120.0819509034296,
          null,
          119.0494352058129,
          117.4860824783757,
          null,
          119.0494352058129,
          117.8067260077645,
          null,
          119.0494352058129,
          119.0098472690756,
          null,
          119.0494352058129,
          118.2696951415908,
          null,
          119.0494352058129,
          116.7928608550622,
          null,
          119.0494352058129,
          117.2783803771574,
          null,
          119.0494352058129,
          120.6953146770179,
          null,
          119.0494352058129,
          117.3838768458563,
          null,
          119.0494352058129,
          119.5214386156121,
          null,
          119.0494352058129,
          119.4074816928227,
          null,
          119.0494352058129,
          115.8088195468257,
          null,
          119.0494352058129,
          119.9183913224205,
          null,
          119.0494352058129,
          120.5811331033317,
          null,
          119.0494352058129,
          115.7731280236451,
          null,
          119.0494352058129,
          119.0030583278949,
          null,
          119.0494352058129,
          121.5461886035697,
          null,
          119.0494352058129,
          120.7511656273119,
          null,
          119.0494352058129,
          119.5433363814137,
          null,
          119.0494352058129,
          120.3073076042237,
          null,
          119.0494352058129,
          119.2917011892226,
          null,
          119.0494352058129,
          120.5761448871077,
          null,
          119.0494352058129,
          118.854654147615,
          null,
          119.0494352058129,
          119.6427445137875,
          null,
          119.0494352058129,
          120.2053988812982,
          null,
          119.0494352058129,
          121.4163247141463,
          null
         ],
         "mode": "lines",
         "name": "DC_8",
         "opacity": 0.8,
         "showlegend": true,
         "subplot": "mapbox",
         "type": "scattermapbox"
        },
        {
         "hovertemplate": "<b>%{hovertext}</b><br><br>color=DC_9<br>lat=%{lat}<br>lon=%{lon}<extra></extra>",
         "hovertext": [
          "DC_9 to CZ_106",
          "DC_9 to CZ_106",
          null,
          "DC_9 to CZ_112",
          "DC_9 to CZ_112",
          null,
          "DC_9 to CZ_125",
          "DC_9 to CZ_125",
          null,
          "DC_9 to CZ_138",
          "DC_9 to CZ_138",
          null,
          "DC_9 to CZ_142",
          "DC_9 to CZ_142",
          null,
          "DC_9 to CZ_15",
          "DC_9 to CZ_15",
          null,
          "DC_9 to CZ_160",
          "DC_9 to CZ_160",
          null,
          "DC_9 to CZ_166",
          "DC_9 to CZ_166",
          null,
          "DC_9 to CZ_202",
          "DC_9 to CZ_202",
          null,
          "DC_9 to CZ_214",
          "DC_9 to CZ_214",
          null,
          "DC_9 to CZ_216",
          "DC_9 to CZ_216",
          null,
          "DC_9 to CZ_24",
          "DC_9 to CZ_24",
          null,
          "DC_9 to CZ_248",
          "DC_9 to CZ_248",
          null,
          "DC_9 to CZ_55",
          "DC_9 to CZ_55",
          null,
          "DC_9 to CZ_62",
          "DC_9 to CZ_62",
          null,
          "DC_9 to CZ_88",
          "DC_9 to CZ_88",
          null,
          "DC_9 to CZ_45",
          "DC_9 to CZ_45",
          null,
          "DC_9 to CZ_57",
          "DC_9 to CZ_57",
          null,
          "DC_9 to CZ_105",
          "DC_9 to CZ_105",
          null,
          "DC_9 to CZ_118",
          "DC_9 to CZ_118",
          null,
          "DC_9 to CZ_124",
          "DC_9 to CZ_124",
          null,
          "DC_9 to CZ_127",
          "DC_9 to CZ_127",
          null,
          "DC_9 to CZ_134",
          "DC_9 to CZ_134",
          null,
          "DC_9 to CZ_141",
          "DC_9 to CZ_141",
          null,
          "DC_9 to CZ_143",
          "DC_9 to CZ_143",
          null,
          "DC_9 to CZ_150",
          "DC_9 to CZ_150",
          null,
          "DC_9 to CZ_157",
          "DC_9 to CZ_157",
          null,
          "DC_9 to CZ_17",
          "DC_9 to CZ_17",
          null,
          "DC_9 to CZ_184",
          "DC_9 to CZ_184",
          null,
          "DC_9 to CZ_192",
          "DC_9 to CZ_192",
          null,
          "DC_9 to CZ_232",
          "DC_9 to CZ_232",
          null,
          "DC_9 to CZ_246",
          "DC_9 to CZ_246",
          null,
          "DC_9 to CZ_252",
          "DC_9 to CZ_252",
          null,
          "DC_9 to CZ_253",
          "DC_9 to CZ_253",
          null,
          "DC_9 to CZ_254",
          "DC_9 to CZ_254",
          null,
          "DC_9 to CZ_259",
          "DC_9 to CZ_259",
          null,
          "DC_9 to CZ_263",
          "DC_9 to CZ_263",
          null,
          "DC_9 to CZ_280",
          "DC_9 to CZ_280",
          null,
          "DC_9 to CZ_284",
          "DC_9 to CZ_284",
          null,
          "DC_9 to CZ_285",
          "DC_9 to CZ_285",
          null,
          "DC_9 to CZ_288",
          "DC_9 to CZ_288",
          null,
          "DC_9 to CZ_289",
          "DC_9 to CZ_289",
          null,
          "DC_9 to CZ_32",
          "DC_9 to CZ_32",
          null,
          "DC_9 to CZ_53",
          "DC_9 to CZ_53",
          null,
          "DC_9 to CZ_61",
          "DC_9 to CZ_61",
          null,
          "DC_9 to CZ_64",
          "DC_9 to CZ_64",
          null,
          "DC_9 to CZ_7",
          "DC_9 to CZ_7",
          null,
          "DC_9 to CZ_82",
          "DC_9 to CZ_82",
          null,
          "DC_9 to CZ_83",
          "DC_9 to CZ_83",
          null,
          "DC_9 to CZ_86",
          "DC_9 to CZ_86",
          null,
          "DC_9 to CZ_91",
          "DC_9 to CZ_91",
          null,
          "DC_9 to CZ_93",
          "DC_9 to CZ_93",
          null,
          "DC_9 to CZ_94",
          "DC_9 to CZ_94",
          null,
          "DC_9 to CZ_171",
          "DC_9 to CZ_171",
          null,
          "DC_9 to CZ_174",
          "DC_9 to CZ_174",
          null,
          "DC_9 to CZ_175",
          "DC_9 to CZ_175",
          null,
          "DC_9 to CZ_177",
          "DC_9 to CZ_177",
          null,
          "DC_9 to CZ_178",
          "DC_9 to CZ_178",
          null,
          "DC_9 to CZ_180",
          "DC_9 to CZ_180",
          null,
          "DC_9 to CZ_181",
          "DC_9 to CZ_181",
          null,
          "DC_9 to CZ_182",
          "DC_9 to CZ_182",
          null,
          "DC_9 to CZ_186",
          "DC_9 to CZ_186",
          null,
          "DC_9 to CZ_187",
          "DC_9 to CZ_187",
          null,
          "DC_9 to CZ_188",
          "DC_9 to CZ_188",
          null,
          "DC_9 to CZ_189",
          "DC_9 to CZ_189",
          null,
          "DC_9 to CZ_272",
          "DC_9 to CZ_272",
          null,
          "DC_9 to CZ_273",
          "DC_9 to CZ_273",
          null,
          "DC_9 to CZ_283",
          "DC_9 to CZ_283",
          null,
          "DC_9 to CZ_69",
          "DC_9 to CZ_69",
          null,
          "DC_9 to CZ_73",
          "DC_9 to CZ_73",
          null,
          "DC_9 to CZ_76",
          "DC_9 to CZ_76",
          null,
          "DC_9 to CZ_79",
          "DC_9 to CZ_79",
          null,
          "DC_9 to CZ_81",
          "DC_9 to CZ_81",
          null,
          "DC_9 to CZ_121",
          "DC_9 to CZ_121",
          null,
          "DC_9 to CZ_139",
          "DC_9 to CZ_139",
          null,
          "DC_9 to CZ_179",
          "DC_9 to CZ_179",
          null,
          "DC_9 to CZ_219",
          "DC_9 to CZ_219",
          null,
          "DC_9 to CZ_221",
          "DC_9 to CZ_221",
          null,
          "DC_9 to CZ_223",
          "DC_9 to CZ_223",
          null,
          "DC_9 to CZ_242",
          "DC_9 to CZ_242",
          null,
          "DC_9 to CZ_258",
          "DC_9 to CZ_258",
          null,
          "DC_9 to CZ_261",
          "DC_9 to CZ_261",
          null,
          "DC_9 to CZ_265",
          "DC_9 to CZ_265",
          null,
          "DC_9 to CZ_270",
          "DC_9 to CZ_270",
          null,
          "DC_9 to CZ_271",
          "DC_9 to CZ_271",
          null,
          "DC_9 to CZ_274",
          "DC_9 to CZ_274",
          null,
          "DC_9 to CZ_275",
          "DC_9 to CZ_275",
          null,
          "DC_9 to CZ_276",
          "DC_9 to CZ_276",
          null,
          "DC_9 to CZ_277",
          "DC_9 to CZ_277",
          null,
          "DC_9 to CZ_278",
          "DC_9 to CZ_278",
          null,
          "DC_9 to CZ_293",
          "DC_9 to CZ_293",
          null,
          "DC_9 to CZ_68",
          "DC_9 to CZ_68",
          null,
          "DC_9 to CZ_70",
          "DC_9 to CZ_70",
          null,
          "DC_9 to CZ_71",
          "DC_9 to CZ_71",
          null,
          "DC_9 to CZ_72",
          "DC_9 to CZ_72",
          null,
          "DC_9 to CZ_74",
          "DC_9 to CZ_74",
          null,
          "DC_9 to CZ_75",
          "DC_9 to CZ_75",
          null,
          "DC_9 to CZ_77",
          "DC_9 to CZ_77",
          null,
          "DC_9 to CZ_207",
          "DC_9 to CZ_207",
          null,
          "DC_9 to CZ_225",
          "DC_9 to CZ_225",
          null,
          "DC_9 to CZ_268",
          "DC_9 to CZ_268",
          null,
          "DC_9 to CZ_27",
          "DC_9 to CZ_27",
          null,
          "DC_9 to CZ_47",
          "DC_9 to CZ_47",
          null,
          "DC_9 to CZ_101",
          "DC_9 to CZ_101",
          null,
          "DC_9 to CZ_109",
          "DC_9 to CZ_109",
          null,
          "DC_9 to CZ_11",
          "DC_9 to CZ_11",
          null,
          "DC_9 to CZ_14",
          "DC_9 to CZ_14",
          null,
          "DC_9 to CZ_140",
          "DC_9 to CZ_140",
          null,
          "DC_9 to CZ_144",
          "DC_9 to CZ_144",
          null,
          "DC_9 to CZ_145",
          "DC_9 to CZ_145",
          null,
          "DC_9 to CZ_159",
          "DC_9 to CZ_159",
          null,
          "DC_9 to CZ_204",
          "DC_9 to CZ_204",
          null,
          "DC_9 to CZ_208",
          "DC_9 to CZ_208",
          null,
          "DC_9 to CZ_226",
          "DC_9 to CZ_226",
          null,
          "DC_9 to CZ_227",
          "DC_9 to CZ_227",
          null,
          "DC_9 to CZ_239",
          "DC_9 to CZ_239",
          null,
          "DC_9 to CZ_240",
          "DC_9 to CZ_240",
          null,
          "DC_9 to CZ_241",
          "DC_9 to CZ_241",
          null,
          "DC_9 to CZ_25",
          "DC_9 to CZ_25",
          null,
          "DC_9 to CZ_250",
          "DC_9 to CZ_250",
          null,
          "DC_9 to CZ_262",
          "DC_9 to CZ_262",
          null,
          "DC_9 to CZ_279",
          "DC_9 to CZ_279",
          null,
          "DC_9 to CZ_282",
          "DC_9 to CZ_282",
          null,
          "DC_9 to CZ_286",
          "DC_9 to CZ_286",
          null,
          "DC_9 to CZ_291",
          "DC_9 to CZ_291",
          null,
          "DC_9 to CZ_3",
          "DC_9 to CZ_3",
          null,
          "DC_9 to CZ_31",
          "DC_9 to CZ_31",
          null,
          "DC_9 to CZ_4",
          "DC_9 to CZ_4",
          null,
          "DC_9 to CZ_40",
          "DC_9 to CZ_40",
          null,
          "DC_9 to CZ_5",
          "DC_9 to CZ_5",
          null,
          "DC_9 to CZ_50",
          "DC_9 to CZ_50",
          null,
          "DC_9 to CZ_8",
          "DC_9 to CZ_8",
          null
         ],
         "lat": [
          29.38079929558913,
          32.14893045727153,
          null,
          29.38079929558913,
          31.73575608295598,
          null,
          29.38079929558913,
          32.62754369430915,
          null,
          29.38079929558913,
          32.06232355267544,
          null,
          29.38079929558913,
          31.35470362228185,
          null,
          29.38079929558913,
          33.01335650611892,
          null,
          29.38079929558913,
          31.82258053795522,
          null,
          29.38079929558913,
          33.62771504579078,
          null,
          29.38079929558913,
          30.54578375093637,
          null,
          29.38079929558913,
          30.94293557276461,
          null,
          29.38079929558913,
          29.71706301538657,
          null,
          29.38079929558913,
          30.66714344132274,
          null,
          29.38079929558913,
          30.94771223306929,
          null,
          29.38079929558913,
          33.58291634117343,
          null,
          29.38079929558913,
          27.99755639661836,
          null,
          29.38079929558913,
          32.91799515400531,
          null,
          29.38079929558913,
          32.89211160308685,
          null,
          29.38079929558913,
          28.47103856667617,
          null,
          29.38079929558913,
          32.01093810474285,
          null,
          29.38079929558913,
          32.99281483167919,
          null,
          29.38079929558913,
          28.31533925357757,
          null,
          29.38079929558913,
          30.27471062336162,
          null,
          29.38079929558913,
          32.63157768676001,
          null,
          29.38079929558913,
          28.68621233484596,
          null,
          29.38079929558913,
          24.81346271120227,
          null,
          29.38079929558913,
          24.48248267708086,
          null,
          29.38079929558913,
          33.76759369387327,
          null,
          29.38079929558913,
          27.95235980536817,
          null,
          29.38079929558913,
          28.87483938230682,
          null,
          29.38079929558913,
          30.45656364420607,
          null,
          29.38079929558913,
          29.11994460352727,
          null,
          29.38079929558913,
          30.33771856112028,
          null,
          29.38079929558913,
          30.59551563172663,
          null,
          29.38079929558913,
          23.35675589262061,
          null,
          29.38079929558913,
          31.03762682496149,
          null,
          29.38079929558913,
          19.52310520944081,
          null,
          29.38079929558913,
          24.51593413543268,
          null,
          29.38079929558913,
          29.84391849264382,
          null,
          29.38079929558913,
          25.07789418380283,
          null,
          29.38079929558913,
          30.20208788314098,
          null,
          29.38079929558913,
          20.01938822575099,
          null,
          29.38079929558913,
          31.69209471228168,
          null,
          29.38079929558913,
          27.55830958891995,
          null,
          29.38079929558913,
          29.03470474864293,
          null,
          29.38079929558913,
          29.27146640241873,
          null,
          29.38079929558913,
          29.70763010190234,
          null,
          29.38079929558913,
          26.26684005591786,
          null,
          29.38079929558913,
          30.92704875840485,
          null,
          29.38079929558913,
          24.29123871036554,
          null,
          29.38079929558913,
          30.69441159948845,
          null,
          29.38079929558913,
          33.84602023421478,
          null,
          29.38079929558913,
          30.54886596183148,
          null,
          29.38079929558913,
          25.45688085615284,
          null,
          29.38079929558913,
          31.2117043271299,
          null,
          29.38079929558913,
          30.13175078920077,
          null,
          29.38079929558913,
          31.90165666241077,
          null,
          29.38079929558913,
          27.88504356472883,
          null,
          29.38079929558913,
          28.75519768160823,
          null,
          29.38079929558913,
          31.46973069933239,
          null,
          29.38079929558913,
          30.84007214993655,
          null,
          29.38079929558913,
          31.87008571552613,
          null,
          29.38079929558913,
          29.3418851374181,
          null,
          29.38079929558913,
          30.45874152168983,
          null,
          29.38079929558913,
          30.0523443545809,
          null,
          29.38079929558913,
          32.43782752968448,
          null,
          29.38079929558913,
          27.72918933516938,
          null,
          29.38079929558913,
          26.59628129977204,
          null,
          29.38079929558913,
          29.5658490143256,
          null,
          29.38079929558913,
          26.85859236359501,
          null,
          29.38079929558913,
          27.34168368255112,
          null,
          29.38079929558913,
          25.60952165934802,
          null,
          29.38079929558913,
          24.43652522328061,
          null,
          29.38079929558913,
          25.85588172220572,
          null,
          29.38079929558913,
          27.7033952036923,
          null,
          29.38079929558913,
          22.81969289402053,
          null,
          29.38079929558913,
          29.58280912023783,
          null,
          29.38079929558913,
          23.47955829321463,
          null,
          29.38079929558913,
          26.89680824683814,
          null,
          29.38079929558913,
          23.11442986508254,
          null,
          29.38079929558913,
          27.24212198420047,
          null,
          29.38079929558913,
          24.69568601285607,
          null,
          29.38079929558913,
          22.54582555967459,
          null,
          29.38079929558913,
          23.90524065563987,
          null,
          29.38079929558913,
          26.25752124739282,
          null,
          29.38079929558913,
          26.58699009505417,
          null,
          29.38079929558913,
          26.25661020954963,
          null,
          29.38079929558913,
          25.09093405808564,
          null,
          29.38079929558913,
          27.73477832582868,
          null,
          29.38079929558913,
          27.30596661372806,
          null,
          29.38079929558913,
          26.65133479795816,
          null,
          29.38079929558913,
          21.27309617063639,
          null,
          29.38079929558913,
          23.40338124080785,
          null,
          29.38079929558913,
          23.36564593259077,
          null,
          29.38079929558913,
          22.01021097537386,
          null,
          29.38079929558913,
          22.82805845259796,
          null,
          29.38079929558913,
          24.88316116418696,
          null,
          29.38079929558913,
          25.49299843430843,
          null,
          29.38079929558913,
          25.04856596148663,
          null,
          29.38079929558913,
          26.66910233527991,
          null,
          29.38079929558913,
          26.0776181921898,
          null,
          29.38079929558913,
          28.97315464783074,
          null,
          29.38079929558913,
          29.08204039822681,
          null,
          29.38079929558913,
          28.65933140957997,
          null,
          29.38079929558913,
          28.26333077443565,
          null,
          29.38079929558913,
          25.27640737125314,
          null,
          29.38079929558913,
          27.62617060128652,
          null,
          29.38079929558913,
          25.83501973395543,
          null,
          29.38079929558913,
          24.87704868485578,
          null,
          29.38079929558913,
          22.63914531488788,
          null,
          29.38079929558913,
          23.11434132447145,
          null,
          29.38079929558913,
          21.48363837917861,
          null,
          29.38079929558913,
          28.23172481249612,
          null,
          29.38079929558913,
          26.42398447631974,
          null,
          29.38079929558913,
          23.13183994295568,
          null,
          29.38079929558913,
          24.3281899387336,
          null,
          29.38079929558913,
          23.55239616559447,
          null,
          29.38079929558913,
          27.83068422933131,
          null,
          29.38079929558913,
          27.82126896986176,
          null,
          29.38079929558913,
          23.02325767171811,
          null,
          29.38079929558913,
          28.55701776626178,
          null,
          29.38079929558913,
          27.83319689390759,
          null,
          29.38079929558913,
          24.40661137243972,
          null,
          29.38079929558913,
          30.39463323771165,
          null,
          29.38079929558913,
          21.86070458069074,
          null,
          29.38079929558913,
          23.74619659509287,
          null,
          29.38079929558913,
          27.1168104600029,
          null,
          29.38079929558913,
          22.52033709433309,
          null,
          29.38079929558913,
          28.45827544557124,
          null,
          29.38079929558913,
          25.77348538002096,
          null,
          29.38079929558913,
          27.81871943652997,
          null,
          29.38079929558913,
          29.3596514802874,
          null,
          29.38079929558913,
          23.02409533068309,
          null
         ],
         "legendgroup": "DC_9",
         "line": {
          "color": "#FF6692",
          "width": 1
         },
         "lon": [
          113.1584727838096,
          114.0851344571613,
          null,
          113.1584727838096,
          116.5167623870941,
          null,
          113.1584727838096,
          116.9945269148156,
          null,
          113.1584727838096,
          118.7916846702178,
          null,
          113.1584727838096,
          118.4275501703881,
          null,
          113.1584727838096,
          114.0164292106147,
          null,
          113.1584727838096,
          117.2217530206498,
          null,
          113.1584727838096,
          114.6914875280797,
          null,
          113.1584727838096,
          117.0583094488215,
          null,
          113.1584727838096,
          118.7536914610581,
          null,
          113.1584727838096,
          118.3322856589073,
          null,
          113.1584727838096,
          117.4860824783757,
          null,
          113.1584727838096,
          117.8067260077645,
          null,
          113.1584727838096,
          114.0106299585456,
          null,
          113.1584727838096,
          120.6953146770179,
          null,
          113.1584727838096,
          117.3838768458563,
          null,
          113.1584727838096,
          115.8088195468257,
          null,
          113.1584727838096,
          119.9183913224205,
          null,
          113.1584727838096,
          112.1163256977821,
          null,
          113.1584727838096,
          112.5224592560118,
          null,
          113.1584727838096,
          109.7344422775661,
          null,
          113.1584727838096,
          109.4832871762125,
          null,
          113.1584727838096,
          110.7926649102856,
          null,
          113.1584727838096,
          115.8532852729079,
          null,
          113.1584727838096,
          113.5923294112387,
          null,
          113.1584727838096,
          118.084448093873,
          null,
          113.1584727838096,
          113.1863800141984,
          null,
          113.1584727838096,
          116.3531836141162,
          null,
          113.1584727838096,
          105.4386624441242,
          null,
          113.1584727838096,
          114.8672467200515,
          null,
          113.1584727838096,
          110.4742346915475,
          null,
          113.1584727838096,
          112.2340263095486,
          null,
          113.1584727838096,
          114.2999542047298,
          null,
          113.1584727838096,
          116.6775143618734,
          null,
          113.1584727838096,
          112.1934245655764,
          null,
          113.1584727838096,
          109.5767984155979,
          null,
          113.1584727838096,
          117.6427017011435,
          null,
          113.1584727838096,
          114.3170938337267,
          null,
          113.1584727838096,
          117.0126782413234,
          null,
          113.1584727838096,
          115.0331487829698,
          null,
          113.1584727838096,
          110.3448278590682,
          null,
          113.1584727838096,
          113.3762466668986,
          null,
          113.1584727838096,
          109.9938246198597,
          null,
          113.1584727838096,
          111.6928984567219,
          null,
          113.1584727838096,
          117.1730932594236,
          null,
          113.1584727838096,
          115.9968498897885,
          null,
          113.1584727838096,
          117.6337852475838,
          null,
          113.1584727838096,
          113.9114171453589,
          null,
          113.1584727838096,
          116.1174052422547,
          null,
          113.1584727838096,
          111.2808231203681,
          null,
          113.1584727838096,
          115.7731280236451,
          null,
          113.1584727838096,
          114.3363714923768,
          null,
          113.1584727838096,
          119.0030583278949,
          null,
          113.1584727838096,
          107.4633548893442,
          null,
          113.1584727838096,
          104.6252370576223,
          null,
          113.1584727838096,
          102.223006553013,
          null,
          113.1584727838096,
          102.265841134515,
          null,
          113.1584727838096,
          104.6408382179202,
          null,
          113.1584727838096,
          104.6765055884907,
          null,
          113.1584727838096,
          106.1066772287715,
          null,
          113.1584727838096,
          106.7433360907896,
          null,
          113.1584727838096,
          104.7757456053025,
          null,
          113.1584727838096,
          106.6294280176608,
          null,
          113.1584727838096,
          101.9607944939152,
          null,
          113.1584727838096,
          105.8396443188976,
          null,
          113.1584727838096,
          106.9235728918846,
          null,
          113.1584727838096,
          104.8278184351933,
          null,
          113.1584727838096,
          106.5478312634267,
          null,
          113.1584727838096,
          100.226617197402,
          null,
          113.1584727838096,
          103.7153750119609,
          null,
          113.1584727838096,
          100.266540437132,
          null,
          113.1584727838096,
          98.58474196486381,
          null,
          113.1584727838096,
          98.85270009438005,
          null,
          113.1584727838096,
          111.9879998873743,
          null,
          113.1584727838096,
          108.362477121497,
          null,
          113.1584727838096,
          105.0552159487049,
          null,
          113.1584727838096,
          111.274015703365,
          null,
          113.1584727838096,
          112.5667549296271,
          null,
          113.1584727838096,
          109.5947354798691,
          null,
          113.1584727838096,
          111.46221384419,
          null,
          113.1584727838096,
          108.0810096435724,
          null,
          113.1584727838096,
          114.0527603784418,
          null,
          113.1584727838096,
          106.6147948071433,
          null,
          113.1584727838096,
          107.5179199131978,
          null,
          113.1584727838096,
          107.9787341141204,
          null,
          113.1584727838096,
          105.944234857304,
          null,
          113.1584727838096,
          104.9039323613744,
          null,
          113.1584727838096,
          109.1850122201689,
          null,
          113.1584727838096,
          105.2807802738927,
          null,
          113.1584727838096,
          106.6265908397277,
          null,
          113.1584727838096,
          110.354889157503,
          null,
          113.1584727838096,
          104.2141451396921,
          null,
          113.1584727838096,
          103.3727785187104,
          null,
          113.1584727838096,
          100.7966529405068,
          null,
          113.1584727838096,
          100.9653388647515,
          null,
          113.1584727838096,
          102.8314726024856,
          null,
          113.1584727838096,
          103.7941408167699,
          null,
          113.1584727838096,
          101.5265948761278,
          null,
          113.1584727838096,
          119.5433363814137,
          null,
          113.1584727838096,
          119.2917011892226,
          null,
          113.1584727838096,
          118.854654147615,
          null,
          113.1584727838096,
          119.6427445137875,
          null,
          113.1584727838096,
          121.4163247141463,
          null,
          113.1584727838096,
          117.0639390123689,
          null,
          113.1584727838096,
          110.2856160493322,
          null,
          113.1584727838096,
          113.8492410599548,
          null,
          113.1584727838096,
          114.9303090866153,
          null,
          113.1584727838096,
          118.6711374909511,
          null,
          113.1584727838096,
          110.1602485882664,
          null,
          113.1584727838096,
          114.4112231590118,
          null,
          113.1584727838096,
          109.115632600491,
          null,
          113.1584727838096,
          112.9333749497692,
          null,
          113.1584727838096,
          111.6082031062636,
          null,
          113.1584727838096,
          113.2591072209036,
          null,
          113.1584727838096,
          109.4113447001055,
          null,
          113.1584727838096,
          116.3681272690569,
          null,
          113.1584727838096,
          113.1281661277162,
          null,
          113.1584727838096,
          114.9125028115343,
          null,
          113.1584727838096,
          113.7465689259144,
          null,
          113.1584727838096,
          112.3494809086573,
          null,
          113.1584727838096,
          112.9386306519383,
          null,
          113.1584727838096,
          111.5615733816437,
          null,
          113.1584727838096,
          114.8898001694227,
          null,
          113.1584727838096,
          111.9771709235079,
          null,
          113.1584727838096,
          114.6957546912138,
          null,
          113.1584727838096,
          114.9875428650263,
          null,
          113.1584727838096,
          113.3873020309186,
          null,
          113.1584727838096,
          117.9384605453474,
          null,
          113.1584727838096,
          113.0092286976784,
          null,
          113.1584727838096,
          114.4114676050099,
          null,
          113.1584727838096,
          113.122987599309,
          null,
          113.1584727838096,
          113.1159291678165,
          null
         ],
         "mode": "lines",
         "name": "DC_9",
         "opacity": 0.8,
         "showlegend": true,
         "subplot": "mapbox",
         "type": "scattermapbox"
        },
        {
         "hovertemplate": "<b>%{hovertext}</b><br><br>color=DC_5<br>lat=%{lat}<br>lon=%{lon}<extra></extra>",
         "hovertext": [
          "DC_5 to CZ_112",
          "DC_5 to CZ_112",
          null,
          "DC_5 to CZ_116",
          "DC_5 to CZ_116",
          null,
          "DC_5 to CZ_122",
          "DC_5 to CZ_122",
          null,
          "DC_5 to CZ_130",
          "DC_5 to CZ_130",
          null,
          "DC_5 to CZ_132",
          "DC_5 to CZ_132",
          null,
          "DC_5 to CZ_146",
          "DC_5 to CZ_146",
          null,
          "DC_5 to CZ_154",
          "DC_5 to CZ_154",
          null,
          "DC_5 to CZ_200",
          "DC_5 to CZ_200",
          null,
          "DC_5 to CZ_201",
          "DC_5 to CZ_201",
          null,
          "DC_5 to CZ_205",
          "DC_5 to CZ_205",
          null,
          "DC_5 to CZ_228",
          "DC_5 to CZ_228",
          null,
          "DC_5 to CZ_23",
          "DC_5 to CZ_23",
          null,
          "DC_5 to CZ_234",
          "DC_5 to CZ_234",
          null,
          "DC_5 to CZ_237",
          "DC_5 to CZ_237",
          null,
          "DC_5 to CZ_238",
          "DC_5 to CZ_238",
          null,
          "DC_5 to CZ_264",
          "DC_5 to CZ_264",
          null,
          "DC_5 to CZ_266",
          "DC_5 to CZ_266",
          null,
          "DC_5 to CZ_34",
          "DC_5 to CZ_34",
          null,
          "DC_5 to CZ_36",
          "DC_5 to CZ_36",
          null,
          "DC_5 to CZ_65",
          "DC_5 to CZ_65",
          null,
          "DC_5 to CZ_96",
          "DC_5 to CZ_96",
          null,
          "DC_5 to CZ_111",
          "DC_5 to CZ_111",
          null,
          "DC_5 to CZ_123",
          "DC_5 to CZ_123",
          null,
          "DC_5 to CZ_131",
          "DC_5 to CZ_131",
          null,
          "DC_5 to CZ_2",
          "DC_5 to CZ_2",
          null,
          "DC_5 to CZ_203",
          "DC_5 to CZ_203",
          null,
          "DC_5 to CZ_244",
          "DC_5 to CZ_244",
          null,
          "DC_5 to CZ_63",
          "DC_5 to CZ_63",
          null,
          "DC_5 to CZ_67",
          "DC_5 to CZ_67",
          null,
          "DC_5 to CZ_9",
          "DC_5 to CZ_9",
          null,
          "DC_5 to CZ_155",
          "DC_5 to CZ_155",
          null,
          "DC_5 to CZ_58",
          "DC_5 to CZ_58",
          null,
          "DC_5 to CZ_1",
          "DC_5 to CZ_1",
          null,
          "DC_5 to CZ_102",
          "DC_5 to CZ_102",
          null,
          "DC_5 to CZ_103",
          "DC_5 to CZ_103",
          null,
          "DC_5 to CZ_108",
          "DC_5 to CZ_108",
          null,
          "DC_5 to CZ_151",
          "DC_5 to CZ_151",
          null,
          "DC_5 to CZ_16",
          "DC_5 to CZ_16",
          null,
          "DC_5 to CZ_161",
          "DC_5 to CZ_161",
          null,
          "DC_5 to CZ_197",
          "DC_5 to CZ_197",
          null,
          "DC_5 to CZ_198",
          "DC_5 to CZ_198",
          null,
          "DC_5 to CZ_210",
          "DC_5 to CZ_210",
          null,
          "DC_5 to CZ_229",
          "DC_5 to CZ_229",
          null,
          "DC_5 to CZ_247",
          "DC_5 to CZ_247",
          null,
          "DC_5 to CZ_249",
          "DC_5 to CZ_249",
          null,
          "DC_5 to CZ_290",
          "DC_5 to CZ_290",
          null,
          "DC_5 to CZ_41",
          "DC_5 to CZ_41",
          null,
          "DC_5 to CZ_66",
          "DC_5 to CZ_66",
          null,
          "DC_5 to CZ_85",
          "DC_5 to CZ_85",
          null,
          "DC_5 to CZ_87",
          "DC_5 to CZ_87",
          null,
          "DC_5 to CZ_98",
          "DC_5 to CZ_98",
          null
         ],
         "lat": [
          43.15403445056779,
          31.73575608295598,
          null,
          43.15403445056779,
          40.70959455770206,
          null,
          43.15403445056779,
          41.09306620182436,
          null,
          43.15403445056779,
          39.902626245166,
          null,
          43.15403445056779,
          39.08314262375163,
          null,
          43.15403445056779,
          39.93427691598691,
          null,
          43.15403445056779,
          41.10674546752389,
          null,
          43.15403445056779,
          40.66544437055811,
          null,
          43.15403445056779,
          38.91322925994839,
          null,
          43.15403445056779,
          42.25587691695832,
          null,
          43.15403445056779,
          41.80326291802402,
          null,
          43.15403445056779,
          39.998962954379,
          null,
          43.15403445056779,
          42.01951815368355,
          null,
          43.15403445056779,
          37.46284183566092,
          null,
          43.15403445056779,
          41.87872843096351,
          null,
          43.15403445056779,
          41.26517446940125,
          null,
          43.15403445056779,
          41.11791379409293,
          null,
          43.15403445056779,
          39.62954759868035,
          null,
          43.15403445056779,
          40.95250667908144,
          null,
          43.15403445056779,
          37.51203174558772,
          null,
          43.15403445056779,
          38.30390787880884,
          null,
          43.15403445056779,
          42.22154773477672,
          null,
          43.15403445056779,
          41.57143607080685,
          null,
          43.15403445056779,
          39.902626245166,
          null,
          43.15403445056779,
          40.82308854129995,
          null,
          43.15403445056779,
          43.65052523160977,
          null,
          43.15403445056779,
          41.29208302479014,
          null,
          43.15403445056779,
          43.81463051275358,
          null,
          43.15403445056779,
          43.93128150032256,
          null,
          43.15403445056779,
          39.53695727577932,
          null,
          43.15403445056779,
          40.81607321636371,
          null,
          43.15403445056779,
          46.07553890622198,
          null,
          43.15403445056779,
          45.76952421736279,
          null,
          43.15403445056779,
          46.79771597065292,
          null,
          43.15403445056779,
          47.35231321775213,
          null,
          43.15403445056779,
          49.20963003946251,
          null,
          43.15403445056779,
          46.64426752618719,
          null,
          43.15403445056779,
          42.88538963725586,
          null,
          43.15403445056779,
          43.83561599238054,
          null,
          43.15403445056779,
          45.61772161997866,
          null,
          43.15403445056779,
          46.58720522020402,
          null,
          43.15403445056779,
          46.65196017516132,
          null,
          43.15403445056779,
          42.88877357900488,
          null,
          43.15403445056779,
          44.54969496595082,
          null,
          43.15403445056779,
          41.7262449323065,
          null,
          43.15403445056779,
          47.3474843456173,
          null,
          43.15403445056779,
          41.93748279699102,
          null,
          43.15403445056779,
          45.13980772046496,
          null,
          43.15403445056779,
          50.24368593698285,
          null,
          43.15403445056779,
          45.80177718939836,
          null,
          43.15403445056779,
          43.16385395902515,
          null
         ],
         "legendgroup": "DC_5",
         "line": {
          "color": "#B6E880",
          "width": 1
         },
         "lon": [
          124.4181295045634,
          116.5167623870941,
          null,
          124.4181295045634,
          120.8317448357023,
          null,
          124.4181295045634,
          121.1213539396126,
          null,
          124.4181295045634,
          116.4012828477588,
          null,
          124.4181295045634,
          117.1946754317495,
          null,
          124.4181295045634,
          119.5947177212679,
          null,
          124.4181295045634,
          122.9888556604474,
          null,
          124.4181295045634,
          122.2302400702165,
          null,
          124.4181295045634,
          121.6097414873907,
          null,
          124.4181295045634,
          118.8806794224993,
          null,
          124.4181295045634,
          123.4253315842275,
          null,
          124.4181295045634,
          124.3489462400518,
          null,
          124.4181295045634,
          121.6649262102888,
          null,
          124.4181295045634,
          121.4427159708412,
          null,
          124.4181295045634,
          123.9514479031235,
          null,
          124.4181295045634,
          123.2312079197878,
          null,
          124.4181295045634,
          122.0652294108859,
          null,
          124.4181295045634,
          118.1738965760385,
          null,
          124.4181295045634,
          117.9561006544303,
          null,
          124.4181295045634,
          122.1153552474822,
          null,
          124.4181295045634,
          116.833033542554,
          null,
          124.4181295045634,
          123.7201627592107,
          null,
          124.4181295045634,
          120.4446736419042,
          null,
          124.4181295045634,
          116.4012828477588,
          null,
          124.4181295045634,
          114.8814226622556,
          null,
          124.4181295045634,
          122.2378879047936,
          null,
          124.4181295045634,
          123.7605948505183,
          null,
          124.4181295045634,
          125.3170556355448,
          null,
          124.4181295045634,
          116.0414004756569,
          null,
          124.4181295045634,
          116.677852879759,
          null,
          124.4181295045634,
          111.7587040406893,
          null,
          124.4181295045634,
          122.0608579323195,
          null,
          124.4181295045634,
          130.9954707831791,
          null,
          124.4181295045634,
          130.3111451263799,
          null,
          124.4181295045634,
          123.9116401073984,
          null,
          124.4181295045634,
          119.7583899763413,
          null,
          124.4181295045634,
          131.1510069771096,
          null,
          124.4181295045634,
          125.1371243298611,
          null,
          124.4181295045634,
          126.5438692036536,
          null,
          124.4181295045634,
          122.8331420715561,
          null,
          124.4181295045634,
          125.0967328203679,
          null,
          124.4181295045634,
          126.9625904009473,
          null,
          124.4181295045634,
          129.5019905807352,
          null,
          124.4181295045634,
          129.6261051100511,
          null,
          124.4181295045634,
          125.9340480370677,
          null,
          124.4181295045634,
          130.2901267545506,
          null,
          124.4181295045634,
          126.4177249758252,
          null,
          124.4181295045634,
          124.8188159261021,
          null,
          124.4181295045634,
          127.521248509938,
          null,
          124.4181295045634,
          126.5289038817265,
          null,
          124.4181295045634,
          124.3442076195231,
          null
         ],
         "mode": "lines",
         "name": "DC_5",
         "opacity": 0.8,
         "showlegend": true,
         "subplot": "mapbox",
         "type": "scattermapbox"
        },
        {
         "hovertemplate": "<b>%{hovertext}</b><br><br>color=DC_6<br>lat=%{lat}<br>lon=%{lon}<extra></extra>",
         "hovertext": [
          "DC_6 to CZ_124",
          "DC_6 to CZ_124",
          null,
          "DC_6 to CZ_127",
          "DC_6 to CZ_127",
          null,
          "DC_6 to CZ_184",
          "DC_6 to CZ_184",
          null,
          "DC_6 to CZ_232",
          "DC_6 to CZ_232",
          null,
          "DC_6 to CZ_259",
          "DC_6 to CZ_259",
          null,
          "DC_6 to CZ_288",
          "DC_6 to CZ_288",
          null,
          "DC_6 to CZ_32",
          "DC_6 to CZ_32",
          null,
          "DC_6 to CZ_53",
          "DC_6 to CZ_53",
          null,
          "DC_6 to CZ_6",
          "DC_6 to CZ_6",
          null,
          "DC_6 to CZ_86",
          "DC_6 to CZ_86",
          null,
          "DC_6 to CZ_171",
          "DC_6 to CZ_171",
          null,
          "DC_6 to CZ_172",
          "DC_6 to CZ_172",
          null,
          "DC_6 to CZ_174",
          "DC_6 to CZ_174",
          null,
          "DC_6 to CZ_175",
          "DC_6 to CZ_175",
          null,
          "DC_6 to CZ_177",
          "DC_6 to CZ_177",
          null,
          "DC_6 to CZ_178",
          "DC_6 to CZ_178",
          null,
          "DC_6 to CZ_180",
          "DC_6 to CZ_180",
          null,
          "DC_6 to CZ_181",
          "DC_6 to CZ_181",
          null,
          "DC_6 to CZ_182",
          "DC_6 to CZ_182",
          null,
          "DC_6 to CZ_185",
          "DC_6 to CZ_185",
          null,
          "DC_6 to CZ_186",
          "DC_6 to CZ_186",
          null,
          "DC_6 to CZ_187",
          "DC_6 to CZ_187",
          null,
          "DC_6 to CZ_188",
          "DC_6 to CZ_188",
          null,
          "DC_6 to CZ_189",
          "DC_6 to CZ_189",
          null,
          "DC_6 to CZ_190",
          "DC_6 to CZ_190",
          null,
          "DC_6 to CZ_191",
          "DC_6 to CZ_191",
          null,
          "DC_6 to CZ_272",
          "DC_6 to CZ_272",
          null,
          "DC_6 to CZ_273",
          "DC_6 to CZ_273",
          null,
          "DC_6 to CZ_281",
          "DC_6 to CZ_281",
          null,
          "DC_6 to CZ_283",
          "DC_6 to CZ_283",
          null,
          "DC_6 to CZ_69",
          "DC_6 to CZ_69",
          null,
          "DC_6 to CZ_73",
          "DC_6 to CZ_73",
          null,
          "DC_6 to CZ_76",
          "DC_6 to CZ_76",
          null,
          "DC_6 to CZ_79",
          "DC_6 to CZ_79",
          null,
          "DC_6 to CZ_81",
          "DC_6 to CZ_81",
          null,
          "DC_6 to CZ_121",
          "DC_6 to CZ_121",
          null,
          "DC_6 to CZ_139",
          "DC_6 to CZ_139",
          null,
          "DC_6 to CZ_173",
          "DC_6 to CZ_173",
          null,
          "DC_6 to CZ_176",
          "DC_6 to CZ_176",
          null,
          "DC_6 to CZ_179",
          "DC_6 to CZ_179",
          null,
          "DC_6 to CZ_183",
          "DC_6 to CZ_183",
          null,
          "DC_6 to CZ_219",
          "DC_6 to CZ_219",
          null,
          "DC_6 to CZ_221",
          "DC_6 to CZ_221",
          null,
          "DC_6 to CZ_223",
          "DC_6 to CZ_223",
          null,
          "DC_6 to CZ_242",
          "DC_6 to CZ_242",
          null,
          "DC_6 to CZ_258",
          "DC_6 to CZ_258",
          null,
          "DC_6 to CZ_261",
          "DC_6 to CZ_261",
          null,
          "DC_6 to CZ_265",
          "DC_6 to CZ_265",
          null,
          "DC_6 to CZ_270",
          "DC_6 to CZ_270",
          null,
          "DC_6 to CZ_271",
          "DC_6 to CZ_271",
          null,
          "DC_6 to CZ_274",
          "DC_6 to CZ_274",
          null,
          "DC_6 to CZ_275",
          "DC_6 to CZ_275",
          null,
          "DC_6 to CZ_276",
          "DC_6 to CZ_276",
          null,
          "DC_6 to CZ_277",
          "DC_6 to CZ_277",
          null,
          "DC_6 to CZ_278",
          "DC_6 to CZ_278",
          null,
          "DC_6 to CZ_293",
          "DC_6 to CZ_293",
          null,
          "DC_6 to CZ_68",
          "DC_6 to CZ_68",
          null,
          "DC_6 to CZ_70",
          "DC_6 to CZ_70",
          null,
          "DC_6 to CZ_71",
          "DC_6 to CZ_71",
          null,
          "DC_6 to CZ_72",
          "DC_6 to CZ_72",
          null,
          "DC_6 to CZ_74",
          "DC_6 to CZ_74",
          null,
          "DC_6 to CZ_75",
          "DC_6 to CZ_75",
          null,
          "DC_6 to CZ_77",
          "DC_6 to CZ_77",
          null,
          "DC_6 to CZ_78",
          "DC_6 to CZ_78",
          null,
          "DC_6 to CZ_80",
          "DC_6 to CZ_80",
          null
         ],
         "lat": [
          30.43526374766115,
          28.31533925357757,
          null,
          30.43526374766115,
          30.27471062336162,
          null,
          30.43526374766115,
          28.87483938230682,
          null,
          30.43526374766115,
          29.11994460352727,
          null,
          30.43526374766115,
          19.52310520944081,
          null,
          30.43526374766115,
          20.01938822575099,
          null,
          30.43526374766115,
          27.55830958891995,
          null,
          30.43526374766115,
          29.03470474864293,
          null,
          30.43526374766115,
          34.33105343685244,
          null,
          30.43526374766115,
          30.69441159948845,
          null,
          30.43526374766115,
          31.2117043271299,
          null,
          30.43526374766115,
          31.12899552745817,
          null,
          30.43526374766115,
          30.13175078920077,
          null,
          30.43526374766115,
          31.90165666241077,
          null,
          30.43526374766115,
          27.88504356472883,
          null,
          30.43526374766115,
          28.75519768160823,
          null,
          30.43526374766115,
          31.46973069933239,
          null,
          30.43526374766115,
          30.84007214993655,
          null,
          30.43526374766115,
          31.87008571552613,
          null,
          30.43526374766115,
          30.53563957427876,
          null,
          30.43526374766115,
          29.3418851374181,
          null,
          30.43526374766115,
          30.45874152168983,
          null,
          30.43526374766115,
          30.0523443545809,
          null,
          30.43526374766115,
          32.43782752968448,
          null,
          30.43526374766115,
          31.14329275102384,
          null,
          30.43526374766115,
          29.98320267641596,
          null,
          30.43526374766115,
          27.72918933516938,
          null,
          30.43526374766115,
          26.59628129977204,
          null,
          30.43526374766115,
          34.47290911965604,
          null,
          30.43526374766115,
          29.5658490143256,
          null,
          30.43526374766115,
          26.85859236359501,
          null,
          30.43526374766115,
          27.34168368255112,
          null,
          30.43526374766115,
          25.60952165934802,
          null,
          30.43526374766115,
          24.43652522328061,
          null,
          30.43526374766115,
          25.85588172220572,
          null,
          30.43526374766115,
          27.7033952036923,
          null,
          30.43526374766115,
          22.81969289402053,
          null,
          30.43526374766115,
          29.55486012728612,
          null,
          30.43526374766115,
          30.07825703112998,
          null,
          30.43526374766115,
          29.58280912023783,
          null,
          30.43526374766115,
          30.57472618688221,
          null,
          30.43526374766115,
          23.47955829321463,
          null,
          30.43526374766115,
          26.89680824683814,
          null,
          30.43526374766115,
          23.11442986508254,
          null,
          30.43526374766115,
          27.24212198420047,
          null,
          30.43526374766115,
          24.69568601285607,
          null,
          30.43526374766115,
          22.54582555967459,
          null,
          30.43526374766115,
          23.90524065563987,
          null,
          30.43526374766115,
          26.25752124739282,
          null,
          30.43526374766115,
          26.58699009505417,
          null,
          30.43526374766115,
          26.25661020954963,
          null,
          30.43526374766115,
          25.09093405808564,
          null,
          30.43526374766115,
          27.73477832582868,
          null,
          30.43526374766115,
          27.30596661372806,
          null,
          30.43526374766115,
          26.65133479795816,
          null,
          30.43526374766115,
          21.27309617063639,
          null,
          30.43526374766115,
          23.40338124080785,
          null,
          30.43526374766115,
          23.36564593259077,
          null,
          30.43526374766115,
          22.01021097537386,
          null,
          30.43526374766115,
          22.82805845259796,
          null,
          30.43526374766115,
          24.88316116418696,
          null,
          30.43526374766115,
          25.49299843430843,
          null,
          30.43526374766115,
          25.04856596148663,
          null,
          30.43526374766115,
          24.35509872756021,
          null,
          30.43526374766115,
          23.88016567387444,
          null
         ],
         "legendgroup": "DC_6",
         "line": {
          "color": "#FF97FF",
          "width": 1
         },
         "lon": [
          103.7963218966275,
          109.7344422775661,
          null,
          103.7963218966275,
          109.4832871762125,
          null,
          103.7963218966275,
          105.4386624441242,
          null,
          103.7963218966275,
          110.4742346915475,
          null,
          103.7963218966275,
          109.5767984155979,
          null,
          103.7963218966275,
          110.3448278590682,
          null,
          103.7963218966275,
          109.9938246198597,
          null,
          103.7963218966275,
          111.6928984567219,
          null,
          103.7963218966275,
          108.70432818877,
          null,
          103.7963218966275,
          111.2808231203681,
          null,
          103.7963218966275,
          107.4633548893442,
          null,
          103.7963218966275,
          104.3952141871174,
          null,
          103.7963218966275,
          104.6252370576223,
          null,
          103.7963218966275,
          102.223006553013,
          null,
          103.7963218966275,
          102.265841134515,
          null,
          103.7963218966275,
          104.6408382179202,
          null,
          103.7963218966275,
          104.6765055884907,
          null,
          103.7963218966275,
          106.1066772287715,
          null,
          103.7963218966275,
          106.7433360907896,
          null,
          103.7963218966275,
          105.5894893487255,
          null,
          103.7963218966275,
          104.7757456053025,
          null,
          103.7963218966275,
          106.6294280176608,
          null,
          103.7963218966275,
          101.9607944939152,
          null,
          103.7963218966275,
          105.8396443188976,
          null,
          103.7963218966275,
          97.17148314940665,
          null,
          103.7963218966275,
          103.0114015388349,
          null,
          103.7963218966275,
          106.9235728918846,
          null,
          103.7963218966275,
          104.8278184351933,
          null,
          103.7963218966275,
          100.243467122574,
          null,
          103.7963218966275,
          106.5478312634267,
          null,
          103.7963218966275,
          100.226617197402,
          null,
          103.7963218966275,
          103.7153750119609,
          null,
          103.7963218966275,
          100.266540437132,
          null,
          103.7963218966275,
          98.58474196486381,
          null,
          103.7963218966275,
          98.85270009438005,
          null,
          103.7963218966275,
          111.9879998873743,
          null,
          103.7963218966275,
          108.362477121497,
          null,
          103.7963218966275,
          103.7633582225082,
          null,
          103.7963218966275,
          103.8464324283255,
          null,
          103.7963218966275,
          105.0552159487049,
          null,
          103.7963218966275,
          104.0640406467982,
          null,
          103.7963218966275,
          111.274015703365,
          null,
          103.7963218966275,
          112.5667549296271,
          null,
          103.7963218966275,
          109.5947354798691,
          null,
          103.7963218966275,
          111.46221384419,
          null,
          103.7963218966275,
          108.0810096435724,
          null,
          103.7963218966275,
          114.0527603784418,
          null,
          103.7963218966275,
          106.6147948071433,
          null,
          103.7963218966275,
          107.5179199131978,
          null,
          103.7963218966275,
          107.9787341141204,
          null,
          103.7963218966275,
          105.944234857304,
          null,
          103.7963218966275,
          104.9039323613744,
          null,
          103.7963218966275,
          109.1850122201689,
          null,
          103.7963218966275,
          105.2807802738927,
          null,
          103.7963218966275,
          106.6265908397277,
          null,
          103.7963218966275,
          110.354889157503,
          null,
          103.7963218966275,
          104.2141451396921,
          null,
          103.7963218966275,
          103.3727785187104,
          null,
          103.7963218966275,
          100.7966529405068,
          null,
          103.7963218966275,
          100.9653388647515,
          null,
          103.7963218966275,
          102.8314726024856,
          null,
          103.7963218966275,
          103.7941408167699,
          null,
          103.7963218966275,
          101.5265948761278,
          null,
          103.7963218966275,
          102.5452870357915,
          null,
          103.7963218966275,
          100.0783382546188,
          null
         ],
         "mode": "lines",
         "name": "DC_6",
         "opacity": 0.8,
         "showlegend": true,
         "subplot": "mapbox",
         "type": "scattermapbox"
        }
       ],
       "layout": {
        "legend": {
         "title": {
          "text": "color"
         },
         "tracegroupgap": 0
        },
        "mapbox": {
         "accesstoken": "pk.eyJ1IjoiY2h1bnhpYW9saSIsImEiOiJjbDRtb3V3a2QxeTk2M2pyeXozYXV2NTl6In0.YzvDEk9hGVLJPXLHVrPiLQ",
         "center": {
          "lat": 33.83837567702442,
          "lon": 113.6512979847129
         },
         "domain": {
          "x": [
           0,
           1
          ],
          "y": [
           0,
           1
          ]
         },
         "style": "dark",
         "zoom": 3
        },
        "margin": {
         "b": 0,
         "l": 0,
         "r": 0,
         "t": 0
        },
        "template": {
         "data": {
          "bar": [
           {
            "error_x": {
             "color": "#2a3f5f"
            },
            "error_y": {
             "color": "#2a3f5f"
            },
            "marker": {
             "line": {
              "color": "#E5ECF6",
              "width": 0.5
             },
             "pattern": {
              "fillmode": "overlay",
              "size": 10,
              "solidity": 0.2
             }
            },
            "type": "bar"
           }
          ],
          "barpolar": [
           {
            "marker": {
             "line": {
              "color": "#E5ECF6",
              "width": 0.5
             },
             "pattern": {
              "fillmode": "overlay",
              "size": 10,
              "solidity": 0.2
             }
            },
            "type": "barpolar"
           }
          ],
          "carpet": [
           {
            "aaxis": {
             "endlinecolor": "#2a3f5f",
             "gridcolor": "white",
             "linecolor": "white",
             "minorgridcolor": "white",
             "startlinecolor": "#2a3f5f"
            },
            "baxis": {
             "endlinecolor": "#2a3f5f",
             "gridcolor": "white",
             "linecolor": "white",
             "minorgridcolor": "white",
             "startlinecolor": "#2a3f5f"
            },
            "type": "carpet"
           }
          ],
          "choropleth": [
           {
            "colorbar": {
             "outlinewidth": 0,
             "ticks": ""
            },
            "type": "choropleth"
           }
          ],
          "contour": [
           {
            "colorbar": {
             "outlinewidth": 0,
             "ticks": ""
            },
            "colorscale": [
             [
              0,
              "#0d0887"
             ],
             [
              0.1111111111111111,
              "#46039f"
             ],
             [
              0.2222222222222222,
              "#7201a8"
             ],
             [
              0.3333333333333333,
              "#9c179e"
             ],
             [
              0.4444444444444444,
              "#bd3786"
             ],
             [
              0.5555555555555556,
              "#d8576b"
             ],
             [
              0.6666666666666666,
              "#ed7953"
             ],
             [
              0.7777777777777778,
              "#fb9f3a"
             ],
             [
              0.8888888888888888,
              "#fdca26"
             ],
             [
              1,
              "#f0f921"
             ]
            ],
            "type": "contour"
           }
          ],
          "contourcarpet": [
           {
            "colorbar": {
             "outlinewidth": 0,
             "ticks": ""
            },
            "type": "contourcarpet"
           }
          ],
          "heatmap": [
           {
            "colorbar": {
             "outlinewidth": 0,
             "ticks": ""
            },
            "colorscale": [
             [
              0,
              "#0d0887"
             ],
             [
              0.1111111111111111,
              "#46039f"
             ],
             [
              0.2222222222222222,
              "#7201a8"
             ],
             [
              0.3333333333333333,
              "#9c179e"
             ],
             [
              0.4444444444444444,
              "#bd3786"
             ],
             [
              0.5555555555555556,
              "#d8576b"
             ],
             [
              0.6666666666666666,
              "#ed7953"
             ],
             [
              0.7777777777777778,
              "#fb9f3a"
             ],
             [
              0.8888888888888888,
              "#fdca26"
             ],
             [
              1,
              "#f0f921"
             ]
            ],
            "type": "heatmap"
           }
          ],
          "heatmapgl": [
           {
            "colorbar": {
             "outlinewidth": 0,
             "ticks": ""
            },
            "colorscale": [
             [
              0,
              "#0d0887"
             ],
             [
              0.1111111111111111,
              "#46039f"
             ],
             [
              0.2222222222222222,
              "#7201a8"
             ],
             [
              0.3333333333333333,
              "#9c179e"
             ],
             [
              0.4444444444444444,
              "#bd3786"
             ],
             [
              0.5555555555555556,
              "#d8576b"
             ],
             [
              0.6666666666666666,
              "#ed7953"
             ],
             [
              0.7777777777777778,
              "#fb9f3a"
             ],
             [
              0.8888888888888888,
              "#fdca26"
             ],
             [
              1,
              "#f0f921"
             ]
            ],
            "type": "heatmapgl"
           }
          ],
          "histogram": [
           {
            "marker": {
             "pattern": {
              "fillmode": "overlay",
              "size": 10,
              "solidity": 0.2
             }
            },
            "type": "histogram"
           }
          ],
          "histogram2d": [
           {
            "colorbar": {
             "outlinewidth": 0,
             "ticks": ""
            },
            "colorscale": [
             [
              0,
              "#0d0887"
             ],
             [
              0.1111111111111111,
              "#46039f"
             ],
             [
              0.2222222222222222,
              "#7201a8"
             ],
             [
              0.3333333333333333,
              "#9c179e"
             ],
             [
              0.4444444444444444,
              "#bd3786"
             ],
             [
              0.5555555555555556,
              "#d8576b"
             ],
             [
              0.6666666666666666,
              "#ed7953"
             ],
             [
              0.7777777777777778,
              "#fb9f3a"
             ],
             [
              0.8888888888888888,
              "#fdca26"
             ],
             [
              1,
              "#f0f921"
             ]
            ],
            "type": "histogram2d"
           }
          ],
          "histogram2dcontour": [
           {
            "colorbar": {
             "outlinewidth": 0,
             "ticks": ""
            },
            "colorscale": [
             [
              0,
              "#0d0887"
             ],
             [
              0.1111111111111111,
              "#46039f"
             ],
             [
              0.2222222222222222,
              "#7201a8"
             ],
             [
              0.3333333333333333,
              "#9c179e"
             ],
             [
              0.4444444444444444,
              "#bd3786"
             ],
             [
              0.5555555555555556,
              "#d8576b"
             ],
             [
              0.6666666666666666,
              "#ed7953"
             ],
             [
              0.7777777777777778,
              "#fb9f3a"
             ],
             [
              0.8888888888888888,
              "#fdca26"
             ],
             [
              1,
              "#f0f921"
             ]
            ],
            "type": "histogram2dcontour"
           }
          ],
          "mesh3d": [
           {
            "colorbar": {
             "outlinewidth": 0,
             "ticks": ""
            },
            "type": "mesh3d"
           }
          ],
          "parcoords": [
           {
            "line": {
             "colorbar": {
              "outlinewidth": 0,
              "ticks": ""
             }
            },
            "type": "parcoords"
           }
          ],
          "pie": [
           {
            "automargin": true,
            "type": "pie"
           }
          ],
          "scatter": [
           {
            "marker": {
             "colorbar": {
              "outlinewidth": 0,
              "ticks": ""
             }
            },
            "type": "scatter"
           }
          ],
          "scatter3d": [
           {
            "line": {
             "colorbar": {
              "outlinewidth": 0,
              "ticks": ""
             }
            },
            "marker": {
             "colorbar": {
              "outlinewidth": 0,
              "ticks": ""
             }
            },
            "type": "scatter3d"
           }
          ],
          "scattercarpet": [
           {
            "marker": {
             "colorbar": {
              "outlinewidth": 0,
              "ticks": ""
             }
            },
            "type": "scattercarpet"
           }
          ],
          "scattergeo": [
           {
            "marker": {
             "colorbar": {
              "outlinewidth": 0,
              "ticks": ""
             }
            },
            "type": "scattergeo"
           }
          ],
          "scattergl": [
           {
            "marker": {
             "colorbar": {
              "outlinewidth": 0,
              "ticks": ""
             }
            },
            "type": "scattergl"
           }
          ],
          "scattermapbox": [
           {
            "marker": {
             "colorbar": {
              "outlinewidth": 0,
              "ticks": ""
             }
            },
            "type": "scattermapbox"
           }
          ],
          "scatterpolar": [
           {
            "marker": {
             "colorbar": {
              "outlinewidth": 0,
              "ticks": ""
             }
            },
            "type": "scatterpolar"
           }
          ],
          "scatterpolargl": [
           {
            "marker": {
             "colorbar": {
              "outlinewidth": 0,
              "ticks": ""
             }
            },
            "type": "scatterpolargl"
           }
          ],
          "scatterternary": [
           {
            "marker": {
             "colorbar": {
              "outlinewidth": 0,
              "ticks": ""
             }
            },
            "type": "scatterternary"
           }
          ],
          "surface": [
           {
            "colorbar": {
             "outlinewidth": 0,
             "ticks": ""
            },
            "colorscale": [
             [
              0,
              "#0d0887"
             ],
             [
              0.1111111111111111,
              "#46039f"
             ],
             [
              0.2222222222222222,
              "#7201a8"
             ],
             [
              0.3333333333333333,
              "#9c179e"
             ],
             [
              0.4444444444444444,
              "#bd3786"
             ],
             [
              0.5555555555555556,
              "#d8576b"
             ],
             [
              0.6666666666666666,
              "#ed7953"
             ],
             [
              0.7777777777777778,
              "#fb9f3a"
             ],
             [
              0.8888888888888888,
              "#fdca26"
             ],
             [
              1,
              "#f0f921"
             ]
            ],
            "type": "surface"
           }
          ],
          "table": [
           {
            "cells": {
             "fill": {
              "color": "#EBF0F8"
             },
             "line": {
              "color": "white"
             }
            },
            "header": {
             "fill": {
              "color": "#C8D4E3"
             },
             "line": {
              "color": "white"
             }
            },
            "type": "table"
           }
          ]
         },
         "layout": {
          "annotationdefaults": {
           "arrowcolor": "#2a3f5f",
           "arrowhead": 0,
           "arrowwidth": 1
          },
          "autotypenumbers": "strict",
          "coloraxis": {
           "colorbar": {
            "outlinewidth": 0,
            "ticks": ""
           }
          },
          "colorscale": {
           "diverging": [
            [
             0,
             "#8e0152"
            ],
            [
             0.1,
             "#c51b7d"
            ],
            [
             0.2,
             "#de77ae"
            ],
            [
             0.3,
             "#f1b6da"
            ],
            [
             0.4,
             "#fde0ef"
            ],
            [
             0.5,
             "#f7f7f7"
            ],
            [
             0.6,
             "#e6f5d0"
            ],
            [
             0.7,
             "#b8e186"
            ],
            [
             0.8,
             "#7fbc41"
            ],
            [
             0.9,
             "#4d9221"
            ],
            [
             1,
             "#276419"
            ]
           ],
           "sequential": [
            [
             0,
             "#0d0887"
            ],
            [
             0.1111111111111111,
             "#46039f"
            ],
            [
             0.2222222222222222,
             "#7201a8"
            ],
            [
             0.3333333333333333,
             "#9c179e"
            ],
            [
             0.4444444444444444,
             "#bd3786"
            ],
            [
             0.5555555555555556,
             "#d8576b"
            ],
            [
             0.6666666666666666,
             "#ed7953"
            ],
            [
             0.7777777777777778,
             "#fb9f3a"
            ],
            [
             0.8888888888888888,
             "#fdca26"
            ],
            [
             1,
             "#f0f921"
            ]
           ],
           "sequentialminus": [
            [
             0,
             "#0d0887"
            ],
            [
             0.1111111111111111,
             "#46039f"
            ],
            [
             0.2222222222222222,
             "#7201a8"
            ],
            [
             0.3333333333333333,
             "#9c179e"
            ],
            [
             0.4444444444444444,
             "#bd3786"
            ],
            [
             0.5555555555555556,
             "#d8576b"
            ],
            [
             0.6666666666666666,
             "#ed7953"
            ],
            [
             0.7777777777777778,
             "#fb9f3a"
            ],
            [
             0.8888888888888888,
             "#fdca26"
            ],
            [
             1,
             "#f0f921"
            ]
           ]
          },
          "colorway": [
           "#636efa",
           "#EF553B",
           "#00cc96",
           "#ab63fa",
           "#FFA15A",
           "#19d3f3",
           "#FF6692",
           "#B6E880",
           "#FF97FF",
           "#FECB52"
          ],
          "font": {
           "color": "#2a3f5f"
          },
          "geo": {
           "bgcolor": "white",
           "lakecolor": "white",
           "landcolor": "#E5ECF6",
           "showlakes": true,
           "showland": true,
           "subunitcolor": "white"
          },
          "hoverlabel": {
           "align": "left"
          },
          "hovermode": "closest",
          "mapbox": {
           "style": "light"
          },
          "paper_bgcolor": "white",
          "plot_bgcolor": "#E5ECF6",
          "polar": {
           "angularaxis": {
            "gridcolor": "white",
            "linecolor": "white",
            "ticks": ""
           },
           "bgcolor": "#E5ECF6",
           "radialaxis": {
            "gridcolor": "white",
            "linecolor": "white",
            "ticks": ""
           }
          },
          "scene": {
           "xaxis": {
            "backgroundcolor": "#E5ECF6",
            "gridcolor": "white",
            "gridwidth": 2,
            "linecolor": "white",
            "showbackground": true,
            "ticks": "",
            "zerolinecolor": "white"
           },
           "yaxis": {
            "backgroundcolor": "#E5ECF6",
            "gridcolor": "white",
            "gridwidth": 2,
            "linecolor": "white",
            "showbackground": true,
            "ticks": "",
            "zerolinecolor": "white"
           },
           "zaxis": {
            "backgroundcolor": "#E5ECF6",
            "gridcolor": "white",
            "gridwidth": 2,
            "linecolor": "white",
            "showbackground": true,
            "ticks": "",
            "zerolinecolor": "white"
           }
          },
          "shapedefaults": {
           "line": {
            "color": "#2a3f5f"
           }
          },
          "ternary": {
           "aaxis": {
            "gridcolor": "white",
            "linecolor": "white",
            "ticks": ""
           },
           "baxis": {
            "gridcolor": "white",
            "linecolor": "white",
            "ticks": ""
           },
           "bgcolor": "#E5ECF6",
           "caxis": {
            "gridcolor": "white",
            "linecolor": "white",
            "ticks": ""
           }
          },
          "title": {
           "x": 0.05
          },
          "xaxis": {
           "automargin": true,
           "gridcolor": "white",
           "linecolor": "white",
           "ticks": "",
           "title": {
            "standoff": 15
           },
           "zerolinecolor": "white",
           "zerolinewidth": 2
          },
          "yaxis": {
           "automargin": true,
           "gridcolor": "white",
           "linecolor": "white",
           "ticks": "",
           "title": {
            "standoff": 15
           },
           "zerolinecolor": "white",
           "zerolinewidth": 2
          }
         }
        }
       }
      }
     },
     "metadata": {},
     "output_type": "display_data"
    }
   ],
   "source": [
    "### prepare customer flows plot input\n",
    "lats = []\n",
    "lons = []\n",
    "names = []\n",
    "colors = []\n",
    "for index, row in sc_flow_plot_df.iterrows():\n",
    "    lats = np.append(lats, row['start_lat'])\n",
    "    lats = np.append(lats, row['end_lat'])\n",
    "    lats = np.append(lats, None)\n",
    "\n",
    "    lons = np.append(lons, row['start_lon'])\n",
    "    lons = np.append(lons, row['end_lon'])\n",
    "    lons = np.append(lons, None)\n",
    "\n",
    "    colors = np.append(colors, row['Origin'])\n",
    "    colors = np.append(colors, row['Origin'])\n",
    "    colors = np.append(colors, row['Origin'])\n",
    "\n",
    "    names = np.append(names, row['Path'])\n",
    "    names = np.append(names, row['Path'])\n",
    "    names = np.append(names, None)\n",
    "\n",
    "### plot customer flows\n",
    "fig = px.line_mapbox(lat=lats, lon=lons, color=colors, hover_name=names, zoom=3)\n",
    "fig.update_traces(line=dict(width=1), opacity=0.8)\n",
    "fig.update_layout(mapbox_style=\"dark\", mapbox_accesstoken=token)\n",
    "fig.update_layout(margin={\"r\":0,\"t\":0,\"l\":0,\"b\":0})\n",
    "fig.show()"
   ]
  },
  {
   "cell_type": "code",
   "execution_count": 75,
   "metadata": {},
   "outputs": [
    {
     "data": {
      "application/vnd.plotly.v1+json": {
       "config": {
        "plotlyServerURL": "https://plot.ly"
       },
       "data": [
        {
         "hovertemplate": "<b>%{hovertext}</b><br><br>color=FAC_1<br>lat=%{lat}<br>lon=%{lon}<extra></extra>",
         "hovertext": [
          "FAC_1 to DC_1",
          "FAC_1 to DC_1",
          null,
          "FAC_1 to DC_2",
          "FAC_1 to DC_2",
          null,
          "FAC_1 to DC_3",
          "FAC_1 to DC_3",
          null,
          "FAC_1 to DC_5",
          "FAC_1 to DC_5",
          null,
          "FAC_1 to DC_7",
          "FAC_1 to DC_7",
          null,
          "FAC_1 to DC_8",
          "FAC_1 to DC_8",
          null,
          "FAC_1 to DC_9",
          "FAC_1 to DC_9",
          null
         ],
         "lat": [
          35.57782374620747,
          35.57782374620747,
          null,
          35.57782374620747,
          39.32561126337727,
          null,
          35.57782374620747,
          34.48747888097904,
          null,
          35.57782374620747,
          43.15403445056779,
          null,
          35.57782374620747,
          37.66638377238687,
          null,
          35.57782374620747,
          32.00530522681915,
          null,
          35.57782374620747,
          29.38079929558913,
          null
         ],
         "legendgroup": "FAC_1",
         "line": {
          "color": "#636efa",
          "width": 1
         },
         "lon": [
          116.7762098856255,
          116.7762098856255,
          null,
          116.7762098856255,
          115.8678449047579,
          null,
          116.7762098856255,
          113.792328127149,
          null,
          116.7762098856255,
          124.4181295045634,
          null,
          116.7762098856255,
          112.6719120037593,
          null,
          116.7762098856255,
          119.0494352058129,
          null,
          116.7762098856255,
          113.1584727838096,
          null
         ],
         "mode": "lines",
         "name": "FAC_1",
         "opacity": 0.8,
         "showlegend": true,
         "subplot": "mapbox",
         "type": "scattermapbox"
        },
        {
         "hovertemplate": "<b>%{hovertext}</b><br><br>color=FAC_2<br>lat=%{lat}<br>lon=%{lon}<extra></extra>",
         "hovertext": [
          "FAC_2 to DC_1",
          "FAC_2 to DC_1",
          null,
          "FAC_2 to DC_2",
          "FAC_2 to DC_2",
          null,
          "FAC_2 to DC_3",
          "FAC_2 to DC_3",
          null,
          "FAC_2 to DC_5",
          "FAC_2 to DC_5",
          null,
          "FAC_2 to DC_7",
          "FAC_2 to DC_7",
          null,
          "FAC_2 to DC_8",
          "FAC_2 to DC_8",
          null
         ],
         "lat": [
          39.32561126337727,
          35.57782374620747,
          null,
          39.32561126337727,
          39.32561126337727,
          null,
          39.32561126337727,
          34.48747888097904,
          null,
          39.32561126337727,
          43.15403445056779,
          null,
          39.32561126337727,
          37.66638377238687,
          null,
          39.32561126337727,
          32.00530522681915,
          null
         ],
         "legendgroup": "FAC_2",
         "line": {
          "color": "#EF553B",
          "width": 1
         },
         "lon": [
          115.8678449047579,
          116.7762098856255,
          null,
          115.8678449047579,
          115.8678449047579,
          null,
          115.8678449047579,
          113.792328127149,
          null,
          115.8678449047579,
          124.4181295045634,
          null,
          115.8678449047579,
          112.6719120037593,
          null,
          115.8678449047579,
          119.0494352058129,
          null
         ],
         "mode": "lines",
         "name": "FAC_2",
         "opacity": 0.8,
         "showlegend": true,
         "subplot": "mapbox",
         "type": "scattermapbox"
        },
        {
         "hovertemplate": "<b>%{hovertext}</b><br><br>color=FAC_3<br>lat=%{lat}<br>lon=%{lon}<extra></extra>",
         "hovertext": [
          "FAC_3 to DC_1",
          "FAC_3 to DC_1",
          null,
          "FAC_3 to DC_2",
          "FAC_3 to DC_2",
          null,
          "FAC_3 to DC_3",
          "FAC_3 to DC_3",
          null,
          "FAC_3 to DC_7",
          "FAC_3 to DC_7",
          null,
          "FAC_3 to DC_8",
          "FAC_3 to DC_8",
          null,
          "FAC_3 to DC_9",
          "FAC_3 to DC_9",
          null,
          "FAC_3 to DC_4",
          "FAC_3 to DC_4",
          null,
          "FAC_3 to DC_6",
          "FAC_3 to DC_6",
          null
         ],
         "lat": [
          34.48747888097904,
          35.57782374620747,
          null,
          34.48747888097904,
          39.32561126337727,
          null,
          34.48747888097904,
          34.48747888097904,
          null,
          34.48747888097904,
          37.66638377238687,
          null,
          34.48747888097904,
          32.00530522681915,
          null,
          34.48747888097904,
          29.38079929558913,
          null,
          34.48747888097904,
          34.63031715995263,
          null,
          34.48747888097904,
          30.43526374766115,
          null
         ],
         "legendgroup": "FAC_3",
         "line": {
          "color": "#00cc96",
          "width": 1
         },
         "lon": [
          113.792328127149,
          116.7762098856255,
          null,
          113.792328127149,
          115.8678449047579,
          null,
          113.792328127149,
          113.792328127149,
          null,
          113.792328127149,
          112.6719120037593,
          null,
          113.792328127149,
          119.0494352058129,
          null,
          113.792328127149,
          113.1584727838096,
          null,
          113.792328127149,
          108.9336012932089,
          null,
          113.792328127149,
          103.7963218966275,
          null
         ],
         "mode": "lines",
         "name": "FAC_3",
         "opacity": 0.8,
         "showlegend": true,
         "subplot": "mapbox",
         "type": "scattermapbox"
        },
        {
         "hovertemplate": "<b>%{hovertext}</b><br><br>color=FAC_4<br>lat=%{lat}<br>lon=%{lon}<extra></extra>",
         "hovertext": [
          "FAC_4 to DC_1",
          "FAC_4 to DC_1",
          null,
          "FAC_4 to DC_3",
          "FAC_4 to DC_3",
          null,
          "FAC_4 to DC_7",
          "FAC_4 to DC_7",
          null,
          "FAC_4 to DC_4",
          "FAC_4 to DC_4",
          null,
          "FAC_4 to DC_6",
          "FAC_4 to DC_6",
          null
         ],
         "lat": [
          34.63031715995263,
          35.57782374620747,
          null,
          34.63031715995263,
          34.48747888097904,
          null,
          34.63031715995263,
          37.66638377238687,
          null,
          34.63031715995263,
          34.63031715995263,
          null,
          34.63031715995263,
          30.43526374766115,
          null
         ],
         "legendgroup": "FAC_4",
         "line": {
          "color": "#ab63fa",
          "width": 1
         },
         "lon": [
          108.9336012932089,
          116.7762098856255,
          null,
          108.9336012932089,
          113.792328127149,
          null,
          108.9336012932089,
          112.6719120037593,
          null,
          108.9336012932089,
          108.9336012932089,
          null,
          108.9336012932089,
          103.7963218966275,
          null
         ],
         "mode": "lines",
         "name": "FAC_4",
         "opacity": 0.8,
         "showlegend": true,
         "subplot": "mapbox",
         "type": "scattermapbox"
        },
        {
         "hovertemplate": "<b>%{hovertext}</b><br><br>color=FAC_5<br>lat=%{lat}<br>lon=%{lon}<extra></extra>",
         "hovertext": [
          "FAC_5 to DC_1",
          "FAC_5 to DC_1",
          null,
          "FAC_5 to DC_2",
          "FAC_5 to DC_2",
          null,
          "FAC_5 to DC_3",
          "FAC_5 to DC_3",
          null,
          "FAC_5 to DC_5",
          "FAC_5 to DC_5",
          null,
          "FAC_5 to DC_7",
          "FAC_5 to DC_7",
          null
         ],
         "lat": [
          43.15403445056779,
          35.57782374620747,
          null,
          43.15403445056779,
          39.32561126337727,
          null,
          43.15403445056779,
          34.48747888097904,
          null,
          43.15403445056779,
          43.15403445056779,
          null,
          43.15403445056779,
          37.66638377238687,
          null
         ],
         "legendgroup": "FAC_5",
         "line": {
          "color": "#FFA15A",
          "width": 1
         },
         "lon": [
          124.4181295045634,
          116.7762098856255,
          null,
          124.4181295045634,
          115.8678449047579,
          null,
          124.4181295045634,
          113.792328127149,
          null,
          124.4181295045634,
          124.4181295045634,
          null,
          124.4181295045634,
          112.6719120037593,
          null
         ],
         "mode": "lines",
         "name": "FAC_5",
         "opacity": 0.8,
         "showlegend": true,
         "subplot": "mapbox",
         "type": "scattermapbox"
        },
        {
         "hovertemplate": "<b>%{hovertext}</b><br><br>color=FAC_7<br>lat=%{lat}<br>lon=%{lon}<extra></extra>",
         "hovertext": [
          "FAC_7 to DC_1",
          "FAC_7 to DC_1",
          null,
          "FAC_7 to DC_2",
          "FAC_7 to DC_2",
          null,
          "FAC_7 to DC_3",
          "FAC_7 to DC_3",
          null,
          "FAC_7 to DC_7",
          "FAC_7 to DC_7",
          null,
          "FAC_7 to DC_8",
          "FAC_7 to DC_8",
          null,
          "FAC_7 to DC_9",
          "FAC_7 to DC_9",
          null,
          "FAC_7 to DC_4",
          "FAC_7 to DC_4",
          null,
          "FAC_7 to DC_6",
          "FAC_7 to DC_6",
          null
         ],
         "lat": [
          37.66638377238687,
          35.57782374620747,
          null,
          37.66638377238687,
          39.32561126337727,
          null,
          37.66638377238687,
          34.48747888097904,
          null,
          37.66638377238687,
          37.66638377238687,
          null,
          37.66638377238687,
          32.00530522681915,
          null,
          37.66638377238687,
          29.38079929558913,
          null,
          37.66638377238687,
          34.63031715995263,
          null,
          37.66638377238687,
          30.43526374766115,
          null
         ],
         "legendgroup": "FAC_7",
         "line": {
          "color": "#19d3f3",
          "width": 1
         },
         "lon": [
          112.6719120037593,
          116.7762098856255,
          null,
          112.6719120037593,
          115.8678449047579,
          null,
          112.6719120037593,
          113.792328127149,
          null,
          112.6719120037593,
          112.6719120037593,
          null,
          112.6719120037593,
          119.0494352058129,
          null,
          112.6719120037593,
          113.1584727838096,
          null,
          112.6719120037593,
          108.9336012932089,
          null,
          112.6719120037593,
          103.7963218966275,
          null
         ],
         "mode": "lines",
         "name": "FAC_7",
         "opacity": 0.8,
         "showlegend": true,
         "subplot": "mapbox",
         "type": "scattermapbox"
        },
        {
         "hovertemplate": "<b>%{hovertext}</b><br><br>color=FAC_8<br>lat=%{lat}<br>lon=%{lon}<extra></extra>",
         "hovertext": [
          "FAC_8 to DC_1",
          "FAC_8 to DC_1",
          null,
          "FAC_8 to DC_8",
          "FAC_8 to DC_8",
          null,
          "FAC_8 to DC_9",
          "FAC_8 to DC_9",
          null
         ],
         "lat": [
          32.00530522681915,
          35.57782374620747,
          null,
          32.00530522681915,
          32.00530522681915,
          null,
          32.00530522681915,
          29.38079929558913,
          null
         ],
         "legendgroup": "FAC_8",
         "line": {
          "color": "#FF6692",
          "width": 1
         },
         "lon": [
          119.0494352058129,
          116.7762098856255,
          null,
          119.0494352058129,
          119.0494352058129,
          null,
          119.0494352058129,
          113.1584727838096,
          null
         ],
         "mode": "lines",
         "name": "FAC_8",
         "opacity": 0.8,
         "showlegend": true,
         "subplot": "mapbox",
         "type": "scattermapbox"
        },
        {
         "hovertemplate": "<b>%{hovertext}</b><br><br>color=FAC_9<br>lat=%{lat}<br>lon=%{lon}<extra></extra>",
         "hovertext": [
          "FAC_9 to DC_1",
          "FAC_9 to DC_1",
          null,
          "FAC_9 to DC_2",
          "FAC_9 to DC_2",
          null,
          "FAC_9 to DC_3",
          "FAC_9 to DC_3",
          null,
          "FAC_9 to DC_7",
          "FAC_9 to DC_7",
          null,
          "FAC_9 to DC_8",
          "FAC_9 to DC_8",
          null,
          "FAC_9 to DC_9",
          "FAC_9 to DC_9",
          null,
          "FAC_9 to DC_4",
          "FAC_9 to DC_4",
          null,
          "FAC_9 to DC_6",
          "FAC_9 to DC_6",
          null
         ],
         "lat": [
          29.38079929558913,
          35.57782374620747,
          null,
          29.38079929558913,
          39.32561126337727,
          null,
          29.38079929558913,
          34.48747888097904,
          null,
          29.38079929558913,
          37.66638377238687,
          null,
          29.38079929558913,
          32.00530522681915,
          null,
          29.38079929558913,
          29.38079929558913,
          null,
          29.38079929558913,
          34.63031715995263,
          null,
          29.38079929558913,
          30.43526374766115,
          null
         ],
         "legendgroup": "FAC_9",
         "line": {
          "color": "#B6E880",
          "width": 1
         },
         "lon": [
          113.1584727838096,
          116.7762098856255,
          null,
          113.1584727838096,
          115.8678449047579,
          null,
          113.1584727838096,
          113.792328127149,
          null,
          113.1584727838096,
          112.6719120037593,
          null,
          113.1584727838096,
          119.0494352058129,
          null,
          113.1584727838096,
          113.1584727838096,
          null,
          113.1584727838096,
          108.9336012932089,
          null,
          113.1584727838096,
          103.7963218966275,
          null
         ],
         "mode": "lines",
         "name": "FAC_9",
         "opacity": 0.8,
         "showlegend": true,
         "subplot": "mapbox",
         "type": "scattermapbox"
        },
        {
         "hovertemplate": "<b>%{hovertext}</b><br><br>color=FAC_6<br>lat=%{lat}<br>lon=%{lon}<extra></extra>",
         "hovertext": [
          "FAC_6 to DC_8",
          "FAC_6 to DC_8",
          null,
          "FAC_6 to DC_9",
          "FAC_6 to DC_9",
          null,
          "FAC_6 to DC_4",
          "FAC_6 to DC_4",
          null,
          "FAC_6 to DC_6",
          "FAC_6 to DC_6",
          null
         ],
         "lat": [
          30.43526374766115,
          32.00530522681915,
          null,
          30.43526374766115,
          29.38079929558913,
          null,
          30.43526374766115,
          34.63031715995263,
          null,
          30.43526374766115,
          30.43526374766115,
          null
         ],
         "legendgroup": "FAC_6",
         "line": {
          "color": "#FF97FF",
          "width": 1
         },
         "lon": [
          103.7963218966275,
          119.0494352058129,
          null,
          103.7963218966275,
          113.1584727838096,
          null,
          103.7963218966275,
          108.9336012932089,
          null,
          103.7963218966275,
          103.7963218966275,
          null
         ],
         "mode": "lines",
         "name": "FAC_6",
         "opacity": 0.8,
         "showlegend": true,
         "subplot": "mapbox",
         "type": "scattermapbox"
        }
       ],
       "layout": {
        "legend": {
         "title": {
          "text": "color"
         },
         "tracegroupgap": 0
        },
        "mapbox": {
         "accesstoken": "pk.eyJ1IjoiY2h1bnhpYW9saSIsImEiOiJjbDRtb3V3a2QxeTk2M2pyeXozYXV2NTl6In0.YzvDEk9hGVLJPXLHVrPiLQ",
         "center": {
          "lat": 35.04370087494059,
          "lon": 114.1905722793963
         },
         "domain": {
          "x": [
           0,
           1
          ],
          "y": [
           0,
           1
          ]
         },
         "style": "dark",
         "zoom": 3
        },
        "margin": {
         "b": 0,
         "l": 0,
         "r": 0,
         "t": 0
        },
        "template": {
         "data": {
          "bar": [
           {
            "error_x": {
             "color": "#2a3f5f"
            },
            "error_y": {
             "color": "#2a3f5f"
            },
            "marker": {
             "line": {
              "color": "#E5ECF6",
              "width": 0.5
             },
             "pattern": {
              "fillmode": "overlay",
              "size": 10,
              "solidity": 0.2
             }
            },
            "type": "bar"
           }
          ],
          "barpolar": [
           {
            "marker": {
             "line": {
              "color": "#E5ECF6",
              "width": 0.5
             },
             "pattern": {
              "fillmode": "overlay",
              "size": 10,
              "solidity": 0.2
             }
            },
            "type": "barpolar"
           }
          ],
          "carpet": [
           {
            "aaxis": {
             "endlinecolor": "#2a3f5f",
             "gridcolor": "white",
             "linecolor": "white",
             "minorgridcolor": "white",
             "startlinecolor": "#2a3f5f"
            },
            "baxis": {
             "endlinecolor": "#2a3f5f",
             "gridcolor": "white",
             "linecolor": "white",
             "minorgridcolor": "white",
             "startlinecolor": "#2a3f5f"
            },
            "type": "carpet"
           }
          ],
          "choropleth": [
           {
            "colorbar": {
             "outlinewidth": 0,
             "ticks": ""
            },
            "type": "choropleth"
           }
          ],
          "contour": [
           {
            "colorbar": {
             "outlinewidth": 0,
             "ticks": ""
            },
            "colorscale": [
             [
              0,
              "#0d0887"
             ],
             [
              0.1111111111111111,
              "#46039f"
             ],
             [
              0.2222222222222222,
              "#7201a8"
             ],
             [
              0.3333333333333333,
              "#9c179e"
             ],
             [
              0.4444444444444444,
              "#bd3786"
             ],
             [
              0.5555555555555556,
              "#d8576b"
             ],
             [
              0.6666666666666666,
              "#ed7953"
             ],
             [
              0.7777777777777778,
              "#fb9f3a"
             ],
             [
              0.8888888888888888,
              "#fdca26"
             ],
             [
              1,
              "#f0f921"
             ]
            ],
            "type": "contour"
           }
          ],
          "contourcarpet": [
           {
            "colorbar": {
             "outlinewidth": 0,
             "ticks": ""
            },
            "type": "contourcarpet"
           }
          ],
          "heatmap": [
           {
            "colorbar": {
             "outlinewidth": 0,
             "ticks": ""
            },
            "colorscale": [
             [
              0,
              "#0d0887"
             ],
             [
              0.1111111111111111,
              "#46039f"
             ],
             [
              0.2222222222222222,
              "#7201a8"
             ],
             [
              0.3333333333333333,
              "#9c179e"
             ],
             [
              0.4444444444444444,
              "#bd3786"
             ],
             [
              0.5555555555555556,
              "#d8576b"
             ],
             [
              0.6666666666666666,
              "#ed7953"
             ],
             [
              0.7777777777777778,
              "#fb9f3a"
             ],
             [
              0.8888888888888888,
              "#fdca26"
             ],
             [
              1,
              "#f0f921"
             ]
            ],
            "type": "heatmap"
           }
          ],
          "heatmapgl": [
           {
            "colorbar": {
             "outlinewidth": 0,
             "ticks": ""
            },
            "colorscale": [
             [
              0,
              "#0d0887"
             ],
             [
              0.1111111111111111,
              "#46039f"
             ],
             [
              0.2222222222222222,
              "#7201a8"
             ],
             [
              0.3333333333333333,
              "#9c179e"
             ],
             [
              0.4444444444444444,
              "#bd3786"
             ],
             [
              0.5555555555555556,
              "#d8576b"
             ],
             [
              0.6666666666666666,
              "#ed7953"
             ],
             [
              0.7777777777777778,
              "#fb9f3a"
             ],
             [
              0.8888888888888888,
              "#fdca26"
             ],
             [
              1,
              "#f0f921"
             ]
            ],
            "type": "heatmapgl"
           }
          ],
          "histogram": [
           {
            "marker": {
             "pattern": {
              "fillmode": "overlay",
              "size": 10,
              "solidity": 0.2
             }
            },
            "type": "histogram"
           }
          ],
          "histogram2d": [
           {
            "colorbar": {
             "outlinewidth": 0,
             "ticks": ""
            },
            "colorscale": [
             [
              0,
              "#0d0887"
             ],
             [
              0.1111111111111111,
              "#46039f"
             ],
             [
              0.2222222222222222,
              "#7201a8"
             ],
             [
              0.3333333333333333,
              "#9c179e"
             ],
             [
              0.4444444444444444,
              "#bd3786"
             ],
             [
              0.5555555555555556,
              "#d8576b"
             ],
             [
              0.6666666666666666,
              "#ed7953"
             ],
             [
              0.7777777777777778,
              "#fb9f3a"
             ],
             [
              0.8888888888888888,
              "#fdca26"
             ],
             [
              1,
              "#f0f921"
             ]
            ],
            "type": "histogram2d"
           }
          ],
          "histogram2dcontour": [
           {
            "colorbar": {
             "outlinewidth": 0,
             "ticks": ""
            },
            "colorscale": [
             [
              0,
              "#0d0887"
             ],
             [
              0.1111111111111111,
              "#46039f"
             ],
             [
              0.2222222222222222,
              "#7201a8"
             ],
             [
              0.3333333333333333,
              "#9c179e"
             ],
             [
              0.4444444444444444,
              "#bd3786"
             ],
             [
              0.5555555555555556,
              "#d8576b"
             ],
             [
              0.6666666666666666,
              "#ed7953"
             ],
             [
              0.7777777777777778,
              "#fb9f3a"
             ],
             [
              0.8888888888888888,
              "#fdca26"
             ],
             [
              1,
              "#f0f921"
             ]
            ],
            "type": "histogram2dcontour"
           }
          ],
          "mesh3d": [
           {
            "colorbar": {
             "outlinewidth": 0,
             "ticks": ""
            },
            "type": "mesh3d"
           }
          ],
          "parcoords": [
           {
            "line": {
             "colorbar": {
              "outlinewidth": 0,
              "ticks": ""
             }
            },
            "type": "parcoords"
           }
          ],
          "pie": [
           {
            "automargin": true,
            "type": "pie"
           }
          ],
          "scatter": [
           {
            "marker": {
             "colorbar": {
              "outlinewidth": 0,
              "ticks": ""
             }
            },
            "type": "scatter"
           }
          ],
          "scatter3d": [
           {
            "line": {
             "colorbar": {
              "outlinewidth": 0,
              "ticks": ""
             }
            },
            "marker": {
             "colorbar": {
              "outlinewidth": 0,
              "ticks": ""
             }
            },
            "type": "scatter3d"
           }
          ],
          "scattercarpet": [
           {
            "marker": {
             "colorbar": {
              "outlinewidth": 0,
              "ticks": ""
             }
            },
            "type": "scattercarpet"
           }
          ],
          "scattergeo": [
           {
            "marker": {
             "colorbar": {
              "outlinewidth": 0,
              "ticks": ""
             }
            },
            "type": "scattergeo"
           }
          ],
          "scattergl": [
           {
            "marker": {
             "colorbar": {
              "outlinewidth": 0,
              "ticks": ""
             }
            },
            "type": "scattergl"
           }
          ],
          "scattermapbox": [
           {
            "marker": {
             "colorbar": {
              "outlinewidth": 0,
              "ticks": ""
             }
            },
            "type": "scattermapbox"
           }
          ],
          "scatterpolar": [
           {
            "marker": {
             "colorbar": {
              "outlinewidth": 0,
              "ticks": ""
             }
            },
            "type": "scatterpolar"
           }
          ],
          "scatterpolargl": [
           {
            "marker": {
             "colorbar": {
              "outlinewidth": 0,
              "ticks": ""
             }
            },
            "type": "scatterpolargl"
           }
          ],
          "scatterternary": [
           {
            "marker": {
             "colorbar": {
              "outlinewidth": 0,
              "ticks": ""
             }
            },
            "type": "scatterternary"
           }
          ],
          "surface": [
           {
            "colorbar": {
             "outlinewidth": 0,
             "ticks": ""
            },
            "colorscale": [
             [
              0,
              "#0d0887"
             ],
             [
              0.1111111111111111,
              "#46039f"
             ],
             [
              0.2222222222222222,
              "#7201a8"
             ],
             [
              0.3333333333333333,
              "#9c179e"
             ],
             [
              0.4444444444444444,
              "#bd3786"
             ],
             [
              0.5555555555555556,
              "#d8576b"
             ],
             [
              0.6666666666666666,
              "#ed7953"
             ],
             [
              0.7777777777777778,
              "#fb9f3a"
             ],
             [
              0.8888888888888888,
              "#fdca26"
             ],
             [
              1,
              "#f0f921"
             ]
            ],
            "type": "surface"
           }
          ],
          "table": [
           {
            "cells": {
             "fill": {
              "color": "#EBF0F8"
             },
             "line": {
              "color": "white"
             }
            },
            "header": {
             "fill": {
              "color": "#C8D4E3"
             },
             "line": {
              "color": "white"
             }
            },
            "type": "table"
           }
          ]
         },
         "layout": {
          "annotationdefaults": {
           "arrowcolor": "#2a3f5f",
           "arrowhead": 0,
           "arrowwidth": 1
          },
          "autotypenumbers": "strict",
          "coloraxis": {
           "colorbar": {
            "outlinewidth": 0,
            "ticks": ""
           }
          },
          "colorscale": {
           "diverging": [
            [
             0,
             "#8e0152"
            ],
            [
             0.1,
             "#c51b7d"
            ],
            [
             0.2,
             "#de77ae"
            ],
            [
             0.3,
             "#f1b6da"
            ],
            [
             0.4,
             "#fde0ef"
            ],
            [
             0.5,
             "#f7f7f7"
            ],
            [
             0.6,
             "#e6f5d0"
            ],
            [
             0.7,
             "#b8e186"
            ],
            [
             0.8,
             "#7fbc41"
            ],
            [
             0.9,
             "#4d9221"
            ],
            [
             1,
             "#276419"
            ]
           ],
           "sequential": [
            [
             0,
             "#0d0887"
            ],
            [
             0.1111111111111111,
             "#46039f"
            ],
            [
             0.2222222222222222,
             "#7201a8"
            ],
            [
             0.3333333333333333,
             "#9c179e"
            ],
            [
             0.4444444444444444,
             "#bd3786"
            ],
            [
             0.5555555555555556,
             "#d8576b"
            ],
            [
             0.6666666666666666,
             "#ed7953"
            ],
            [
             0.7777777777777778,
             "#fb9f3a"
            ],
            [
             0.8888888888888888,
             "#fdca26"
            ],
            [
             1,
             "#f0f921"
            ]
           ],
           "sequentialminus": [
            [
             0,
             "#0d0887"
            ],
            [
             0.1111111111111111,
             "#46039f"
            ],
            [
             0.2222222222222222,
             "#7201a8"
            ],
            [
             0.3333333333333333,
             "#9c179e"
            ],
            [
             0.4444444444444444,
             "#bd3786"
            ],
            [
             0.5555555555555556,
             "#d8576b"
            ],
            [
             0.6666666666666666,
             "#ed7953"
            ],
            [
             0.7777777777777778,
             "#fb9f3a"
            ],
            [
             0.8888888888888888,
             "#fdca26"
            ],
            [
             1,
             "#f0f921"
            ]
           ]
          },
          "colorway": [
           "#636efa",
           "#EF553B",
           "#00cc96",
           "#ab63fa",
           "#FFA15A",
           "#19d3f3",
           "#FF6692",
           "#B6E880",
           "#FF97FF",
           "#FECB52"
          ],
          "font": {
           "color": "#2a3f5f"
          },
          "geo": {
           "bgcolor": "white",
           "lakecolor": "white",
           "landcolor": "#E5ECF6",
           "showlakes": true,
           "showland": true,
           "subunitcolor": "white"
          },
          "hoverlabel": {
           "align": "left"
          },
          "hovermode": "closest",
          "mapbox": {
           "style": "light"
          },
          "paper_bgcolor": "white",
          "plot_bgcolor": "#E5ECF6",
          "polar": {
           "angularaxis": {
            "gridcolor": "white",
            "linecolor": "white",
            "ticks": ""
           },
           "bgcolor": "#E5ECF6",
           "radialaxis": {
            "gridcolor": "white",
            "linecolor": "white",
            "ticks": ""
           }
          },
          "scene": {
           "xaxis": {
            "backgroundcolor": "#E5ECF6",
            "gridcolor": "white",
            "gridwidth": 2,
            "linecolor": "white",
            "showbackground": true,
            "ticks": "",
            "zerolinecolor": "white"
           },
           "yaxis": {
            "backgroundcolor": "#E5ECF6",
            "gridcolor": "white",
            "gridwidth": 2,
            "linecolor": "white",
            "showbackground": true,
            "ticks": "",
            "zerolinecolor": "white"
           },
           "zaxis": {
            "backgroundcolor": "#E5ECF6",
            "gridcolor": "white",
            "gridwidth": 2,
            "linecolor": "white",
            "showbackground": true,
            "ticks": "",
            "zerolinecolor": "white"
           }
          },
          "shapedefaults": {
           "line": {
            "color": "#2a3f5f"
           }
          },
          "ternary": {
           "aaxis": {
            "gridcolor": "white",
            "linecolor": "white",
            "ticks": ""
           },
           "baxis": {
            "gridcolor": "white",
            "linecolor": "white",
            "ticks": ""
           },
           "bgcolor": "#E5ECF6",
           "caxis": {
            "gridcolor": "white",
            "linecolor": "white",
            "ticks": ""
           }
          },
          "title": {
           "x": 0.05
          },
          "xaxis": {
           "automargin": true,
           "gridcolor": "white",
           "linecolor": "white",
           "ticks": "",
           "title": {
            "standoff": 15
           },
           "zerolinecolor": "white",
           "zerolinewidth": 2
          },
          "yaxis": {
           "automargin": true,
           "gridcolor": "white",
           "linecolor": "white",
           "ticks": "",
           "title": {
            "standoff": 15
           },
           "zerolinecolor": "white",
           "zerolinewidth": 2
          }
         }
        }
       }
      }
     },
     "metadata": {},
     "output_type": "display_data"
    }
   ],
   "source": [
    "### prepare intersite flows plot input\n",
    "lats = []\n",
    "lons = []\n",
    "names = []\n",
    "colors = []\n",
    "sizes = []\n",
    "for index, row in ss_flow_plot_df.iterrows():\n",
    "    lats = np.append(lats, [row['start_lat'],row['end_lat'],None])\n",
    "\n",
    "    lons = np.append(lons, [row['start_lon'],row['end_lon'],None])\n",
    "\n",
    "    colors = np.append(colors, [row['Origin']]*3)\n",
    "\n",
    "    names = np.append(names, [row['Path'], row['Path'], None])\n",
    "\n",
    "    sizes = np.append(sizes, [row['Quantity'] / ss_flow_plot_df['Quantity'].max()]*3)\n",
    "\n",
    "### plot customer flows\n",
    "fig = px.line_mapbox(lat=lats, lon=lons, color=colors, hover_name=names, zoom=3)\n",
    "fig.update_traces(line=dict(width=1), opacity=0.8)\n",
    "fig.update_layout(mapbox_style=\"dark\", mapbox_accesstoken=token)\n",
    "fig.update_layout(margin={\"r\":0,\"t\":0,\"l\":0,\"b\":0})\n",
    "fig.show()"
   ]
  },
  {
   "cell_type": "code",
   "execution_count": 34,
   "metadata": {},
   "outputs": [
    {
     "data": {
      "application/vnd.plotly.v1+json": {
       "config": {
        "plotlyServerURL": "https://plot.ly"
       },
       "data": [
        {
         "lat": [
          35.57782374620747,
          38.87297673416556
         ],
         "line": {
          "color": "red",
          "width": 1
         },
         "lon": [
          116.7762098856255,
          115.4584681544313
         ],
         "mode": "lines",
         "opacity": 1,
         "type": "scattergeo"
        },
        {
         "lat": [
          35.57782374620747,
          32.14893045727153
         ],
         "line": {
          "color": "red",
          "width": 1
         },
         "lon": [
          116.7762098856255,
          114.0851344571613
         ],
         "mode": "lines",
         "opacity": 1,
         "type": "scattergeo"
        },
        {
         "lat": [
          35.57782374620747,
          35.21640061005598
         ],
         "line": {
          "color": "red",
          "width": 1
         },
         "lon": [
          116.7762098856255,
          113.2354557720119
         ],
         "mode": "lines",
         "opacity": 1,
         "type": "scattergeo"
        },
        {
         "lat": [
          35.57782374620747,
          32.30357289491218
         ],
         "line": {
          "color": "red",
          "width": 1
         },
         "lon": [
          116.7762098856255,
          118.3117146495258
         ],
         "mode": "lines",
         "opacity": 1,
         "type": "scattergeo"
        },
        {
         "lat": [
          35.57782374620747,
          31.73575608295598
         ],
         "line": {
          "color": "red",
          "width": 1
         },
         "lon": [
          116.7762098856255,
          116.5167623870941
         ],
         "mode": "lines",
         "opacity": 1,
         "type": "scattergeo"
        },
        {
         "lat": [
          35.57782374620747,
          34.79814088178576
         ],
         "line": {
          "color": "red",
          "width": 1
         },
         "lon": [
          116.7762098856255,
          114.3017451893433
         ],
         "mode": "lines",
         "opacity": 1,
         "type": "scattergeo"
        },
        {
         "lat": [
          35.57782374620747,
          32.45800429536821
         ],
         "line": {
          "color": "red",
          "width": 1
         },
         "lon": [
          116.7762098856255,
          119.91838005602
         ],
         "mode": "lines",
         "opacity": 1,
         "type": "scattergeo"
        },
        {
         "lat": [
          35.57782374620747,
          40.70959455770206
         ],
         "line": {
          "color": "red",
          "width": 1
         },
         "lon": [
          116.7762098856255,
          120.8317448357023
         ],
         "mode": "lines",
         "opacity": 1,
         "type": "scattergeo"
        },
        {
         "lat": [
          35.57782374620747,
          37.73828947669901
         ],
         "line": {
          "color": "red",
          "width": 1
         },
         "lon": [
          116.7762098856255,
          115.6642998789322
         ],
         "mode": "lines",
         "opacity": 1,
         "type": "scattergeo"
        },
        {
         "lat": [
          35.57782374620747,
          31.2323452344023
         ],
         "line": {
          "color": "red",
          "width": 1
         },
         "lon": [
          116.7762098856255,
          121.4691632652304
         ],
         "mode": "lines",
         "opacity": 1,
         "type": "scattergeo"
        },
        {
         "lat": [
          35.57782374620747,
          36.09740671694131
         ],
         "line": {
          "color": "red",
          "width": 1
         },
         "lon": [
          116.7762098856255,
          114.3863032251404
         ],
         "mode": "lines",
         "opacity": 1,
         "type": "scattergeo"
        },
        {
         "lat": [
          35.57782374620747,
          41.09306620182436
         ],
         "line": {
          "color": "red",
          "width": 1
         },
         "lon": [
          116.7762098856255,
          121.1213539396126
         ],
         "mode": "lines",
         "opacity": 1,
         "type": "scattergeo"
        },
        {
         "lat": [
          35.57782374620747,
          32.62754369430915
         ],
         "line": {
          "color": "red",
          "width": 1
         },
         "lon": [
          116.7762098856255,
          116.9945269148156
         ],
         "mode": "lines",
         "opacity": 1,
         "type": "scattergeo"
        },
        {
         "lat": [
          35.57782374620747,
          39.902626245166
         ],
         "line": {
          "color": "red",
          "width": 1
         },
         "lon": [
          116.7762098856255,
          116.4012828477588
         ],
         "mode": "lines",
         "opacity": 1,
         "type": "scattergeo"
        },
        {
         "lat": [
          35.57782374620747,
          39.08314262375163
         ],
         "line": {
          "color": "red",
          "width": 1
         },
         "lon": [
          116.7762098856255,
          117.1946754317495
         ],
         "mode": "lines",
         "opacity": 1,
         "type": "scattergeo"
        },
        {
         "lat": [
          35.57782374620747,
          37.87005096677684
         ],
         "line": {
          "color": "red",
          "width": 1
         },
         "lon": [
          116.7762098856255,
          112.5425630342325
         ],
         "mode": "lines",
         "opacity": 1,
         "type": "scattergeo"
        },
        {
         "lat": [
          35.57782374620747,
          35.76184910581689
         ],
         "line": {
          "color": "red",
          "width": 1
         },
         "lon": [
          116.7762098856255,
          115.0233457843086
         ],
         "mode": "lines",
         "opacity": 1,
         "type": "scattergeo"
        },
        {
         "lat": [
          35.57782374620747,
          32.06232355267544
         ],
         "line": {
          "color": "red",
          "width": 1
         },
         "lon": [
          116.7762098856255,
          118.7916846702178
         ],
         "mode": "lines",
         "opacity": 1,
         "type": "scattergeo"
        },
        {
         "lat": [
          35.57782374620747,
          31.35470362228185
         ],
         "line": {
          "color": "red",
          "width": 1
         },
         "lon": [
          116.7762098856255,
          118.4275501703881
         ],
         "mode": "lines",
         "opacity": 1,
         "type": "scattergeo"
        },
        {
         "lat": [
          35.57782374620747,
          39.93427691598691
         ],
         "line": {
          "color": "red",
          "width": 1
         },
         "lon": [
          116.7762098856255,
          119.5947177212679
         ],
         "mode": "lines",
         "opacity": 1,
         "type": "scattergeo"
        },
        {
         "lat": [
          35.57782374620747,
          35.30359480186157
         ],
         "line": {
          "color": "red",
          "width": 1
         },
         "lon": [
          116.7762098856255,
          113.9208970878092
         ],
         "mode": "lines",
         "opacity": 1,
         "type": "scattergeo"
        },
        {
         "lat": [
          35.57782374620747,
          36.06681047224894
         ],
         "line": {
          "color": "red",
          "width": 1
         },
         "lon": [
          116.7762098856255,
          120.3775084640287
         ],
         "mode": "lines",
         "opacity": 1,
         "type": "scattergeo"
        },
        {
         "lat": [
          35.57782374620747,
          36.65078171281274
         ],
         "line": {
          "color": "red",
          "width": 1
         },
         "lon": [
          116.7762098856255,
          117.1138686856124
         ],
         "mode": "lines",
         "opacity": 1,
         "type": "scattergeo"
        },
        {
         "lat": [
          35.57782374620747,
          33.01335650611892
         ],
         "line": {
          "color": "red",
          "width": 1
         },
         "lon": [
          116.7762098856255,
          114.0164292106147
         ],
         "mode": "lines",
         "opacity": 1,
         "type": "scattergeo"
        },
        {
         "lat": [
          35.57782374620747,
          32.18972309867631
         ],
         "line": {
          "color": "red",
          "width": 1
         },
         "lon": [
          116.7762098856255,
          119.4203835018594
         ],
         "mode": "lines",
         "opacity": 1,
         "type": "scattergeo"
        },
        {
         "lat": [
          35.57782374620747,
          41.10674546752389
         ],
         "line": {
          "color": "red",
          "width": 1
         },
         "lon": [
          116.7762098856255,
          122.9888556604474
         ],
         "mode": "lines",
         "opacity": 1,
         "type": "scattergeo"
        },
        {
         "lat": [
          35.57782374620747,
          39.33042586350068
         ],
         "line": {
          "color": "red",
          "width": 1
         },
         "lon": [
          116.7762098856255,
          112.4259678830538
         ],
         "mode": "lines",
         "opacity": 1,
         "type": "scattergeo"
        },
        {
         "lat": [
          35.57782374620747,
          31.82258053795522
         ],
         "line": {
          "color": "red",
          "width": 1
         },
         "lon": [
          116.7762098856255,
          117.2217530206498
         ],
         "mode": "lines",
         "opacity": 1,
         "type": "scattergeo"
        },
        {
         "lat": [
          35.57782374620747,
          31.98233962550012
         ],
         "line": {
          "color": "red",
          "width": 1
         },
         "lon": [
          116.7762098856255,
          120.8900735716123
         ],
         "mode": "lines",
         "opacity": 1,
         "type": "scattergeo"
        },
        {
         "lat": [
          35.57782374620747,
          33.62771504579078
         ],
         "line": {
          "color": "red",
          "width": 1
         },
         "lon": [
          116.7762098856255,
          114.6914875280797
         ],
         "mode": "lines",
         "opacity": 1,
         "type": "scattergeo"
        },
        {
         "lat": [
          35.57782374620747,
          31.67242798566556
         ],
         "line": {
          "color": "red",
          "width": 1
         },
         "lon": [
          116.7762098856255,
          118.501560200216
         ],
         "mode": "lines",
         "opacity": 1,
         "type": "scattergeo"
        },
        {
         "lat": [
          35.57782374620747,
          34.41554751048077
         ],
         "line": {
          "color": "red",
          "width": 1
         },
         "lon": [
          116.7762098856255,
          115.6508712568022
         ],
         "mode": "lines",
         "opacity": 1,
         "type": "scattergeo"
        },
        {
         "lat": [
          35.57782374620747,
          35.41536554965287
         ],
         "line": {
          "color": "red",
          "width": 1
         },
         "lon": [
          116.7762098856255,
          116.5818042476442
         ],
         "mode": "lines",
         "opacity": 1,
         "type": "scattergeo"
        },
        {
         "lat": [
          35.57782374620747,
          33.34881077578557
         ],
         "line": {
          "color": "red",
          "width": 1
         },
         "lon": [
          116.7762098856255,
          120.1586027412798
         ],
         "mode": "lines",
         "opacity": 1,
         "type": "scattergeo"
        },
        {
         "lat": [
          35.57782374620747,
          36.19521524648712
         ],
         "line": {
          "color": "red",
          "width": 1
         },
         "lon": [
          116.7762098856255,
          113.1095869618306
         ],
         "mode": "lines",
         "opacity": 1,
         "type": "scattergeo"
        },
        {
         "lat": [
          35.57782374620747,
          36.20000612709986
         ],
         "line": {
          "color": "red",
          "width": 1
         },
         "lon": [
          116.7762098856255,
          117.081554321523
         ],
         "mode": "lines",
         "opacity": 1,
         "type": "scattergeo"
        },
        {
         "lat": [
          35.57782374620747,
          40.66544437055811
         ],
         "line": {
          "color": "red",
          "width": 1
         },
         "lon": [
          116.7762098856255,
          122.2302400702165
         ],
         "mode": "lines",
         "opacity": 1,
         "type": "scattergeo"
        },
        {
         "lat": [
          35.57782374620747,
          38.91322925994839
         ],
         "line": {
          "color": "red",
          "width": 1
         },
         "lon": [
          116.7762098856255,
          121.6097414873907
         ],
         "mode": "lines",
         "opacity": 1,
         "type": "scattergeo"
        },
        {
         "lat": [
          35.57782374620747,
          30.54578375093637
         ],
         "line": {
          "color": "red",
          "width": 1
         },
         "lon": [
          116.7762098856255,
          117.0583094488215
         ],
         "mode": "lines",
         "opacity": 1,
         "type": "scattergeo"
        },
        {
         "lat": [
          35.57782374620747,
          42.25587691695832
         ],
         "line": {
          "color": "red",
          "width": 1
         },
         "lon": [
          116.7762098856255,
          118.8806794224993
         ],
         "mode": "lines",
         "opacity": 1,
         "type": "scattergeo"
        },
        {
         "lat": [
          35.57782374620747,
          35.23412907616527
         ],
         "line": {
          "color": "red",
          "width": 1
         },
         "lon": [
          116.7762098856255,
          115.4747879692151
         ],
         "mode": "lines",
         "opacity": 1,
         "type": "scattergeo"
        },
        {
         "lat": [
          35.57782374620747,
          38.28487573162408
         ],
         "line": {
          "color": "red",
          "width": 1
         },
         "lon": [
          116.7762098856255,
          109.7290105322149
         ],
         "mode": "lines",
         "opacity": 1,
         "type": "scattergeo"
        },
        {
         "lat": [
          35.57782374620747,
          30.94293557276461
         ],
         "line": {
          "color": "red",
          "width": 1
         },
         "lon": [
          116.7762098856255,
          118.7536914610581
         ],
         "mode": "lines",
         "opacity": 1,
         "type": "scattergeo"
        },
        {
         "lat": [
          35.57782374620747,
          33.64794994611666
         ],
         "line": {
          "color": "red",
          "width": 1
         },
         "lon": [
          116.7762098856255,
          116.95899047143
         ],
         "mode": "lines",
         "opacity": 1,
         "type": "scattergeo"
        },
        {
         "lat": [
          35.57782374620747,
          29.71706301538657
         ],
         "line": {
          "color": "red",
          "width": 1
         },
         "lon": [
          116.7762098856255,
          118.3322856589073
         ],
         "mode": "lines",
         "opacity": 1,
         "type": "scattergeo"
        },
        {
         "lat": [
          35.57782374620747,
          37.38135642016103
         ],
         "line": {
          "color": "red",
          "width": 1
         },
         "lon": [
          116.7762098856255,
          117.9648159835762
         ],
         "mode": "lines",
         "opacity": 1,
         "type": "scattergeo"
        },
        {
         "lat": [
          35.57782374620747,
          34.81129214820155
         ],
         "line": {
          "color": "red",
          "width": 1
         },
         "lon": [
          116.7762098856255,
          117.3178308871384
         ],
         "mode": "lines",
         "opacity": 1,
         "type": "scattergeo"
        },
        {
         "lat": [
          35.57782374620747,
          34.59768100862672
         ],
         "line": {
          "color": "red",
          "width": 1
         },
         "lon": [
          116.7762098856255,
          119.2160715736077
         ],
         "mode": "lines",
         "opacity": 1,
         "type": "scattergeo"
        },
        {
         "lat": [
          35.57782374620747,
          31.81274316521338
         ],
         "line": {
          "color": "red",
          "width": 1
         },
         "lon": [
          116.7762098856255,
          119.9692475651995
         ],
         "mode": "lines",
         "opacity": 1,
         "type": "scattergeo"
        },
        {
         "lat": [
          35.57782374620747,
          37.85646220510019
         ],
         "line": {
          "color": "red",
          "width": 1
         },
         "lon": [
          116.7762098856255,
          113.574107092927
         ],
         "mode": "lines",
         "opacity": 1,
         "type": "scattergeo"
        },
        {
         "lat": [
          35.57782374620747,
          41.80326291802402
         ],
         "line": {
          "color": "red",
          "width": 1
         },
         "lon": [
          116.7762098856255,
          123.4253315842275
         ],
         "mode": "lines",
         "opacity": 1,
         "type": "scattergeo"
        },
        {
         "lat": [
          35.57782374620747,
          39.998962954379
         ],
         "line": {
          "color": "red",
          "width": 1
         },
         "lon": [
          116.7762098856255,
          124.3489462400518
         ],
         "mode": "lines",
         "opacity": 1,
         "type": "scattergeo"
        },
        {
         "lat": [
          35.57782374620747,
          42.01951815368355
         ],
         "line": {
          "color": "red",
          "width": 1
         },
         "lon": [
          116.7762098856255,
          121.6649262102888
         ],
         "mode": "lines",
         "opacity": 1,
         "type": "scattergeo"
        },
        {
         "lat": [
          35.57782374620747,
          30.89639388346604
         ],
         "line": {
          "color": "red",
          "width": 1
         },
         "lon": [
          116.7762098856255,
          120.0819509034296
         ],
         "mode": "lines",
         "opacity": 1,
         "type": "scattergeo"
        },
        {
         "lat": [
          35.57782374620747,
          37.46284183566092
         ],
         "line": {
          "color": "red",
          "width": 1
         },
         "lon": [
          116.7762098856255,
          121.4427159708412
         ],
         "mode": "lines",
         "opacity": 1,
         "type": "scattergeo"
        },
        {
         "lat": [
          35.57782374620747,
          41.87872843096351
         ],
         "line": {
          "color": "red",
          "width": 1
         },
         "lon": [
          116.7762098856255,
          123.9514479031235
         ],
         "mode": "lines",
         "opacity": 1,
         "type": "scattergeo"
        },
        {
         "lat": [
          35.57782374620747,
          30.66714344132274
         ],
         "line": {
          "color": "red",
          "width": 1
         },
         "lon": [
          116.7762098856255,
          117.4860824783757
         ],
         "mode": "lines",
         "opacity": 1,
         "type": "scattergeo"
        },
        {
         "lat": [
          35.57782374620747,
          35.49110504705786
         ],
         "line": {
          "color": "red",
          "width": 1
         },
         "lon": [
          116.7762098856255,
          112.8457114258861
         ],
         "mode": "lines",
         "opacity": 1,
         "type": "scattergeo"
        },
        {
         "lat": [
          35.57782374620747,
          30.94771223306929
         ],
         "line": {
          "color": "red",
          "width": 1
         },
         "lon": [
          116.7762098856255,
          117.8067260077645
         ],
         "mode": "lines",
         "opacity": 1,
         "type": "scattergeo"
        },
        {
         "lat": [
          35.57782374620747,
          33.611763586717
         ],
         "line": {
          "color": "red",
          "width": 1
         },
         "lon": [
          116.7762098856255,
          119.0098472690756
         ],
         "mode": "lines",
         "opacity": 1,
         "type": "scattergeo"
        },
        {
         "lat": [
          35.57782374620747,
          33.96458366057329
         ],
         "line": {
          "color": "red",
          "width": 1
         },
         "lon": [
          116.7762098856255,
          118.2696951415908
         ],
         "mode": "lines",
         "opacity": 1,
         "type": "scattergeo"
        },
        {
         "lat": [
          35.57782374620747,
          35.74730281423409
         ],
         "line": {
          "color": "red",
          "width": 1
         },
         "lon": [
          116.7762098856255,
          114.2913498473666
         ],
         "mode": "lines",
         "opacity": 1,
         "type": "scattergeo"
        },
        {
         "lat": [
          35.57782374620747,
          37.4340837447518
         ],
         "line": {
          "color": "red",
          "width": 1
         },
         "lon": [
          116.7762098856255,
          118.669113279668
         ],
         "mode": "lines",
         "opacity": 1,
         "type": "scattergeo"
        },
        {
         "lat": [
          35.57782374620747,
          33.95726296715417
         ],
         "line": {
          "color": "red",
          "width": 1
         },
         "lon": [
          116.7762098856255,
          116.7928608550622
         ],
         "mode": "lines",
         "opacity": 1,
         "type": "scattergeo"
        },
        {
         "lat": [
          35.57782374620747,
          41.26517446940125
         ],
         "line": {
          "color": "red",
          "width": 1
         },
         "lon": [
          116.7762098856255,
          123.2312079197878
         ],
         "mode": "lines",
         "opacity": 1,
         "type": "scattergeo"
        },
        {
         "lat": [
          35.57782374620747,
          41.11791379409293
         ],
         "line": {
          "color": "red",
          "width": 1
         },
         "lon": [
          116.7762098856255,
          122.0652294108859
         ],
         "mode": "lines",
         "opacity": 1,
         "type": "scattergeo"
        },
        {
         "lat": [
          35.57782374620747,
          36.45663192740123
         ],
         "line": {
          "color": "red",
          "width": 1
         },
         "lon": [
          116.7762098856255,
          115.9797083411264
         ],
         "mode": "lines",
         "opacity": 1,
         "type": "scattergeo"
        },
        {
         "lat": [
          35.57782374620747,
          37.51752738993748
         ],
         "line": {
          "color": "red",
          "width": 1
         },
         "lon": [
          116.7762098856255,
          111.1379504274304
         ],
         "mode": "lines",
         "opacity": 1,
         "type": "scattergeo"
        },
        {
         "lat": [
          35.57782374620747,
          39.62954759868035
         ],
         "line": {
          "color": "red",
          "width": 1
         },
         "lon": [
          116.7762098856255,
          118.1738965760385
         ],
         "mode": "lines",
         "opacity": 1,
         "type": "scattergeo"
        },
        {
         "lat": [
          35.57782374620747,
          34.20706393180895
         ],
         "line": {
          "color": "red",
          "width": 1
         },
         "lon": [
          116.7762098856255,
          117.2783803771574
         ],
         "mode": "lines",
         "opacity": 1,
         "type": "scattergeo"
        },
        {
         "lat": [
          35.57782374620747,
          40.95250667908144
         ],
         "line": {
          "color": "red",
          "width": 1
         },
         "lon": [
          116.7762098856255,
          117.9561006544303
         ],
         "mode": "lines",
         "opacity": 1,
         "type": "scattergeo"
        },
        {
         "lat": [
          35.57782374620747,
          37.07009447918728
         ],
         "line": {
          "color": "red",
          "width": 1
         },
         "lon": [
          116.7762098856255,
          114.4989149321016
         ],
         "mode": "lines",
         "opacity": 1,
         "type": "scattergeo"
        },
        {
         "lat": [
          35.57782374620747,
          36.70632018861866
         ],
         "line": {
          "color": "red",
          "width": 1
         },
         "lon": [
          116.7762098856255,
          119.1558595520424
         ],
         "mode": "lines",
         "opacity": 1,
         "type": "scattergeo"
        },
        {
         "lat": [
          35.57782374620747,
          36.08811024456974
         ],
         "line": {
          "color": "red",
          "width": 1
         },
         "lon": [
          116.7762098856255,
          111.512738356361
         ],
         "mode": "lines",
         "opacity": 1,
         "type": "scattergeo"
        },
        {
         "lat": [
          35.57782374620747,
          35.10507345109453
         ],
         "line": {
          "color": "red",
          "width": 1
         },
         "lon": [
          116.7762098856255,
          118.3507031521379
         ],
         "mode": "lines",
         "opacity": 1,
         "type": "scattergeo"
        },
        {
         "lat": [
          35.57782374620747,
          36.81297525993266
         ],
         "line": {
          "color": "red",
          "width": 1
         },
         "lon": [
          116.7762098856255,
          118.0488583987726
         ],
         "mode": "lines",
         "opacity": 1,
         "type": "scattergeo"
        },
        {
         "lat": [
          35.57782374620747,
          36.62556357656246
         ],
         "line": {
          "color": "red",
          "width": 1
         },
         "lon": [
          116.7762098856255,
          114.5332139277783
         ],
         "mode": "lines",
         "opacity": 1,
         "type": "scattergeo"
        },
        {
         "lat": [
          35.57782374620747,
          37.43323604935444
         ],
         "line": {
          "color": "red",
          "width": 1
         },
         "lon": [
          116.7762098856255,
          116.3515748491772
         ],
         "mode": "lines",
         "opacity": 1,
         "type": "scattergeo"
        },
        {
         "lat": [
          35.57782374620747,
          33.58291634117343
         ],
         "line": {
          "color": "red",
          "width": 1
         },
         "lon": [
          116.7762098856255,
          114.0106299585456
         ],
         "mode": "lines",
         "opacity": 1,
         "type": "scattergeo"
        },
        {
         "lat": [
          35.57782374620747,
          27.99755639661836
         ],
         "line": {
          "color": "red",
          "width": 1
         },
         "lon": [
          116.7762098856255,
          120.6953146770179
         ],
         "mode": "lines",
         "opacity": 1,
         "type": "scattergeo"
        },
        {
         "lat": [
          35.57782374620747,
          37.51203174558772
         ],
         "line": {
          "color": "red",
          "width": 1
         },
         "lon": [
          116.7762098856255,
          122.1153552474822
         ],
         "mode": "lines",
         "opacity": 1,
         "type": "scattergeo"
        },
        {
         "lat": [
          35.57782374620747,
          38.41608696241872
         ],
         "line": {
          "color": "red",
          "width": 1
         },
         "lon": [
          116.7762098856255,
          112.727613615456
         ],
         "mode": "lines",
         "opacity": 1,
         "type": "scattergeo"
        },
        {
         "lat": [
          35.57782374620747,
          32.91799515400531
         ],
         "line": {
          "color": "red",
          "width": 1
         },
         "lon": [
          116.7762098856255,
          117.3838768458563
         ],
         "mode": "lines",
         "opacity": 1,
         "type": "scattergeo"
        },
        {
         "lat": [
          35.57782374620747,
          35.41664985448086
         ],
         "line": {
          "color": "red",
          "width": 1
         },
         "lon": [
          116.7762098856255,
          119.5214386156121
         ],
         "mode": "lines",
         "opacity": 1,
         "type": "scattergeo"
        },
        {
         "lat": [
          35.57782374620747,
          38.04166913884188
         ],
         "line": {
          "color": "red",
          "width": 1
         },
         "lon": [
          116.7762098856255,
          114.5088610208725
         ],
         "mode": "lines",
         "opacity": 1,
         "type": "scattergeo"
        },
        {
         "lat": [
          35.57782374620747,
          32.39608761324173
         ],
         "line": {
          "color": "red",
          "width": 1
         },
         "lon": [
          116.7762098856255,
          119.4074816928227
         ],
         "mode": "lines",
         "opacity": 1,
         "type": "scattergeo"
        },
        {
         "lat": [
          35.57782374620747,
          38.30390787880884
         ],
         "line": {
          "color": "red",
          "width": 1
         },
         "lon": [
          116.7762098856255,
          116.833033542554
         ],
         "mode": "lines",
         "opacity": 1,
         "type": "scattergeo"
        },
        {
         "lat": [
          39.32561126337727,
          38.87297673416556
         ],
         "line": {
          "color": "red",
          "width": 1
         },
         "lon": [
          115.8678449047579,
          115.4584681544313
         ],
         "mode": "lines",
         "opacity": 1,
         "type": "scattergeo"
        },
        {
         "lat": [
          39.32561126337727,
          40.70959455770206
         ],
         "line": {
          "color": "red",
          "width": 1
         },
         "lon": [
          115.8678449047579,
          120.8317448357023
         ],
         "mode": "lines",
         "opacity": 1,
         "type": "scattergeo"
        },
        {
         "lat": [
          39.32561126337727,
          37.73828947669901
         ],
         "line": {
          "color": "red",
          "width": 1
         },
         "lon": [
          115.8678449047579,
          115.6642998789322
         ],
         "mode": "lines",
         "opacity": 1,
         "type": "scattergeo"
        },
        {
         "lat": [
          39.32561126337727,
          36.09740671694131
         ],
         "line": {
          "color": "red",
          "width": 1
         },
         "lon": [
          115.8678449047579,
          114.3863032251404
         ],
         "mode": "lines",
         "opacity": 1,
         "type": "scattergeo"
        },
        {
         "lat": [
          39.32561126337727,
          41.09306620182436
         ],
         "line": {
          "color": "red",
          "width": 1
         },
         "lon": [
          115.8678449047579,
          121.1213539396126
         ],
         "mode": "lines",
         "opacity": 1,
         "type": "scattergeo"
        },
        {
         "lat": [
          39.32561126337727,
          39.902626245166
         ],
         "line": {
          "color": "red",
          "width": 1
         },
         "lon": [
          115.8678449047579,
          116.4012828477588
         ],
         "mode": "lines",
         "opacity": 1,
         "type": "scattergeo"
        },
        {
         "lat": [
          39.32561126337727,
          39.08314262375163
         ],
         "line": {
          "color": "red",
          "width": 1
         },
         "lon": [
          115.8678449047579,
          117.1946754317495
         ],
         "mode": "lines",
         "opacity": 1,
         "type": "scattergeo"
        },
        {
         "lat": [
          39.32561126337727,
          35.76184910581689
         ],
         "line": {
          "color": "red",
          "width": 1
         },
         "lon": [
          115.8678449047579,
          115.0233457843086
         ],
         "mode": "lines",
         "opacity": 1,
         "type": "scattergeo"
        },
        {
         "lat": [
          39.32561126337727,
          39.93427691598691
         ],
         "line": {
          "color": "red",
          "width": 1
         },
         "lon": [
          115.8678449047579,
          119.5947177212679
         ],
         "mode": "lines",
         "opacity": 1,
         "type": "scattergeo"
        },
        {
         "lat": [
          39.32561126337727,
          36.65078171281274
         ],
         "line": {
          "color": "red",
          "width": 1
         },
         "lon": [
          115.8678449047579,
          117.1138686856124
         ],
         "mode": "lines",
         "opacity": 1,
         "type": "scattergeo"
        },
        {
         "lat": [
          39.32561126337727,
          41.10674546752389
         ],
         "line": {
          "color": "red",
          "width": 1
         },
         "lon": [
          115.8678449047579,
          122.9888556604474
         ],
         "mode": "lines",
         "opacity": 1,
         "type": "scattergeo"
        },
        {
         "lat": [
          39.32561126337727,
          39.33042586350068
         ],
         "line": {
          "color": "red",
          "width": 1
         },
         "lon": [
          115.8678449047579,
          112.4259678830538
         ],
         "mode": "lines",
         "opacity": 1,
         "type": "scattergeo"
        },
        {
         "lat": [
          39.32561126337727,
          40.66544437055811
         ],
         "line": {
          "color": "red",
          "width": 1
         },
         "lon": [
          115.8678449047579,
          122.2302400702165
         ],
         "mode": "lines",
         "opacity": 1,
         "type": "scattergeo"
        },
        {
         "lat": [
          39.32561126337727,
          38.91322925994839
         ],
         "line": {
          "color": "red",
          "width": 1
         },
         "lon": [
          115.8678449047579,
          121.6097414873907
         ],
         "mode": "lines",
         "opacity": 1,
         "type": "scattergeo"
        },
        {
         "lat": [
          39.32561126337727,
          42.25587691695832
         ],
         "line": {
          "color": "red",
          "width": 1
         },
         "lon": [
          115.8678449047579,
          118.8806794224993
         ],
         "mode": "lines",
         "opacity": 1,
         "type": "scattergeo"
        },
        {
         "lat": [
          39.32561126337727,
          37.38135642016103
         ],
         "line": {
          "color": "red",
          "width": 1
         },
         "lon": [
          115.8678449047579,
          117.9648159835762
         ],
         "mode": "lines",
         "opacity": 1,
         "type": "scattergeo"
        },
        {
         "lat": [
          39.32561126337727,
          37.85646220510019
         ],
         "line": {
          "color": "red",
          "width": 1
         },
         "lon": [
          115.8678449047579,
          113.574107092927
         ],
         "mode": "lines",
         "opacity": 1,
         "type": "scattergeo"
        },
        {
         "lat": [
          39.32561126337727,
          42.01951815368355
         ],
         "line": {
          "color": "red",
          "width": 1
         },
         "lon": [
          115.8678449047579,
          121.6649262102888
         ],
         "mode": "lines",
         "opacity": 1,
         "type": "scattergeo"
        },
        {
         "lat": [
          39.32561126337727,
          35.74730281423409
         ],
         "line": {
          "color": "red",
          "width": 1
         },
         "lon": [
          115.8678449047579,
          114.2913498473666
         ],
         "mode": "lines",
         "opacity": 1,
         "type": "scattergeo"
        },
        {
         "lat": [
          39.32561126337727,
          37.4340837447518
         ],
         "line": {
          "color": "red",
          "width": 1
         },
         "lon": [
          115.8678449047579,
          118.669113279668
         ],
         "mode": "lines",
         "opacity": 1,
         "type": "scattergeo"
        },
        {
         "lat": [
          39.32561126337727,
          41.26517446940125
         ],
         "line": {
          "color": "red",
          "width": 1
         },
         "lon": [
          115.8678449047579,
          123.2312079197878
         ],
         "mode": "lines",
         "opacity": 1,
         "type": "scattergeo"
        },
        {
         "lat": [
          39.32561126337727,
          41.11791379409293
         ],
         "line": {
          "color": "red",
          "width": 1
         },
         "lon": [
          115.8678449047579,
          122.0652294108859
         ],
         "mode": "lines",
         "opacity": 1,
         "type": "scattergeo"
        },
        {
         "lat": [
          39.32561126337727,
          36.45663192740123
         ],
         "line": {
          "color": "red",
          "width": 1
         },
         "lon": [
          115.8678449047579,
          115.9797083411264
         ],
         "mode": "lines",
         "opacity": 1,
         "type": "scattergeo"
        },
        {
         "lat": [
          39.32561126337727,
          39.62954759868035
         ],
         "line": {
          "color": "red",
          "width": 1
         },
         "lon": [
          115.8678449047579,
          118.1738965760385
         ],
         "mode": "lines",
         "opacity": 1,
         "type": "scattergeo"
        },
        {
         "lat": [
          39.32561126337727,
          40.95250667908144
         ],
         "line": {
          "color": "red",
          "width": 1
         },
         "lon": [
          115.8678449047579,
          117.9561006544303
         ],
         "mode": "lines",
         "opacity": 1,
         "type": "scattergeo"
        },
        {
         "lat": [
          39.32561126337727,
          37.07009447918728
         ],
         "line": {
          "color": "red",
          "width": 1
         },
         "lon": [
          115.8678449047579,
          114.4989149321016
         ],
         "mode": "lines",
         "opacity": 1,
         "type": "scattergeo"
        },
        {
         "lat": [
          39.32561126337727,
          35.10507345109453
         ],
         "line": {
          "color": "red",
          "width": 1
         },
         "lon": [
          115.8678449047579,
          118.3507031521379
         ],
         "mode": "lines",
         "opacity": 1,
         "type": "scattergeo"
        },
        {
         "lat": [
          39.32561126337727,
          36.81297525993266
         ],
         "line": {
          "color": "red",
          "width": 1
         },
         "lon": [
          115.8678449047579,
          118.0488583987726
         ],
         "mode": "lines",
         "opacity": 1,
         "type": "scattergeo"
        },
        {
         "lat": [
          39.32561126337727,
          36.62556357656246
         ],
         "line": {
          "color": "red",
          "width": 1
         },
         "lon": [
          115.8678449047579,
          114.5332139277783
         ],
         "mode": "lines",
         "opacity": 1,
         "type": "scattergeo"
        },
        {
         "lat": [
          39.32561126337727,
          37.43323604935444
         ],
         "line": {
          "color": "red",
          "width": 1
         },
         "lon": [
          115.8678449047579,
          116.3515748491772
         ],
         "mode": "lines",
         "opacity": 1,
         "type": "scattergeo"
        },
        {
         "lat": [
          39.32561126337727,
          38.41608696241872
         ],
         "line": {
          "color": "red",
          "width": 1
         },
         "lon": [
          115.8678449047579,
          112.727613615456
         ],
         "mode": "lines",
         "opacity": 1,
         "type": "scattergeo"
        },
        {
         "lat": [
          39.32561126337727,
          38.04166913884188
         ],
         "line": {
          "color": "red",
          "width": 1
         },
         "lon": [
          115.8678449047579,
          114.5088610208725
         ],
         "mode": "lines",
         "opacity": 1,
         "type": "scattergeo"
        },
        {
         "lat": [
          39.32561126337727,
          38.30390787880884
         ],
         "line": {
          "color": "red",
          "width": 1
         },
         "lon": [
          115.8678449047579,
          116.833033542554
         ],
         "mode": "lines",
         "opacity": 1,
         "type": "scattergeo"
        },
        {
         "lat": [
          39.32561126337727,
          42.22154773477672
         ],
         "line": {
          "color": "red",
          "width": 1
         },
         "lon": [
          115.8678449047579,
          123.7201627592107
         ],
         "mode": "lines",
         "opacity": 1,
         "type": "scattergeo"
        },
        {
         "lat": [
          39.32561126337727,
          40.8411402225846
         ],
         "line": {
          "color": "red",
          "width": 1
         },
         "lon": [
          115.8678449047579,
          111.7422639952268
         ],
         "mode": "lines",
         "opacity": 1,
         "type": "scattergeo"
        },
        {
         "lat": [
          39.32561126337727,
          41.57143607080685
         ],
         "line": {
          "color": "red",
          "width": 1
         },
         "lon": [
          115.8678449047579,
          120.4446736419042
         ],
         "mode": "lines",
         "opacity": 1,
         "type": "scattergeo"
        },
        {
         "lat": [
          39.32561126337727,
          40.65629113306126
         ],
         "line": {
          "color": "red",
          "width": 1
         },
         "lon": [
          115.8678449047579,
          109.8346292526299
         ],
         "mode": "lines",
         "opacity": 1,
         "type": "scattergeo"
        },
        {
         "lat": [
          39.32561126337727,
          39.902626245166
         ],
         "line": {
          "color": "red",
          "width": 1
         },
         "lon": [
          115.8678449047579,
          116.4012828477588
         ],
         "mode": "lines",
         "opacity": 1,
         "type": "scattergeo"
        },
        {
         "lat": [
          39.32561126337727,
          40.07557310802614
         ],
         "line": {
          "color": "red",
          "width": 1
         },
         "lon": [
          115.8678449047579,
          113.2931269502874
         ],
         "mode": "lines",
         "opacity": 1,
         "type": "scattergeo"
        },
        {
         "lat": [
          39.32561126337727,
          40.82308854129995
         ],
         "line": {
          "color": "red",
          "width": 1
         },
         "lon": [
          115.8678449047579,
          114.8814226622556
         ],
         "mode": "lines",
         "opacity": 1,
         "type": "scattergeo"
        },
        {
         "lat": [
          39.32561126337727,
          43.65052523160977
         ],
         "line": {
          "color": "red",
          "width": 1
         },
         "lon": [
          115.8678449047579,
          122.2378879047936
         ],
         "mode": "lines",
         "opacity": 1,
         "type": "scattergeo"
        },
        {
         "lat": [
          39.32561126337727,
          22.5814332706114
         ],
         "line": {
          "color": "red",
          "width": 1
         },
         "lon": [
          115.8678449047579,
          113.0764574145007
         ],
         "mode": "lines",
         "opacity": 1,
         "type": "scattergeo"
        },
        {
         "lat": [
          39.32561126337727,
          41.29208302479014
         ],
         "line": {
          "color": "red",
          "width": 1
         },
         "lon": [
          115.8678449047579,
          123.7605948505183
         ],
         "mode": "lines",
         "opacity": 1,
         "type": "scattergeo"
        },
        {
         "lat": [
          39.32561126337727,
          40.99301005071572
         ],
         "line": {
          "color": "red",
          "width": 1
         },
         "lon": [
          115.8678449047579,
          113.1253090209648
         ],
         "mode": "lines",
         "opacity": 1,
         "type": "scattergeo"
        },
        {
         "lat": [
          39.32561126337727,
          32.89211160308685
         ],
         "line": {
          "color": "red",
          "width": 1
         },
         "lon": [
          115.8678449047579,
          115.8088195468257
         ],
         "mode": "lines",
         "opacity": 1,
         "type": "scattergeo"
        },
        {
         "lat": [
          39.32561126337727,
          28.47103856667617
         ],
         "line": {
          "color": "red",
          "width": 1
         },
         "lon": [
          115.8678449047579,
          119.9183913224205
         ],
         "mode": "lines",
         "opacity": 1,
         "type": "scattergeo"
        },
        {
         "lat": [
          39.32561126337727,
          39.60724263159052
         ],
         "line": {
          "color": "red",
          "width": 1
         },
         "lon": [
          115.8678449047579,
          109.7756072826352
         ],
         "mode": "lines",
         "opacity": 1,
         "type": "scattergeo"
        },
        {
         "lat": [
          39.32561126337727,
          43.81463051275358
         ],
         "line": {
          "color": "red",
          "width": 1
         },
         "lon": [
          115.8678449047579,
          125.3170556355448
         ],
         "mode": "lines",
         "opacity": 1,
         "type": "scattergeo"
        },
        {
         "lat": [
          39.32561126337727,
          43.93128150032256
         ],
         "line": {
          "color": "red",
          "width": 1
         },
         "lon": [
          115.8678449047579,
          116.0414004756569
         ],
         "mode": "lines",
         "opacity": 1,
         "type": "scattergeo"
        },
        {
         "lat": [
          39.32561126337727,
          39.53695727577932
         ],
         "line": {
          "color": "red",
          "width": 1
         },
         "lon": [
          115.8678449047579,
          116.677852879759
         ],
         "mode": "lines",
         "opacity": 1,
         "type": "scattergeo"
        },
        {
         "lat": [
          34.48747888097904,
          38.87297673416556
         ],
         "line": {
          "color": "red",
          "width": 1
         },
         "lon": [
          113.792328127149,
          115.4584681544313
         ],
         "mode": "lines",
         "opacity": 1,
         "type": "scattergeo"
        },
        {
         "lat": [
          34.48747888097904,
          32.14893045727153
         ],
         "line": {
          "color": "red",
          "width": 1
         },
         "lon": [
          113.792328127149,
          114.0851344571613
         ],
         "mode": "lines",
         "opacity": 1,
         "type": "scattergeo"
        },
        {
         "lat": [
          34.48747888097904,
          35.21640061005598
         ],
         "line": {
          "color": "red",
          "width": 1
         },
         "lon": [
          113.792328127149,
          113.2354557720119
         ],
         "mode": "lines",
         "opacity": 1,
         "type": "scattergeo"
        },
        {
         "lat": [
          34.48747888097904,
          32.30357289491218
         ],
         "line": {
          "color": "red",
          "width": 1
         },
         "lon": [
          113.792328127149,
          118.3117146495258
         ],
         "mode": "lines",
         "opacity": 1,
         "type": "scattergeo"
        },
        {
         "lat": [
          34.48747888097904,
          31.73575608295598
         ],
         "line": {
          "color": "red",
          "width": 1
         },
         "lon": [
          113.792328127149,
          116.5167623870941
         ],
         "mode": "lines",
         "opacity": 1,
         "type": "scattergeo"
        },
        {
         "lat": [
          34.48747888097904,
          34.79814088178576
         ],
         "line": {
          "color": "red",
          "width": 1
         },
         "lon": [
          113.792328127149,
          114.3017451893433
         ],
         "mode": "lines",
         "opacity": 1,
         "type": "scattergeo"
        },
        {
         "lat": [
          34.48747888097904,
          37.73828947669901
         ],
         "line": {
          "color": "red",
          "width": 1
         },
         "lon": [
          113.792328127149,
          115.6642998789322
         ],
         "mode": "lines",
         "opacity": 1,
         "type": "scattergeo"
        },
        {
         "lat": [
          34.48747888097904,
          36.09740671694131
         ],
         "line": {
          "color": "red",
          "width": 1
         },
         "lon": [
          113.792328127149,
          114.3863032251404
         ],
         "mode": "lines",
         "opacity": 1,
         "type": "scattergeo"
        },
        {
         "lat": [
          34.48747888097904,
          32.62754369430915
         ],
         "line": {
          "color": "red",
          "width": 1
         },
         "lon": [
          113.792328127149,
          116.9945269148156
         ],
         "mode": "lines",
         "opacity": 1,
         "type": "scattergeo"
        },
        {
         "lat": [
          34.48747888097904,
          35.76184910581689
         ],
         "line": {
          "color": "red",
          "width": 1
         },
         "lon": [
          113.792328127149,
          115.0233457843086
         ],
         "mode": "lines",
         "opacity": 1,
         "type": "scattergeo"
        },
        {
         "lat": [
          34.48747888097904,
          32.06232355267544
         ],
         "line": {
          "color": "red",
          "width": 1
         },
         "lon": [
          113.792328127149,
          118.7916846702178
         ],
         "mode": "lines",
         "opacity": 1,
         "type": "scattergeo"
        },
        {
         "lat": [
          34.48747888097904,
          31.35470362228185
         ],
         "line": {
          "color": "red",
          "width": 1
         },
         "lon": [
          113.792328127149,
          118.4275501703881
         ],
         "mode": "lines",
         "opacity": 1,
         "type": "scattergeo"
        },
        {
         "lat": [
          34.48747888097904,
          35.30359480186157
         ],
         "line": {
          "color": "red",
          "width": 1
         },
         "lon": [
          113.792328127149,
          113.9208970878092
         ],
         "mode": "lines",
         "opacity": 1,
         "type": "scattergeo"
        },
        {
         "lat": [
          34.48747888097904,
          33.01335650611892
         ],
         "line": {
          "color": "red",
          "width": 1
         },
         "lon": [
          113.792328127149,
          114.0164292106147
         ],
         "mode": "lines",
         "opacity": 1,
         "type": "scattergeo"
        },
        {
         "lat": [
          34.48747888097904,
          31.82258053795522
         ],
         "line": {
          "color": "red",
          "width": 1
         },
         "lon": [
          113.792328127149,
          117.2217530206498
         ],
         "mode": "lines",
         "opacity": 1,
         "type": "scattergeo"
        },
        {
         "lat": [
          34.48747888097904,
          33.62771504579078
         ],
         "line": {
          "color": "red",
          "width": 1
         },
         "lon": [
          113.792328127149,
          114.6914875280797
         ],
         "mode": "lines",
         "opacity": 1,
         "type": "scattergeo"
        },
        {
         "lat": [
          34.48747888097904,
          34.41554751048077
         ],
         "line": {
          "color": "red",
          "width": 1
         },
         "lon": [
          113.792328127149,
          115.6508712568022
         ],
         "mode": "lines",
         "opacity": 1,
         "type": "scattergeo"
        },
        {
         "lat": [
          34.48747888097904,
          33.34881077578557
         ],
         "line": {
          "color": "red",
          "width": 1
         },
         "lon": [
          113.792328127149,
          120.1586027412798
         ],
         "mode": "lines",
         "opacity": 1,
         "type": "scattergeo"
        },
        {
         "lat": [
          34.48747888097904,
          36.19521524648712
         ],
         "line": {
          "color": "red",
          "width": 1
         },
         "lon": [
          113.792328127149,
          113.1095869618306
         ],
         "mode": "lines",
         "opacity": 1,
         "type": "scattergeo"
        },
        {
         "lat": [
          34.48747888097904,
          30.54578375093637
         ],
         "line": {
          "color": "red",
          "width": 1
         },
         "lon": [
          113.792328127149,
          117.0583094488215
         ],
         "mode": "lines",
         "opacity": 1,
         "type": "scattergeo"
        },
        {
         "lat": [
          34.48747888097904,
          35.23412907616527
         ],
         "line": {
          "color": "red",
          "width": 1
         },
         "lon": [
          113.792328127149,
          115.4747879692151
         ],
         "mode": "lines",
         "opacity": 1,
         "type": "scattergeo"
        },
        {
         "lat": [
          34.48747888097904,
          33.64794994611666
         ],
         "line": {
          "color": "red",
          "width": 1
         },
         "lon": [
          113.792328127149,
          116.95899047143
         ],
         "mode": "lines",
         "opacity": 1,
         "type": "scattergeo"
        },
        {
         "lat": [
          34.48747888097904,
          29.71706301538657
         ],
         "line": {
          "color": "red",
          "width": 1
         },
         "lon": [
          113.792328127149,
          118.3322856589073
         ],
         "mode": "lines",
         "opacity": 1,
         "type": "scattergeo"
        },
        {
         "lat": [
          34.48747888097904,
          30.66714344132274
         ],
         "line": {
          "color": "red",
          "width": 1
         },
         "lon": [
          113.792328127149,
          117.4860824783757
         ],
         "mode": "lines",
         "opacity": 1,
         "type": "scattergeo"
        },
        {
         "lat": [
          34.48747888097904,
          35.49110504705786
         ],
         "line": {
          "color": "red",
          "width": 1
         },
         "lon": [
          113.792328127149,
          112.8457114258861
         ],
         "mode": "lines",
         "opacity": 1,
         "type": "scattergeo"
        },
        {
         "lat": [
          34.48747888097904,
          30.94771223306929
         ],
         "line": {
          "color": "red",
          "width": 1
         },
         "lon": [
          113.792328127149,
          117.8067260077645
         ],
         "mode": "lines",
         "opacity": 1,
         "type": "scattergeo"
        },
        {
         "lat": [
          34.48747888097904,
          33.611763586717
         ],
         "line": {
          "color": "red",
          "width": 1
         },
         "lon": [
          113.792328127149,
          119.0098472690756
         ],
         "mode": "lines",
         "opacity": 1,
         "type": "scattergeo"
        },
        {
         "lat": [
          34.48747888097904,
          35.74730281423409
         ],
         "line": {
          "color": "red",
          "width": 1
         },
         "lon": [
          113.792328127149,
          114.2913498473666
         ],
         "mode": "lines",
         "opacity": 1,
         "type": "scattergeo"
        },
        {
         "lat": [
          34.48747888097904,
          33.95726296715417
         ],
         "line": {
          "color": "red",
          "width": 1
         },
         "lon": [
          113.792328127149,
          116.7928608550622
         ],
         "mode": "lines",
         "opacity": 1,
         "type": "scattergeo"
        },
        {
         "lat": [
          34.48747888097904,
          34.20706393180895
         ],
         "line": {
          "color": "red",
          "width": 1
         },
         "lon": [
          113.792328127149,
          117.2783803771574
         ],
         "mode": "lines",
         "opacity": 1,
         "type": "scattergeo"
        },
        {
         "lat": [
          34.48747888097904,
          37.07009447918728
         ],
         "line": {
          "color": "red",
          "width": 1
         },
         "lon": [
          113.792328127149,
          114.4989149321016
         ],
         "mode": "lines",
         "opacity": 1,
         "type": "scattergeo"
        },
        {
         "lat": [
          34.48747888097904,
          36.08811024456974
         ],
         "line": {
          "color": "red",
          "width": 1
         },
         "lon": [
          113.792328127149,
          111.512738356361
         ],
         "mode": "lines",
         "opacity": 1,
         "type": "scattergeo"
        },
        {
         "lat": [
          34.48747888097904,
          36.62556357656246
         ],
         "line": {
          "color": "red",
          "width": 1
         },
         "lon": [
          113.792328127149,
          114.5332139277783
         ],
         "mode": "lines",
         "opacity": 1,
         "type": "scattergeo"
        },
        {
         "lat": [
          34.48747888097904,
          33.58291634117343
         ],
         "line": {
          "color": "red",
          "width": 1
         },
         "lon": [
          113.792328127149,
          114.0106299585456
         ],
         "mode": "lines",
         "opacity": 1,
         "type": "scattergeo"
        },
        {
         "lat": [
          34.48747888097904,
          32.91799515400531
         ],
         "line": {
          "color": "red",
          "width": 1
         },
         "lon": [
          113.792328127149,
          117.3838768458563
         ],
         "mode": "lines",
         "opacity": 1,
         "type": "scattergeo"
        },
        {
         "lat": [
          34.48747888097904,
          38.04166913884188
         ],
         "line": {
          "color": "red",
          "width": 1
         },
         "lon": [
          113.792328127149,
          114.5088610208725
         ],
         "mode": "lines",
         "opacity": 1,
         "type": "scattergeo"
        },
        {
         "lat": [
          34.48747888097904,
          34.77346975390627
         ],
         "line": {
          "color": "red",
          "width": 1
         },
         "lon": [
          113.792328127149,
          111.1941341473168
         ],
         "mode": "lines",
         "opacity": 1,
         "type": "scattergeo"
        },
        {
         "lat": [
          34.48747888097904,
          32.01093810474285
         ],
         "line": {
          "color": "red",
          "width": 1
         },
         "lon": [
          113.792328127149,
          112.1163256977821
         ],
         "mode": "lines",
         "opacity": 1,
         "type": "scattergeo"
        },
        {
         "lat": [
          34.48747888097904,
          32.99281483167919
         ],
         "line": {
          "color": "red",
          "width": 1
         },
         "lon": [
          113.792328127149,
          112.5224592560118
         ],
         "mode": "lines",
         "opacity": 1,
         "type": "scattergeo"
        },
        {
         "lat": [
          34.48747888097904,
          28.31533925357757
         ],
         "line": {
          "color": "red",
          "width": 1
         },
         "lon": [
          113.792328127149,
          109.7344422775661
         ],
         "mode": "lines",
         "opacity": 1,
         "type": "scattergeo"
        },
        {
         "lat": [
          34.48747888097904,
          30.27471062336162
         ],
         "line": {
          "color": "red",
          "width": 1
         },
         "lon": [
          113.792328127149,
          109.4832871762125
         ],
         "mode": "lines",
         "opacity": 1,
         "type": "scattergeo"
        },
        {
         "lat": [
          34.48747888097904,
          34.7477864125606
         ],
         "line": {
          "color": "red",
          "width": 1
         },
         "lon": [
          113.792328127149,
          113.6193255888591
         ],
         "mode": "lines",
         "opacity": 1,
         "type": "scattergeo"
        },
        {
         "lat": [
          34.48747888097904,
          32.63157768676001
         ],
         "line": {
          "color": "red",
          "width": 1
         },
         "lon": [
          113.792328127149,
          110.7926649102856
         ],
         "mode": "lines",
         "opacity": 1,
         "type": "scattergeo"
        },
        {
         "lat": [
          34.48747888097904,
          28.68621233484596
         ],
         "line": {
          "color": "red",
          "width": 1
         },
         "lon": [
          113.792328127149,
          115.8532852729079
         ],
         "mode": "lines",
         "opacity": 1,
         "type": "scattergeo"
        },
        {
         "lat": [
          34.48747888097904,
          24.81346271120227
         ],
         "line": {
          "color": "red",
          "width": 1
         },
         "lon": [
          113.792328127149,
          113.5923294112387
         ],
         "mode": "lines",
         "opacity": 1,
         "type": "scattergeo"
        },
        {
         "lat": [
          34.48747888097904,
          24.48248267708086
         ],
         "line": {
          "color": "red",
          "width": 1
         },
         "lon": [
          113.792328127149,
          118.084448093873
         ],
         "mode": "lines",
         "opacity": 1,
         "type": "scattergeo"
        },
        {
         "lat": [
          34.48747888097904,
          33.76759369387327
         ],
         "line": {
          "color": "red",
          "width": 1
         },
         "lon": [
          113.792328127149,
          113.1863800141984
         ],
         "mode": "lines",
         "opacity": 1,
         "type": "scattergeo"
        },
        {
         "lat": [
          34.48747888097904,
          31.30106716114456
         ],
         "line": {
          "color": "red",
          "width": 1
         },
         "lon": [
          113.792328127149,
          120.5811331033317
         ],
         "mode": "lines",
         "opacity": 1,
         "type": "scattergeo"
        },
        {
         "lat": [
          34.48747888097904,
          27.95235980536817
         ],
         "line": {
          "color": "red",
          "width": 1
         },
         "lon": [
          113.792328127149,
          116.3531836141162
         ],
         "mode": "lines",
         "opacity": 1,
         "type": "scattergeo"
        },
        {
         "lat": [
          34.48747888097904,
          28.87483938230682
         ],
         "line": {
          "color": "red",
          "width": 1
         },
         "lon": [
          113.792328127149,
          105.4386624441242
         ],
         "mode": "lines",
         "opacity": 1,
         "type": "scattergeo"
        },
        {
         "lat": [
          34.48747888097904,
          30.45656364420607
         ],
         "line": {
          "color": "red",
          "width": 1
         },
         "lon": [
          113.792328127149,
          114.8672467200515
         ],
         "mode": "lines",
         "opacity": 1,
         "type": "scattergeo"
        },
        {
         "lat": [
          34.48747888097904,
          35.02716522530418
         ],
         "line": {
          "color": "red",
          "width": 1
         },
         "lon": [
          113.792328127149,
          111.0017399957335
         ],
         "mode": "lines",
         "opacity": 1,
         "type": "scattergeo"
        },
        {
         "lat": [
          34.48747888097904,
          29.11994460352727
         ],
         "line": {
          "color": "red",
          "width": 1
         },
         "lon": [
          113.792328127149,
          110.4742346915475
         ],
         "mode": "lines",
         "opacity": 1,
         "type": "scattergeo"
        },
        {
         "lat": [
          34.48747888097904,
          30.33771856112028
         ],
         "line": {
          "color": "red",
          "width": 1
         },
         "lon": [
          113.792328127149,
          112.2340263095486
         ],
         "mode": "lines",
         "opacity": 1,
         "type": "scattergeo"
        },
        {
         "lat": [
          34.48747888097904,
          30.59551563172663
         ],
         "line": {
          "color": "red",
          "width": 1
         },
         "lon": [
          113.792328127149,
          114.2999542047298
         ],
         "mode": "lines",
         "opacity": 1,
         "type": "scattergeo"
        },
        {
         "lat": [
          34.48747888097904,
          23.35675589262061
         ],
         "line": {
          "color": "red",
          "width": 1
         },
         "lon": [
          113.792328127149,
          116.6775143618734
         ],
         "mode": "lines",
         "opacity": 1,
         "type": "scattergeo"
        },
        {
         "lat": [
          34.48747888097904,
          31.03762682496149
         ],
         "line": {
          "color": "red",
          "width": 1
         },
         "lon": [
          113.792328127149,
          112.1934245655764
         ],
         "mode": "lines",
         "opacity": 1,
         "type": "scattergeo"
        },
        {
         "lat": [
          34.48747888097904,
          34.03705424166669
         ],
         "line": {
          "color": "red",
          "width": 1
         },
         "lon": [
          113.792328127149,
          113.8467520160274
         ],
         "mode": "lines",
         "opacity": 1,
         "type": "scattergeo"
        },
        {
         "lat": [
          34.48747888097904,
          19.52310520944081
         ],
         "line": {
          "color": "red",
          "width": 1
         },
         "lon": [
          113.792328127149,
          109.5767984155979
         ],
         "mode": "lines",
         "opacity": 1,
         "type": "scattergeo"
        },
        {
         "lat": [
          34.48747888097904,
          24.51593413543268
         ],
         "line": {
          "color": "red",
          "width": 1
         },
         "lon": [
          113.792328127149,
          117.6427017011435
         ],
         "mode": "lines",
         "opacity": 1,
         "type": "scattergeo"
        },
        {
         "lat": [
          34.48747888097904,
          29.84391849264382
         ],
         "line": {
          "color": "red",
          "width": 1
         },
         "lon": [
          113.792328127149,
          114.3170938337267
         ],
         "mode": "lines",
         "opacity": 1,
         "type": "scattergeo"
        },
        {
         "lat": [
          34.48747888097904,
          25.07789418380283
         ],
         "line": {
          "color": "red",
          "width": 1
         },
         "lon": [
          113.792328127149,
          117.0126782413234
         ],
         "mode": "lines",
         "opacity": 1,
         "type": "scattergeo"
        },
        {
         "lat": [
          34.48747888097904,
          30.20208788314098
         ],
         "line": {
          "color": "red",
          "width": 1
         },
         "lon": [
          113.792328127149,
          115.0331487829698
         ],
         "mode": "lines",
         "opacity": 1,
         "type": "scattergeo"
        },
        {
         "lat": [
          34.48747888097904,
          20.01938822575099
         ],
         "line": {
          "color": "red",
          "width": 1
         },
         "lon": [
          113.792328127149,
          110.3448278590682
         ],
         "mode": "lines",
         "opacity": 1,
         "type": "scattergeo"
        },
        {
         "lat": [
          34.48747888097904,
          31.69209471228168
         ],
         "line": {
          "color": "red",
          "width": 1
         },
         "lon": [
          113.792328127149,
          113.3762466668986
         ],
         "mode": "lines",
         "opacity": 1,
         "type": "scattergeo"
        },
        {
         "lat": [
          34.48747888097904,
          34.76650596571172
         ],
         "line": {
          "color": "red",
          "width": 1
         },
         "lon": [
          113.792328127149,
          113.7474156266135
         ],
         "mode": "lines",
         "opacity": 1,
         "type": "scattergeo"
        },
        {
         "lat": [
          34.48747888097904,
          27.55830958891995
         ],
         "line": {
          "color": "red",
          "width": 1
         },
         "lon": [
          113.792328127149,
          109.9938246198597
         ],
         "mode": "lines",
         "opacity": 1,
         "type": "scattergeo"
        },
        {
         "lat": [
          34.48747888097904,
          29.03470474864293
         ],
         "line": {
          "color": "red",
          "width": 1
         },
         "lon": [
          113.792328127149,
          111.6928984567219
         ],
         "mode": "lines",
         "opacity": 1,
         "type": "scattergeo"
        },
        {
         "lat": [
          34.48747888097904,
          34.33105343685244
         ],
         "line": {
          "color": "red",
          "width": 1
         },
         "lon": [
          113.792328127149,
          108.70432818877
         ],
         "mode": "lines",
         "opacity": 1,
         "type": "scattergeo"
        },
        {
         "lat": [
          34.48747888097904,
          29.27146640241873
         ],
         "line": {
          "color": "red",
          "width": 1
         },
         "lon": [
          113.792328127149,
          117.1730932594236
         ],
         "mode": "lines",
         "opacity": 1,
         "type": "scattergeo"
        },
        {
         "lat": [
          34.48747888097904,
          29.70763010190234
         ],
         "line": {
          "color": "red",
          "width": 1
         },
         "lon": [
          113.792328127149,
          115.9968498897885
         ],
         "mode": "lines",
         "opacity": 1,
         "type": "scattergeo"
        },
        {
         "lat": [
          34.48747888097904,
          26.26684005591786
         ],
         "line": {
          "color": "red",
          "width": 1
         },
         "lon": [
          113.792328127149,
          117.6337852475838
         ],
         "mode": "lines",
         "opacity": 1,
         "type": "scattergeo"
        },
        {
         "lat": [
          34.48747888097904,
          30.92704875840485
         ],
         "line": {
          "color": "red",
          "width": 1
         },
         "lon": [
          113.792328127149,
          113.9114171453589
         ],
         "mode": "lines",
         "opacity": 1,
         "type": "scattergeo"
        },
        {
         "lat": [
          34.48747888097904,
          24.29123871036554
         ],
         "line": {
          "color": "red",
          "width": 1
         },
         "lon": [
          113.792328127149,
          116.1174052422547
         ],
         "mode": "lines",
         "opacity": 1,
         "type": "scattergeo"
        },
        {
         "lat": [
          34.48747888097904,
          30.69441159948845
         ],
         "line": {
          "color": "red",
          "width": 1
         },
         "lon": [
          113.792328127149,
          111.2808231203681
         ],
         "mode": "lines",
         "opacity": 1,
         "type": "scattergeo"
        },
        {
         "lat": [
          34.48747888097904,
          33.84602023421478
         ],
         "line": {
          "color": "red",
          "width": 1
         },
         "lon": [
          113.792328127149,
          115.7731280236451
         ],
         "mode": "lines",
         "opacity": 1,
         "type": "scattergeo"
        },
        {
         "lat": [
          34.48747888097904,
          37.68634353557753
         ],
         "line": {
          "color": "red",
          "width": 1
         },
         "lon": [
          113.792328127149,
          112.7462041891047
         ],
         "mode": "lines",
         "opacity": 1,
         "type": "scattergeo"
        },
        {
         "lat": [
          34.48747888097904,
          30.54886596183148
         ],
         "line": {
          "color": "red",
          "width": 1
         },
         "lon": [
          113.792328127149,
          114.3363714923768
         ],
         "mode": "lines",
         "opacity": 1,
         "type": "scattergeo"
        },
        {
         "lat": [
          34.48747888097904,
          25.45688085615284
         ],
         "line": {
          "color": "red",
          "width": 1
         },
         "lon": [
          113.792328127149,
          119.0030583278949
         ],
         "mode": "lines",
         "opacity": 1,
         "type": "scattergeo"
        },
        {
         "lat": [
          34.48747888097904,
          34.62069425847153
         ],
         "line": {
          "color": "red",
          "width": 1
         },
         "lon": [
          113.792328127149,
          112.4477739744806
         ],
         "mode": "lines",
         "opacity": 1,
         "type": "scattergeo"
        },
        {
         "lat": [
          34.63031715995263,
          38.87297673416556
         ],
         "line": {
          "color": "red",
          "width": 1
         },
         "lon": [
          108.9336012932089,
          115.4584681544313
         ],
         "mode": "lines",
         "opacity": 1,
         "type": "scattergeo"
        },
        {
         "lat": [
          34.63031715995263,
          35.21640061005598
         ],
         "line": {
          "color": "red",
          "width": 1
         },
         "lon": [
          108.9336012932089,
          113.2354557720119
         ],
         "mode": "lines",
         "opacity": 1,
         "type": "scattergeo"
        },
        {
         "lat": [
          34.63031715995263,
          31.73575608295598
         ],
         "line": {
          "color": "red",
          "width": 1
         },
         "lon": [
          108.9336012932089,
          116.5167623870941
         ],
         "mode": "lines",
         "opacity": 1,
         "type": "scattergeo"
        },
        {
         "lat": [
          34.63031715995263,
          34.79814088178576
         ],
         "line": {
          "color": "red",
          "width": 1
         },
         "lon": [
          108.9336012932089,
          114.3017451893433
         ],
         "mode": "lines",
         "opacity": 1,
         "type": "scattergeo"
        },
        {
         "lat": [
          34.63031715995263,
          40.70959455770206
         ],
         "line": {
          "color": "red",
          "width": 1
         },
         "lon": [
          108.9336012932089,
          120.8317448357023
         ],
         "mode": "lines",
         "opacity": 1,
         "type": "scattergeo"
        },
        {
         "lat": [
          34.63031715995263,
          37.73828947669901
         ],
         "line": {
          "color": "red",
          "width": 1
         },
         "lon": [
          108.9336012932089,
          115.6642998789322
         ],
         "mode": "lines",
         "opacity": 1,
         "type": "scattergeo"
        },
        {
         "lat": [
          34.63031715995263,
          36.09740671694131
         ],
         "line": {
          "color": "red",
          "width": 1
         },
         "lon": [
          108.9336012932089,
          114.3863032251404
         ],
         "mode": "lines",
         "opacity": 1,
         "type": "scattergeo"
        },
        {
         "lat": [
          34.63031715995263,
          41.09306620182436
         ],
         "line": {
          "color": "red",
          "width": 1
         },
         "lon": [
          108.9336012932089,
          121.1213539396126
         ],
         "mode": "lines",
         "opacity": 1,
         "type": "scattergeo"
        },
        {
         "lat": [
          34.63031715995263,
          39.902626245166
         ],
         "line": {
          "color": "red",
          "width": 1
         },
         "lon": [
          108.9336012932089,
          116.4012828477588
         ],
         "mode": "lines",
         "opacity": 1,
         "type": "scattergeo"
        },
        {
         "lat": [
          34.63031715995263,
          37.87005096677684
         ],
         "line": {
          "color": "red",
          "width": 1
         },
         "lon": [
          108.9336012932089,
          112.5425630342325
         ],
         "mode": "lines",
         "opacity": 1,
         "type": "scattergeo"
        },
        {
         "lat": [
          34.63031715995263,
          35.76184910581689
         ],
         "line": {
          "color": "red",
          "width": 1
         },
         "lon": [
          108.9336012932089,
          115.0233457843086
         ],
         "mode": "lines",
         "opacity": 1,
         "type": "scattergeo"
        },
        {
         "lat": [
          34.63031715995263,
          39.93427691598691
         ],
         "line": {
          "color": "red",
          "width": 1
         },
         "lon": [
          108.9336012932089,
          119.5947177212679
         ],
         "mode": "lines",
         "opacity": 1,
         "type": "scattergeo"
        },
        {
         "lat": [
          34.63031715995263,
          35.30359480186157
         ],
         "line": {
          "color": "red",
          "width": 1
         },
         "lon": [
          108.9336012932089,
          113.9208970878092
         ],
         "mode": "lines",
         "opacity": 1,
         "type": "scattergeo"
        },
        {
         "lat": [
          34.63031715995263,
          33.01335650611892
         ],
         "line": {
          "color": "red",
          "width": 1
         },
         "lon": [
          108.9336012932089,
          114.0164292106147
         ],
         "mode": "lines",
         "opacity": 1,
         "type": "scattergeo"
        },
        {
         "lat": [
          34.63031715995263,
          41.10674546752389
         ],
         "line": {
          "color": "red",
          "width": 1
         },
         "lon": [
          108.9336012932089,
          122.9888556604474
         ],
         "mode": "lines",
         "opacity": 1,
         "type": "scattergeo"
        },
        {
         "lat": [
          34.63031715995263,
          39.33042586350068
         ],
         "line": {
          "color": "red",
          "width": 1
         },
         "lon": [
          108.9336012932089,
          112.4259678830538
         ],
         "mode": "lines",
         "opacity": 1,
         "type": "scattergeo"
        },
        {
         "lat": [
          34.63031715995263,
          33.62771504579078
         ],
         "line": {
          "color": "red",
          "width": 1
         },
         "lon": [
          108.9336012932089,
          114.6914875280797
         ],
         "mode": "lines",
         "opacity": 1,
         "type": "scattergeo"
        },
        {
         "lat": [
          34.63031715995263,
          34.41554751048077
         ],
         "line": {
          "color": "red",
          "width": 1
         },
         "lon": [
          108.9336012932089,
          115.6508712568022
         ],
         "mode": "lines",
         "opacity": 1,
         "type": "scattergeo"
        },
        {
         "lat": [
          34.63031715995263,
          36.19521524648712
         ],
         "line": {
          "color": "red",
          "width": 1
         },
         "lon": [
          108.9336012932089,
          113.1095869618306
         ],
         "mode": "lines",
         "opacity": 1,
         "type": "scattergeo"
        },
        {
         "lat": [
          34.63031715995263,
          42.25587691695832
         ],
         "line": {
          "color": "red",
          "width": 1
         },
         "lon": [
          108.9336012932089,
          118.8806794224993
         ],
         "mode": "lines",
         "opacity": 1,
         "type": "scattergeo"
        },
        {
         "lat": [
          34.63031715995263,
          38.28487573162408
         ],
         "line": {
          "color": "red",
          "width": 1
         },
         "lon": [
          108.9336012932089,
          109.7290105322149
         ],
         "mode": "lines",
         "opacity": 1,
         "type": "scattergeo"
        },
        {
         "lat": [
          34.63031715995263,
          33.64794994611666
         ],
         "line": {
          "color": "red",
          "width": 1
         },
         "lon": [
          108.9336012932089,
          116.95899047143
         ],
         "mode": "lines",
         "opacity": 1,
         "type": "scattergeo"
        },
        {
         "lat": [
          34.63031715995263,
          34.59768100862672
         ],
         "line": {
          "color": "red",
          "width": 1
         },
         "lon": [
          108.9336012932089,
          119.2160715736077
         ],
         "mode": "lines",
         "opacity": 1,
         "type": "scattergeo"
        },
        {
         "lat": [
          34.63031715995263,
          37.85646220510019
         ],
         "line": {
          "color": "red",
          "width": 1
         },
         "lon": [
          108.9336012932089,
          113.574107092927
         ],
         "mode": "lines",
         "opacity": 1,
         "type": "scattergeo"
        },
        {
         "lat": [
          34.63031715995263,
          41.80326291802402
         ],
         "line": {
          "color": "red",
          "width": 1
         },
         "lon": [
          108.9336012932089,
          123.4253315842275
         ],
         "mode": "lines",
         "opacity": 1,
         "type": "scattergeo"
        },
        {
         "lat": [
          34.63031715995263,
          42.01951815368355
         ],
         "line": {
          "color": "red",
          "width": 1
         },
         "lon": [
          108.9336012932089,
          121.6649262102888
         ],
         "mode": "lines",
         "opacity": 1,
         "type": "scattergeo"
        },
        {
         "lat": [
          34.63031715995263,
          41.87872843096351
         ],
         "line": {
          "color": "red",
          "width": 1
         },
         "lon": [
          108.9336012932089,
          123.9514479031235
         ],
         "mode": "lines",
         "opacity": 1,
         "type": "scattergeo"
        },
        {
         "lat": [
          34.63031715995263,
          35.49110504705786
         ],
         "line": {
          "color": "red",
          "width": 1
         },
         "lon": [
          108.9336012932089,
          112.8457114258861
         ],
         "mode": "lines",
         "opacity": 1,
         "type": "scattergeo"
        },
        {
         "lat": [
          34.63031715995263,
          33.611763586717
         ],
         "line": {
          "color": "red",
          "width": 1
         },
         "lon": [
          108.9336012932089,
          119.0098472690756
         ],
         "mode": "lines",
         "opacity": 1,
         "type": "scattergeo"
        },
        {
         "lat": [
          34.63031715995263,
          33.96458366057329
         ],
         "line": {
          "color": "red",
          "width": 1
         },
         "lon": [
          108.9336012932089,
          118.2696951415908
         ],
         "mode": "lines",
         "opacity": 1,
         "type": "scattergeo"
        },
        {
         "lat": [
          34.63031715995263,
          35.74730281423409
         ],
         "line": {
          "color": "red",
          "width": 1
         },
         "lon": [
          108.9336012932089,
          114.2913498473666
         ],
         "mode": "lines",
         "opacity": 1,
         "type": "scattergeo"
        },
        {
         "lat": [
          34.63031715995263,
          33.95726296715417
         ],
         "line": {
          "color": "red",
          "width": 1
         },
         "lon": [
          108.9336012932089,
          116.7928608550622
         ],
         "mode": "lines",
         "opacity": 1,
         "type": "scattergeo"
        },
        {
         "lat": [
          34.63031715995263,
          41.26517446940125
         ],
         "line": {
          "color": "red",
          "width": 1
         },
         "lon": [
          108.9336012932089,
          123.2312079197878
         ],
         "mode": "lines",
         "opacity": 1,
         "type": "scattergeo"
        },
        {
         "lat": [
          34.63031715995263,
          41.11791379409293
         ],
         "line": {
          "color": "red",
          "width": 1
         },
         "lon": [
          108.9336012932089,
          122.0652294108859
         ],
         "mode": "lines",
         "opacity": 1,
         "type": "scattergeo"
        },
        {
         "lat": [
          34.63031715995263,
          37.51752738993748
         ],
         "line": {
          "color": "red",
          "width": 1
         },
         "lon": [
          108.9336012932089,
          111.1379504274304
         ],
         "mode": "lines",
         "opacity": 1,
         "type": "scattergeo"
        },
        {
         "lat": [
          34.63031715995263,
          39.62954759868035
         ],
         "line": {
          "color": "red",
          "width": 1
         },
         "lon": [
          108.9336012932089,
          118.1738965760385
         ],
         "mode": "lines",
         "opacity": 1,
         "type": "scattergeo"
        },
        {
         "lat": [
          34.63031715995263,
          40.95250667908144
         ],
         "line": {
          "color": "red",
          "width": 1
         },
         "lon": [
          108.9336012932089,
          117.9561006544303
         ],
         "mode": "lines",
         "opacity": 1,
         "type": "scattergeo"
        },
        {
         "lat": [
          34.63031715995263,
          37.07009447918728
         ],
         "line": {
          "color": "red",
          "width": 1
         },
         "lon": [
          108.9336012932089,
          114.4989149321016
         ],
         "mode": "lines",
         "opacity": 1,
         "type": "scattergeo"
        },
        {
         "lat": [
          34.63031715995263,
          36.08811024456974
         ],
         "line": {
          "color": "red",
          "width": 1
         },
         "lon": [
          108.9336012932089,
          111.512738356361
         ],
         "mode": "lines",
         "opacity": 1,
         "type": "scattergeo"
        },
        {
         "lat": [
          34.63031715995263,
          36.62556357656246
         ],
         "line": {
          "color": "red",
          "width": 1
         },
         "lon": [
          108.9336012932089,
          114.5332139277783
         ],
         "mode": "lines",
         "opacity": 1,
         "type": "scattergeo"
        },
        {
         "lat": [
          34.63031715995263,
          33.58291634117343
         ],
         "line": {
          "color": "red",
          "width": 1
         },
         "lon": [
          108.9336012932089,
          114.0106299585456
         ],
         "mode": "lines",
         "opacity": 1,
         "type": "scattergeo"
        },
        {
         "lat": [
          34.63031715995263,
          38.41608696241872
         ],
         "line": {
          "color": "red",
          "width": 1
         },
         "lon": [
          108.9336012932089,
          112.727613615456
         ],
         "mode": "lines",
         "opacity": 1,
         "type": "scattergeo"
        },
        {
         "lat": [
          34.63031715995263,
          38.04166913884188
         ],
         "line": {
          "color": "red",
          "width": 1
         },
         "lon": [
          108.9336012932089,
          114.5088610208725
         ],
         "mode": "lines",
         "opacity": 1,
         "type": "scattergeo"
        },
        {
         "lat": [
          34.63031715995263,
          38.30390787880884
         ],
         "line": {
          "color": "red",
          "width": 1
         },
         "lon": [
          108.9336012932089,
          116.833033542554
         ],
         "mode": "lines",
         "opacity": 1,
         "type": "scattergeo"
        },
        {
         "lat": [
          34.63031715995263,
          40.8411402225846
         ],
         "line": {
          "color": "red",
          "width": 1
         },
         "lon": [
          108.9336012932089,
          111.7422639952268
         ],
         "mode": "lines",
         "opacity": 1,
         "type": "scattergeo"
        },
        {
         "lat": [
          34.63031715995263,
          40.65629113306126
         ],
         "line": {
          "color": "red",
          "width": 1
         },
         "lon": [
          108.9336012932089,
          109.8346292526299
         ],
         "mode": "lines",
         "opacity": 1,
         "type": "scattergeo"
        },
        {
         "lat": [
          34.63031715995263,
          39.902626245166
         ],
         "line": {
          "color": "red",
          "width": 1
         },
         "lon": [
          108.9336012932089,
          116.4012828477588
         ],
         "mode": "lines",
         "opacity": 1,
         "type": "scattergeo"
        },
        {
         "lat": [
          34.63031715995263,
          40.07557310802614
         ],
         "line": {
          "color": "red",
          "width": 1
         },
         "lon": [
          108.9336012932089,
          113.2931269502874
         ],
         "mode": "lines",
         "opacity": 1,
         "type": "scattergeo"
        },
        {
         "lat": [
          34.63031715995263,
          40.82308854129995
         ],
         "line": {
          "color": "red",
          "width": 1
         },
         "lon": [
          108.9336012932089,
          114.8814226622556
         ],
         "mode": "lines",
         "opacity": 1,
         "type": "scattergeo"
        },
        {
         "lat": [
          34.63031715995263,
          43.65052523160977
         ],
         "line": {
          "color": "red",
          "width": 1
         },
         "lon": [
          108.9336012932089,
          122.2378879047936
         ],
         "mode": "lines",
         "opacity": 1,
         "type": "scattergeo"
        },
        {
         "lat": [
          34.63031715995263,
          40.99301005071572
         ],
         "line": {
          "color": "red",
          "width": 1
         },
         "lon": [
          108.9336012932089,
          113.1253090209648
         ],
         "mode": "lines",
         "opacity": 1,
         "type": "scattergeo"
        },
        {
         "lat": [
          34.63031715995263,
          39.60724263159052
         ],
         "line": {
          "color": "red",
          "width": 1
         },
         "lon": [
          108.9336012932089,
          109.7756072826352
         ],
         "mode": "lines",
         "opacity": 1,
         "type": "scattergeo"
        },
        {
         "lat": [
          34.63031715995263,
          39.53695727577932
         ],
         "line": {
          "color": "red",
          "width": 1
         },
         "lon": [
          108.9336012932089,
          116.677852879759
         ],
         "mode": "lines",
         "opacity": 1,
         "type": "scattergeo"
        },
        {
         "lat": [
          34.63031715995263,
          34.77346975390627
         ],
         "line": {
          "color": "red",
          "width": 1
         },
         "lon": [
          108.9336012932089,
          111.1941341473168
         ],
         "mode": "lines",
         "opacity": 1,
         "type": "scattergeo"
        },
        {
         "lat": [
          34.63031715995263,
          32.01093810474285
         ],
         "line": {
          "color": "red",
          "width": 1
         },
         "lon": [
          108.9336012932089,
          112.1163256977821
         ],
         "mode": "lines",
         "opacity": 1,
         "type": "scattergeo"
        },
        {
         "lat": [
          34.63031715995263,
          32.99281483167919
         ],
         "line": {
          "color": "red",
          "width": 1
         },
         "lon": [
          108.9336012932089,
          112.5224592560118
         ],
         "mode": "lines",
         "opacity": 1,
         "type": "scattergeo"
        },
        {
         "lat": [
          34.63031715995263,
          34.7477864125606
         ],
         "line": {
          "color": "red",
          "width": 1
         },
         "lon": [
          108.9336012932089,
          113.6193255888591
         ],
         "mode": "lines",
         "opacity": 1,
         "type": "scattergeo"
        },
        {
         "lat": [
          34.63031715995263,
          32.63157768676001
         ],
         "line": {
          "color": "red",
          "width": 1
         },
         "lon": [
          108.9336012932089,
          110.7926649102856
         ],
         "mode": "lines",
         "opacity": 1,
         "type": "scattergeo"
        },
        {
         "lat": [
          34.63031715995263,
          33.76759369387327
         ],
         "line": {
          "color": "red",
          "width": 1
         },
         "lon": [
          108.9336012932089,
          113.1863800141984
         ],
         "mode": "lines",
         "opacity": 1,
         "type": "scattergeo"
        },
        {
         "lat": [
          34.63031715995263,
          28.87483938230682
         ],
         "line": {
          "color": "red",
          "width": 1
         },
         "lon": [
          108.9336012932089,
          105.4386624441242
         ],
         "mode": "lines",
         "opacity": 1,
         "type": "scattergeo"
        },
        {
         "lat": [
          34.63031715995263,
          35.02716522530418
         ],
         "line": {
          "color": "red",
          "width": 1
         },
         "lon": [
          108.9336012932089,
          111.0017399957335
         ],
         "mode": "lines",
         "opacity": 1,
         "type": "scattergeo"
        },
        {
         "lat": [
          34.63031715995263,
          34.03705424166669
         ],
         "line": {
          "color": "red",
          "width": 1
         },
         "lon": [
          108.9336012932089,
          113.8467520160274
         ],
         "mode": "lines",
         "opacity": 1,
         "type": "scattergeo"
        },
        {
         "lat": [
          34.63031715995263,
          31.69209471228168
         ],
         "line": {
          "color": "red",
          "width": 1
         },
         "lon": [
          108.9336012932089,
          113.3762466668986
         ],
         "mode": "lines",
         "opacity": 1,
         "type": "scattergeo"
        },
        {
         "lat": [
          34.63031715995263,
          34.33105343685244
         ],
         "line": {
          "color": "red",
          "width": 1
         },
         "lon": [
          108.9336012932089,
          108.70432818877
         ],
         "mode": "lines",
         "opacity": 1,
         "type": "scattergeo"
        },
        {
         "lat": [
          34.63031715995263,
          33.84602023421478
         ],
         "line": {
          "color": "red",
          "width": 1
         },
         "lon": [
          108.9336012932089,
          115.7731280236451
         ],
         "mode": "lines",
         "opacity": 1,
         "type": "scattergeo"
        },
        {
         "lat": [
          34.63031715995263,
          37.68634353557753
         ],
         "line": {
          "color": "red",
          "width": 1
         },
         "lon": [
          108.9336012932089,
          112.7462041891047
         ],
         "mode": "lines",
         "opacity": 1,
         "type": "scattergeo"
        },
        {
         "lat": [
          34.63031715995263,
          34.62069425847153
         ],
         "line": {
          "color": "red",
          "width": 1
         },
         "lon": [
          108.9336012932089,
          112.4477739744806
         ],
         "mode": "lines",
         "opacity": 1,
         "type": "scattergeo"
        },
        {
         "lat": [
          34.63031715995263,
          36.06141171846495
         ],
         "line": {
          "color": "red",
          "width": 1
         },
         "lon": [
          108.9336012932089,
          103.8318948117832
         ],
         "mode": "lines",
         "opacity": 1,
         "type": "scattergeo"
        },
        {
         "lat": [
          34.63031715995263,
          34.36339558112846
         ],
         "line": {
          "color": "red",
          "width": 1
         },
         "lon": [
          108.9336012932089,
          107.2332812200772
         ],
         "mode": "lines",
         "opacity": 1,
         "type": "scattergeo"
        },
        {
         "lat": [
          34.63031715995263,
          33.06937808326742
         ],
         "line": {
          "color": "red",
          "width": 1
         },
         "lon": [
          108.9336012932089,
          107.0188196460534
         ],
         "mode": "lines",
         "opacity": 1,
         "type": "scattergeo"
        },
        {
         "lat": [
          34.63031715995263,
          35.54352430899147
         ],
         "line": {
          "color": "red",
          "width": 1
         },
         "lon": [
          108.9336012932089,
          106.6610286688978
         ],
         "mode": "lines",
         "opacity": 1,
         "type": "scattergeo"
        },
        {
         "lat": [
          34.63031715995263,
          35.70948020808187
         ],
         "line": {
          "color": "red",
          "width": 1
         },
         "lon": [
          108.9336012932089,
          107.6388965577504
         ],
         "mode": "lines",
         "opacity": 1,
         "type": "scattergeo"
        },
        {
         "lat": [
          34.63031715995263,
          37.92798045819693
         ],
         "line": {
          "color": "red",
          "width": 1
         },
         "lon": [
          108.9336012932089,
          102.6362981150711
         ],
         "mode": "lines",
         "opacity": 1,
         "type": "scattergeo"
        },
        {
         "lat": [
          34.63031715995263,
          40.81607321636371
         ],
         "line": {
          "color": "red",
          "width": 1
         },
         "lon": [
          108.9336012932089,
          111.7587040406893
         ],
         "mode": "lines",
         "opacity": 1,
         "type": "scattergeo"
        },
        {
         "lat": [
          34.63031715995263,
          34.98452245844625
         ],
         "line": {
          "color": "red",
          "width": 1
         },
         "lon": [
          108.9336012932089,
          102.9093063078813
         ],
         "mode": "lines",
         "opacity": 1,
         "type": "scattergeo"
        },
        {
         "lat": [
          34.63031715995263,
          37.99690919719102
         ],
         "line": {
          "color": "red",
          "width": 1
         },
         "lon": [
          108.9336012932089,
          106.1939858033097
         ],
         "mode": "lines",
         "opacity": 1,
         "type": "scattergeo"
        },
        {
         "lat": [
          34.63031715995263,
          36.58534208664667
         ],
         "line": {
          "color": "red",
          "width": 1
         },
         "lon": [
          108.9336012932089,
          109.4843056704631
         ],
         "mode": "lines",
         "opacity": 1,
         "type": "scattergeo"
        },
        {
         "lat": [
          34.63031715995263,
          31.2117043271299
         ],
         "line": {
          "color": "red",
          "width": 1
         },
         "lon": [
          108.9336012932089,
          107.4633548893442
         ],
         "mode": "lines",
         "opacity": 1,
         "type": "scattergeo"
        },
        {
         "lat": [
          34.63031715995263,
          31.12899552745817
         ],
         "line": {
          "color": "red",
          "width": 1
         },
         "lon": [
          108.9336012932089,
          104.3952141871174
         ],
         "mode": "lines",
         "opacity": 1,
         "type": "scattergeo"
        },
        {
         "lat": [
          34.63031715995263,
          30.13175078920077
         ],
         "line": {
          "color": "red",
          "width": 1
         },
         "lon": [
          108.9336012932089,
          104.6252370576223
         ],
         "mode": "lines",
         "opacity": 1,
         "type": "scattergeo"
        },
        {
         "lat": [
          34.63031715995263,
          31.90165666241077
         ],
         "line": {
          "color": "red",
          "width": 1
         },
         "lon": [
          108.9336012932089,
          102.223006553013
         ],
         "mode": "lines",
         "opacity": 1,
         "type": "scattergeo"
        },
        {
         "lat": [
          34.63031715995263,
          27.88504356472883
         ],
         "line": {
          "color": "red",
          "width": 1
         },
         "lon": [
          108.9336012932089,
          102.265841134515
         ],
         "mode": "lines",
         "opacity": 1,
         "type": "scattergeo"
        },
        {
         "lat": [
          34.63031715995263,
          28.75519768160823
         ],
         "line": {
          "color": "red",
          "width": 1
         },
         "lon": [
          108.9336012932089,
          104.6408382179202
         ],
         "mode": "lines",
         "opacity": 1,
         "type": "scattergeo"
        },
        {
         "lat": [
          34.63031715995263,
          35.60153855696797
         ],
         "line": {
          "color": "red",
          "width": 1
         },
         "lon": [
          108.9336012932089,
          103.2082935117161
         ],
         "mode": "lines",
         "opacity": 1,
         "type": "scattergeo"
        },
        {
         "lat": [
          34.63031715995263,
          31.46973069933239
         ],
         "line": {
          "color": "red",
          "width": 1
         },
         "lon": [
          108.9336012932089,
          104.6765055884907
         ],
         "mode": "lines",
         "opacity": 1,
         "type": "scattergeo"
        },
        {
         "lat": [
          34.63031715995263,
          30.84007214993655
         ],
         "line": {
          "color": "red",
          "width": 1
         },
         "lon": [
          108.9336012932089,
          106.1066772287715
         ],
         "mode": "lines",
         "opacity": 1,
         "type": "scattergeo"
        },
        {
         "lat": [
          34.63031715995263,
          31.87008571552613
         ],
         "line": {
          "color": "red",
          "width": 1
         },
         "lon": [
          108.9336012932089,
          106.7433360907896
         ],
         "mode": "lines",
         "opacity": 1,
         "type": "scattergeo"
        },
        {
         "lat": [
          34.63031715995263,
          30.53563957427876
         ],
         "line": {
          "color": "red",
          "width": 1
         },
         "lon": [
          108.9336012932089,
          105.5894893487255
         ],
         "mode": "lines",
         "opacity": 1,
         "type": "scattergeo"
        },
        {
         "lat": [
          34.63031715995263,
          29.3418851374181
         ],
         "line": {
          "color": "red",
          "width": 1
         },
         "lon": [
          108.9336012932089,
          104.7757456053025
         ],
         "mode": "lines",
         "opacity": 1,
         "type": "scattergeo"
        },
        {
         "lat": [
          34.63031715995263,
          30.45874152168983
         ],
         "line": {
          "color": "red",
          "width": 1
         },
         "lon": [
          108.9336012932089,
          106.6294280176608
         ],
         "mode": "lines",
         "opacity": 1,
         "type": "scattergeo"
        },
        {
         "lat": [
          34.63031715995263,
          30.0523443545809
         ],
         "line": {
          "color": "red",
          "width": 1
         },
         "lon": [
          108.9336012932089,
          101.9607944939152
         ],
         "mode": "lines",
         "opacity": 1,
         "type": "scattergeo"
        },
        {
         "lat": [
          34.63031715995263,
          32.43782752968448
         ],
         "line": {
          "color": "red",
          "width": 1
         },
         "lon": [
          108.9336012932089,
          105.8396443188976
         ],
         "mode": "lines",
         "opacity": 1,
         "type": "scattergeo"
        },
        {
         "lat": [
          34.63031715995263,
          31.14329275102384
         ],
         "line": {
          "color": "red",
          "width": 1
         },
         "lon": [
          108.9336012932089,
          97.17148314940665
         ],
         "mode": "lines",
         "opacity": 1,
         "type": "scattergeo"
        },
        {
         "lat": [
          34.63031715995263,
          29.98320267641596
         ],
         "line": {
          "color": "red",
          "width": 1
         },
         "lon": [
          108.9336012932089,
          103.0114015388349
         ],
         "mode": "lines",
         "opacity": 1,
         "type": "scattergeo"
        },
        {
         "lat": [
          34.63031715995263,
          36.01603794874545
         ],
         "line": {
          "color": "red",
          "width": 1
         },
         "lon": [
          108.9336012932089,
          106.2384139928036
         ],
         "mode": "lines",
         "opacity": 1,
         "type": "scattergeo"
        },
        {
         "lat": [
          34.63031715995263,
          38.98239939588928
         ],
         "line": {
          "color": "red",
          "width": 1
         },
         "lon": [
          108.9336012932089,
          106.3785987467326
         ],
         "mode": "lines",
         "opacity": 1,
         "type": "scattergeo"
        },
        {
         "lat": [
          34.63031715995263,
          38.48673019128655
         ],
         "line": {
          "color": "red",
          "width": 1
         },
         "lon": [
          108.9336012932089,
          106.2265069321992
         ],
         "mode": "lines",
         "opacity": 1,
         "type": "scattergeo"
        },
        {
         "lat": [
          34.63031715995263,
          32.68679720585862
         ],
         "line": {
          "color": "red",
          "width": 1
         },
         "lon": [
          108.9336012932089,
          109.0241758754163
         ],
         "mode": "lines",
         "opacity": 1,
         "type": "scattergeo"
        },
        {
         "lat": [
          34.63031715995263,
          33.40263907882024
         ],
         "line": {
          "color": "red",
          "width": 1
         },
         "lon": [
          108.9336012932089,
          104.9189654162553
         ],
         "mode": "lines",
         "opacity": 1,
         "type": "scattergeo"
        },
        {
         "lat": [
          34.63031715995263,
          38.85133075491287
         ],
         "line": {
          "color": "red",
          "width": 1
         },
         "lon": [
          108.9336012932089,
          105.7247062442973
         ],
         "mode": "lines",
         "opacity": 1,
         "type": "scattergeo"
        },
        {
         "lat": [
          34.63031715995263,
          34.58218380144906
         ],
         "line": {
          "color": "red",
          "width": 1
         },
         "lon": [
          108.9336012932089,
          105.7210163282105
         ],
         "mode": "lines",
         "opacity": 1,
         "type": "scattergeo"
        },
        {
         "lat": [
          34.63031715995263,
          38.9252336905743
         ],
         "line": {
          "color": "red",
          "width": 1
         },
         "lon": [
          108.9336012932089,
          100.4481121115437
         ],
         "mode": "lines",
         "opacity": 1,
         "type": "scattergeo"
        },
        {
         "lat": [
          34.63031715995263,
          36.50197437688492
         ],
         "line": {
          "color": "red",
          "width": 1
         },
         "lon": [
          108.9336012932089,
          102.1022159005829
         ],
         "mode": "lines",
         "opacity": 1,
         "type": "scattergeo"
        },
        {
         "lat": [
          34.63031715995263,
          34.8978478277209
         ],
         "line": {
          "color": "red",
          "width": 1
         },
         "lon": [
          108.9336012932089,
          108.9405296688392
         ],
         "mode": "lines",
         "opacity": 1,
         "type": "scattergeo"
        },
        {
         "lat": [
          34.63031715995263,
          36.61722375080831
         ],
         "line": {
          "color": "red",
          "width": 1
         },
         "lon": [
          108.9336012932089,
          101.7762927404526
         ],
         "mode": "lines",
         "opacity": 1,
         "type": "scattergeo"
        },
        {
         "lat": [
          34.63031715995263,
          27.72918933516938
         ],
         "line": {
          "color": "red",
          "width": 1
         },
         "lon": [
          108.9336012932089,
          106.9235728918846
         ],
         "mode": "lines",
         "opacity": 1,
         "type": "scattergeo"
        },
        {
         "lat": [
          34.63031715995263,
          26.59628129977204
         ],
         "line": {
          "color": "red",
          "width": 1
         },
         "lon": [
          108.9336012932089,
          104.8278184351933
         ],
         "mode": "lines",
         "opacity": 1,
         "type": "scattergeo"
        },
        {
         "lat": [
          34.63031715995263,
          34.47290911965604
         ],
         "line": {
          "color": "red",
          "width": 1
         },
         "lon": [
          108.9336012932089,
          100.243467122574
         ],
         "mode": "lines",
         "opacity": 1,
         "type": "scattergeo"
        },
        {
         "lat": [
          34.63031715995263,
          29.5658490143256
         ],
         "line": {
          "color": "red",
          "width": 1
         },
         "lon": [
          108.9336012932089,
          106.5478312634267
         ],
         "mode": "lines",
         "opacity": 1,
         "type": "scattergeo"
        },
        {
         "lat": [
          34.63031715995263,
          32.50359180804994
         ],
         "line": {
          "color": "red",
          "width": 1
         },
         "lon": [
          108.9336012932089,
          80.10358684866438
         ],
         "mode": "lines",
         "opacity": 1,
         "type": "scattergeo"
        },
        {
         "lat": [
          34.63031715995263,
          37.49941170198301
         ],
         "line": {
          "color": "red",
          "width": 1
         },
         "lon": [
          108.9336012932089,
          105.1931310282931
         ],
         "mode": "lines",
         "opacity": 1,
         "type": "scattergeo"
        },
        {
         "lat": [
          34.63031715995263,
          40.74177069274513
         ],
         "line": {
          "color": "red",
          "width": 1
         },
         "lon": [
          108.9336012932089,
          107.3820708392117
         ],
         "mode": "lines",
         "opacity": 1,
         "type": "scattergeo"
        },
        {
         "lat": [
          34.63031715995263,
          35.58120785689678
         ],
         "line": {
          "color": "red",
          "width": 1
         },
         "lon": [
          108.9336012932089,
          104.623617338011
         ],
         "mode": "lines",
         "opacity": 1,
         "type": "scattergeo"
        },
        {
         "lat": [
          34.63031715995263,
          34.50130608517758
         ],
         "line": {
          "color": "red",
          "width": 1
         },
         "lon": [
          108.9336012932089,
          109.504625293394
         ],
         "mode": "lines",
         "opacity": 1,
         "type": "scattergeo"
        },
        {
         "lat": [
          34.63031715995263,
          34.34312953840049
         ],
         "line": {
          "color": "red",
          "width": 1
         },
         "lon": [
          108.9336012932089,
          108.9355291153062
         ],
         "mode": "lines",
         "opacity": 1,
         "type": "scattergeo"
        },
        {
         "lat": [
          34.63031715995263,
          33.87210573316656
         ],
         "line": {
          "color": "red",
          "width": 1
         },
         "lon": [
          108.9336012932089,
          109.9354974186974
         ],
         "mode": "lines",
         "opacity": 1,
         "type": "scattergeo"
        },
        {
         "lat": [
          34.63031715995263,
          46.07553890622198
         ],
         "line": {
          "color": "red",
          "width": 1
         },
         "lon": [
          108.9336012932089,
          122.0608579323195
         ],
         "mode": "lines",
         "opacity": 1,
         "type": "scattergeo"
        },
        {
         "lat": [
          34.63031715995263,
          39.6544390366507
         ],
         "line": {
          "color": "red",
          "width": 1
         },
         "lon": [
          108.9336012932089,
          106.7894841071682
         ],
         "mode": "lines",
         "opacity": 1,
         "type": "scattergeo"
        },
        {
         "lat": [
          34.63031715995263,
          26.85859236359501
         ],
         "line": {
          "color": "red",
          "width": 1
         },
         "lon": [
          108.9336012932089,
          100.226617197402
         ],
         "mode": "lines",
         "opacity": 1,
         "type": "scattergeo"
        },
        {
         "lat": [
          34.63031715995263,
          27.34168368255112
         ],
         "line": {
          "color": "red",
          "width": 1
         },
         "lon": [
          108.9336012932089,
          103.7153750119609
         ],
         "mode": "lines",
         "opacity": 1,
         "type": "scattergeo"
        },
        {
         "lat": [
          34.63031715995263,
          25.60952165934802
         ],
         "line": {
          "color": "red",
          "width": 1
         },
         "lon": [
          108.9336012932089,
          100.266540437132
         ],
         "mode": "lines",
         "opacity": 1,
         "type": "scattergeo"
        },
        {
         "lat": [
          34.63031715995263,
          24.43652522328061
         ],
         "line": {
          "color": "red",
          "width": 1
         },
         "lon": [
          108.9336012932089,
          98.58474196486381
         ],
         "mode": "lines",
         "opacity": 1,
         "type": "scattergeo"
        },
        {
         "lat": [
          34.63031715995263,
          25.85588172220572
         ],
         "line": {
          "color": "red",
          "width": 1
         },
         "lon": [
          108.9336012932089,
          98.85270009438005
         ],
         "mode": "lines",
         "opacity": 1,
         "type": "scattergeo"
        },
        {
         "lat": [
          34.63031715995263,
          36.54466066268684
         ],
         "line": {
          "color": "red",
          "width": 1
         },
         "lon": [
          108.9336012932089,
          104.1357374526611
         ],
         "mode": "lines",
         "opacity": 1,
         "type": "scattergeo"
        },
        {
         "lat": [
          37.66638377238687,
          38.87297673416556
         ],
         "line": {
          "color": "red",
          "width": 1
         },
         "lon": [
          112.6719120037593,
          115.4584681544313
         ],
         "mode": "lines",
         "opacity": 1,
         "type": "scattergeo"
        },
        {
         "lat": [
          37.66638377238687,
          35.21640061005598
         ],
         "line": {
          "color": "red",
          "width": 1
         },
         "lon": [
          112.6719120037593,
          113.2354557720119
         ],
         "mode": "lines",
         "opacity": 1,
         "type": "scattergeo"
        },
        {
         "lat": [
          37.66638377238687,
          31.73575608295598
         ],
         "line": {
          "color": "red",
          "width": 1
         },
         "lon": [
          112.6719120037593,
          116.5167623870941
         ],
         "mode": "lines",
         "opacity": 1,
         "type": "scattergeo"
        },
        {
         "lat": [
          37.66638377238687,
          37.73828947669901
         ],
         "line": {
          "color": "red",
          "width": 1
         },
         "lon": [
          112.6719120037593,
          115.6642998789322
         ],
         "mode": "lines",
         "opacity": 1,
         "type": "scattergeo"
        },
        {
         "lat": [
          37.66638377238687,
          36.09740671694131
         ],
         "line": {
          "color": "red",
          "width": 1
         },
         "lon": [
          112.6719120037593,
          114.3863032251404
         ],
         "mode": "lines",
         "opacity": 1,
         "type": "scattergeo"
        },
        {
         "lat": [
          37.66638377238687,
          39.902626245166
         ],
         "line": {
          "color": "red",
          "width": 1
         },
         "lon": [
          112.6719120037593,
          116.4012828477588
         ],
         "mode": "lines",
         "opacity": 1,
         "type": "scattergeo"
        },
        {
         "lat": [
          37.66638377238687,
          37.87005096677684
         ],
         "line": {
          "color": "red",
          "width": 1
         },
         "lon": [
          112.6719120037593,
          112.5425630342325
         ],
         "mode": "lines",
         "opacity": 1,
         "type": "scattergeo"
        },
        {
         "lat": [
          37.66638377238687,
          35.76184910581689
         ],
         "line": {
          "color": "red",
          "width": 1
         },
         "lon": [
          112.6719120037593,
          115.0233457843086
         ],
         "mode": "lines",
         "opacity": 1,
         "type": "scattergeo"
        },
        {
         "lat": [
          37.66638377238687,
          39.33042586350068
         ],
         "line": {
          "color": "red",
          "width": 1
         },
         "lon": [
          112.6719120037593,
          112.4259678830538
         ],
         "mode": "lines",
         "opacity": 1,
         "type": "scattergeo"
        },
        {
         "lat": [
          37.66638377238687,
          36.19521524648712
         ],
         "line": {
          "color": "red",
          "width": 1
         },
         "lon": [
          112.6719120037593,
          113.1095869618306
         ],
         "mode": "lines",
         "opacity": 1,
         "type": "scattergeo"
        },
        {
         "lat": [
          37.66638377238687,
          42.25587691695832
         ],
         "line": {
          "color": "red",
          "width": 1
         },
         "lon": [
          112.6719120037593,
          118.8806794224993
         ],
         "mode": "lines",
         "opacity": 1,
         "type": "scattergeo"
        },
        {
         "lat": [
          37.66638377238687,
          38.28487573162408
         ],
         "line": {
          "color": "red",
          "width": 1
         },
         "lon": [
          112.6719120037593,
          109.7290105322149
         ],
         "mode": "lines",
         "opacity": 1,
         "type": "scattergeo"
        },
        {
         "lat": [
          37.66638377238687,
          33.64794994611666
         ],
         "line": {
          "color": "red",
          "width": 1
         },
         "lon": [
          112.6719120037593,
          116.95899047143
         ],
         "mode": "lines",
         "opacity": 1,
         "type": "scattergeo"
        },
        {
         "lat": [
          37.66638377238687,
          37.85646220510019
         ],
         "line": {
          "color": "red",
          "width": 1
         },
         "lon": [
          112.6719120037593,
          113.574107092927
         ],
         "mode": "lines",
         "opacity": 1,
         "type": "scattergeo"
        },
        {
         "lat": [
          37.66638377238687,
          35.49110504705786
         ],
         "line": {
          "color": "red",
          "width": 1
         },
         "lon": [
          112.6719120037593,
          112.8457114258861
         ],
         "mode": "lines",
         "opacity": 1,
         "type": "scattergeo"
        },
        {
         "lat": [
          37.66638377238687,
          35.74730281423409
         ],
         "line": {
          "color": "red",
          "width": 1
         },
         "lon": [
          112.6719120037593,
          114.2913498473666
         ],
         "mode": "lines",
         "opacity": 1,
         "type": "scattergeo"
        },
        {
         "lat": [
          37.66638377238687,
          37.51752738993748
         ],
         "line": {
          "color": "red",
          "width": 1
         },
         "lon": [
          112.6719120037593,
          111.1379504274304
         ],
         "mode": "lines",
         "opacity": 1,
         "type": "scattergeo"
        },
        {
         "lat": [
          37.66638377238687,
          37.07009447918728
         ],
         "line": {
          "color": "red",
          "width": 1
         },
         "lon": [
          112.6719120037593,
          114.4989149321016
         ],
         "mode": "lines",
         "opacity": 1,
         "type": "scattergeo"
        },
        {
         "lat": [
          37.66638377238687,
          36.08811024456974
         ],
         "line": {
          "color": "red",
          "width": 1
         },
         "lon": [
          112.6719120037593,
          111.512738356361
         ],
         "mode": "lines",
         "opacity": 1,
         "type": "scattergeo"
        },
        {
         "lat": [
          37.66638377238687,
          36.62556357656246
         ],
         "line": {
          "color": "red",
          "width": 1
         },
         "lon": [
          112.6719120037593,
          114.5332139277783
         ],
         "mode": "lines",
         "opacity": 1,
         "type": "scattergeo"
        },
        {
         "lat": [
          37.66638377238687,
          38.41608696241872
         ],
         "line": {
          "color": "red",
          "width": 1
         },
         "lon": [
          112.6719120037593,
          112.727613615456
         ],
         "mode": "lines",
         "opacity": 1,
         "type": "scattergeo"
        },
        {
         "lat": [
          37.66638377238687,
          38.04166913884188
         ],
         "line": {
          "color": "red",
          "width": 1
         },
         "lon": [
          112.6719120037593,
          114.5088610208725
         ],
         "mode": "lines",
         "opacity": 1,
         "type": "scattergeo"
        },
        {
         "lat": [
          37.66638377238687,
          38.30390787880884
         ],
         "line": {
          "color": "red",
          "width": 1
         },
         "lon": [
          112.6719120037593,
          116.833033542554
         ],
         "mode": "lines",
         "opacity": 1,
         "type": "scattergeo"
        },
        {
         "lat": [
          37.66638377238687,
          40.8411402225846
         ],
         "line": {
          "color": "red",
          "width": 1
         },
         "lon": [
          112.6719120037593,
          111.7422639952268
         ],
         "mode": "lines",
         "opacity": 1,
         "type": "scattergeo"
        },
        {
         "lat": [
          37.66638377238687,
          40.65629113306126
         ],
         "line": {
          "color": "red",
          "width": 1
         },
         "lon": [
          112.6719120037593,
          109.8346292526299
         ],
         "mode": "lines",
         "opacity": 1,
         "type": "scattergeo"
        },
        {
         "lat": [
          37.66638377238687,
          40.07557310802614
         ],
         "line": {
          "color": "red",
          "width": 1
         },
         "lon": [
          112.6719120037593,
          113.2931269502874
         ],
         "mode": "lines",
         "opacity": 1,
         "type": "scattergeo"
        },
        {
         "lat": [
          37.66638377238687,
          40.82308854129995
         ],
         "line": {
          "color": "red",
          "width": 1
         },
         "lon": [
          112.6719120037593,
          114.8814226622556
         ],
         "mode": "lines",
         "opacity": 1,
         "type": "scattergeo"
        },
        {
         "lat": [
          37.66638377238687,
          40.99301005071572
         ],
         "line": {
          "color": "red",
          "width": 1
         },
         "lon": [
          112.6719120037593,
          113.1253090209648
         ],
         "mode": "lines",
         "opacity": 1,
         "type": "scattergeo"
        },
        {
         "lat": [
          37.66638377238687,
          39.60724263159052
         ],
         "line": {
          "color": "red",
          "width": 1
         },
         "lon": [
          112.6719120037593,
          109.7756072826352
         ],
         "mode": "lines",
         "opacity": 1,
         "type": "scattergeo"
        },
        {
         "lat": [
          37.66638377238687,
          43.93128150032256
         ],
         "line": {
          "color": "red",
          "width": 1
         },
         "lon": [
          112.6719120037593,
          116.0414004756569
         ],
         "mode": "lines",
         "opacity": 1,
         "type": "scattergeo"
        },
        {
         "lat": [
          37.66638377238687,
          34.77346975390627
         ],
         "line": {
          "color": "red",
          "width": 1
         },
         "lon": [
          112.6719120037593,
          111.1941341473168
         ],
         "mode": "lines",
         "opacity": 1,
         "type": "scattergeo"
        },
        {
         "lat": [
          37.66638377238687,
          35.02716522530418
         ],
         "line": {
          "color": "red",
          "width": 1
         },
         "lon": [
          112.6719120037593,
          111.0017399957335
         ],
         "mode": "lines",
         "opacity": 1,
         "type": "scattergeo"
        },
        {
         "lat": [
          37.66638377238687,
          34.33105343685244
         ],
         "line": {
          "color": "red",
          "width": 1
         },
         "lon": [
          112.6719120037593,
          108.70432818877
         ],
         "mode": "lines",
         "opacity": 1,
         "type": "scattergeo"
        },
        {
         "lat": [
          37.66638377238687,
          37.68634353557753
         ],
         "line": {
          "color": "red",
          "width": 1
         },
         "lon": [
          112.6719120037593,
          112.7462041891047
         ],
         "mode": "lines",
         "opacity": 1,
         "type": "scattergeo"
        },
        {
         "lat": [
          37.66638377238687,
          34.62069425847153
         ],
         "line": {
          "color": "red",
          "width": 1
         },
         "lon": [
          112.6719120037593,
          112.4477739744806
         ],
         "mode": "lines",
         "opacity": 1,
         "type": "scattergeo"
        },
        {
         "lat": [
          37.66638377238687,
          40.81607321636371
         ],
         "line": {
          "color": "red",
          "width": 1
         },
         "lon": [
          112.6719120037593,
          111.7587040406893
         ],
         "mode": "lines",
         "opacity": 1,
         "type": "scattergeo"
        },
        {
         "lat": [
          37.66638377238687,
          40.74177069274513
         ],
         "line": {
          "color": "red",
          "width": 1
         },
         "lon": [
          112.6719120037593,
          107.3820708392117
         ],
         "mode": "lines",
         "opacity": 1,
         "type": "scattergeo"
        },
        {
         "lat": [
          32.00530522681915,
          32.14893045727153
         ],
         "line": {
          "color": "red",
          "width": 1
         },
         "lon": [
          119.0494352058129,
          114.0851344571613
         ],
         "mode": "lines",
         "opacity": 1,
         "type": "scattergeo"
        },
        {
         "lat": [
          32.00530522681915,
          32.30357289491218
         ],
         "line": {
          "color": "red",
          "width": 1
         },
         "lon": [
          119.0494352058129,
          118.3117146495258
         ],
         "mode": "lines",
         "opacity": 1,
         "type": "scattergeo"
        },
        {
         "lat": [
          32.00530522681915,
          31.73575608295598
         ],
         "line": {
          "color": "red",
          "width": 1
         },
         "lon": [
          119.0494352058129,
          116.5167623870941
         ],
         "mode": "lines",
         "opacity": 1,
         "type": "scattergeo"
        },
        {
         "lat": [
          32.00530522681915,
          32.45800429536821
         ],
         "line": {
          "color": "red",
          "width": 1
         },
         "lon": [
          119.0494352058129,
          119.91838005602
         ],
         "mode": "lines",
         "opacity": 1,
         "type": "scattergeo"
        },
        {
         "lat": [
          32.00530522681915,
          31.2323452344023
         ],
         "line": {
          "color": "red",
          "width": 1
         },
         "lon": [
          119.0494352058129,
          121.4691632652304
         ],
         "mode": "lines",
         "opacity": 1,
         "type": "scattergeo"
        },
        {
         "lat": [
          32.00530522681915,
          32.62754369430915
         ],
         "line": {
          "color": "red",
          "width": 1
         },
         "lon": [
          119.0494352058129,
          116.9945269148156
         ],
         "mode": "lines",
         "opacity": 1,
         "type": "scattergeo"
        },
        {
         "lat": [
          32.00530522681915,
          32.06232355267544
         ],
         "line": {
          "color": "red",
          "width": 1
         },
         "lon": [
          119.0494352058129,
          118.7916846702178
         ],
         "mode": "lines",
         "opacity": 1,
         "type": "scattergeo"
        },
        {
         "lat": [
          32.00530522681915,
          31.35470362228185
         ],
         "line": {
          "color": "red",
          "width": 1
         },
         "lon": [
          119.0494352058129,
          118.4275501703881
         ],
         "mode": "lines",
         "opacity": 1,
         "type": "scattergeo"
        },
        {
         "lat": [
          32.00530522681915,
          36.06681047224894
         ],
         "line": {
          "color": "red",
          "width": 1
         },
         "lon": [
          119.0494352058129,
          120.3775084640287
         ],
         "mode": "lines",
         "opacity": 1,
         "type": "scattergeo"
        },
        {
         "lat": [
          32.00530522681915,
          32.18972309867631
         ],
         "line": {
          "color": "red",
          "width": 1
         },
         "lon": [
          119.0494352058129,
          119.4203835018594
         ],
         "mode": "lines",
         "opacity": 1,
         "type": "scattergeo"
        },
        {
         "lat": [
          32.00530522681915,
          41.10674546752389
         ],
         "line": {
          "color": "red",
          "width": 1
         },
         "lon": [
          119.0494352058129,
          122.9888556604474
         ],
         "mode": "lines",
         "opacity": 1,
         "type": "scattergeo"
        },
        {
         "lat": [
          32.00530522681915,
          31.82258053795522
         ],
         "line": {
          "color": "red",
          "width": 1
         },
         "lon": [
          119.0494352058129,
          117.2217530206498
         ],
         "mode": "lines",
         "opacity": 1,
         "type": "scattergeo"
        },
        {
         "lat": [
          32.00530522681915,
          31.98233962550012
         ],
         "line": {
          "color": "red",
          "width": 1
         },
         "lon": [
          119.0494352058129,
          120.8900735716123
         ],
         "mode": "lines",
         "opacity": 1,
         "type": "scattergeo"
        },
        {
         "lat": [
          32.00530522681915,
          31.67242798566556
         ],
         "line": {
          "color": "red",
          "width": 1
         },
         "lon": [
          119.0494352058129,
          118.501560200216
         ],
         "mode": "lines",
         "opacity": 1,
         "type": "scattergeo"
        },
        {
         "lat": [
          32.00530522681915,
          33.34881077578557
         ],
         "line": {
          "color": "red",
          "width": 1
         },
         "lon": [
          119.0494352058129,
          120.1586027412798
         ],
         "mode": "lines",
         "opacity": 1,
         "type": "scattergeo"
        },
        {
         "lat": [
          32.00530522681915,
          40.66544437055811
         ],
         "line": {
          "color": "red",
          "width": 1
         },
         "lon": [
          119.0494352058129,
          122.2302400702165
         ],
         "mode": "lines",
         "opacity": 1,
         "type": "scattergeo"
        },
        {
         "lat": [
          32.00530522681915,
          30.54578375093637
         ],
         "line": {
          "color": "red",
          "width": 1
         },
         "lon": [
          119.0494352058129,
          117.0583094488215
         ],
         "mode": "lines",
         "opacity": 1,
         "type": "scattergeo"
        },
        {
         "lat": [
          32.00530522681915,
          30.94293557276461
         ],
         "line": {
          "color": "red",
          "width": 1
         },
         "lon": [
          119.0494352058129,
          118.7536914610581
         ],
         "mode": "lines",
         "opacity": 1,
         "type": "scattergeo"
        },
        {
         "lat": [
          32.00530522681915,
          33.64794994611666
         ],
         "line": {
          "color": "red",
          "width": 1
         },
         "lon": [
          119.0494352058129,
          116.95899047143
         ],
         "mode": "lines",
         "opacity": 1,
         "type": "scattergeo"
        },
        {
         "lat": [
          32.00530522681915,
          29.71706301538657
         ],
         "line": {
          "color": "red",
          "width": 1
         },
         "lon": [
          119.0494352058129,
          118.3322856589073
         ],
         "mode": "lines",
         "opacity": 1,
         "type": "scattergeo"
        },
        {
         "lat": [
          32.00530522681915,
          34.59768100862672
         ],
         "line": {
          "color": "red",
          "width": 1
         },
         "lon": [
          119.0494352058129,
          119.2160715736077
         ],
         "mode": "lines",
         "opacity": 1,
         "type": "scattergeo"
        },
        {
         "lat": [
          32.00530522681915,
          31.81274316521338
         ],
         "line": {
          "color": "red",
          "width": 1
         },
         "lon": [
          119.0494352058129,
          119.9692475651995
         ],
         "mode": "lines",
         "opacity": 1,
         "type": "scattergeo"
        },
        {
         "lat": [
          32.00530522681915,
          39.998962954379
         ],
         "line": {
          "color": "red",
          "width": 1
         },
         "lon": [
          119.0494352058129,
          124.3489462400518
         ],
         "mode": "lines",
         "opacity": 1,
         "type": "scattergeo"
        },
        {
         "lat": [
          32.00530522681915,
          30.89639388346604
         ],
         "line": {
          "color": "red",
          "width": 1
         },
         "lon": [
          119.0494352058129,
          120.0819509034296
         ],
         "mode": "lines",
         "opacity": 1,
         "type": "scattergeo"
        },
        {
         "lat": [
          32.00530522681915,
          30.66714344132274
         ],
         "line": {
          "color": "red",
          "width": 1
         },
         "lon": [
          119.0494352058129,
          117.4860824783757
         ],
         "mode": "lines",
         "opacity": 1,
         "type": "scattergeo"
        },
        {
         "lat": [
          32.00530522681915,
          30.94771223306929
         ],
         "line": {
          "color": "red",
          "width": 1
         },
         "lon": [
          119.0494352058129,
          117.8067260077645
         ],
         "mode": "lines",
         "opacity": 1,
         "type": "scattergeo"
        },
        {
         "lat": [
          32.00530522681915,
          33.611763586717
         ],
         "line": {
          "color": "red",
          "width": 1
         },
         "lon": [
          119.0494352058129,
          119.0098472690756
         ],
         "mode": "lines",
         "opacity": 1,
         "type": "scattergeo"
        },
        {
         "lat": [
          32.00530522681915,
          33.96458366057329
         ],
         "line": {
          "color": "red",
          "width": 1
         },
         "lon": [
          119.0494352058129,
          118.2696951415908
         ],
         "mode": "lines",
         "opacity": 1,
         "type": "scattergeo"
        },
        {
         "lat": [
          32.00530522681915,
          33.95726296715417
         ],
         "line": {
          "color": "red",
          "width": 1
         },
         "lon": [
          119.0494352058129,
          116.7928608550622
         ],
         "mode": "lines",
         "opacity": 1,
         "type": "scattergeo"
        },
        {
         "lat": [
          32.00530522681915,
          34.20706393180895
         ],
         "line": {
          "color": "red",
          "width": 1
         },
         "lon": [
          119.0494352058129,
          117.2783803771574
         ],
         "mode": "lines",
         "opacity": 1,
         "type": "scattergeo"
        },
        {
         "lat": [
          32.00530522681915,
          27.99755639661836
         ],
         "line": {
          "color": "red",
          "width": 1
         },
         "lon": [
          119.0494352058129,
          120.6953146770179
         ],
         "mode": "lines",
         "opacity": 1,
         "type": "scattergeo"
        },
        {
         "lat": [
          32.00530522681915,
          32.91799515400531
         ],
         "line": {
          "color": "red",
          "width": 1
         },
         "lon": [
          119.0494352058129,
          117.3838768458563
         ],
         "mode": "lines",
         "opacity": 1,
         "type": "scattergeo"
        },
        {
         "lat": [
          32.00530522681915,
          35.41664985448086
         ],
         "line": {
          "color": "red",
          "width": 1
         },
         "lon": [
          119.0494352058129,
          119.5214386156121
         ],
         "mode": "lines",
         "opacity": 1,
         "type": "scattergeo"
        },
        {
         "lat": [
          32.00530522681915,
          32.39608761324173
         ],
         "line": {
          "color": "red",
          "width": 1
         },
         "lon": [
          119.0494352058129,
          119.4074816928227
         ],
         "mode": "lines",
         "opacity": 1,
         "type": "scattergeo"
        },
        {
         "lat": [
          32.00530522681915,
          32.89211160308685
         ],
         "line": {
          "color": "red",
          "width": 1
         },
         "lon": [
          119.0494352058129,
          115.8088195468257
         ],
         "mode": "lines",
         "opacity": 1,
         "type": "scattergeo"
        },
        {
         "lat": [
          32.00530522681915,
          28.47103856667617
         ],
         "line": {
          "color": "red",
          "width": 1
         },
         "lon": [
          119.0494352058129,
          119.9183913224205
         ],
         "mode": "lines",
         "opacity": 1,
         "type": "scattergeo"
        },
        {
         "lat": [
          32.00530522681915,
          31.30106716114456
         ],
         "line": {
          "color": "red",
          "width": 1
         },
         "lon": [
          119.0494352058129,
          120.5811331033317
         ],
         "mode": "lines",
         "opacity": 1,
         "type": "scattergeo"
        },
        {
         "lat": [
          32.00530522681915,
          33.84602023421478
         ],
         "line": {
          "color": "red",
          "width": 1
         },
         "lon": [
          119.0494352058129,
          115.7731280236451
         ],
         "mode": "lines",
         "opacity": 1,
         "type": "scattergeo"
        },
        {
         "lat": [
          32.00530522681915,
          25.45688085615284
         ],
         "line": {
          "color": "red",
          "width": 1
         },
         "lon": [
          119.0494352058129,
          119.0030583278949
         ],
         "mode": "lines",
         "opacity": 1,
         "type": "scattergeo"
        },
        {
         "lat": [
          32.00530522681915,
          29.87713052207049
         ],
         "line": {
          "color": "red",
          "width": 1
         },
         "lon": [
          119.0494352058129,
          121.5461886035697
         ],
         "mode": "lines",
         "opacity": 1,
         "type": "scattergeo"
        },
        {
         "lat": [
          32.00530522681915,
          30.74842732095237
         ],
         "line": {
          "color": "red",
          "width": 1
         },
         "lon": [
          119.0494352058129,
          120.7511656273119
         ],
         "mode": "lines",
         "opacity": 1,
         "type": "scattergeo"
        },
        {
         "lat": [
          32.00530522681915,
          26.66910233527991
         ],
         "line": {
          "color": "red",
          "width": 1
         },
         "lon": [
          119.0494352058129,
          119.5433363814137
         ],
         "mode": "lines",
         "opacity": 1,
         "type": "scattergeo"
        },
        {
         "lat": [
          32.00530522681915,
          31.49306603700403
         ],
         "line": {
          "color": "red",
          "width": 1
         },
         "lon": [
          119.0494352058129,
          120.3073076042237
         ],
         "mode": "lines",
         "opacity": 1,
         "type": "scattergeo"
        },
        {
         "lat": [
          32.00530522681915,
          26.0776181921898
         ],
         "line": {
          "color": "red",
          "width": 1
         },
         "lon": [
          119.0494352058129,
          119.2917011892226
         ],
         "mode": "lines",
         "opacity": 1,
         "type": "scattergeo"
        },
        {
         "lat": [
          32.00530522681915,
          30.03238398245454
         ],
         "line": {
          "color": "red",
          "width": 1
         },
         "lon": [
          119.0494352058129,
          120.5761448871077
         ],
         "mode": "lines",
         "opacity": 1,
         "type": "scattergeo"
        },
        {
         "lat": [
          32.00530522681915,
          28.97315464783074
         ],
         "line": {
          "color": "red",
          "width": 1
         },
         "lon": [
          119.0494352058129,
          118.854654147615
         ],
         "mode": "lines",
         "opacity": 1,
         "type": "scattergeo"
        },
        {
         "lat": [
          32.00530522681915,
          29.08204039822681
         ],
         "line": {
          "color": "red",
          "width": 1
         },
         "lon": [
          119.0494352058129,
          119.6427445137875
         ],
         "mode": "lines",
         "opacity": 1,
         "type": "scattergeo"
        },
        {
         "lat": [
          32.00530522681915,
          30.24827350364001
         ],
         "line": {
          "color": "red",
          "width": 1
         },
         "lon": [
          119.0494352058129,
          120.2053988812982
         ],
         "mode": "lines",
         "opacity": 1,
         "type": "scattergeo"
        },
        {
         "lat": [
          32.00530522681915,
          28.65933140957997
         ],
         "line": {
          "color": "red",
          "width": 1
         },
         "lon": [
          119.0494352058129,
          121.4163247141463
         ],
         "mode": "lines",
         "opacity": 1,
         "type": "scattergeo"
        },
        {
         "lat": [
          29.38079929558913,
          32.14893045727153
         ],
         "line": {
          "color": "red",
          "width": 1
         },
         "lon": [
          113.1584727838096,
          114.0851344571613
         ],
         "mode": "lines",
         "opacity": 1,
         "type": "scattergeo"
        },
        {
         "lat": [
          29.38079929558913,
          31.73575608295598
         ],
         "line": {
          "color": "red",
          "width": 1
         },
         "lon": [
          113.1584727838096,
          116.5167623870941
         ],
         "mode": "lines",
         "opacity": 1,
         "type": "scattergeo"
        },
        {
         "lat": [
          29.38079929558913,
          32.62754369430915
         ],
         "line": {
          "color": "red",
          "width": 1
         },
         "lon": [
          113.1584727838096,
          116.9945269148156
         ],
         "mode": "lines",
         "opacity": 1,
         "type": "scattergeo"
        },
        {
         "lat": [
          29.38079929558913,
          32.06232355267544
         ],
         "line": {
          "color": "red",
          "width": 1
         },
         "lon": [
          113.1584727838096,
          118.7916846702178
         ],
         "mode": "lines",
         "opacity": 1,
         "type": "scattergeo"
        },
        {
         "lat": [
          29.38079929558913,
          31.35470362228185
         ],
         "line": {
          "color": "red",
          "width": 1
         },
         "lon": [
          113.1584727838096,
          118.4275501703881
         ],
         "mode": "lines",
         "opacity": 1,
         "type": "scattergeo"
        },
        {
         "lat": [
          29.38079929558913,
          33.01335650611892
         ],
         "line": {
          "color": "red",
          "width": 1
         },
         "lon": [
          113.1584727838096,
          114.0164292106147
         ],
         "mode": "lines",
         "opacity": 1,
         "type": "scattergeo"
        },
        {
         "lat": [
          29.38079929558913,
          31.82258053795522
         ],
         "line": {
          "color": "red",
          "width": 1
         },
         "lon": [
          113.1584727838096,
          117.2217530206498
         ],
         "mode": "lines",
         "opacity": 1,
         "type": "scattergeo"
        },
        {
         "lat": [
          29.38079929558913,
          33.62771504579078
         ],
         "line": {
          "color": "red",
          "width": 1
         },
         "lon": [
          113.1584727838096,
          114.6914875280797
         ],
         "mode": "lines",
         "opacity": 1,
         "type": "scattergeo"
        },
        {
         "lat": [
          29.38079929558913,
          30.54578375093637
         ],
         "line": {
          "color": "red",
          "width": 1
         },
         "lon": [
          113.1584727838096,
          117.0583094488215
         ],
         "mode": "lines",
         "opacity": 1,
         "type": "scattergeo"
        },
        {
         "lat": [
          29.38079929558913,
          30.94293557276461
         ],
         "line": {
          "color": "red",
          "width": 1
         },
         "lon": [
          113.1584727838096,
          118.7536914610581
         ],
         "mode": "lines",
         "opacity": 1,
         "type": "scattergeo"
        },
        {
         "lat": [
          29.38079929558913,
          29.71706301538657
         ],
         "line": {
          "color": "red",
          "width": 1
         },
         "lon": [
          113.1584727838096,
          118.3322856589073
         ],
         "mode": "lines",
         "opacity": 1,
         "type": "scattergeo"
        },
        {
         "lat": [
          29.38079929558913,
          30.66714344132274
         ],
         "line": {
          "color": "red",
          "width": 1
         },
         "lon": [
          113.1584727838096,
          117.4860824783757
         ],
         "mode": "lines",
         "opacity": 1,
         "type": "scattergeo"
        },
        {
         "lat": [
          29.38079929558913,
          30.94771223306929
         ],
         "line": {
          "color": "red",
          "width": 1
         },
         "lon": [
          113.1584727838096,
          117.8067260077645
         ],
         "mode": "lines",
         "opacity": 1,
         "type": "scattergeo"
        },
        {
         "lat": [
          29.38079929558913,
          33.58291634117343
         ],
         "line": {
          "color": "red",
          "width": 1
         },
         "lon": [
          113.1584727838096,
          114.0106299585456
         ],
         "mode": "lines",
         "opacity": 1,
         "type": "scattergeo"
        },
        {
         "lat": [
          29.38079929558913,
          27.99755639661836
         ],
         "line": {
          "color": "red",
          "width": 1
         },
         "lon": [
          113.1584727838096,
          120.6953146770179
         ],
         "mode": "lines",
         "opacity": 1,
         "type": "scattergeo"
        },
        {
         "lat": [
          29.38079929558913,
          32.91799515400531
         ],
         "line": {
          "color": "red",
          "width": 1
         },
         "lon": [
          113.1584727838096,
          117.3838768458563
         ],
         "mode": "lines",
         "opacity": 1,
         "type": "scattergeo"
        },
        {
         "lat": [
          29.38079929558913,
          32.89211160308685
         ],
         "line": {
          "color": "red",
          "width": 1
         },
         "lon": [
          113.1584727838096,
          115.8088195468257
         ],
         "mode": "lines",
         "opacity": 1,
         "type": "scattergeo"
        },
        {
         "lat": [
          29.38079929558913,
          28.47103856667617
         ],
         "line": {
          "color": "red",
          "width": 1
         },
         "lon": [
          113.1584727838096,
          119.9183913224205
         ],
         "mode": "lines",
         "opacity": 1,
         "type": "scattergeo"
        },
        {
         "lat": [
          29.38079929558913,
          32.01093810474285
         ],
         "line": {
          "color": "red",
          "width": 1
         },
         "lon": [
          113.1584727838096,
          112.1163256977821
         ],
         "mode": "lines",
         "opacity": 1,
         "type": "scattergeo"
        },
        {
         "lat": [
          29.38079929558913,
          32.99281483167919
         ],
         "line": {
          "color": "red",
          "width": 1
         },
         "lon": [
          113.1584727838096,
          112.5224592560118
         ],
         "mode": "lines",
         "opacity": 1,
         "type": "scattergeo"
        },
        {
         "lat": [
          29.38079929558913,
          28.31533925357757
         ],
         "line": {
          "color": "red",
          "width": 1
         },
         "lon": [
          113.1584727838096,
          109.7344422775661
         ],
         "mode": "lines",
         "opacity": 1,
         "type": "scattergeo"
        },
        {
         "lat": [
          29.38079929558913,
          30.27471062336162
         ],
         "line": {
          "color": "red",
          "width": 1
         },
         "lon": [
          113.1584727838096,
          109.4832871762125
         ],
         "mode": "lines",
         "opacity": 1,
         "type": "scattergeo"
        },
        {
         "lat": [
          29.38079929558913,
          32.63157768676001
         ],
         "line": {
          "color": "red",
          "width": 1
         },
         "lon": [
          113.1584727838096,
          110.7926649102856
         ],
         "mode": "lines",
         "opacity": 1,
         "type": "scattergeo"
        },
        {
         "lat": [
          29.38079929558913,
          28.68621233484596
         ],
         "line": {
          "color": "red",
          "width": 1
         },
         "lon": [
          113.1584727838096,
          115.8532852729079
         ],
         "mode": "lines",
         "opacity": 1,
         "type": "scattergeo"
        },
        {
         "lat": [
          29.38079929558913,
          24.81346271120227
         ],
         "line": {
          "color": "red",
          "width": 1
         },
         "lon": [
          113.1584727838096,
          113.5923294112387
         ],
         "mode": "lines",
         "opacity": 1,
         "type": "scattergeo"
        },
        {
         "lat": [
          29.38079929558913,
          24.48248267708086
         ],
         "line": {
          "color": "red",
          "width": 1
         },
         "lon": [
          113.1584727838096,
          118.084448093873
         ],
         "mode": "lines",
         "opacity": 1,
         "type": "scattergeo"
        },
        {
         "lat": [
          29.38079929558913,
          33.76759369387327
         ],
         "line": {
          "color": "red",
          "width": 1
         },
         "lon": [
          113.1584727838096,
          113.1863800141984
         ],
         "mode": "lines",
         "opacity": 1,
         "type": "scattergeo"
        },
        {
         "lat": [
          29.38079929558913,
          27.95235980536817
         ],
         "line": {
          "color": "red",
          "width": 1
         },
         "lon": [
          113.1584727838096,
          116.3531836141162
         ],
         "mode": "lines",
         "opacity": 1,
         "type": "scattergeo"
        },
        {
         "lat": [
          29.38079929558913,
          28.87483938230682
         ],
         "line": {
          "color": "red",
          "width": 1
         },
         "lon": [
          113.1584727838096,
          105.4386624441242
         ],
         "mode": "lines",
         "opacity": 1,
         "type": "scattergeo"
        },
        {
         "lat": [
          29.38079929558913,
          30.45656364420607
         ],
         "line": {
          "color": "red",
          "width": 1
         },
         "lon": [
          113.1584727838096,
          114.8672467200515
         ],
         "mode": "lines",
         "opacity": 1,
         "type": "scattergeo"
        },
        {
         "lat": [
          29.38079929558913,
          29.11994460352727
         ],
         "line": {
          "color": "red",
          "width": 1
         },
         "lon": [
          113.1584727838096,
          110.4742346915475
         ],
         "mode": "lines",
         "opacity": 1,
         "type": "scattergeo"
        },
        {
         "lat": [
          29.38079929558913,
          30.33771856112028
         ],
         "line": {
          "color": "red",
          "width": 1
         },
         "lon": [
          113.1584727838096,
          112.2340263095486
         ],
         "mode": "lines",
         "opacity": 1,
         "type": "scattergeo"
        },
        {
         "lat": [
          29.38079929558913,
          30.59551563172663
         ],
         "line": {
          "color": "red",
          "width": 1
         },
         "lon": [
          113.1584727838096,
          114.2999542047298
         ],
         "mode": "lines",
         "opacity": 1,
         "type": "scattergeo"
        },
        {
         "lat": [
          29.38079929558913,
          23.35675589262061
         ],
         "line": {
          "color": "red",
          "width": 1
         },
         "lon": [
          113.1584727838096,
          116.6775143618734
         ],
         "mode": "lines",
         "opacity": 1,
         "type": "scattergeo"
        },
        {
         "lat": [
          29.38079929558913,
          31.03762682496149
         ],
         "line": {
          "color": "red",
          "width": 1
         },
         "lon": [
          113.1584727838096,
          112.1934245655764
         ],
         "mode": "lines",
         "opacity": 1,
         "type": "scattergeo"
        },
        {
         "lat": [
          29.38079929558913,
          19.52310520944081
         ],
         "line": {
          "color": "red",
          "width": 1
         },
         "lon": [
          113.1584727838096,
          109.5767984155979
         ],
         "mode": "lines",
         "opacity": 1,
         "type": "scattergeo"
        },
        {
         "lat": [
          29.38079929558913,
          24.51593413543268
         ],
         "line": {
          "color": "red",
          "width": 1
         },
         "lon": [
          113.1584727838096,
          117.6427017011435
         ],
         "mode": "lines",
         "opacity": 1,
         "type": "scattergeo"
        },
        {
         "lat": [
          29.38079929558913,
          29.84391849264382
         ],
         "line": {
          "color": "red",
          "width": 1
         },
         "lon": [
          113.1584727838096,
          114.3170938337267
         ],
         "mode": "lines",
         "opacity": 1,
         "type": "scattergeo"
        },
        {
         "lat": [
          29.38079929558913,
          25.07789418380283
         ],
         "line": {
          "color": "red",
          "width": 1
         },
         "lon": [
          113.1584727838096,
          117.0126782413234
         ],
         "mode": "lines",
         "opacity": 1,
         "type": "scattergeo"
        },
        {
         "lat": [
          29.38079929558913,
          30.20208788314098
         ],
         "line": {
          "color": "red",
          "width": 1
         },
         "lon": [
          113.1584727838096,
          115.0331487829698
         ],
         "mode": "lines",
         "opacity": 1,
         "type": "scattergeo"
        },
        {
         "lat": [
          29.38079929558913,
          20.01938822575099
         ],
         "line": {
          "color": "red",
          "width": 1
         },
         "lon": [
          113.1584727838096,
          110.3448278590682
         ],
         "mode": "lines",
         "opacity": 1,
         "type": "scattergeo"
        },
        {
         "lat": [
          29.38079929558913,
          31.69209471228168
         ],
         "line": {
          "color": "red",
          "width": 1
         },
         "lon": [
          113.1584727838096,
          113.3762466668986
         ],
         "mode": "lines",
         "opacity": 1,
         "type": "scattergeo"
        },
        {
         "lat": [
          29.38079929558913,
          27.55830958891995
         ],
         "line": {
          "color": "red",
          "width": 1
         },
         "lon": [
          113.1584727838096,
          109.9938246198597
         ],
         "mode": "lines",
         "opacity": 1,
         "type": "scattergeo"
        },
        {
         "lat": [
          29.38079929558913,
          29.03470474864293
         ],
         "line": {
          "color": "red",
          "width": 1
         },
         "lon": [
          113.1584727838096,
          111.6928984567219
         ],
         "mode": "lines",
         "opacity": 1,
         "type": "scattergeo"
        },
        {
         "lat": [
          29.38079929558913,
          29.27146640241873
         ],
         "line": {
          "color": "red",
          "width": 1
         },
         "lon": [
          113.1584727838096,
          117.1730932594236
         ],
         "mode": "lines",
         "opacity": 1,
         "type": "scattergeo"
        },
        {
         "lat": [
          29.38079929558913,
          29.70763010190234
         ],
         "line": {
          "color": "red",
          "width": 1
         },
         "lon": [
          113.1584727838096,
          115.9968498897885
         ],
         "mode": "lines",
         "opacity": 1,
         "type": "scattergeo"
        },
        {
         "lat": [
          29.38079929558913,
          26.26684005591786
         ],
         "line": {
          "color": "red",
          "width": 1
         },
         "lon": [
          113.1584727838096,
          117.6337852475838
         ],
         "mode": "lines",
         "opacity": 1,
         "type": "scattergeo"
        },
        {
         "lat": [
          29.38079929558913,
          30.92704875840485
         ],
         "line": {
          "color": "red",
          "width": 1
         },
         "lon": [
          113.1584727838096,
          113.9114171453589
         ],
         "mode": "lines",
         "opacity": 1,
         "type": "scattergeo"
        },
        {
         "lat": [
          29.38079929558913,
          24.29123871036554
         ],
         "line": {
          "color": "red",
          "width": 1
         },
         "lon": [
          113.1584727838096,
          116.1174052422547
         ],
         "mode": "lines",
         "opacity": 1,
         "type": "scattergeo"
        },
        {
         "lat": [
          29.38079929558913,
          30.69441159948845
         ],
         "line": {
          "color": "red",
          "width": 1
         },
         "lon": [
          113.1584727838096,
          111.2808231203681
         ],
         "mode": "lines",
         "opacity": 1,
         "type": "scattergeo"
        },
        {
         "lat": [
          29.38079929558913,
          33.84602023421478
         ],
         "line": {
          "color": "red",
          "width": 1
         },
         "lon": [
          113.1584727838096,
          115.7731280236451
         ],
         "mode": "lines",
         "opacity": 1,
         "type": "scattergeo"
        },
        {
         "lat": [
          29.38079929558913,
          30.54886596183148
         ],
         "line": {
          "color": "red",
          "width": 1
         },
         "lon": [
          113.1584727838096,
          114.3363714923768
         ],
         "mode": "lines",
         "opacity": 1,
         "type": "scattergeo"
        },
        {
         "lat": [
          29.38079929558913,
          25.45688085615284
         ],
         "line": {
          "color": "red",
          "width": 1
         },
         "lon": [
          113.1584727838096,
          119.0030583278949
         ],
         "mode": "lines",
         "opacity": 1,
         "type": "scattergeo"
        },
        {
         "lat": [
          29.38079929558913,
          31.2117043271299
         ],
         "line": {
          "color": "red",
          "width": 1
         },
         "lon": [
          113.1584727838096,
          107.4633548893442
         ],
         "mode": "lines",
         "opacity": 1,
         "type": "scattergeo"
        },
        {
         "lat": [
          29.38079929558913,
          30.13175078920077
         ],
         "line": {
          "color": "red",
          "width": 1
         },
         "lon": [
          113.1584727838096,
          104.6252370576223
         ],
         "mode": "lines",
         "opacity": 1,
         "type": "scattergeo"
        },
        {
         "lat": [
          29.38079929558913,
          31.90165666241077
         ],
         "line": {
          "color": "red",
          "width": 1
         },
         "lon": [
          113.1584727838096,
          102.223006553013
         ],
         "mode": "lines",
         "opacity": 1,
         "type": "scattergeo"
        },
        {
         "lat": [
          29.38079929558913,
          27.88504356472883
         ],
         "line": {
          "color": "red",
          "width": 1
         },
         "lon": [
          113.1584727838096,
          102.265841134515
         ],
         "mode": "lines",
         "opacity": 1,
         "type": "scattergeo"
        },
        {
         "lat": [
          29.38079929558913,
          28.75519768160823
         ],
         "line": {
          "color": "red",
          "width": 1
         },
         "lon": [
          113.1584727838096,
          104.6408382179202
         ],
         "mode": "lines",
         "opacity": 1,
         "type": "scattergeo"
        },
        {
         "lat": [
          29.38079929558913,
          31.46973069933239
         ],
         "line": {
          "color": "red",
          "width": 1
         },
         "lon": [
          113.1584727838096,
          104.6765055884907
         ],
         "mode": "lines",
         "opacity": 1,
         "type": "scattergeo"
        },
        {
         "lat": [
          29.38079929558913,
          30.84007214993655
         ],
         "line": {
          "color": "red",
          "width": 1
         },
         "lon": [
          113.1584727838096,
          106.1066772287715
         ],
         "mode": "lines",
         "opacity": 1,
         "type": "scattergeo"
        },
        {
         "lat": [
          29.38079929558913,
          31.87008571552613
         ],
         "line": {
          "color": "red",
          "width": 1
         },
         "lon": [
          113.1584727838096,
          106.7433360907896
         ],
         "mode": "lines",
         "opacity": 1,
         "type": "scattergeo"
        },
        {
         "lat": [
          29.38079929558913,
          29.3418851374181
         ],
         "line": {
          "color": "red",
          "width": 1
         },
         "lon": [
          113.1584727838096,
          104.7757456053025
         ],
         "mode": "lines",
         "opacity": 1,
         "type": "scattergeo"
        },
        {
         "lat": [
          29.38079929558913,
          30.45874152168983
         ],
         "line": {
          "color": "red",
          "width": 1
         },
         "lon": [
          113.1584727838096,
          106.6294280176608
         ],
         "mode": "lines",
         "opacity": 1,
         "type": "scattergeo"
        },
        {
         "lat": [
          29.38079929558913,
          30.0523443545809
         ],
         "line": {
          "color": "red",
          "width": 1
         },
         "lon": [
          113.1584727838096,
          101.9607944939152
         ],
         "mode": "lines",
         "opacity": 1,
         "type": "scattergeo"
        },
        {
         "lat": [
          29.38079929558913,
          32.43782752968448
         ],
         "line": {
          "color": "red",
          "width": 1
         },
         "lon": [
          113.1584727838096,
          105.8396443188976
         ],
         "mode": "lines",
         "opacity": 1,
         "type": "scattergeo"
        },
        {
         "lat": [
          29.38079929558913,
          27.72918933516938
         ],
         "line": {
          "color": "red",
          "width": 1
         },
         "lon": [
          113.1584727838096,
          106.9235728918846
         ],
         "mode": "lines",
         "opacity": 1,
         "type": "scattergeo"
        },
        {
         "lat": [
          29.38079929558913,
          26.59628129977204
         ],
         "line": {
          "color": "red",
          "width": 1
         },
         "lon": [
          113.1584727838096,
          104.8278184351933
         ],
         "mode": "lines",
         "opacity": 1,
         "type": "scattergeo"
        },
        {
         "lat": [
          29.38079929558913,
          29.5658490143256
         ],
         "line": {
          "color": "red",
          "width": 1
         },
         "lon": [
          113.1584727838096,
          106.5478312634267
         ],
         "mode": "lines",
         "opacity": 1,
         "type": "scattergeo"
        },
        {
         "lat": [
          29.38079929558913,
          26.85859236359501
         ],
         "line": {
          "color": "red",
          "width": 1
         },
         "lon": [
          113.1584727838096,
          100.226617197402
         ],
         "mode": "lines",
         "opacity": 1,
         "type": "scattergeo"
        },
        {
         "lat": [
          29.38079929558913,
          27.34168368255112
         ],
         "line": {
          "color": "red",
          "width": 1
         },
         "lon": [
          113.1584727838096,
          103.7153750119609
         ],
         "mode": "lines",
         "opacity": 1,
         "type": "scattergeo"
        },
        {
         "lat": [
          29.38079929558913,
          25.60952165934802
         ],
         "line": {
          "color": "red",
          "width": 1
         },
         "lon": [
          113.1584727838096,
          100.266540437132
         ],
         "mode": "lines",
         "opacity": 1,
         "type": "scattergeo"
        },
        {
         "lat": [
          29.38079929558913,
          24.43652522328061
         ],
         "line": {
          "color": "red",
          "width": 1
         },
         "lon": [
          113.1584727838096,
          98.58474196486381
         ],
         "mode": "lines",
         "opacity": 1,
         "type": "scattergeo"
        },
        {
         "lat": [
          29.38079929558913,
          25.85588172220572
         ],
         "line": {
          "color": "red",
          "width": 1
         },
         "lon": [
          113.1584727838096,
          98.85270009438005
         ],
         "mode": "lines",
         "opacity": 1,
         "type": "scattergeo"
        },
        {
         "lat": [
          29.38079929558913,
          27.7033952036923
         ],
         "line": {
          "color": "red",
          "width": 1
         },
         "lon": [
          113.1584727838096,
          111.9879998873743
         ],
         "mode": "lines",
         "opacity": 1,
         "type": "scattergeo"
        },
        {
         "lat": [
          29.38079929558913,
          22.81969289402053
         ],
         "line": {
          "color": "red",
          "width": 1
         },
         "lon": [
          113.1584727838096,
          108.362477121497
         ],
         "mode": "lines",
         "opacity": 1,
         "type": "scattergeo"
        },
        {
         "lat": [
          29.38079929558913,
          29.58280912023783
         ],
         "line": {
          "color": "red",
          "width": 1
         },
         "lon": [
          113.1584727838096,
          105.0552159487049
         ],
         "mode": "lines",
         "opacity": 1,
         "type": "scattergeo"
        },
        {
         "lat": [
          29.38079929558913,
          23.47955829321463
         ],
         "line": {
          "color": "red",
          "width": 1
         },
         "lon": [
          113.1584727838096,
          111.274015703365
         ],
         "mode": "lines",
         "opacity": 1,
         "type": "scattergeo"
        },
        {
         "lat": [
          29.38079929558913,
          26.89680824683814
         ],
         "line": {
          "color": "red",
          "width": 1
         },
         "lon": [
          113.1584727838096,
          112.5667549296271
         ],
         "mode": "lines",
         "opacity": 1,
         "type": "scattergeo"
        },
        {
         "lat": [
          29.38079929558913,
          23.11442986508254
         ],
         "line": {
          "color": "red",
          "width": 1
         },
         "lon": [
          113.1584727838096,
          109.5947354798691
         ],
         "mode": "lines",
         "opacity": 1,
         "type": "scattergeo"
        },
        {
         "lat": [
          29.38079929558913,
          27.24212198420047
         ],
         "line": {
          "color": "red",
          "width": 1
         },
         "lon": [
          113.1584727838096,
          111.46221384419
         ],
         "mode": "lines",
         "opacity": 1,
         "type": "scattergeo"
        },
        {
         "lat": [
          29.38079929558913,
          24.69568601285607
         ],
         "line": {
          "color": "red",
          "width": 1
         },
         "lon": [
          113.1584727838096,
          108.0810096435724
         ],
         "mode": "lines",
         "opacity": 1,
         "type": "scattergeo"
        },
        {
         "lat": [
          29.38079929558913,
          22.54582555967459
         ],
         "line": {
          "color": "red",
          "width": 1
         },
         "lon": [
          113.1584727838096,
          114.0527603784418
         ],
         "mode": "lines",
         "opacity": 1,
         "type": "scattergeo"
        },
        {
         "lat": [
          29.38079929558913,
          23.90524065563987
         ],
         "line": {
          "color": "red",
          "width": 1
         },
         "lon": [
          113.1584727838096,
          106.6147948071433
         ],
         "mode": "lines",
         "opacity": 1,
         "type": "scattergeo"
        },
        {
         "lat": [
          29.38079929558913,
          26.25752124739282
         ],
         "line": {
          "color": "red",
          "width": 1
         },
         "lon": [
          113.1584727838096,
          107.5179199131978
         ],
         "mode": "lines",
         "opacity": 1,
         "type": "scattergeo"
        },
        {
         "lat": [
          29.38079929558913,
          26.58699009505417
         ],
         "line": {
          "color": "red",
          "width": 1
         },
         "lon": [
          113.1584727838096,
          107.9787341141204
         ],
         "mode": "lines",
         "opacity": 1,
         "type": "scattergeo"
        },
        {
         "lat": [
          29.38079929558913,
          26.25661020954963
         ],
         "line": {
          "color": "red",
          "width": 1
         },
         "lon": [
          113.1584727838096,
          105.944234857304
         ],
         "mode": "lines",
         "opacity": 1,
         "type": "scattergeo"
        },
        {
         "lat": [
          29.38079929558913,
          25.09093405808564
         ],
         "line": {
          "color": "red",
          "width": 1
         },
         "lon": [
          113.1584727838096,
          104.9039323613744
         ],
         "mode": "lines",
         "opacity": 1,
         "type": "scattergeo"
        },
        {
         "lat": [
          29.38079929558913,
          27.73477832582868
         ],
         "line": {
          "color": "red",
          "width": 1
         },
         "lon": [
          113.1584727838096,
          109.1850122201689
         ],
         "mode": "lines",
         "opacity": 1,
         "type": "scattergeo"
        },
        {
         "lat": [
          29.38079929558913,
          27.30596661372806
         ],
         "line": {
          "color": "red",
          "width": 1
         },
         "lon": [
          113.1584727838096,
          105.2807802738927
         ],
         "mode": "lines",
         "opacity": 1,
         "type": "scattergeo"
        },
        {
         "lat": [
          29.38079929558913,
          26.65133479795816
         ],
         "line": {
          "color": "red",
          "width": 1
         },
         "lon": [
          113.1584727838096,
          106.6265908397277
         ],
         "mode": "lines",
         "opacity": 1,
         "type": "scattergeo"
        },
        {
         "lat": [
          29.38079929558913,
          21.27309617063639
         ],
         "line": {
          "color": "red",
          "width": 1
         },
         "lon": [
          113.1584727838096,
          110.354889157503
         ],
         "mode": "lines",
         "opacity": 1,
         "type": "scattergeo"
        },
        {
         "lat": [
          29.38079929558913,
          23.40338124080785
         ],
         "line": {
          "color": "red",
          "width": 1
         },
         "lon": [
          113.1584727838096,
          104.2141451396921
         ],
         "mode": "lines",
         "opacity": 1,
         "type": "scattergeo"
        },
        {
         "lat": [
          29.38079929558913,
          23.36564593259077
         ],
         "line": {
          "color": "red",
          "width": 1
         },
         "lon": [
          113.1584727838096,
          103.3727785187104
         ],
         "mode": "lines",
         "opacity": 1,
         "type": "scattergeo"
        },
        {
         "lat": [
          29.38079929558913,
          22.01021097537386
         ],
         "line": {
          "color": "red",
          "width": 1
         },
         "lon": [
          113.1584727838096,
          100.7966529405068
         ],
         "mode": "lines",
         "opacity": 1,
         "type": "scattergeo"
        },
        {
         "lat": [
          29.38079929558913,
          22.82805845259796
         ],
         "line": {
          "color": "red",
          "width": 1
         },
         "lon": [
          113.1584727838096,
          100.9653388647515
         ],
         "mode": "lines",
         "opacity": 1,
         "type": "scattergeo"
        },
        {
         "lat": [
          29.38079929558913,
          24.88316116418696
         ],
         "line": {
          "color": "red",
          "width": 1
         },
         "lon": [
          113.1584727838096,
          102.8314726024856
         ],
         "mode": "lines",
         "opacity": 1,
         "type": "scattergeo"
        },
        {
         "lat": [
          29.38079929558913,
          25.49299843430843
         ],
         "line": {
          "color": "red",
          "width": 1
         },
         "lon": [
          113.1584727838096,
          103.7941408167699
         ],
         "mode": "lines",
         "opacity": 1,
         "type": "scattergeo"
        },
        {
         "lat": [
          29.38079929558913,
          25.04856596148663
         ],
         "line": {
          "color": "red",
          "width": 1
         },
         "lon": [
          113.1584727838096,
          101.5265948761278
         ],
         "mode": "lines",
         "opacity": 1,
         "type": "scattergeo"
        },
        {
         "lat": [
          29.38079929558913,
          26.66910233527991
         ],
         "line": {
          "color": "red",
          "width": 1
         },
         "lon": [
          113.1584727838096,
          119.5433363814137
         ],
         "mode": "lines",
         "opacity": 1,
         "type": "scattergeo"
        },
        {
         "lat": [
          29.38079929558913,
          26.0776181921898
         ],
         "line": {
          "color": "red",
          "width": 1
         },
         "lon": [
          113.1584727838096,
          119.2917011892226
         ],
         "mode": "lines",
         "opacity": 1,
         "type": "scattergeo"
        },
        {
         "lat": [
          29.38079929558913,
          28.97315464783074
         ],
         "line": {
          "color": "red",
          "width": 1
         },
         "lon": [
          113.1584727838096,
          118.854654147615
         ],
         "mode": "lines",
         "opacity": 1,
         "type": "scattergeo"
        },
        {
         "lat": [
          29.38079929558913,
          29.08204039822681
         ],
         "line": {
          "color": "red",
          "width": 1
         },
         "lon": [
          113.1584727838096,
          119.6427445137875
         ],
         "mode": "lines",
         "opacity": 1,
         "type": "scattergeo"
        },
        {
         "lat": [
          29.38079929558913,
          28.65933140957997
         ],
         "line": {
          "color": "red",
          "width": 1
         },
         "lon": [
          113.1584727838096,
          121.4163247141463
         ],
         "mode": "lines",
         "opacity": 1,
         "type": "scattergeo"
        },
        {
         "lat": [
          29.38079929558913,
          28.26333077443565
         ],
         "line": {
          "color": "red",
          "width": 1
         },
         "lon": [
          113.1584727838096,
          117.0639390123689
         ],
         "mode": "lines",
         "opacity": 1,
         "type": "scattergeo"
        },
        {
         "lat": [
          29.38079929558913,
          25.27640737125314
         ],
         "line": {
          "color": "red",
          "width": 1
         },
         "lon": [
          113.1584727838096,
          110.2856160493322
         ],
         "mode": "lines",
         "opacity": 1,
         "type": "scattergeo"
        },
        {
         "lat": [
          29.38079929558913,
          27.62617060128652
         ],
         "line": {
          "color": "red",
          "width": 1
         },
         "lon": [
          113.1584727838096,
          113.8492410599548
         ],
         "mode": "lines",
         "opacity": 1,
         "type": "scattergeo"
        },
        {
         "lat": [
          29.38079929558913,
          25.83501973395543
         ],
         "line": {
          "color": "red",
          "width": 1
         },
         "lon": [
          113.1584727838096,
          114.9303090866153
         ],
         "mode": "lines",
         "opacity": 1,
         "type": "scattergeo"
        },
        {
         "lat": [
          29.38079929558913,
          24.87704868485578
         ],
         "line": {
          "color": "red",
          "width": 1
         },
         "lon": [
          113.1584727838096,
          118.6711374909511
         ],
         "mode": "lines",
         "opacity": 1,
         "type": "scattergeo"
        },
        {
         "lat": [
          29.38079929558913,
          22.63914531488788
         ],
         "line": {
          "color": "red",
          "width": 1
         },
         "lon": [
          113.1584727838096,
          110.1602485882664
         ],
         "mode": "lines",
         "opacity": 1,
         "type": "scattergeo"
        },
        {
         "lat": [
          29.38079929558913,
          23.11434132447145
         ],
         "line": {
          "color": "red",
          "width": 1
         },
         "lon": [
          113.1584727838096,
          114.4112231590118
         ],
         "mode": "lines",
         "opacity": 1,
         "type": "scattergeo"
        },
        {
         "lat": [
          29.38079929558913,
          21.48363837917861
         ],
         "line": {
          "color": "red",
          "width": 1
         },
         "lon": [
          113.1584727838096,
          109.115632600491
         ],
         "mode": "lines",
         "opacity": 1,
         "type": "scattergeo"
        },
        {
         "lat": [
          29.38079929558913,
          28.23172481249612
         ],
         "line": {
          "color": "red",
          "width": 1
         },
         "lon": [
          113.1584727838096,
          112.9333749497692
         ],
         "mode": "lines",
         "opacity": 1,
         "type": "scattergeo"
        },
        {
         "lat": [
          29.38079929558913,
          26.42398447631974
         ],
         "line": {
          "color": "red",
          "width": 1
         },
         "lon": [
          113.1584727838096,
          111.6082031062636
         ],
         "mode": "lines",
         "opacity": 1,
         "type": "scattergeo"
        },
        {
         "lat": [
          29.38079929558913,
          23.13183994295568
         ],
         "line": {
          "color": "red",
          "width": 1
         },
         "lon": [
          113.1584727838096,
          113.2591072209036
         ],
         "mode": "lines",
         "opacity": 1,
         "type": "scattergeo"
        },
        {
         "lat": [
          29.38079929558913,
          24.3281899387336
         ],
         "line": {
          "color": "red",
          "width": 1
         },
         "lon": [
          113.1584727838096,
          109.4113447001055
         ],
         "mode": "lines",
         "opacity": 1,
         "type": "scattergeo"
        },
        {
         "lat": [
          29.38079929558913,
          23.55239616559447
         ],
         "line": {
          "color": "red",
          "width": 1
         },
         "lon": [
          113.1584727838096,
          116.3681272690569
         ],
         "mode": "lines",
         "opacity": 1,
         "type": "scattergeo"
        },
        {
         "lat": [
          29.38079929558913,
          27.83068422933131
         ],
         "line": {
          "color": "red",
          "width": 1
         },
         "lon": [
          113.1584727838096,
          113.1281661277162
         ],
         "mode": "lines",
         "opacity": 1,
         "type": "scattergeo"
        },
        {
         "lat": [
          29.38079929558913,
          27.82126896986176
         ],
         "line": {
          "color": "red",
          "width": 1
         },
         "lon": [
          113.1584727838096,
          114.9125028115343
         ],
         "mode": "lines",
         "opacity": 1,
         "type": "scattergeo"
        },
        {
         "lat": [
          29.38079929558913,
          23.02325767171811
         ],
         "line": {
          "color": "red",
          "width": 1
         },
         "lon": [
          113.1584727838096,
          113.7465689259144
         ],
         "mode": "lines",
         "opacity": 1,
         "type": "scattergeo"
        },
        {
         "lat": [
          29.38079929558913,
          28.55701776626178
         ],
         "line": {
          "color": "red",
          "width": 1
         },
         "lon": [
          113.1584727838096,
          112.3494809086573
         ],
         "mode": "lines",
         "opacity": 1,
         "type": "scattergeo"
        },
        {
         "lat": [
          29.38079929558913,
          27.83319689390759
         ],
         "line": {
          "color": "red",
          "width": 1
         },
         "lon": [
          113.1584727838096,
          112.9386306519383
         ],
         "mode": "lines",
         "opacity": 1,
         "type": "scattergeo"
        },
        {
         "lat": [
          29.38079929558913,
          24.40661137243972
         ],
         "line": {
          "color": "red",
          "width": 1
         },
         "lon": [
          113.1584727838096,
          111.5615733816437
         ],
         "mode": "lines",
         "opacity": 1,
         "type": "scattergeo"
        },
        {
         "lat": [
          29.38079929558913,
          30.39463323771165
         ],
         "line": {
          "color": "red",
          "width": 1
         },
         "lon": [
          113.1584727838096,
          114.8898001694227
         ],
         "mode": "lines",
         "opacity": 1,
         "type": "scattergeo"
        },
        {
         "lat": [
          29.38079929558913,
          21.86070458069074
         ],
         "line": {
          "color": "red",
          "width": 1
         },
         "lon": [
          113.1584727838096,
          111.9771709235079
         ],
         "mode": "lines",
         "opacity": 1,
         "type": "scattergeo"
        },
        {
         "lat": [
          29.38079929558913,
          23.74619659509287
         ],
         "line": {
          "color": "red",
          "width": 1
         },
         "lon": [
          113.1584727838096,
          114.6957546912138
         ],
         "mode": "lines",
         "opacity": 1,
         "type": "scattergeo"
        },
        {
         "lat": [
          29.38079929558913,
          27.1168104600029
         ],
         "line": {
          "color": "red",
          "width": 1
         },
         "lon": [
          113.1584727838096,
          114.9875428650263
         ],
         "mode": "lines",
         "opacity": 1,
         "type": "scattergeo"
        },
        {
         "lat": [
          29.38079929558913,
          22.52033709433309
         ],
         "line": {
          "color": "red",
          "width": 1
         },
         "lon": [
          113.1584727838096,
          113.3873020309186
         ],
         "mode": "lines",
         "opacity": 1,
         "type": "scattergeo"
        },
        {
         "lat": [
          29.38079929558913,
          28.45827544557124
         ],
         "line": {
          "color": "red",
          "width": 1
         },
         "lon": [
          113.1584727838096,
          117.9384605453474
         ],
         "mode": "lines",
         "opacity": 1,
         "type": "scattergeo"
        },
        {
         "lat": [
          29.38079929558913,
          25.77348538002096
         ],
         "line": {
          "color": "red",
          "width": 1
         },
         "lon": [
          113.1584727838096,
          113.0092286976784
         ],
         "mode": "lines",
         "opacity": 1,
         "type": "scattergeo"
        },
        {
         "lat": [
          29.38079929558913,
          27.81871943652997
         ],
         "line": {
          "color": "red",
          "width": 1
         },
         "lon": [
          113.1584727838096,
          114.4114676050099
         ],
         "mode": "lines",
         "opacity": 1,
         "type": "scattergeo"
        },
        {
         "lat": [
          29.38079929558913,
          29.3596514802874
         ],
         "line": {
          "color": "red",
          "width": 1
         },
         "lon": [
          113.1584727838096,
          113.122987599309
         ],
         "mode": "lines",
         "opacity": 1,
         "type": "scattergeo"
        },
        {
         "lat": [
          29.38079929558913,
          23.02409533068309
         ],
         "line": {
          "color": "red",
          "width": 1
         },
         "lon": [
          113.1584727838096,
          113.1159291678165
         ],
         "mode": "lines",
         "opacity": 1,
         "type": "scattergeo"
        },
        {
         "lat": [
          43.15403445056779,
          31.73575608295598
         ],
         "line": {
          "color": "red",
          "width": 1
         },
         "lon": [
          124.4181295045634,
          116.5167623870941
         ],
         "mode": "lines",
         "opacity": 1,
         "type": "scattergeo"
        },
        {
         "lat": [
          43.15403445056779,
          40.70959455770206
         ],
         "line": {
          "color": "red",
          "width": 1
         },
         "lon": [
          124.4181295045634,
          120.8317448357023
         ],
         "mode": "lines",
         "opacity": 1,
         "type": "scattergeo"
        },
        {
         "lat": [
          43.15403445056779,
          41.09306620182436
         ],
         "line": {
          "color": "red",
          "width": 1
         },
         "lon": [
          124.4181295045634,
          121.1213539396126
         ],
         "mode": "lines",
         "opacity": 1,
         "type": "scattergeo"
        },
        {
         "lat": [
          43.15403445056779,
          39.902626245166
         ],
         "line": {
          "color": "red",
          "width": 1
         },
         "lon": [
          124.4181295045634,
          116.4012828477588
         ],
         "mode": "lines",
         "opacity": 1,
         "type": "scattergeo"
        },
        {
         "lat": [
          43.15403445056779,
          39.08314262375163
         ],
         "line": {
          "color": "red",
          "width": 1
         },
         "lon": [
          124.4181295045634,
          117.1946754317495
         ],
         "mode": "lines",
         "opacity": 1,
         "type": "scattergeo"
        },
        {
         "lat": [
          43.15403445056779,
          39.93427691598691
         ],
         "line": {
          "color": "red",
          "width": 1
         },
         "lon": [
          124.4181295045634,
          119.5947177212679
         ],
         "mode": "lines",
         "opacity": 1,
         "type": "scattergeo"
        },
        {
         "lat": [
          43.15403445056779,
          41.10674546752389
         ],
         "line": {
          "color": "red",
          "width": 1
         },
         "lon": [
          124.4181295045634,
          122.9888556604474
         ],
         "mode": "lines",
         "opacity": 1,
         "type": "scattergeo"
        },
        {
         "lat": [
          43.15403445056779,
          40.66544437055811
         ],
         "line": {
          "color": "red",
          "width": 1
         },
         "lon": [
          124.4181295045634,
          122.2302400702165
         ],
         "mode": "lines",
         "opacity": 1,
         "type": "scattergeo"
        },
        {
         "lat": [
          43.15403445056779,
          38.91322925994839
         ],
         "line": {
          "color": "red",
          "width": 1
         },
         "lon": [
          124.4181295045634,
          121.6097414873907
         ],
         "mode": "lines",
         "opacity": 1,
         "type": "scattergeo"
        },
        {
         "lat": [
          43.15403445056779,
          42.25587691695832
         ],
         "line": {
          "color": "red",
          "width": 1
         },
         "lon": [
          124.4181295045634,
          118.8806794224993
         ],
         "mode": "lines",
         "opacity": 1,
         "type": "scattergeo"
        },
        {
         "lat": [
          43.15403445056779,
          41.80326291802402
         ],
         "line": {
          "color": "red",
          "width": 1
         },
         "lon": [
          124.4181295045634,
          123.4253315842275
         ],
         "mode": "lines",
         "opacity": 1,
         "type": "scattergeo"
        },
        {
         "lat": [
          43.15403445056779,
          39.998962954379
         ],
         "line": {
          "color": "red",
          "width": 1
         },
         "lon": [
          124.4181295045634,
          124.3489462400518
         ],
         "mode": "lines",
         "opacity": 1,
         "type": "scattergeo"
        },
        {
         "lat": [
          43.15403445056779,
          42.01951815368355
         ],
         "line": {
          "color": "red",
          "width": 1
         },
         "lon": [
          124.4181295045634,
          121.6649262102888
         ],
         "mode": "lines",
         "opacity": 1,
         "type": "scattergeo"
        },
        {
         "lat": [
          43.15403445056779,
          37.46284183566092
         ],
         "line": {
          "color": "red",
          "width": 1
         },
         "lon": [
          124.4181295045634,
          121.4427159708412
         ],
         "mode": "lines",
         "opacity": 1,
         "type": "scattergeo"
        },
        {
         "lat": [
          43.15403445056779,
          41.87872843096351
         ],
         "line": {
          "color": "red",
          "width": 1
         },
         "lon": [
          124.4181295045634,
          123.9514479031235
         ],
         "mode": "lines",
         "opacity": 1,
         "type": "scattergeo"
        },
        {
         "lat": [
          43.15403445056779,
          41.26517446940125
         ],
         "line": {
          "color": "red",
          "width": 1
         },
         "lon": [
          124.4181295045634,
          123.2312079197878
         ],
         "mode": "lines",
         "opacity": 1,
         "type": "scattergeo"
        },
        {
         "lat": [
          43.15403445056779,
          41.11791379409293
         ],
         "line": {
          "color": "red",
          "width": 1
         },
         "lon": [
          124.4181295045634,
          122.0652294108859
         ],
         "mode": "lines",
         "opacity": 1,
         "type": "scattergeo"
        },
        {
         "lat": [
          43.15403445056779,
          39.62954759868035
         ],
         "line": {
          "color": "red",
          "width": 1
         },
         "lon": [
          124.4181295045634,
          118.1738965760385
         ],
         "mode": "lines",
         "opacity": 1,
         "type": "scattergeo"
        },
        {
         "lat": [
          43.15403445056779,
          40.95250667908144
         ],
         "line": {
          "color": "red",
          "width": 1
         },
         "lon": [
          124.4181295045634,
          117.9561006544303
         ],
         "mode": "lines",
         "opacity": 1,
         "type": "scattergeo"
        },
        {
         "lat": [
          43.15403445056779,
          37.51203174558772
         ],
         "line": {
          "color": "red",
          "width": 1
         },
         "lon": [
          124.4181295045634,
          122.1153552474822
         ],
         "mode": "lines",
         "opacity": 1,
         "type": "scattergeo"
        },
        {
         "lat": [
          43.15403445056779,
          38.30390787880884
         ],
         "line": {
          "color": "red",
          "width": 1
         },
         "lon": [
          124.4181295045634,
          116.833033542554
         ],
         "mode": "lines",
         "opacity": 1,
         "type": "scattergeo"
        },
        {
         "lat": [
          43.15403445056779,
          42.22154773477672
         ],
         "line": {
          "color": "red",
          "width": 1
         },
         "lon": [
          124.4181295045634,
          123.7201627592107
         ],
         "mode": "lines",
         "opacity": 1,
         "type": "scattergeo"
        },
        {
         "lat": [
          43.15403445056779,
          41.57143607080685
         ],
         "line": {
          "color": "red",
          "width": 1
         },
         "lon": [
          124.4181295045634,
          120.4446736419042
         ],
         "mode": "lines",
         "opacity": 1,
         "type": "scattergeo"
        },
        {
         "lat": [
          43.15403445056779,
          39.902626245166
         ],
         "line": {
          "color": "red",
          "width": 1
         },
         "lon": [
          124.4181295045634,
          116.4012828477588
         ],
         "mode": "lines",
         "opacity": 1,
         "type": "scattergeo"
        },
        {
         "lat": [
          43.15403445056779,
          40.82308854129995
         ],
         "line": {
          "color": "red",
          "width": 1
         },
         "lon": [
          124.4181295045634,
          114.8814226622556
         ],
         "mode": "lines",
         "opacity": 1,
         "type": "scattergeo"
        },
        {
         "lat": [
          43.15403445056779,
          43.65052523160977
         ],
         "line": {
          "color": "red",
          "width": 1
         },
         "lon": [
          124.4181295045634,
          122.2378879047936
         ],
         "mode": "lines",
         "opacity": 1,
         "type": "scattergeo"
        },
        {
         "lat": [
          43.15403445056779,
          41.29208302479014
         ],
         "line": {
          "color": "red",
          "width": 1
         },
         "lon": [
          124.4181295045634,
          123.7605948505183
         ],
         "mode": "lines",
         "opacity": 1,
         "type": "scattergeo"
        },
        {
         "lat": [
          43.15403445056779,
          43.81463051275358
         ],
         "line": {
          "color": "red",
          "width": 1
         },
         "lon": [
          124.4181295045634,
          125.3170556355448
         ],
         "mode": "lines",
         "opacity": 1,
         "type": "scattergeo"
        },
        {
         "lat": [
          43.15403445056779,
          43.93128150032256
         ],
         "line": {
          "color": "red",
          "width": 1
         },
         "lon": [
          124.4181295045634,
          116.0414004756569
         ],
         "mode": "lines",
         "opacity": 1,
         "type": "scattergeo"
        },
        {
         "lat": [
          43.15403445056779,
          39.53695727577932
         ],
         "line": {
          "color": "red",
          "width": 1
         },
         "lon": [
          124.4181295045634,
          116.677852879759
         ],
         "mode": "lines",
         "opacity": 1,
         "type": "scattergeo"
        },
        {
         "lat": [
          43.15403445056779,
          40.81607321636371
         ],
         "line": {
          "color": "red",
          "width": 1
         },
         "lon": [
          124.4181295045634,
          111.7587040406893
         ],
         "mode": "lines",
         "opacity": 1,
         "type": "scattergeo"
        },
        {
         "lat": [
          43.15403445056779,
          46.07553890622198
         ],
         "line": {
          "color": "red",
          "width": 1
         },
         "lon": [
          124.4181295045634,
          122.0608579323195
         ],
         "mode": "lines",
         "opacity": 1,
         "type": "scattergeo"
        },
        {
         "lat": [
          43.15403445056779,
          45.76952421736279
         ],
         "line": {
          "color": "red",
          "width": 1
         },
         "lon": [
          124.4181295045634,
          130.9954707831791
         ],
         "mode": "lines",
         "opacity": 1,
         "type": "scattergeo"
        },
        {
         "lat": [
          43.15403445056779,
          46.79771597065292
         ],
         "line": {
          "color": "red",
          "width": 1
         },
         "lon": [
          124.4181295045634,
          130.3111451263799
         ],
         "mode": "lines",
         "opacity": 1,
         "type": "scattergeo"
        },
        {
         "lat": [
          43.15403445056779,
          47.35231321775213
         ],
         "line": {
          "color": "red",
          "width": 1
         },
         "lon": [
          124.4181295045634,
          123.9116401073984
         ],
         "mode": "lines",
         "opacity": 1,
         "type": "scattergeo"
        },
        {
         "lat": [
          43.15403445056779,
          49.20963003946251
         ],
         "line": {
          "color": "red",
          "width": 1
         },
         "lon": [
          124.4181295045634,
          119.7583899763413
         ],
         "mode": "lines",
         "opacity": 1,
         "type": "scattergeo"
        },
        {
         "lat": [
          43.15403445056779,
          46.64426752618719
         ],
         "line": {
          "color": "red",
          "width": 1
         },
         "lon": [
          124.4181295045634,
          131.1510069771096
         ],
         "mode": "lines",
         "opacity": 1,
         "type": "scattergeo"
        },
        {
         "lat": [
          43.15403445056779,
          42.88538963725586
         ],
         "line": {
          "color": "red",
          "width": 1
         },
         "lon": [
          124.4181295045634,
          125.1371243298611
         ],
         "mode": "lines",
         "opacity": 1,
         "type": "scattergeo"
        },
        {
         "lat": [
          43.15403445056779,
          43.83561599238054
         ],
         "line": {
          "color": "red",
          "width": 1
         },
         "lon": [
          124.4181295045634,
          126.5438692036536
         ],
         "mode": "lines",
         "opacity": 1,
         "type": "scattergeo"
        },
        {
         "lat": [
          43.15403445056779,
          45.61772161997866
         ],
         "line": {
          "color": "red",
          "width": 1
         },
         "lon": [
          124.4181295045634,
          122.8331420715561
         ],
         "mode": "lines",
         "opacity": 1,
         "type": "scattergeo"
        },
        {
         "lat": [
          43.15403445056779,
          46.58720522020402
         ],
         "line": {
          "color": "red",
          "width": 1
         },
         "lon": [
          124.4181295045634,
          125.0967328203679
         ],
         "mode": "lines",
         "opacity": 1,
         "type": "scattergeo"
        },
        {
         "lat": [
          43.15403445056779,
          46.65196017516132
         ],
         "line": {
          "color": "red",
          "width": 1
         },
         "lon": [
          124.4181295045634,
          126.9625904009473
         ],
         "mode": "lines",
         "opacity": 1,
         "type": "scattergeo"
        },
        {
         "lat": [
          43.15403445056779,
          42.88877357900488
         ],
         "line": {
          "color": "red",
          "width": 1
         },
         "lon": [
          124.4181295045634,
          129.5019905807352
         ],
         "mode": "lines",
         "opacity": 1,
         "type": "scattergeo"
        },
        {
         "lat": [
          43.15403445056779,
          44.54969496595082
         ],
         "line": {
          "color": "red",
          "width": 1
         },
         "lon": [
          124.4181295045634,
          129.6261051100511
         ],
         "mode": "lines",
         "opacity": 1,
         "type": "scattergeo"
        },
        {
         "lat": [
          43.15403445056779,
          41.7262449323065
         ],
         "line": {
          "color": "red",
          "width": 1
         },
         "lon": [
          124.4181295045634,
          125.9340480370677
         ],
         "mode": "lines",
         "opacity": 1,
         "type": "scattergeo"
        },
        {
         "lat": [
          43.15403445056779,
          47.3474843456173
         ],
         "line": {
          "color": "red",
          "width": 1
         },
         "lon": [
          124.4181295045634,
          130.2901267545506
         ],
         "mode": "lines",
         "opacity": 1,
         "type": "scattergeo"
        },
        {
         "lat": [
          43.15403445056779,
          41.93748279699102
         ],
         "line": {
          "color": "red",
          "width": 1
         },
         "lon": [
          124.4181295045634,
          126.4177249758252
         ],
         "mode": "lines",
         "opacity": 1,
         "type": "scattergeo"
        },
        {
         "lat": [
          43.15403445056779,
          45.13980772046496
         ],
         "line": {
          "color": "red",
          "width": 1
         },
         "lon": [
          124.4181295045634,
          124.8188159261021
         ],
         "mode": "lines",
         "opacity": 1,
         "type": "scattergeo"
        },
        {
         "lat": [
          43.15403445056779,
          50.24368593698285
         ],
         "line": {
          "color": "red",
          "width": 1
         },
         "lon": [
          124.4181295045634,
          127.521248509938
         ],
         "mode": "lines",
         "opacity": 1,
         "type": "scattergeo"
        },
        {
         "lat": [
          43.15403445056779,
          45.80177718939836
         ],
         "line": {
          "color": "red",
          "width": 1
         },
         "lon": [
          124.4181295045634,
          126.5289038817265
         ],
         "mode": "lines",
         "opacity": 1,
         "type": "scattergeo"
        },
        {
         "lat": [
          43.15403445056779,
          43.16385395902515
         ],
         "line": {
          "color": "red",
          "width": 1
         },
         "lon": [
          124.4181295045634,
          124.3442076195231
         ],
         "mode": "lines",
         "opacity": 1,
         "type": "scattergeo"
        },
        {
         "lat": [
          30.43526374766115,
          28.31533925357757
         ],
         "line": {
          "color": "red",
          "width": 1
         },
         "lon": [
          103.7963218966275,
          109.7344422775661
         ],
         "mode": "lines",
         "opacity": 1,
         "type": "scattergeo"
        },
        {
         "lat": [
          30.43526374766115,
          30.27471062336162
         ],
         "line": {
          "color": "red",
          "width": 1
         },
         "lon": [
          103.7963218966275,
          109.4832871762125
         ],
         "mode": "lines",
         "opacity": 1,
         "type": "scattergeo"
        },
        {
         "lat": [
          30.43526374766115,
          28.87483938230682
         ],
         "line": {
          "color": "red",
          "width": 1
         },
         "lon": [
          103.7963218966275,
          105.4386624441242
         ],
         "mode": "lines",
         "opacity": 1,
         "type": "scattergeo"
        },
        {
         "lat": [
          30.43526374766115,
          29.11994460352727
         ],
         "line": {
          "color": "red",
          "width": 1
         },
         "lon": [
          103.7963218966275,
          110.4742346915475
         ],
         "mode": "lines",
         "opacity": 1,
         "type": "scattergeo"
        },
        {
         "lat": [
          30.43526374766115,
          19.52310520944081
         ],
         "line": {
          "color": "red",
          "width": 1
         },
         "lon": [
          103.7963218966275,
          109.5767984155979
         ],
         "mode": "lines",
         "opacity": 1,
         "type": "scattergeo"
        },
        {
         "lat": [
          30.43526374766115,
          20.01938822575099
         ],
         "line": {
          "color": "red",
          "width": 1
         },
         "lon": [
          103.7963218966275,
          110.3448278590682
         ],
         "mode": "lines",
         "opacity": 1,
         "type": "scattergeo"
        },
        {
         "lat": [
          30.43526374766115,
          27.55830958891995
         ],
         "line": {
          "color": "red",
          "width": 1
         },
         "lon": [
          103.7963218966275,
          109.9938246198597
         ],
         "mode": "lines",
         "opacity": 1,
         "type": "scattergeo"
        },
        {
         "lat": [
          30.43526374766115,
          29.03470474864293
         ],
         "line": {
          "color": "red",
          "width": 1
         },
         "lon": [
          103.7963218966275,
          111.6928984567219
         ],
         "mode": "lines",
         "opacity": 1,
         "type": "scattergeo"
        },
        {
         "lat": [
          30.43526374766115,
          34.33105343685244
         ],
         "line": {
          "color": "red",
          "width": 1
         },
         "lon": [
          103.7963218966275,
          108.70432818877
         ],
         "mode": "lines",
         "opacity": 1,
         "type": "scattergeo"
        },
        {
         "lat": [
          30.43526374766115,
          30.69441159948845
         ],
         "line": {
          "color": "red",
          "width": 1
         },
         "lon": [
          103.7963218966275,
          111.2808231203681
         ],
         "mode": "lines",
         "opacity": 1,
         "type": "scattergeo"
        },
        {
         "lat": [
          30.43526374766115,
          31.2117043271299
         ],
         "line": {
          "color": "red",
          "width": 1
         },
         "lon": [
          103.7963218966275,
          107.4633548893442
         ],
         "mode": "lines",
         "opacity": 1,
         "type": "scattergeo"
        },
        {
         "lat": [
          30.43526374766115,
          31.12899552745817
         ],
         "line": {
          "color": "red",
          "width": 1
         },
         "lon": [
          103.7963218966275,
          104.3952141871174
         ],
         "mode": "lines",
         "opacity": 1,
         "type": "scattergeo"
        },
        {
         "lat": [
          30.43526374766115,
          30.13175078920077
         ],
         "line": {
          "color": "red",
          "width": 1
         },
         "lon": [
          103.7963218966275,
          104.6252370576223
         ],
         "mode": "lines",
         "opacity": 1,
         "type": "scattergeo"
        },
        {
         "lat": [
          30.43526374766115,
          31.90165666241077
         ],
         "line": {
          "color": "red",
          "width": 1
         },
         "lon": [
          103.7963218966275,
          102.223006553013
         ],
         "mode": "lines",
         "opacity": 1,
         "type": "scattergeo"
        },
        {
         "lat": [
          30.43526374766115,
          27.88504356472883
         ],
         "line": {
          "color": "red",
          "width": 1
         },
         "lon": [
          103.7963218966275,
          102.265841134515
         ],
         "mode": "lines",
         "opacity": 1,
         "type": "scattergeo"
        },
        {
         "lat": [
          30.43526374766115,
          28.75519768160823
         ],
         "line": {
          "color": "red",
          "width": 1
         },
         "lon": [
          103.7963218966275,
          104.6408382179202
         ],
         "mode": "lines",
         "opacity": 1,
         "type": "scattergeo"
        },
        {
         "lat": [
          30.43526374766115,
          31.46973069933239
         ],
         "line": {
          "color": "red",
          "width": 1
         },
         "lon": [
          103.7963218966275,
          104.6765055884907
         ],
         "mode": "lines",
         "opacity": 1,
         "type": "scattergeo"
        },
        {
         "lat": [
          30.43526374766115,
          30.84007214993655
         ],
         "line": {
          "color": "red",
          "width": 1
         },
         "lon": [
          103.7963218966275,
          106.1066772287715
         ],
         "mode": "lines",
         "opacity": 1,
         "type": "scattergeo"
        },
        {
         "lat": [
          30.43526374766115,
          31.87008571552613
         ],
         "line": {
          "color": "red",
          "width": 1
         },
         "lon": [
          103.7963218966275,
          106.7433360907896
         ],
         "mode": "lines",
         "opacity": 1,
         "type": "scattergeo"
        },
        {
         "lat": [
          30.43526374766115,
          30.53563957427876
         ],
         "line": {
          "color": "red",
          "width": 1
         },
         "lon": [
          103.7963218966275,
          105.5894893487255
         ],
         "mode": "lines",
         "opacity": 1,
         "type": "scattergeo"
        },
        {
         "lat": [
          30.43526374766115,
          29.3418851374181
         ],
         "line": {
          "color": "red",
          "width": 1
         },
         "lon": [
          103.7963218966275,
          104.7757456053025
         ],
         "mode": "lines",
         "opacity": 1,
         "type": "scattergeo"
        },
        {
         "lat": [
          30.43526374766115,
          30.45874152168983
         ],
         "line": {
          "color": "red",
          "width": 1
         },
         "lon": [
          103.7963218966275,
          106.6294280176608
         ],
         "mode": "lines",
         "opacity": 1,
         "type": "scattergeo"
        },
        {
         "lat": [
          30.43526374766115,
          30.0523443545809
         ],
         "line": {
          "color": "red",
          "width": 1
         },
         "lon": [
          103.7963218966275,
          101.9607944939152
         ],
         "mode": "lines",
         "opacity": 1,
         "type": "scattergeo"
        },
        {
         "lat": [
          30.43526374766115,
          32.43782752968448
         ],
         "line": {
          "color": "red",
          "width": 1
         },
         "lon": [
          103.7963218966275,
          105.8396443188976
         ],
         "mode": "lines",
         "opacity": 1,
         "type": "scattergeo"
        },
        {
         "lat": [
          30.43526374766115,
          31.14329275102384
         ],
         "line": {
          "color": "red",
          "width": 1
         },
         "lon": [
          103.7963218966275,
          97.17148314940665
         ],
         "mode": "lines",
         "opacity": 1,
         "type": "scattergeo"
        },
        {
         "lat": [
          30.43526374766115,
          29.98320267641596
         ],
         "line": {
          "color": "red",
          "width": 1
         },
         "lon": [
          103.7963218966275,
          103.0114015388349
         ],
         "mode": "lines",
         "opacity": 1,
         "type": "scattergeo"
        },
        {
         "lat": [
          30.43526374766115,
          27.72918933516938
         ],
         "line": {
          "color": "red",
          "width": 1
         },
         "lon": [
          103.7963218966275,
          106.9235728918846
         ],
         "mode": "lines",
         "opacity": 1,
         "type": "scattergeo"
        },
        {
         "lat": [
          30.43526374766115,
          26.59628129977204
         ],
         "line": {
          "color": "red",
          "width": 1
         },
         "lon": [
          103.7963218966275,
          104.8278184351933
         ],
         "mode": "lines",
         "opacity": 1,
         "type": "scattergeo"
        },
        {
         "lat": [
          30.43526374766115,
          34.47290911965604
         ],
         "line": {
          "color": "red",
          "width": 1
         },
         "lon": [
          103.7963218966275,
          100.243467122574
         ],
         "mode": "lines",
         "opacity": 1,
         "type": "scattergeo"
        },
        {
         "lat": [
          30.43526374766115,
          29.5658490143256
         ],
         "line": {
          "color": "red",
          "width": 1
         },
         "lon": [
          103.7963218966275,
          106.5478312634267
         ],
         "mode": "lines",
         "opacity": 1,
         "type": "scattergeo"
        },
        {
         "lat": [
          30.43526374766115,
          26.85859236359501
         ],
         "line": {
          "color": "red",
          "width": 1
         },
         "lon": [
          103.7963218966275,
          100.226617197402
         ],
         "mode": "lines",
         "opacity": 1,
         "type": "scattergeo"
        },
        {
         "lat": [
          30.43526374766115,
          27.34168368255112
         ],
         "line": {
          "color": "red",
          "width": 1
         },
         "lon": [
          103.7963218966275,
          103.7153750119609
         ],
         "mode": "lines",
         "opacity": 1,
         "type": "scattergeo"
        },
        {
         "lat": [
          30.43526374766115,
          25.60952165934802
         ],
         "line": {
          "color": "red",
          "width": 1
         },
         "lon": [
          103.7963218966275,
          100.266540437132
         ],
         "mode": "lines",
         "opacity": 1,
         "type": "scattergeo"
        },
        {
         "lat": [
          30.43526374766115,
          24.43652522328061
         ],
         "line": {
          "color": "red",
          "width": 1
         },
         "lon": [
          103.7963218966275,
          98.58474196486381
         ],
         "mode": "lines",
         "opacity": 1,
         "type": "scattergeo"
        },
        {
         "lat": [
          30.43526374766115,
          25.85588172220572
         ],
         "line": {
          "color": "red",
          "width": 1
         },
         "lon": [
          103.7963218966275,
          98.85270009438005
         ],
         "mode": "lines",
         "opacity": 1,
         "type": "scattergeo"
        },
        {
         "lat": [
          30.43526374766115,
          27.7033952036923
         ],
         "line": {
          "color": "red",
          "width": 1
         },
         "lon": [
          103.7963218966275,
          111.9879998873743
         ],
         "mode": "lines",
         "opacity": 1,
         "type": "scattergeo"
        },
        {
         "lat": [
          30.43526374766115,
          22.81969289402053
         ],
         "line": {
          "color": "red",
          "width": 1
         },
         "lon": [
          103.7963218966275,
          108.362477121497
         ],
         "mode": "lines",
         "opacity": 1,
         "type": "scattergeo"
        },
        {
         "lat": [
          30.43526374766115,
          29.55486012728612
         ],
         "line": {
          "color": "red",
          "width": 1
         },
         "lon": [
          103.7963218966275,
          103.7633582225082
         ],
         "mode": "lines",
         "opacity": 1,
         "type": "scattergeo"
        },
        {
         "lat": [
          30.43526374766115,
          30.07825703112998
         ],
         "line": {
          "color": "red",
          "width": 1
         },
         "lon": [
          103.7963218966275,
          103.8464324283255
         ],
         "mode": "lines",
         "opacity": 1,
         "type": "scattergeo"
        },
        {
         "lat": [
          30.43526374766115,
          29.58280912023783
         ],
         "line": {
          "color": "red",
          "width": 1
         },
         "lon": [
          103.7963218966275,
          105.0552159487049
         ],
         "mode": "lines",
         "opacity": 1,
         "type": "scattergeo"
        },
        {
         "lat": [
          30.43526374766115,
          30.57472618688221
         ],
         "line": {
          "color": "red",
          "width": 1
         },
         "lon": [
          103.7963218966275,
          104.0640406467982
         ],
         "mode": "lines",
         "opacity": 1,
         "type": "scattergeo"
        },
        {
         "lat": [
          30.43526374766115,
          23.47955829321463
         ],
         "line": {
          "color": "red",
          "width": 1
         },
         "lon": [
          103.7963218966275,
          111.274015703365
         ],
         "mode": "lines",
         "opacity": 1,
         "type": "scattergeo"
        },
        {
         "lat": [
          30.43526374766115,
          26.89680824683814
         ],
         "line": {
          "color": "red",
          "width": 1
         },
         "lon": [
          103.7963218966275,
          112.5667549296271
         ],
         "mode": "lines",
         "opacity": 1,
         "type": "scattergeo"
        },
        {
         "lat": [
          30.43526374766115,
          23.11442986508254
         ],
         "line": {
          "color": "red",
          "width": 1
         },
         "lon": [
          103.7963218966275,
          109.5947354798691
         ],
         "mode": "lines",
         "opacity": 1,
         "type": "scattergeo"
        },
        {
         "lat": [
          30.43526374766115,
          27.24212198420047
         ],
         "line": {
          "color": "red",
          "width": 1
         },
         "lon": [
          103.7963218966275,
          111.46221384419
         ],
         "mode": "lines",
         "opacity": 1,
         "type": "scattergeo"
        },
        {
         "lat": [
          30.43526374766115,
          24.69568601285607
         ],
         "line": {
          "color": "red",
          "width": 1
         },
         "lon": [
          103.7963218966275,
          108.0810096435724
         ],
         "mode": "lines",
         "opacity": 1,
         "type": "scattergeo"
        },
        {
         "lat": [
          30.43526374766115,
          22.54582555967459
         ],
         "line": {
          "color": "red",
          "width": 1
         },
         "lon": [
          103.7963218966275,
          114.0527603784418
         ],
         "mode": "lines",
         "opacity": 1,
         "type": "scattergeo"
        },
        {
         "lat": [
          30.43526374766115,
          23.90524065563987
         ],
         "line": {
          "color": "red",
          "width": 1
         },
         "lon": [
          103.7963218966275,
          106.6147948071433
         ],
         "mode": "lines",
         "opacity": 1,
         "type": "scattergeo"
        },
        {
         "lat": [
          30.43526374766115,
          26.25752124739282
         ],
         "line": {
          "color": "red",
          "width": 1
         },
         "lon": [
          103.7963218966275,
          107.5179199131978
         ],
         "mode": "lines",
         "opacity": 1,
         "type": "scattergeo"
        },
        {
         "lat": [
          30.43526374766115,
          26.58699009505417
         ],
         "line": {
          "color": "red",
          "width": 1
         },
         "lon": [
          103.7963218966275,
          107.9787341141204
         ],
         "mode": "lines",
         "opacity": 1,
         "type": "scattergeo"
        },
        {
         "lat": [
          30.43526374766115,
          26.25661020954963
         ],
         "line": {
          "color": "red",
          "width": 1
         },
         "lon": [
          103.7963218966275,
          105.944234857304
         ],
         "mode": "lines",
         "opacity": 1,
         "type": "scattergeo"
        },
        {
         "lat": [
          30.43526374766115,
          25.09093405808564
         ],
         "line": {
          "color": "red",
          "width": 1
         },
         "lon": [
          103.7963218966275,
          104.9039323613744
         ],
         "mode": "lines",
         "opacity": 1,
         "type": "scattergeo"
        },
        {
         "lat": [
          30.43526374766115,
          27.73477832582868
         ],
         "line": {
          "color": "red",
          "width": 1
         },
         "lon": [
          103.7963218966275,
          109.1850122201689
         ],
         "mode": "lines",
         "opacity": 1,
         "type": "scattergeo"
        },
        {
         "lat": [
          30.43526374766115,
          27.30596661372806
         ],
         "line": {
          "color": "red",
          "width": 1
         },
         "lon": [
          103.7963218966275,
          105.2807802738927
         ],
         "mode": "lines",
         "opacity": 1,
         "type": "scattergeo"
        },
        {
         "lat": [
          30.43526374766115,
          26.65133479795816
         ],
         "line": {
          "color": "red",
          "width": 1
         },
         "lon": [
          103.7963218966275,
          106.6265908397277
         ],
         "mode": "lines",
         "opacity": 1,
         "type": "scattergeo"
        },
        {
         "lat": [
          30.43526374766115,
          21.27309617063639
         ],
         "line": {
          "color": "red",
          "width": 1
         },
         "lon": [
          103.7963218966275,
          110.354889157503
         ],
         "mode": "lines",
         "opacity": 1,
         "type": "scattergeo"
        },
        {
         "lat": [
          30.43526374766115,
          23.40338124080785
         ],
         "line": {
          "color": "red",
          "width": 1
         },
         "lon": [
          103.7963218966275,
          104.2141451396921
         ],
         "mode": "lines",
         "opacity": 1,
         "type": "scattergeo"
        },
        {
         "lat": [
          30.43526374766115,
          23.36564593259077
         ],
         "line": {
          "color": "red",
          "width": 1
         },
         "lon": [
          103.7963218966275,
          103.3727785187104
         ],
         "mode": "lines",
         "opacity": 1,
         "type": "scattergeo"
        },
        {
         "lat": [
          30.43526374766115,
          22.01021097537386
         ],
         "line": {
          "color": "red",
          "width": 1
         },
         "lon": [
          103.7963218966275,
          100.7966529405068
         ],
         "mode": "lines",
         "opacity": 1,
         "type": "scattergeo"
        },
        {
         "lat": [
          30.43526374766115,
          22.82805845259796
         ],
         "line": {
          "color": "red",
          "width": 1
         },
         "lon": [
          103.7963218966275,
          100.9653388647515
         ],
         "mode": "lines",
         "opacity": 1,
         "type": "scattergeo"
        },
        {
         "lat": [
          30.43526374766115,
          24.88316116418696
         ],
         "line": {
          "color": "red",
          "width": 1
         },
         "lon": [
          103.7963218966275,
          102.8314726024856
         ],
         "mode": "lines",
         "opacity": 1,
         "type": "scattergeo"
        },
        {
         "lat": [
          30.43526374766115,
          25.49299843430843
         ],
         "line": {
          "color": "red",
          "width": 1
         },
         "lon": [
          103.7963218966275,
          103.7941408167699
         ],
         "mode": "lines",
         "opacity": 1,
         "type": "scattergeo"
        },
        {
         "lat": [
          30.43526374766115,
          25.04856596148663
         ],
         "line": {
          "color": "red",
          "width": 1
         },
         "lon": [
          103.7963218966275,
          101.5265948761278
         ],
         "mode": "lines",
         "opacity": 1,
         "type": "scattergeo"
        },
        {
         "lat": [
          30.43526374766115,
          24.35509872756021
         ],
         "line": {
          "color": "red",
          "width": 1
         },
         "lon": [
          103.7963218966275,
          102.5452870357915
         ],
         "mode": "lines",
         "opacity": 1,
         "type": "scattergeo"
        },
        {
         "lat": [
          30.43526374766115,
          23.88016567387444
         ],
         "line": {
          "color": "red",
          "width": 1
         },
         "lon": [
          103.7963218966275,
          100.0783382546188
         ],
         "mode": "lines",
         "opacity": 1,
         "type": "scattergeo"
        }
       ],
       "layout": {
        "geo": {
         "countrycolor": "rgb(204, 204, 204)",
         "landcolor": "rgb(243, 243, 243)",
         "projection": {
          "type": "azimuthal equal area"
         },
         "showland": true
        },
        "showlegend": false,
        "template": {
         "data": {
          "bar": [
           {
            "error_x": {
             "color": "#2a3f5f"
            },
            "error_y": {
             "color": "#2a3f5f"
            },
            "marker": {
             "line": {
              "color": "#E5ECF6",
              "width": 0.5
             },
             "pattern": {
              "fillmode": "overlay",
              "size": 10,
              "solidity": 0.2
             }
            },
            "type": "bar"
           }
          ],
          "barpolar": [
           {
            "marker": {
             "line": {
              "color": "#E5ECF6",
              "width": 0.5
             },
             "pattern": {
              "fillmode": "overlay",
              "size": 10,
              "solidity": 0.2
             }
            },
            "type": "barpolar"
           }
          ],
          "carpet": [
           {
            "aaxis": {
             "endlinecolor": "#2a3f5f",
             "gridcolor": "white",
             "linecolor": "white",
             "minorgridcolor": "white",
             "startlinecolor": "#2a3f5f"
            },
            "baxis": {
             "endlinecolor": "#2a3f5f",
             "gridcolor": "white",
             "linecolor": "white",
             "minorgridcolor": "white",
             "startlinecolor": "#2a3f5f"
            },
            "type": "carpet"
           }
          ],
          "choropleth": [
           {
            "colorbar": {
             "outlinewidth": 0,
             "ticks": ""
            },
            "type": "choropleth"
           }
          ],
          "contour": [
           {
            "colorbar": {
             "outlinewidth": 0,
             "ticks": ""
            },
            "colorscale": [
             [
              0,
              "#0d0887"
             ],
             [
              0.1111111111111111,
              "#46039f"
             ],
             [
              0.2222222222222222,
              "#7201a8"
             ],
             [
              0.3333333333333333,
              "#9c179e"
             ],
             [
              0.4444444444444444,
              "#bd3786"
             ],
             [
              0.5555555555555556,
              "#d8576b"
             ],
             [
              0.6666666666666666,
              "#ed7953"
             ],
             [
              0.7777777777777778,
              "#fb9f3a"
             ],
             [
              0.8888888888888888,
              "#fdca26"
             ],
             [
              1,
              "#f0f921"
             ]
            ],
            "type": "contour"
           }
          ],
          "contourcarpet": [
           {
            "colorbar": {
             "outlinewidth": 0,
             "ticks": ""
            },
            "type": "contourcarpet"
           }
          ],
          "heatmap": [
           {
            "colorbar": {
             "outlinewidth": 0,
             "ticks": ""
            },
            "colorscale": [
             [
              0,
              "#0d0887"
             ],
             [
              0.1111111111111111,
              "#46039f"
             ],
             [
              0.2222222222222222,
              "#7201a8"
             ],
             [
              0.3333333333333333,
              "#9c179e"
             ],
             [
              0.4444444444444444,
              "#bd3786"
             ],
             [
              0.5555555555555556,
              "#d8576b"
             ],
             [
              0.6666666666666666,
              "#ed7953"
             ],
             [
              0.7777777777777778,
              "#fb9f3a"
             ],
             [
              0.8888888888888888,
              "#fdca26"
             ],
             [
              1,
              "#f0f921"
             ]
            ],
            "type": "heatmap"
           }
          ],
          "heatmapgl": [
           {
            "colorbar": {
             "outlinewidth": 0,
             "ticks": ""
            },
            "colorscale": [
             [
              0,
              "#0d0887"
             ],
             [
              0.1111111111111111,
              "#46039f"
             ],
             [
              0.2222222222222222,
              "#7201a8"
             ],
             [
              0.3333333333333333,
              "#9c179e"
             ],
             [
              0.4444444444444444,
              "#bd3786"
             ],
             [
              0.5555555555555556,
              "#d8576b"
             ],
             [
              0.6666666666666666,
              "#ed7953"
             ],
             [
              0.7777777777777778,
              "#fb9f3a"
             ],
             [
              0.8888888888888888,
              "#fdca26"
             ],
             [
              1,
              "#f0f921"
             ]
            ],
            "type": "heatmapgl"
           }
          ],
          "histogram": [
           {
            "marker": {
             "pattern": {
              "fillmode": "overlay",
              "size": 10,
              "solidity": 0.2
             }
            },
            "type": "histogram"
           }
          ],
          "histogram2d": [
           {
            "colorbar": {
             "outlinewidth": 0,
             "ticks": ""
            },
            "colorscale": [
             [
              0,
              "#0d0887"
             ],
             [
              0.1111111111111111,
              "#46039f"
             ],
             [
              0.2222222222222222,
              "#7201a8"
             ],
             [
              0.3333333333333333,
              "#9c179e"
             ],
             [
              0.4444444444444444,
              "#bd3786"
             ],
             [
              0.5555555555555556,
              "#d8576b"
             ],
             [
              0.6666666666666666,
              "#ed7953"
             ],
             [
              0.7777777777777778,
              "#fb9f3a"
             ],
             [
              0.8888888888888888,
              "#fdca26"
             ],
             [
              1,
              "#f0f921"
             ]
            ],
            "type": "histogram2d"
           }
          ],
          "histogram2dcontour": [
           {
            "colorbar": {
             "outlinewidth": 0,
             "ticks": ""
            },
            "colorscale": [
             [
              0,
              "#0d0887"
             ],
             [
              0.1111111111111111,
              "#46039f"
             ],
             [
              0.2222222222222222,
              "#7201a8"
             ],
             [
              0.3333333333333333,
              "#9c179e"
             ],
             [
              0.4444444444444444,
              "#bd3786"
             ],
             [
              0.5555555555555556,
              "#d8576b"
             ],
             [
              0.6666666666666666,
              "#ed7953"
             ],
             [
              0.7777777777777778,
              "#fb9f3a"
             ],
             [
              0.8888888888888888,
              "#fdca26"
             ],
             [
              1,
              "#f0f921"
             ]
            ],
            "type": "histogram2dcontour"
           }
          ],
          "mesh3d": [
           {
            "colorbar": {
             "outlinewidth": 0,
             "ticks": ""
            },
            "type": "mesh3d"
           }
          ],
          "parcoords": [
           {
            "line": {
             "colorbar": {
              "outlinewidth": 0,
              "ticks": ""
             }
            },
            "type": "parcoords"
           }
          ],
          "pie": [
           {
            "automargin": true,
            "type": "pie"
           }
          ],
          "scatter": [
           {
            "marker": {
             "colorbar": {
              "outlinewidth": 0,
              "ticks": ""
             }
            },
            "type": "scatter"
           }
          ],
          "scatter3d": [
           {
            "line": {
             "colorbar": {
              "outlinewidth": 0,
              "ticks": ""
             }
            },
            "marker": {
             "colorbar": {
              "outlinewidth": 0,
              "ticks": ""
             }
            },
            "type": "scatter3d"
           }
          ],
          "scattercarpet": [
           {
            "marker": {
             "colorbar": {
              "outlinewidth": 0,
              "ticks": ""
             }
            },
            "type": "scattercarpet"
           }
          ],
          "scattergeo": [
           {
            "marker": {
             "colorbar": {
              "outlinewidth": 0,
              "ticks": ""
             }
            },
            "type": "scattergeo"
           }
          ],
          "scattergl": [
           {
            "marker": {
             "colorbar": {
              "outlinewidth": 0,
              "ticks": ""
             }
            },
            "type": "scattergl"
           }
          ],
          "scattermapbox": [
           {
            "marker": {
             "colorbar": {
              "outlinewidth": 0,
              "ticks": ""
             }
            },
            "type": "scattermapbox"
           }
          ],
          "scatterpolar": [
           {
            "marker": {
             "colorbar": {
              "outlinewidth": 0,
              "ticks": ""
             }
            },
            "type": "scatterpolar"
           }
          ],
          "scatterpolargl": [
           {
            "marker": {
             "colorbar": {
              "outlinewidth": 0,
              "ticks": ""
             }
            },
            "type": "scatterpolargl"
           }
          ],
          "scatterternary": [
           {
            "marker": {
             "colorbar": {
              "outlinewidth": 0,
              "ticks": ""
             }
            },
            "type": "scatterternary"
           }
          ],
          "surface": [
           {
            "colorbar": {
             "outlinewidth": 0,
             "ticks": ""
            },
            "colorscale": [
             [
              0,
              "#0d0887"
             ],
             [
              0.1111111111111111,
              "#46039f"
             ],
             [
              0.2222222222222222,
              "#7201a8"
             ],
             [
              0.3333333333333333,
              "#9c179e"
             ],
             [
              0.4444444444444444,
              "#bd3786"
             ],
             [
              0.5555555555555556,
              "#d8576b"
             ],
             [
              0.6666666666666666,
              "#ed7953"
             ],
             [
              0.7777777777777778,
              "#fb9f3a"
             ],
             [
              0.8888888888888888,
              "#fdca26"
             ],
             [
              1,
              "#f0f921"
             ]
            ],
            "type": "surface"
           }
          ],
          "table": [
           {
            "cells": {
             "fill": {
              "color": "#EBF0F8"
             },
             "line": {
              "color": "white"
             }
            },
            "header": {
             "fill": {
              "color": "#C8D4E3"
             },
             "line": {
              "color": "white"
             }
            },
            "type": "table"
           }
          ]
         },
         "layout": {
          "annotationdefaults": {
           "arrowcolor": "#2a3f5f",
           "arrowhead": 0,
           "arrowwidth": 1
          },
          "autotypenumbers": "strict",
          "coloraxis": {
           "colorbar": {
            "outlinewidth": 0,
            "ticks": ""
           }
          },
          "colorscale": {
           "diverging": [
            [
             0,
             "#8e0152"
            ],
            [
             0.1,
             "#c51b7d"
            ],
            [
             0.2,
             "#de77ae"
            ],
            [
             0.3,
             "#f1b6da"
            ],
            [
             0.4,
             "#fde0ef"
            ],
            [
             0.5,
             "#f7f7f7"
            ],
            [
             0.6,
             "#e6f5d0"
            ],
            [
             0.7,
             "#b8e186"
            ],
            [
             0.8,
             "#7fbc41"
            ],
            [
             0.9,
             "#4d9221"
            ],
            [
             1,
             "#276419"
            ]
           ],
           "sequential": [
            [
             0,
             "#0d0887"
            ],
            [
             0.1111111111111111,
             "#46039f"
            ],
            [
             0.2222222222222222,
             "#7201a8"
            ],
            [
             0.3333333333333333,
             "#9c179e"
            ],
            [
             0.4444444444444444,
             "#bd3786"
            ],
            [
             0.5555555555555556,
             "#d8576b"
            ],
            [
             0.6666666666666666,
             "#ed7953"
            ],
            [
             0.7777777777777778,
             "#fb9f3a"
            ],
            [
             0.8888888888888888,
             "#fdca26"
            ],
            [
             1,
             "#f0f921"
            ]
           ],
           "sequentialminus": [
            [
             0,
             "#0d0887"
            ],
            [
             0.1111111111111111,
             "#46039f"
            ],
            [
             0.2222222222222222,
             "#7201a8"
            ],
            [
             0.3333333333333333,
             "#9c179e"
            ],
            [
             0.4444444444444444,
             "#bd3786"
            ],
            [
             0.5555555555555556,
             "#d8576b"
            ],
            [
             0.6666666666666666,
             "#ed7953"
            ],
            [
             0.7777777777777778,
             "#fb9f3a"
            ],
            [
             0.8888888888888888,
             "#fdca26"
            ],
            [
             1,
             "#f0f921"
            ]
           ]
          },
          "colorway": [
           "#636efa",
           "#EF553B",
           "#00cc96",
           "#ab63fa",
           "#FFA15A",
           "#19d3f3",
           "#FF6692",
           "#B6E880",
           "#FF97FF",
           "#FECB52"
          ],
          "font": {
           "color": "#2a3f5f"
          },
          "geo": {
           "bgcolor": "white",
           "lakecolor": "white",
           "landcolor": "#E5ECF6",
           "showlakes": true,
           "showland": true,
           "subunitcolor": "white"
          },
          "hoverlabel": {
           "align": "left"
          },
          "hovermode": "closest",
          "mapbox": {
           "style": "light"
          },
          "paper_bgcolor": "white",
          "plot_bgcolor": "#E5ECF6",
          "polar": {
           "angularaxis": {
            "gridcolor": "white",
            "linecolor": "white",
            "ticks": ""
           },
           "bgcolor": "#E5ECF6",
           "radialaxis": {
            "gridcolor": "white",
            "linecolor": "white",
            "ticks": ""
           }
          },
          "scene": {
           "xaxis": {
            "backgroundcolor": "#E5ECF6",
            "gridcolor": "white",
            "gridwidth": 2,
            "linecolor": "white",
            "showbackground": true,
            "ticks": "",
            "zerolinecolor": "white"
           },
           "yaxis": {
            "backgroundcolor": "#E5ECF6",
            "gridcolor": "white",
            "gridwidth": 2,
            "linecolor": "white",
            "showbackground": true,
            "ticks": "",
            "zerolinecolor": "white"
           },
           "zaxis": {
            "backgroundcolor": "#E5ECF6",
            "gridcolor": "white",
            "gridwidth": 2,
            "linecolor": "white",
            "showbackground": true,
            "ticks": "",
            "zerolinecolor": "white"
           }
          },
          "shapedefaults": {
           "line": {
            "color": "#2a3f5f"
           }
          },
          "ternary": {
           "aaxis": {
            "gridcolor": "white",
            "linecolor": "white",
            "ticks": ""
           },
           "baxis": {
            "gridcolor": "white",
            "linecolor": "white",
            "ticks": ""
           },
           "bgcolor": "#E5ECF6",
           "caxis": {
            "gridcolor": "white",
            "linecolor": "white",
            "ticks": ""
           }
          },
          "title": {
           "x": 0.05
          },
          "xaxis": {
           "automargin": true,
           "gridcolor": "white",
           "linecolor": "white",
           "ticks": "",
           "title": {
            "standoff": 15
           },
           "zerolinecolor": "white",
           "zerolinewidth": 2
          },
          "yaxis": {
           "automargin": true,
           "gridcolor": "white",
           "linecolor": "white",
           "ticks": "",
           "title": {
            "standoff": 15
           },
           "zerolinecolor": "white",
           "zerolinewidth": 2
          }
         }
        },
        "title": {
         "text": "Customer Flows"
        }
       }
      }
     },
     "metadata": {},
     "output_type": "display_data"
    }
   ],
   "source": [
    "### plot customer flows - ugly plot - discard\n",
    "fig = go.Figure()\n",
    "\n",
    "flight_paths = []\n",
    "for i in range(len(sc_flow_plot_df)):\n",
    "    fig.add_trace(\n",
    "        go.Scattergeo(\n",
    "            lon = [sc_flow_plot_df['start_lon'][i], sc_flow_plot_df['end_lon'][i]],\n",
    "            lat = [sc_flow_plot_df['start_lat'][i], sc_flow_plot_df['end_lat'][i]],\n",
    "            mode = 'lines',\n",
    "            line = dict(width = 1,color = 'red'),\n",
    "            opacity = 1,\n",
    "        )\n",
    "    )\n",
    "\n",
    "fig.update_layout(\n",
    "    title_text = 'Customer Flows',\n",
    "    showlegend = False,\n",
    "    geo = dict(\n",
    "        projection_type = 'azimuthal equal area',\n",
    "        showland = True,\n",
    "        landcolor = 'rgb(243, 243, 243)',\n",
    "        countrycolor = 'rgb(204, 204, 204)',\n",
    "    ),\n",
    ")\n",
    "\n",
    "fig.show()"
   ]
  },
  {
   "cell_type": "code",
   "execution_count": 72,
   "metadata": {},
   "outputs": [
    {
     "data": {
      "application/vnd.plotly.v1+json": {
       "config": {
        "plotlyServerURL": "https://plot.ly"
       },
       "data": [
        {
         "lat": [
          45.76952421736279,
          40.82308854129995,
          27.1168104600029,
          28.45827544557124,
          27.81871943652997,
          34.33105343685244,
          26.26684005591786,
          23.02409533068309,
          39.53695727577932,
          34.77346975390627,
          27.62617060128652,
          31.2323452344023,
          34.7477864125606,
          25.83501973395543,
          33.01335650611892,
          42.88538963725586,
          27.95235980536817,
          35.60153855696797,
          33.34881077578557,
          36.20000612709986,
          35.23412907616527,
          34.59768100862672,
          39.998962954379,
          30.66714344132274,
          23.02325767171811,
          37.4340837447518,
          29.08204039822681,
          36.45663192740123,
          30.24827350364001,
          37.49941170198301,
          22.52033709433309,
          27.55830958891995,
          37.51752738993748,
          39.62954759868035,
          34.20706393180895,
          40.95250667908144,
          40.99301005071572,
          37.07009447918728,
          36.70632018861866,
          25.77348538002096,
          41.93748279699102,
          36.08811024456974,
          35.10507345109453,
          40.74177069274513,
          32.89211160308685,
          35.58120785689678,
          28.65933140957997,
          36.81297525993266,
          34.50130608517758,
          29.3596514802874,
          36.62556357656246,
          34.34312953840049,
          29.03470474864293,
          37.43323604935444,
          33.58291634117343,
          33.87210573316656,
          28.47103856667617,
          46.07553890622198,
          39.60724263159052,
          39.6544390366507,
          29.27146640241873,
          27.99755639661836,
          43.81463051275358,
          29.70763010190234,
          37.51203174558772,
          45.13980772046496,
          43.93128150032256,
          23.40338124080785,
          26.85859236359501,
          23.36564593259077,
          22.01021097537386,
          22.82805845259796,
          27.34168368255112,
          24.88316116418696,
          25.49299843430843,
          25.60952165934802,
          25.04856596148663,
          24.35509872756021,
          24.43652522328061,
          23.88016567387444,
          25.85588172220572,
          30.92704875840485,
          24.29123871036554,
          38.41608696241872,
          50.24368593698285,
          30.69441159948845,
          45.80177718939836,
          32.91799515400531,
          35.41664985448086,
          38.04166913884188,
          33.84602023421478,
          37.68634353557753,
          30.54886596183148,
          25.45688085615284,
          32.39608761324173,
          38.30390787880884,
          34.62069425847153,
          43.16385395902515,
          36.54466066268684,
          29.87713052207049,
          28.26333077443565,
          46.79771597065292,
          47.35231321775213,
          38.87297673416556,
          32.01093810474285,
          32.14893045727153,
          35.21640061005598,
          49.20963003946251,
          25.27640737125314,
          32.30357289491218,
          42.22154773477672,
          31.73575608295598,
          36.06141171846495,
          34.79814088178576,
          32.45800429536821,
          40.70959455770206,
          37.73828947669901,
          32.99281483167919,
          40.8411402225846,
          36.09740671694131,
          27.7033952036923,
          41.09306620182436,
          41.57143607080685,
          28.31533925357757,
          32.62754369430915,
          34.36339558112846,
          30.27471062336162,
          33.06937808326742,
          40.65629113306126,
          39.902626245166,
          39.902626245166,
          39.08314262375163,
          37.87005096677684,
          32.63157768676001,
          35.54352430899147,
          35.70948020808187,
          35.76184910581689,
          32.06232355267544,
          22.81969289402053,
          24.87704868485578,
          28.68621233484596,
          31.35470362228185,
          24.81346271120227,
          22.63914531488788,
          23.11434132447145,
          39.93427691598691,
          35.30359480186157,
          36.06681047224894,
          36.65078171281274,
          24.48248267708086,
          46.64426752618719,
          37.92798045819693,
          32.18972309867631,
          41.10674546752389,
          40.81607321636371,
          39.33042586350068,
          33.76759369387327,
          34.98452245844625,
          21.48363837917861,
          31.82258053795522,
          43.83561599238054,
          37.99690919719102,
          31.98233962550012,
          31.30106716114456,
          36.58534208664667,
          33.62771504579078,
          31.67242798566556,
          34.41554751048077,
          30.74842732095237,
          35.41536554965287,
          31.2117043271299,
          31.12899552745817,
          29.55486012728612,
          30.13175078920077,
          31.90165666241077,
          30.07825703112998,
          27.88504356472883,
          28.75519768160823,
          29.58280912023783,
          31.46973069933239,
          30.84007214993655,
          31.87008571552613,
          30.57472618688221,
          28.87483938230682,
          30.53563957427876,
          29.3418851374181,
          30.45874152168983,
          30.0523443545809,
          32.43782752968448,
          31.14329275102384,
          29.98320267641596,
          30.45656364420607,
          36.01603794874545,
          35.02716522530418,
          36.19521524648712,
          40.07557310802614,
          45.61772161997866,
          46.58720522020402,
          38.98239939588928,
          40.66544437055811,
          38.91322925994839,
          30.54578375093637,
          43.65052523160977,
          28.23172481249612,
          42.25587691695832,
          38.48673019128655,
          26.66910233527991,
          26.42398447631974,
          32.68679720585862,
          46.65196017516132,
          33.40263907882024,
          38.28487573162408,
          31.49306603700403,
          30.94293557276461,
          33.64794994611666,
          29.71706301538657,
          37.38135642016103,
          34.81129214820155,
          23.47955829321463,
          38.85133075491287,
          26.89680824683814,
          31.81274316521338,
          23.11442986508254,
          37.85646220510019,
          26.0776181921898,
          23.13183994295568,
          24.3281899387336,
          41.80326291802402,
          42.88877357900488,
          22.5814332706114,
          34.58218380144906,
          29.11994460352727,
          38.9252336905743,
          42.01951815368355,
          36.50197437688492,
          30.89639388346604,
          37.46284183566092,
          41.87872843096351,
          23.55239616559447,
          27.83068422933131,
          27.82126896986176,
          27.24212198420047,
          35.49110504705786,
          41.29208302479014,
          30.03238398245454,
          30.33771856112028,
          44.54969496595082,
          30.94771223306929,
          41.7262449323065,
          28.55701776626178,
          33.611763586717,
          30.59551563172663,
          23.35675589262061,
          31.03762682496149,
          33.96458366057329,
          35.74730281423409,
          34.03705424166669,
          24.69568601285607,
          19.52310520944081,
          33.95726296715417,
          22.54582555967459,
          27.83319689390759,
          24.51593413543268,
          41.26517446940125,
          23.90524065563987,
          41.11791379409293,
          34.8978478277209,
          28.97315464783074,
          36.61722375080831,
          26.25752124739282,
          26.58699009505417,
          27.72918933516938,
          26.59628129977204,
          26.25661020954963,
          25.09093405808564,
          27.73477832582868,
          27.30596661372806,
          26.65133479795816,
          24.40661137243972,
          29.84391849264382,
          34.47290911965604,
          30.39463323771165,
          29.5658490143256,
          25.07789418380283,
          30.20208788314098,
          21.86070458069074,
          32.50359180804994,
          20.01938822575099,
          31.69209471228168,
          47.3474843456173,
          23.74619659509287,
          34.76650596571172,
          21.27309617063639
         ],
         "lon": [
          130.9954707831791,
          114.8814226622556,
          114.9875428650263,
          117.9384605453474,
          114.4114676050099,
          108.70432818877,
          117.6337852475838,
          113.1159291678165,
          116.677852879759,
          111.1941341473168,
          113.8492410599548,
          121.4691632652304,
          113.6193255888591,
          114.9303090866153,
          114.0164292106147,
          125.1371243298611,
          116.3531836141162,
          103.2082935117161,
          120.1586027412798,
          117.081554321523,
          115.4747879692151,
          119.2160715736077,
          124.3489462400518,
          117.4860824783757,
          113.7465689259144,
          118.669113279668,
          119.6427445137875,
          115.9797083411264,
          120.2053988812982,
          105.1931310282931,
          113.3873020309186,
          109.9938246198597,
          111.1379504274304,
          118.1738965760385,
          117.2783803771574,
          117.9561006544303,
          113.1253090209648,
          114.4989149321016,
          119.1558595520424,
          113.0092286976784,
          126.4177249758252,
          111.512738356361,
          118.3507031521379,
          107.3820708392117,
          115.8088195468257,
          104.623617338011,
          121.4163247141463,
          118.0488583987726,
          109.504625293394,
          113.122987599309,
          114.5332139277783,
          108.9355291153062,
          111.6928984567219,
          116.3515748491772,
          114.0106299585456,
          109.9354974186974,
          119.9183913224205,
          122.0608579323195,
          109.7756072826352,
          106.7894841071682,
          117.1730932594236,
          120.6953146770179,
          125.3170556355448,
          115.9968498897885,
          122.1153552474822,
          124.8188159261021,
          116.0414004756569,
          104.2141451396921,
          100.226617197402,
          103.3727785187104,
          100.7966529405068,
          100.9653388647515,
          103.7153750119609,
          102.8314726024856,
          103.7941408167699,
          100.266540437132,
          101.5265948761278,
          102.5452870357915,
          98.58474196486381,
          100.0783382546188,
          98.85270009438005,
          113.9114171453589,
          116.1174052422547,
          112.727613615456,
          127.521248509938,
          111.2808231203681,
          126.5289038817265,
          117.3838768458563,
          119.5214386156121,
          114.5088610208725,
          115.7731280236451,
          112.7462041891047,
          114.3363714923768,
          119.0030583278949,
          119.4074816928227,
          116.833033542554,
          112.4477739744806,
          124.3442076195231,
          104.1357374526611,
          121.5461886035697,
          117.0639390123689,
          130.3111451263799,
          123.9116401073984,
          115.4584681544313,
          112.1163256977821,
          114.0851344571613,
          113.2354557720119,
          119.7583899763413,
          110.2856160493322,
          118.3117146495258,
          123.7201627592107,
          116.5167623870941,
          103.8318948117832,
          114.3017451893433,
          119.91838005602,
          120.8317448357023,
          115.6642998789322,
          112.5224592560118,
          111.7422639952268,
          114.3863032251404,
          111.9879998873743,
          121.1213539396126,
          120.4446736419042,
          109.7344422775661,
          116.9945269148156,
          107.2332812200772,
          109.4832871762125,
          107.0188196460534,
          109.8346292526299,
          116.4012828477588,
          116.4012828477588,
          117.1946754317495,
          112.5425630342325,
          110.7926649102856,
          106.6610286688978,
          107.6388965577504,
          115.0233457843086,
          118.7916846702178,
          108.362477121497,
          118.6711374909511,
          115.8532852729079,
          118.4275501703881,
          113.5923294112387,
          110.1602485882664,
          114.4112231590118,
          119.5947177212679,
          113.9208970878092,
          120.3775084640287,
          117.1138686856124,
          118.084448093873,
          131.1510069771096,
          102.6362981150711,
          119.4203835018594,
          122.9888556604474,
          111.7587040406893,
          112.4259678830538,
          113.1863800141984,
          102.9093063078813,
          109.115632600491,
          117.2217530206498,
          126.5438692036536,
          106.1939858033097,
          120.8900735716123,
          120.5811331033317,
          109.4843056704631,
          114.6914875280797,
          118.501560200216,
          115.6508712568022,
          120.7511656273119,
          116.5818042476442,
          107.4633548893442,
          104.3952141871174,
          103.7633582225082,
          104.6252370576223,
          102.223006553013,
          103.8464324283255,
          102.265841134515,
          104.6408382179202,
          105.0552159487049,
          104.6765055884907,
          106.1066772287715,
          106.7433360907896,
          104.0640406467982,
          105.4386624441242,
          105.5894893487255,
          104.7757456053025,
          106.6294280176608,
          101.9607944939152,
          105.8396443188976,
          97.17148314940665,
          103.0114015388349,
          114.8672467200515,
          106.2384139928036,
          111.0017399957335,
          113.1095869618306,
          113.2931269502874,
          122.8331420715561,
          125.0967328203679,
          106.3785987467326,
          122.2302400702165,
          121.6097414873907,
          117.0583094488215,
          122.2378879047936,
          112.9333749497692,
          118.8806794224993,
          106.2265069321992,
          119.5433363814137,
          111.6082031062636,
          109.0241758754163,
          126.9625904009473,
          104.9189654162553,
          109.7290105322149,
          120.3073076042237,
          118.7536914610581,
          116.95899047143,
          118.3322856589073,
          117.9648159835762,
          117.3178308871384,
          111.274015703365,
          105.7247062442973,
          112.5667549296271,
          119.9692475651995,
          109.5947354798691,
          113.574107092927,
          119.2917011892226,
          113.2591072209036,
          109.4113447001055,
          123.4253315842275,
          129.5019905807352,
          113.0764574145007,
          105.7210163282105,
          110.4742346915475,
          100.4481121115437,
          121.6649262102888,
          102.1022159005829,
          120.0819509034296,
          121.4427159708412,
          123.9514479031235,
          116.3681272690569,
          113.1281661277162,
          114.9125028115343,
          111.46221384419,
          112.8457114258861,
          123.7605948505183,
          120.5761448871077,
          112.2340263095486,
          129.6261051100511,
          117.8067260077645,
          125.9340480370677,
          112.3494809086573,
          119.0098472690756,
          114.2999542047298,
          116.6775143618734,
          112.1934245655764,
          118.2696951415908,
          114.2913498473666,
          113.8467520160274,
          108.0810096435724,
          109.5767984155979,
          116.7928608550622,
          114.0527603784418,
          112.9386306519383,
          117.6427017011435,
          123.2312079197878,
          106.6147948071433,
          122.0652294108859,
          108.9405296688392,
          118.854654147615,
          101.7762927404526,
          107.5179199131978,
          107.9787341141204,
          106.9235728918846,
          104.8278184351933,
          105.944234857304,
          104.9039323613744,
          109.1850122201689,
          105.2807802738927,
          106.6265908397277,
          111.5615733816437,
          114.3170938337267,
          100.243467122574,
          114.8898001694227,
          106.5478312634267,
          117.0126782413234,
          115.0331487829698,
          111.9771709235079,
          80.10358684866438,
          110.3448278590682,
          113.3762466668986,
          130.2901267545506,
          114.6957546912138,
          113.7474156266135,
          110.354889157503
         ],
         "marker": {
          "size": 1
         },
         "mode": "markers",
         "type": "scattermapbox"
        },
        {
         "lat": [
          35.57782374620747,
          38.87297673416556
         ],
         "line": {
          "color": "#636EFA",
          "width": 1
         },
         "lon": [
          116.7762098856255,
          115.4584681544313
         ],
         "mode": "lines",
         "opacity": 1,
         "type": "scattermapbox"
        },
        {
         "lat": [
          35.57782374620747,
          32.14893045727153
         ],
         "line": {
          "color": "#636EFA",
          "width": 1
         },
         "lon": [
          116.7762098856255,
          114.0851344571613
         ],
         "mode": "lines",
         "opacity": 1,
         "type": "scattermapbox"
        },
        {
         "lat": [
          35.57782374620747,
          35.21640061005598
         ],
         "line": {
          "color": "#636EFA",
          "width": 1
         },
         "lon": [
          116.7762098856255,
          113.2354557720119
         ],
         "mode": "lines",
         "opacity": 1,
         "type": "scattermapbox"
        },
        {
         "lat": [
          35.57782374620747,
          32.30357289491218
         ],
         "line": {
          "color": "#636EFA",
          "width": 1
         },
         "lon": [
          116.7762098856255,
          118.3117146495258
         ],
         "mode": "lines",
         "opacity": 1,
         "type": "scattermapbox"
        },
        {
         "lat": [
          35.57782374620747,
          31.73575608295598
         ],
         "line": {
          "color": "#636EFA",
          "width": 1
         },
         "lon": [
          116.7762098856255,
          116.5167623870941
         ],
         "mode": "lines",
         "opacity": 1,
         "type": "scattermapbox"
        },
        {
         "lat": [
          35.57782374620747,
          34.79814088178576
         ],
         "line": {
          "color": "#636EFA",
          "width": 1
         },
         "lon": [
          116.7762098856255,
          114.3017451893433
         ],
         "mode": "lines",
         "opacity": 1,
         "type": "scattermapbox"
        },
        {
         "lat": [
          35.57782374620747,
          32.45800429536821
         ],
         "line": {
          "color": "#636EFA",
          "width": 1
         },
         "lon": [
          116.7762098856255,
          119.91838005602
         ],
         "mode": "lines",
         "opacity": 1,
         "type": "scattermapbox"
        },
        {
         "lat": [
          35.57782374620747,
          40.70959455770206
         ],
         "line": {
          "color": "#636EFA",
          "width": 1
         },
         "lon": [
          116.7762098856255,
          120.8317448357023
         ],
         "mode": "lines",
         "opacity": 1,
         "type": "scattermapbox"
        },
        {
         "lat": [
          35.57782374620747,
          37.73828947669901
         ],
         "line": {
          "color": "#636EFA",
          "width": 1
         },
         "lon": [
          116.7762098856255,
          115.6642998789322
         ],
         "mode": "lines",
         "opacity": 1,
         "type": "scattermapbox"
        },
        {
         "lat": [
          35.57782374620747,
          31.2323452344023
         ],
         "line": {
          "color": "#636EFA",
          "width": 1
         },
         "lon": [
          116.7762098856255,
          121.4691632652304
         ],
         "mode": "lines",
         "opacity": 1,
         "type": "scattermapbox"
        },
        {
         "lat": [
          35.57782374620747,
          36.09740671694131
         ],
         "line": {
          "color": "#636EFA",
          "width": 1
         },
         "lon": [
          116.7762098856255,
          114.3863032251404
         ],
         "mode": "lines",
         "opacity": 1,
         "type": "scattermapbox"
        },
        {
         "lat": [
          35.57782374620747,
          41.09306620182436
         ],
         "line": {
          "color": "#636EFA",
          "width": 1
         },
         "lon": [
          116.7762098856255,
          121.1213539396126
         ],
         "mode": "lines",
         "opacity": 1,
         "type": "scattermapbox"
        },
        {
         "lat": [
          35.57782374620747,
          32.62754369430915
         ],
         "line": {
          "color": "#636EFA",
          "width": 1
         },
         "lon": [
          116.7762098856255,
          116.9945269148156
         ],
         "mode": "lines",
         "opacity": 1,
         "type": "scattermapbox"
        },
        {
         "lat": [
          35.57782374620747,
          39.902626245166
         ],
         "line": {
          "color": "#636EFA",
          "width": 1
         },
         "lon": [
          116.7762098856255,
          116.4012828477588
         ],
         "mode": "lines",
         "opacity": 1,
         "type": "scattermapbox"
        },
        {
         "lat": [
          35.57782374620747,
          39.08314262375163
         ],
         "line": {
          "color": "#636EFA",
          "width": 1
         },
         "lon": [
          116.7762098856255,
          117.1946754317495
         ],
         "mode": "lines",
         "opacity": 1,
         "type": "scattermapbox"
        },
        {
         "lat": [
          35.57782374620747,
          37.87005096677684
         ],
         "line": {
          "color": "#636EFA",
          "width": 1
         },
         "lon": [
          116.7762098856255,
          112.5425630342325
         ],
         "mode": "lines",
         "opacity": 1,
         "type": "scattermapbox"
        },
        {
         "lat": [
          35.57782374620747,
          35.76184910581689
         ],
         "line": {
          "color": "#636EFA",
          "width": 1
         },
         "lon": [
          116.7762098856255,
          115.0233457843086
         ],
         "mode": "lines",
         "opacity": 1,
         "type": "scattermapbox"
        },
        {
         "lat": [
          35.57782374620747,
          32.06232355267544
         ],
         "line": {
          "color": "#636EFA",
          "width": 1
         },
         "lon": [
          116.7762098856255,
          118.7916846702178
         ],
         "mode": "lines",
         "opacity": 1,
         "type": "scattermapbox"
        },
        {
         "lat": [
          35.57782374620747,
          31.35470362228185
         ],
         "line": {
          "color": "#636EFA",
          "width": 1
         },
         "lon": [
          116.7762098856255,
          118.4275501703881
         ],
         "mode": "lines",
         "opacity": 1,
         "type": "scattermapbox"
        },
        {
         "lat": [
          35.57782374620747,
          39.93427691598691
         ],
         "line": {
          "color": "#636EFA",
          "width": 1
         },
         "lon": [
          116.7762098856255,
          119.5947177212679
         ],
         "mode": "lines",
         "opacity": 1,
         "type": "scattermapbox"
        },
        {
         "lat": [
          35.57782374620747,
          35.30359480186157
         ],
         "line": {
          "color": "#636EFA",
          "width": 1
         },
         "lon": [
          116.7762098856255,
          113.9208970878092
         ],
         "mode": "lines",
         "opacity": 1,
         "type": "scattermapbox"
        },
        {
         "lat": [
          35.57782374620747,
          36.06681047224894
         ],
         "line": {
          "color": "#636EFA",
          "width": 1
         },
         "lon": [
          116.7762098856255,
          120.3775084640287
         ],
         "mode": "lines",
         "opacity": 1,
         "type": "scattermapbox"
        },
        {
         "lat": [
          35.57782374620747,
          36.65078171281274
         ],
         "line": {
          "color": "#636EFA",
          "width": 1
         },
         "lon": [
          116.7762098856255,
          117.1138686856124
         ],
         "mode": "lines",
         "opacity": 1,
         "type": "scattermapbox"
        },
        {
         "lat": [
          35.57782374620747,
          33.01335650611892
         ],
         "line": {
          "color": "#636EFA",
          "width": 1
         },
         "lon": [
          116.7762098856255,
          114.0164292106147
         ],
         "mode": "lines",
         "opacity": 1,
         "type": "scattermapbox"
        },
        {
         "lat": [
          35.57782374620747,
          32.18972309867631
         ],
         "line": {
          "color": "#636EFA",
          "width": 1
         },
         "lon": [
          116.7762098856255,
          119.4203835018594
         ],
         "mode": "lines",
         "opacity": 1,
         "type": "scattermapbox"
        },
        {
         "lat": [
          35.57782374620747,
          41.10674546752389
         ],
         "line": {
          "color": "#636EFA",
          "width": 1
         },
         "lon": [
          116.7762098856255,
          122.9888556604474
         ],
         "mode": "lines",
         "opacity": 1,
         "type": "scattermapbox"
        },
        {
         "lat": [
          35.57782374620747,
          39.33042586350068
         ],
         "line": {
          "color": "#636EFA",
          "width": 1
         },
         "lon": [
          116.7762098856255,
          112.4259678830538
         ],
         "mode": "lines",
         "opacity": 1,
         "type": "scattermapbox"
        },
        {
         "lat": [
          35.57782374620747,
          31.82258053795522
         ],
         "line": {
          "color": "#636EFA",
          "width": 1
         },
         "lon": [
          116.7762098856255,
          117.2217530206498
         ],
         "mode": "lines",
         "opacity": 1,
         "type": "scattermapbox"
        },
        {
         "lat": [
          35.57782374620747,
          31.98233962550012
         ],
         "line": {
          "color": "#636EFA",
          "width": 1
         },
         "lon": [
          116.7762098856255,
          120.8900735716123
         ],
         "mode": "lines",
         "opacity": 1,
         "type": "scattermapbox"
        },
        {
         "lat": [
          35.57782374620747,
          33.62771504579078
         ],
         "line": {
          "color": "#636EFA",
          "width": 1
         },
         "lon": [
          116.7762098856255,
          114.6914875280797
         ],
         "mode": "lines",
         "opacity": 1,
         "type": "scattermapbox"
        },
        {
         "lat": [
          35.57782374620747,
          31.67242798566556
         ],
         "line": {
          "color": "#636EFA",
          "width": 1
         },
         "lon": [
          116.7762098856255,
          118.501560200216
         ],
         "mode": "lines",
         "opacity": 1,
         "type": "scattermapbox"
        },
        {
         "lat": [
          35.57782374620747,
          34.41554751048077
         ],
         "line": {
          "color": "#636EFA",
          "width": 1
         },
         "lon": [
          116.7762098856255,
          115.6508712568022
         ],
         "mode": "lines",
         "opacity": 1,
         "type": "scattermapbox"
        },
        {
         "lat": [
          35.57782374620747,
          35.41536554965287
         ],
         "line": {
          "color": "#636EFA",
          "width": 1
         },
         "lon": [
          116.7762098856255,
          116.5818042476442
         ],
         "mode": "lines",
         "opacity": 1,
         "type": "scattermapbox"
        },
        {
         "lat": [
          35.57782374620747,
          33.34881077578557
         ],
         "line": {
          "color": "#636EFA",
          "width": 1
         },
         "lon": [
          116.7762098856255,
          120.1586027412798
         ],
         "mode": "lines",
         "opacity": 1,
         "type": "scattermapbox"
        },
        {
         "lat": [
          35.57782374620747,
          36.19521524648712
         ],
         "line": {
          "color": "#636EFA",
          "width": 1
         },
         "lon": [
          116.7762098856255,
          113.1095869618306
         ],
         "mode": "lines",
         "opacity": 1,
         "type": "scattermapbox"
        },
        {
         "lat": [
          35.57782374620747,
          36.20000612709986
         ],
         "line": {
          "color": "#636EFA",
          "width": 1
         },
         "lon": [
          116.7762098856255,
          117.081554321523
         ],
         "mode": "lines",
         "opacity": 1,
         "type": "scattermapbox"
        },
        {
         "lat": [
          35.57782374620747,
          40.66544437055811
         ],
         "line": {
          "color": "#636EFA",
          "width": 1
         },
         "lon": [
          116.7762098856255,
          122.2302400702165
         ],
         "mode": "lines",
         "opacity": 1,
         "type": "scattermapbox"
        },
        {
         "lat": [
          35.57782374620747,
          38.91322925994839
         ],
         "line": {
          "color": "#636EFA",
          "width": 1
         },
         "lon": [
          116.7762098856255,
          121.6097414873907
         ],
         "mode": "lines",
         "opacity": 1,
         "type": "scattermapbox"
        },
        {
         "lat": [
          35.57782374620747,
          30.54578375093637
         ],
         "line": {
          "color": "#636EFA",
          "width": 1
         },
         "lon": [
          116.7762098856255,
          117.0583094488215
         ],
         "mode": "lines",
         "opacity": 1,
         "type": "scattermapbox"
        },
        {
         "lat": [
          35.57782374620747,
          42.25587691695832
         ],
         "line": {
          "color": "#636EFA",
          "width": 1
         },
         "lon": [
          116.7762098856255,
          118.8806794224993
         ],
         "mode": "lines",
         "opacity": 1,
         "type": "scattermapbox"
        },
        {
         "lat": [
          35.57782374620747,
          35.23412907616527
         ],
         "line": {
          "color": "#636EFA",
          "width": 1
         },
         "lon": [
          116.7762098856255,
          115.4747879692151
         ],
         "mode": "lines",
         "opacity": 1,
         "type": "scattermapbox"
        },
        {
         "lat": [
          35.57782374620747,
          38.28487573162408
         ],
         "line": {
          "color": "#636EFA",
          "width": 1
         },
         "lon": [
          116.7762098856255,
          109.7290105322149
         ],
         "mode": "lines",
         "opacity": 1,
         "type": "scattermapbox"
        },
        {
         "lat": [
          35.57782374620747,
          30.94293557276461
         ],
         "line": {
          "color": "#636EFA",
          "width": 1
         },
         "lon": [
          116.7762098856255,
          118.7536914610581
         ],
         "mode": "lines",
         "opacity": 1,
         "type": "scattermapbox"
        },
        {
         "lat": [
          35.57782374620747,
          33.64794994611666
         ],
         "line": {
          "color": "#636EFA",
          "width": 1
         },
         "lon": [
          116.7762098856255,
          116.95899047143
         ],
         "mode": "lines",
         "opacity": 1,
         "type": "scattermapbox"
        },
        {
         "lat": [
          35.57782374620747,
          29.71706301538657
         ],
         "line": {
          "color": "#636EFA",
          "width": 1
         },
         "lon": [
          116.7762098856255,
          118.3322856589073
         ],
         "mode": "lines",
         "opacity": 1,
         "type": "scattermapbox"
        },
        {
         "lat": [
          35.57782374620747,
          37.38135642016103
         ],
         "line": {
          "color": "#636EFA",
          "width": 1
         },
         "lon": [
          116.7762098856255,
          117.9648159835762
         ],
         "mode": "lines",
         "opacity": 1,
         "type": "scattermapbox"
        },
        {
         "lat": [
          35.57782374620747,
          34.81129214820155
         ],
         "line": {
          "color": "#636EFA",
          "width": 1
         },
         "lon": [
          116.7762098856255,
          117.3178308871384
         ],
         "mode": "lines",
         "opacity": 1,
         "type": "scattermapbox"
        },
        {
         "lat": [
          35.57782374620747,
          34.59768100862672
         ],
         "line": {
          "color": "#636EFA",
          "width": 1
         },
         "lon": [
          116.7762098856255,
          119.2160715736077
         ],
         "mode": "lines",
         "opacity": 1,
         "type": "scattermapbox"
        },
        {
         "lat": [
          35.57782374620747,
          31.81274316521338
         ],
         "line": {
          "color": "#636EFA",
          "width": 1
         },
         "lon": [
          116.7762098856255,
          119.9692475651995
         ],
         "mode": "lines",
         "opacity": 1,
         "type": "scattermapbox"
        },
        {
         "lat": [
          35.57782374620747,
          37.85646220510019
         ],
         "line": {
          "color": "#636EFA",
          "width": 1
         },
         "lon": [
          116.7762098856255,
          113.574107092927
         ],
         "mode": "lines",
         "opacity": 1,
         "type": "scattermapbox"
        },
        {
         "lat": [
          35.57782374620747,
          41.80326291802402
         ],
         "line": {
          "color": "#636EFA",
          "width": 1
         },
         "lon": [
          116.7762098856255,
          123.4253315842275
         ],
         "mode": "lines",
         "opacity": 1,
         "type": "scattermapbox"
        },
        {
         "lat": [
          35.57782374620747,
          39.998962954379
         ],
         "line": {
          "color": "#636EFA",
          "width": 1
         },
         "lon": [
          116.7762098856255,
          124.3489462400518
         ],
         "mode": "lines",
         "opacity": 1,
         "type": "scattermapbox"
        },
        {
         "lat": [
          35.57782374620747,
          42.01951815368355
         ],
         "line": {
          "color": "#636EFA",
          "width": 1
         },
         "lon": [
          116.7762098856255,
          121.6649262102888
         ],
         "mode": "lines",
         "opacity": 1,
         "type": "scattermapbox"
        },
        {
         "lat": [
          35.57782374620747,
          30.89639388346604
         ],
         "line": {
          "color": "#636EFA",
          "width": 1
         },
         "lon": [
          116.7762098856255,
          120.0819509034296
         ],
         "mode": "lines",
         "opacity": 1,
         "type": "scattermapbox"
        },
        {
         "lat": [
          35.57782374620747,
          37.46284183566092
         ],
         "line": {
          "color": "#636EFA",
          "width": 1
         },
         "lon": [
          116.7762098856255,
          121.4427159708412
         ],
         "mode": "lines",
         "opacity": 1,
         "type": "scattermapbox"
        },
        {
         "lat": [
          35.57782374620747,
          41.87872843096351
         ],
         "line": {
          "color": "#636EFA",
          "width": 1
         },
         "lon": [
          116.7762098856255,
          123.9514479031235
         ],
         "mode": "lines",
         "opacity": 1,
         "type": "scattermapbox"
        },
        {
         "lat": [
          35.57782374620747,
          30.66714344132274
         ],
         "line": {
          "color": "#636EFA",
          "width": 1
         },
         "lon": [
          116.7762098856255,
          117.4860824783757
         ],
         "mode": "lines",
         "opacity": 1,
         "type": "scattermapbox"
        },
        {
         "lat": [
          35.57782374620747,
          35.49110504705786
         ],
         "line": {
          "color": "#636EFA",
          "width": 1
         },
         "lon": [
          116.7762098856255,
          112.8457114258861
         ],
         "mode": "lines",
         "opacity": 1,
         "type": "scattermapbox"
        },
        {
         "lat": [
          35.57782374620747,
          30.94771223306929
         ],
         "line": {
          "color": "#636EFA",
          "width": 1
         },
         "lon": [
          116.7762098856255,
          117.8067260077645
         ],
         "mode": "lines",
         "opacity": 1,
         "type": "scattermapbox"
        },
        {
         "lat": [
          35.57782374620747,
          33.611763586717
         ],
         "line": {
          "color": "#636EFA",
          "width": 1
         },
         "lon": [
          116.7762098856255,
          119.0098472690756
         ],
         "mode": "lines",
         "opacity": 1,
         "type": "scattermapbox"
        },
        {
         "lat": [
          35.57782374620747,
          33.96458366057329
         ],
         "line": {
          "color": "#636EFA",
          "width": 1
         },
         "lon": [
          116.7762098856255,
          118.2696951415908
         ],
         "mode": "lines",
         "opacity": 1,
         "type": "scattermapbox"
        },
        {
         "lat": [
          35.57782374620747,
          35.74730281423409
         ],
         "line": {
          "color": "#636EFA",
          "width": 1
         },
         "lon": [
          116.7762098856255,
          114.2913498473666
         ],
         "mode": "lines",
         "opacity": 1,
         "type": "scattermapbox"
        },
        {
         "lat": [
          35.57782374620747,
          37.4340837447518
         ],
         "line": {
          "color": "#636EFA",
          "width": 1
         },
         "lon": [
          116.7762098856255,
          118.669113279668
         ],
         "mode": "lines",
         "opacity": 1,
         "type": "scattermapbox"
        },
        {
         "lat": [
          35.57782374620747,
          33.95726296715417
         ],
         "line": {
          "color": "#636EFA",
          "width": 1
         },
         "lon": [
          116.7762098856255,
          116.7928608550622
         ],
         "mode": "lines",
         "opacity": 1,
         "type": "scattermapbox"
        },
        {
         "lat": [
          35.57782374620747,
          41.26517446940125
         ],
         "line": {
          "color": "#636EFA",
          "width": 1
         },
         "lon": [
          116.7762098856255,
          123.2312079197878
         ],
         "mode": "lines",
         "opacity": 1,
         "type": "scattermapbox"
        },
        {
         "lat": [
          35.57782374620747,
          41.11791379409293
         ],
         "line": {
          "color": "#636EFA",
          "width": 1
         },
         "lon": [
          116.7762098856255,
          122.0652294108859
         ],
         "mode": "lines",
         "opacity": 1,
         "type": "scattermapbox"
        },
        {
         "lat": [
          35.57782374620747,
          36.45663192740123
         ],
         "line": {
          "color": "#636EFA",
          "width": 1
         },
         "lon": [
          116.7762098856255,
          115.9797083411264
         ],
         "mode": "lines",
         "opacity": 1,
         "type": "scattermapbox"
        },
        {
         "lat": [
          35.57782374620747,
          37.51752738993748
         ],
         "line": {
          "color": "#636EFA",
          "width": 1
         },
         "lon": [
          116.7762098856255,
          111.1379504274304
         ],
         "mode": "lines",
         "opacity": 1,
         "type": "scattermapbox"
        },
        {
         "lat": [
          35.57782374620747,
          39.62954759868035
         ],
         "line": {
          "color": "#636EFA",
          "width": 1
         },
         "lon": [
          116.7762098856255,
          118.1738965760385
         ],
         "mode": "lines",
         "opacity": 1,
         "type": "scattermapbox"
        },
        {
         "lat": [
          35.57782374620747,
          34.20706393180895
         ],
         "line": {
          "color": "#636EFA",
          "width": 1
         },
         "lon": [
          116.7762098856255,
          117.2783803771574
         ],
         "mode": "lines",
         "opacity": 1,
         "type": "scattermapbox"
        },
        {
         "lat": [
          35.57782374620747,
          40.95250667908144
         ],
         "line": {
          "color": "#636EFA",
          "width": 1
         },
         "lon": [
          116.7762098856255,
          117.9561006544303
         ],
         "mode": "lines",
         "opacity": 1,
         "type": "scattermapbox"
        },
        {
         "lat": [
          35.57782374620747,
          37.07009447918728
         ],
         "line": {
          "color": "#636EFA",
          "width": 1
         },
         "lon": [
          116.7762098856255,
          114.4989149321016
         ],
         "mode": "lines",
         "opacity": 1,
         "type": "scattermapbox"
        },
        {
         "lat": [
          35.57782374620747,
          36.70632018861866
         ],
         "line": {
          "color": "#636EFA",
          "width": 1
         },
         "lon": [
          116.7762098856255,
          119.1558595520424
         ],
         "mode": "lines",
         "opacity": 1,
         "type": "scattermapbox"
        },
        {
         "lat": [
          35.57782374620747,
          36.08811024456974
         ],
         "line": {
          "color": "#636EFA",
          "width": 1
         },
         "lon": [
          116.7762098856255,
          111.512738356361
         ],
         "mode": "lines",
         "opacity": 1,
         "type": "scattermapbox"
        },
        {
         "lat": [
          35.57782374620747,
          35.10507345109453
         ],
         "line": {
          "color": "#636EFA",
          "width": 1
         },
         "lon": [
          116.7762098856255,
          118.3507031521379
         ],
         "mode": "lines",
         "opacity": 1,
         "type": "scattermapbox"
        },
        {
         "lat": [
          35.57782374620747,
          36.81297525993266
         ],
         "line": {
          "color": "#636EFA",
          "width": 1
         },
         "lon": [
          116.7762098856255,
          118.0488583987726
         ],
         "mode": "lines",
         "opacity": 1,
         "type": "scattermapbox"
        },
        {
         "lat": [
          35.57782374620747,
          36.62556357656246
         ],
         "line": {
          "color": "#636EFA",
          "width": 1
         },
         "lon": [
          116.7762098856255,
          114.5332139277783
         ],
         "mode": "lines",
         "opacity": 1,
         "type": "scattermapbox"
        },
        {
         "lat": [
          35.57782374620747,
          37.43323604935444
         ],
         "line": {
          "color": "#636EFA",
          "width": 1
         },
         "lon": [
          116.7762098856255,
          116.3515748491772
         ],
         "mode": "lines",
         "opacity": 1,
         "type": "scattermapbox"
        },
        {
         "lat": [
          35.57782374620747,
          33.58291634117343
         ],
         "line": {
          "color": "#636EFA",
          "width": 1
         },
         "lon": [
          116.7762098856255,
          114.0106299585456
         ],
         "mode": "lines",
         "opacity": 1,
         "type": "scattermapbox"
        },
        {
         "lat": [
          35.57782374620747,
          27.99755639661836
         ],
         "line": {
          "color": "#636EFA",
          "width": 1
         },
         "lon": [
          116.7762098856255,
          120.6953146770179
         ],
         "mode": "lines",
         "opacity": 1,
         "type": "scattermapbox"
        },
        {
         "lat": [
          35.57782374620747,
          37.51203174558772
         ],
         "line": {
          "color": "#636EFA",
          "width": 1
         },
         "lon": [
          116.7762098856255,
          122.1153552474822
         ],
         "mode": "lines",
         "opacity": 1,
         "type": "scattermapbox"
        },
        {
         "lat": [
          35.57782374620747,
          38.41608696241872
         ],
         "line": {
          "color": "#636EFA",
          "width": 1
         },
         "lon": [
          116.7762098856255,
          112.727613615456
         ],
         "mode": "lines",
         "opacity": 1,
         "type": "scattermapbox"
        },
        {
         "lat": [
          35.57782374620747,
          32.91799515400531
         ],
         "line": {
          "color": "#636EFA",
          "width": 1
         },
         "lon": [
          116.7762098856255,
          117.3838768458563
         ],
         "mode": "lines",
         "opacity": 1,
         "type": "scattermapbox"
        },
        {
         "lat": [
          35.57782374620747,
          35.41664985448086
         ],
         "line": {
          "color": "#636EFA",
          "width": 1
         },
         "lon": [
          116.7762098856255,
          119.5214386156121
         ],
         "mode": "lines",
         "opacity": 1,
         "type": "scattermapbox"
        },
        {
         "lat": [
          35.57782374620747,
          38.04166913884188
         ],
         "line": {
          "color": "#636EFA",
          "width": 1
         },
         "lon": [
          116.7762098856255,
          114.5088610208725
         ],
         "mode": "lines",
         "opacity": 1,
         "type": "scattermapbox"
        },
        {
         "lat": [
          35.57782374620747,
          32.39608761324173
         ],
         "line": {
          "color": "#636EFA",
          "width": 1
         },
         "lon": [
          116.7762098856255,
          119.4074816928227
         ],
         "mode": "lines",
         "opacity": 1,
         "type": "scattermapbox"
        },
        {
         "lat": [
          35.57782374620747,
          38.30390787880884
         ],
         "line": {
          "color": "#636EFA",
          "width": 1
         },
         "lon": [
          116.7762098856255,
          116.833033542554
         ],
         "mode": "lines",
         "opacity": 1,
         "type": "scattermapbox"
        },
        {
         "lat": [
          39.32561126337727,
          38.87297673416556
         ],
         "line": {
          "color": "#EF553B",
          "width": 1
         },
         "lon": [
          115.8678449047579,
          115.4584681544313
         ],
         "mode": "lines",
         "opacity": 1,
         "type": "scattermapbox"
        },
        {
         "lat": [
          39.32561126337727,
          40.70959455770206
         ],
         "line": {
          "color": "#EF553B",
          "width": 1
         },
         "lon": [
          115.8678449047579,
          120.8317448357023
         ],
         "mode": "lines",
         "opacity": 1,
         "type": "scattermapbox"
        },
        {
         "lat": [
          39.32561126337727,
          37.73828947669901
         ],
         "line": {
          "color": "#EF553B",
          "width": 1
         },
         "lon": [
          115.8678449047579,
          115.6642998789322
         ],
         "mode": "lines",
         "opacity": 1,
         "type": "scattermapbox"
        },
        {
         "lat": [
          39.32561126337727,
          36.09740671694131
         ],
         "line": {
          "color": "#EF553B",
          "width": 1
         },
         "lon": [
          115.8678449047579,
          114.3863032251404
         ],
         "mode": "lines",
         "opacity": 1,
         "type": "scattermapbox"
        },
        {
         "lat": [
          39.32561126337727,
          41.09306620182436
         ],
         "line": {
          "color": "#EF553B",
          "width": 1
         },
         "lon": [
          115.8678449047579,
          121.1213539396126
         ],
         "mode": "lines",
         "opacity": 1,
         "type": "scattermapbox"
        },
        {
         "lat": [
          39.32561126337727,
          39.902626245166
         ],
         "line": {
          "color": "#EF553B",
          "width": 1
         },
         "lon": [
          115.8678449047579,
          116.4012828477588
         ],
         "mode": "lines",
         "opacity": 1,
         "type": "scattermapbox"
        },
        {
         "lat": [
          39.32561126337727,
          39.08314262375163
         ],
         "line": {
          "color": "#EF553B",
          "width": 1
         },
         "lon": [
          115.8678449047579,
          117.1946754317495
         ],
         "mode": "lines",
         "opacity": 1,
         "type": "scattermapbox"
        },
        {
         "lat": [
          39.32561126337727,
          35.76184910581689
         ],
         "line": {
          "color": "#EF553B",
          "width": 1
         },
         "lon": [
          115.8678449047579,
          115.0233457843086
         ],
         "mode": "lines",
         "opacity": 1,
         "type": "scattermapbox"
        },
        {
         "lat": [
          39.32561126337727,
          39.93427691598691
         ],
         "line": {
          "color": "#EF553B",
          "width": 1
         },
         "lon": [
          115.8678449047579,
          119.5947177212679
         ],
         "mode": "lines",
         "opacity": 1,
         "type": "scattermapbox"
        },
        {
         "lat": [
          39.32561126337727,
          36.65078171281274
         ],
         "line": {
          "color": "#EF553B",
          "width": 1
         },
         "lon": [
          115.8678449047579,
          117.1138686856124
         ],
         "mode": "lines",
         "opacity": 1,
         "type": "scattermapbox"
        },
        {
         "lat": [
          39.32561126337727,
          41.10674546752389
         ],
         "line": {
          "color": "#EF553B",
          "width": 1
         },
         "lon": [
          115.8678449047579,
          122.9888556604474
         ],
         "mode": "lines",
         "opacity": 1,
         "type": "scattermapbox"
        },
        {
         "lat": [
          39.32561126337727,
          39.33042586350068
         ],
         "line": {
          "color": "#EF553B",
          "width": 1
         },
         "lon": [
          115.8678449047579,
          112.4259678830538
         ],
         "mode": "lines",
         "opacity": 1,
         "type": "scattermapbox"
        },
        {
         "lat": [
          39.32561126337727,
          40.66544437055811
         ],
         "line": {
          "color": "#EF553B",
          "width": 1
         },
         "lon": [
          115.8678449047579,
          122.2302400702165
         ],
         "mode": "lines",
         "opacity": 1,
         "type": "scattermapbox"
        },
        {
         "lat": [
          39.32561126337727,
          38.91322925994839
         ],
         "line": {
          "color": "#EF553B",
          "width": 1
         },
         "lon": [
          115.8678449047579,
          121.6097414873907
         ],
         "mode": "lines",
         "opacity": 1,
         "type": "scattermapbox"
        },
        {
         "lat": [
          39.32561126337727,
          42.25587691695832
         ],
         "line": {
          "color": "#EF553B",
          "width": 1
         },
         "lon": [
          115.8678449047579,
          118.8806794224993
         ],
         "mode": "lines",
         "opacity": 1,
         "type": "scattermapbox"
        },
        {
         "lat": [
          39.32561126337727,
          37.38135642016103
         ],
         "line": {
          "color": "#EF553B",
          "width": 1
         },
         "lon": [
          115.8678449047579,
          117.9648159835762
         ],
         "mode": "lines",
         "opacity": 1,
         "type": "scattermapbox"
        },
        {
         "lat": [
          39.32561126337727,
          37.85646220510019
         ],
         "line": {
          "color": "#EF553B",
          "width": 1
         },
         "lon": [
          115.8678449047579,
          113.574107092927
         ],
         "mode": "lines",
         "opacity": 1,
         "type": "scattermapbox"
        },
        {
         "lat": [
          39.32561126337727,
          42.01951815368355
         ],
         "line": {
          "color": "#EF553B",
          "width": 1
         },
         "lon": [
          115.8678449047579,
          121.6649262102888
         ],
         "mode": "lines",
         "opacity": 1,
         "type": "scattermapbox"
        },
        {
         "lat": [
          39.32561126337727,
          35.74730281423409
         ],
         "line": {
          "color": "#EF553B",
          "width": 1
         },
         "lon": [
          115.8678449047579,
          114.2913498473666
         ],
         "mode": "lines",
         "opacity": 1,
         "type": "scattermapbox"
        },
        {
         "lat": [
          39.32561126337727,
          37.4340837447518
         ],
         "line": {
          "color": "#EF553B",
          "width": 1
         },
         "lon": [
          115.8678449047579,
          118.669113279668
         ],
         "mode": "lines",
         "opacity": 1,
         "type": "scattermapbox"
        },
        {
         "lat": [
          39.32561126337727,
          41.26517446940125
         ],
         "line": {
          "color": "#EF553B",
          "width": 1
         },
         "lon": [
          115.8678449047579,
          123.2312079197878
         ],
         "mode": "lines",
         "opacity": 1,
         "type": "scattermapbox"
        },
        {
         "lat": [
          39.32561126337727,
          41.11791379409293
         ],
         "line": {
          "color": "#EF553B",
          "width": 1
         },
         "lon": [
          115.8678449047579,
          122.0652294108859
         ],
         "mode": "lines",
         "opacity": 1,
         "type": "scattermapbox"
        },
        {
         "lat": [
          39.32561126337727,
          36.45663192740123
         ],
         "line": {
          "color": "#EF553B",
          "width": 1
         },
         "lon": [
          115.8678449047579,
          115.9797083411264
         ],
         "mode": "lines",
         "opacity": 1,
         "type": "scattermapbox"
        },
        {
         "lat": [
          39.32561126337727,
          39.62954759868035
         ],
         "line": {
          "color": "#EF553B",
          "width": 1
         },
         "lon": [
          115.8678449047579,
          118.1738965760385
         ],
         "mode": "lines",
         "opacity": 1,
         "type": "scattermapbox"
        },
        {
         "lat": [
          39.32561126337727,
          40.95250667908144
         ],
         "line": {
          "color": "#EF553B",
          "width": 1
         },
         "lon": [
          115.8678449047579,
          117.9561006544303
         ],
         "mode": "lines",
         "opacity": 1,
         "type": "scattermapbox"
        },
        {
         "lat": [
          39.32561126337727,
          37.07009447918728
         ],
         "line": {
          "color": "#EF553B",
          "width": 1
         },
         "lon": [
          115.8678449047579,
          114.4989149321016
         ],
         "mode": "lines",
         "opacity": 1,
         "type": "scattermapbox"
        },
        {
         "lat": [
          39.32561126337727,
          35.10507345109453
         ],
         "line": {
          "color": "#EF553B",
          "width": 1
         },
         "lon": [
          115.8678449047579,
          118.3507031521379
         ],
         "mode": "lines",
         "opacity": 1,
         "type": "scattermapbox"
        },
        {
         "lat": [
          39.32561126337727,
          36.81297525993266
         ],
         "line": {
          "color": "#EF553B",
          "width": 1
         },
         "lon": [
          115.8678449047579,
          118.0488583987726
         ],
         "mode": "lines",
         "opacity": 1,
         "type": "scattermapbox"
        },
        {
         "lat": [
          39.32561126337727,
          36.62556357656246
         ],
         "line": {
          "color": "#EF553B",
          "width": 1
         },
         "lon": [
          115.8678449047579,
          114.5332139277783
         ],
         "mode": "lines",
         "opacity": 1,
         "type": "scattermapbox"
        },
        {
         "lat": [
          39.32561126337727,
          37.43323604935444
         ],
         "line": {
          "color": "#EF553B",
          "width": 1
         },
         "lon": [
          115.8678449047579,
          116.3515748491772
         ],
         "mode": "lines",
         "opacity": 1,
         "type": "scattermapbox"
        },
        {
         "lat": [
          39.32561126337727,
          38.41608696241872
         ],
         "line": {
          "color": "#EF553B",
          "width": 1
         },
         "lon": [
          115.8678449047579,
          112.727613615456
         ],
         "mode": "lines",
         "opacity": 1,
         "type": "scattermapbox"
        },
        {
         "lat": [
          39.32561126337727,
          38.04166913884188
         ],
         "line": {
          "color": "#EF553B",
          "width": 1
         },
         "lon": [
          115.8678449047579,
          114.5088610208725
         ],
         "mode": "lines",
         "opacity": 1,
         "type": "scattermapbox"
        },
        {
         "lat": [
          39.32561126337727,
          38.30390787880884
         ],
         "line": {
          "color": "#EF553B",
          "width": 1
         },
         "lon": [
          115.8678449047579,
          116.833033542554
         ],
         "mode": "lines",
         "opacity": 1,
         "type": "scattermapbox"
        },
        {
         "lat": [
          39.32561126337727,
          42.22154773477672
         ],
         "line": {
          "color": "#EF553B",
          "width": 1
         },
         "lon": [
          115.8678449047579,
          123.7201627592107
         ],
         "mode": "lines",
         "opacity": 1,
         "type": "scattermapbox"
        },
        {
         "lat": [
          39.32561126337727,
          40.8411402225846
         ],
         "line": {
          "color": "#EF553B",
          "width": 1
         },
         "lon": [
          115.8678449047579,
          111.7422639952268
         ],
         "mode": "lines",
         "opacity": 1,
         "type": "scattermapbox"
        },
        {
         "lat": [
          39.32561126337727,
          41.57143607080685
         ],
         "line": {
          "color": "#EF553B",
          "width": 1
         },
         "lon": [
          115.8678449047579,
          120.4446736419042
         ],
         "mode": "lines",
         "opacity": 1,
         "type": "scattermapbox"
        },
        {
         "lat": [
          39.32561126337727,
          40.65629113306126
         ],
         "line": {
          "color": "#EF553B",
          "width": 1
         },
         "lon": [
          115.8678449047579,
          109.8346292526299
         ],
         "mode": "lines",
         "opacity": 1,
         "type": "scattermapbox"
        },
        {
         "lat": [
          39.32561126337727,
          39.902626245166
         ],
         "line": {
          "color": "#EF553B",
          "width": 1
         },
         "lon": [
          115.8678449047579,
          116.4012828477588
         ],
         "mode": "lines",
         "opacity": 1,
         "type": "scattermapbox"
        },
        {
         "lat": [
          39.32561126337727,
          40.07557310802614
         ],
         "line": {
          "color": "#EF553B",
          "width": 1
         },
         "lon": [
          115.8678449047579,
          113.2931269502874
         ],
         "mode": "lines",
         "opacity": 1,
         "type": "scattermapbox"
        },
        {
         "lat": [
          39.32561126337727,
          40.82308854129995
         ],
         "line": {
          "color": "#EF553B",
          "width": 1
         },
         "lon": [
          115.8678449047579,
          114.8814226622556
         ],
         "mode": "lines",
         "opacity": 1,
         "type": "scattermapbox"
        },
        {
         "lat": [
          39.32561126337727,
          43.65052523160977
         ],
         "line": {
          "color": "#EF553B",
          "width": 1
         },
         "lon": [
          115.8678449047579,
          122.2378879047936
         ],
         "mode": "lines",
         "opacity": 1,
         "type": "scattermapbox"
        },
        {
         "lat": [
          39.32561126337727,
          22.5814332706114
         ],
         "line": {
          "color": "#EF553B",
          "width": 1
         },
         "lon": [
          115.8678449047579,
          113.0764574145007
         ],
         "mode": "lines",
         "opacity": 1,
         "type": "scattermapbox"
        },
        {
         "lat": [
          39.32561126337727,
          41.29208302479014
         ],
         "line": {
          "color": "#EF553B",
          "width": 1
         },
         "lon": [
          115.8678449047579,
          123.7605948505183
         ],
         "mode": "lines",
         "opacity": 1,
         "type": "scattermapbox"
        },
        {
         "lat": [
          39.32561126337727,
          40.99301005071572
         ],
         "line": {
          "color": "#EF553B",
          "width": 1
         },
         "lon": [
          115.8678449047579,
          113.1253090209648
         ],
         "mode": "lines",
         "opacity": 1,
         "type": "scattermapbox"
        },
        {
         "lat": [
          39.32561126337727,
          32.89211160308685
         ],
         "line": {
          "color": "#EF553B",
          "width": 1
         },
         "lon": [
          115.8678449047579,
          115.8088195468257
         ],
         "mode": "lines",
         "opacity": 1,
         "type": "scattermapbox"
        },
        {
         "lat": [
          39.32561126337727,
          28.47103856667617
         ],
         "line": {
          "color": "#EF553B",
          "width": 1
         },
         "lon": [
          115.8678449047579,
          119.9183913224205
         ],
         "mode": "lines",
         "opacity": 1,
         "type": "scattermapbox"
        },
        {
         "lat": [
          39.32561126337727,
          39.60724263159052
         ],
         "line": {
          "color": "#EF553B",
          "width": 1
         },
         "lon": [
          115.8678449047579,
          109.7756072826352
         ],
         "mode": "lines",
         "opacity": 1,
         "type": "scattermapbox"
        },
        {
         "lat": [
          39.32561126337727,
          43.81463051275358
         ],
         "line": {
          "color": "#EF553B",
          "width": 1
         },
         "lon": [
          115.8678449047579,
          125.3170556355448
         ],
         "mode": "lines",
         "opacity": 1,
         "type": "scattermapbox"
        },
        {
         "lat": [
          39.32561126337727,
          43.93128150032256
         ],
         "line": {
          "color": "#EF553B",
          "width": 1
         },
         "lon": [
          115.8678449047579,
          116.0414004756569
         ],
         "mode": "lines",
         "opacity": 1,
         "type": "scattermapbox"
        },
        {
         "lat": [
          39.32561126337727,
          39.53695727577932
         ],
         "line": {
          "color": "#EF553B",
          "width": 1
         },
         "lon": [
          115.8678449047579,
          116.677852879759
         ],
         "mode": "lines",
         "opacity": 1,
         "type": "scattermapbox"
        },
        {
         "lat": [
          34.48747888097904,
          38.87297673416556
         ],
         "line": {
          "color": "#00CC96",
          "width": 1
         },
         "lon": [
          113.792328127149,
          115.4584681544313
         ],
         "mode": "lines",
         "opacity": 1,
         "type": "scattermapbox"
        },
        {
         "lat": [
          34.48747888097904,
          32.14893045727153
         ],
         "line": {
          "color": "#00CC96",
          "width": 1
         },
         "lon": [
          113.792328127149,
          114.0851344571613
         ],
         "mode": "lines",
         "opacity": 1,
         "type": "scattermapbox"
        },
        {
         "lat": [
          34.48747888097904,
          35.21640061005598
         ],
         "line": {
          "color": "#00CC96",
          "width": 1
         },
         "lon": [
          113.792328127149,
          113.2354557720119
         ],
         "mode": "lines",
         "opacity": 1,
         "type": "scattermapbox"
        },
        {
         "lat": [
          34.48747888097904,
          32.30357289491218
         ],
         "line": {
          "color": "#00CC96",
          "width": 1
         },
         "lon": [
          113.792328127149,
          118.3117146495258
         ],
         "mode": "lines",
         "opacity": 1,
         "type": "scattermapbox"
        },
        {
         "lat": [
          34.48747888097904,
          31.73575608295598
         ],
         "line": {
          "color": "#00CC96",
          "width": 1
         },
         "lon": [
          113.792328127149,
          116.5167623870941
         ],
         "mode": "lines",
         "opacity": 1,
         "type": "scattermapbox"
        },
        {
         "lat": [
          34.48747888097904,
          34.79814088178576
         ],
         "line": {
          "color": "#00CC96",
          "width": 1
         },
         "lon": [
          113.792328127149,
          114.3017451893433
         ],
         "mode": "lines",
         "opacity": 1,
         "type": "scattermapbox"
        },
        {
         "lat": [
          34.48747888097904,
          37.73828947669901
         ],
         "line": {
          "color": "#00CC96",
          "width": 1
         },
         "lon": [
          113.792328127149,
          115.6642998789322
         ],
         "mode": "lines",
         "opacity": 1,
         "type": "scattermapbox"
        },
        {
         "lat": [
          34.48747888097904,
          36.09740671694131
         ],
         "line": {
          "color": "#00CC96",
          "width": 1
         },
         "lon": [
          113.792328127149,
          114.3863032251404
         ],
         "mode": "lines",
         "opacity": 1,
         "type": "scattermapbox"
        },
        {
         "lat": [
          34.48747888097904,
          32.62754369430915
         ],
         "line": {
          "color": "#00CC96",
          "width": 1
         },
         "lon": [
          113.792328127149,
          116.9945269148156
         ],
         "mode": "lines",
         "opacity": 1,
         "type": "scattermapbox"
        },
        {
         "lat": [
          34.48747888097904,
          35.76184910581689
         ],
         "line": {
          "color": "#00CC96",
          "width": 1
         },
         "lon": [
          113.792328127149,
          115.0233457843086
         ],
         "mode": "lines",
         "opacity": 1,
         "type": "scattermapbox"
        },
        {
         "lat": [
          34.48747888097904,
          32.06232355267544
         ],
         "line": {
          "color": "#00CC96",
          "width": 1
         },
         "lon": [
          113.792328127149,
          118.7916846702178
         ],
         "mode": "lines",
         "opacity": 1,
         "type": "scattermapbox"
        },
        {
         "lat": [
          34.48747888097904,
          31.35470362228185
         ],
         "line": {
          "color": "#00CC96",
          "width": 1
         },
         "lon": [
          113.792328127149,
          118.4275501703881
         ],
         "mode": "lines",
         "opacity": 1,
         "type": "scattermapbox"
        },
        {
         "lat": [
          34.48747888097904,
          35.30359480186157
         ],
         "line": {
          "color": "#00CC96",
          "width": 1
         },
         "lon": [
          113.792328127149,
          113.9208970878092
         ],
         "mode": "lines",
         "opacity": 1,
         "type": "scattermapbox"
        },
        {
         "lat": [
          34.48747888097904,
          33.01335650611892
         ],
         "line": {
          "color": "#00CC96",
          "width": 1
         },
         "lon": [
          113.792328127149,
          114.0164292106147
         ],
         "mode": "lines",
         "opacity": 1,
         "type": "scattermapbox"
        },
        {
         "lat": [
          34.48747888097904,
          31.82258053795522
         ],
         "line": {
          "color": "#00CC96",
          "width": 1
         },
         "lon": [
          113.792328127149,
          117.2217530206498
         ],
         "mode": "lines",
         "opacity": 1,
         "type": "scattermapbox"
        },
        {
         "lat": [
          34.48747888097904,
          33.62771504579078
         ],
         "line": {
          "color": "#00CC96",
          "width": 1
         },
         "lon": [
          113.792328127149,
          114.6914875280797
         ],
         "mode": "lines",
         "opacity": 1,
         "type": "scattermapbox"
        },
        {
         "lat": [
          34.48747888097904,
          34.41554751048077
         ],
         "line": {
          "color": "#00CC96",
          "width": 1
         },
         "lon": [
          113.792328127149,
          115.6508712568022
         ],
         "mode": "lines",
         "opacity": 1,
         "type": "scattermapbox"
        },
        {
         "lat": [
          34.48747888097904,
          33.34881077578557
         ],
         "line": {
          "color": "#00CC96",
          "width": 1
         },
         "lon": [
          113.792328127149,
          120.1586027412798
         ],
         "mode": "lines",
         "opacity": 1,
         "type": "scattermapbox"
        },
        {
         "lat": [
          34.48747888097904,
          36.19521524648712
         ],
         "line": {
          "color": "#00CC96",
          "width": 1
         },
         "lon": [
          113.792328127149,
          113.1095869618306
         ],
         "mode": "lines",
         "opacity": 1,
         "type": "scattermapbox"
        },
        {
         "lat": [
          34.48747888097904,
          30.54578375093637
         ],
         "line": {
          "color": "#00CC96",
          "width": 1
         },
         "lon": [
          113.792328127149,
          117.0583094488215
         ],
         "mode": "lines",
         "opacity": 1,
         "type": "scattermapbox"
        },
        {
         "lat": [
          34.48747888097904,
          35.23412907616527
         ],
         "line": {
          "color": "#00CC96",
          "width": 1
         },
         "lon": [
          113.792328127149,
          115.4747879692151
         ],
         "mode": "lines",
         "opacity": 1,
         "type": "scattermapbox"
        },
        {
         "lat": [
          34.48747888097904,
          33.64794994611666
         ],
         "line": {
          "color": "#00CC96",
          "width": 1
         },
         "lon": [
          113.792328127149,
          116.95899047143
         ],
         "mode": "lines",
         "opacity": 1,
         "type": "scattermapbox"
        },
        {
         "lat": [
          34.48747888097904,
          29.71706301538657
         ],
         "line": {
          "color": "#00CC96",
          "width": 1
         },
         "lon": [
          113.792328127149,
          118.3322856589073
         ],
         "mode": "lines",
         "opacity": 1,
         "type": "scattermapbox"
        },
        {
         "lat": [
          34.48747888097904,
          30.66714344132274
         ],
         "line": {
          "color": "#00CC96",
          "width": 1
         },
         "lon": [
          113.792328127149,
          117.4860824783757
         ],
         "mode": "lines",
         "opacity": 1,
         "type": "scattermapbox"
        },
        {
         "lat": [
          34.48747888097904,
          35.49110504705786
         ],
         "line": {
          "color": "#00CC96",
          "width": 1
         },
         "lon": [
          113.792328127149,
          112.8457114258861
         ],
         "mode": "lines",
         "opacity": 1,
         "type": "scattermapbox"
        },
        {
         "lat": [
          34.48747888097904,
          30.94771223306929
         ],
         "line": {
          "color": "#00CC96",
          "width": 1
         },
         "lon": [
          113.792328127149,
          117.8067260077645
         ],
         "mode": "lines",
         "opacity": 1,
         "type": "scattermapbox"
        },
        {
         "lat": [
          34.48747888097904,
          33.611763586717
         ],
         "line": {
          "color": "#00CC96",
          "width": 1
         },
         "lon": [
          113.792328127149,
          119.0098472690756
         ],
         "mode": "lines",
         "opacity": 1,
         "type": "scattermapbox"
        },
        {
         "lat": [
          34.48747888097904,
          35.74730281423409
         ],
         "line": {
          "color": "#00CC96",
          "width": 1
         },
         "lon": [
          113.792328127149,
          114.2913498473666
         ],
         "mode": "lines",
         "opacity": 1,
         "type": "scattermapbox"
        },
        {
         "lat": [
          34.48747888097904,
          33.95726296715417
         ],
         "line": {
          "color": "#00CC96",
          "width": 1
         },
         "lon": [
          113.792328127149,
          116.7928608550622
         ],
         "mode": "lines",
         "opacity": 1,
         "type": "scattermapbox"
        },
        {
         "lat": [
          34.48747888097904,
          34.20706393180895
         ],
         "line": {
          "color": "#00CC96",
          "width": 1
         },
         "lon": [
          113.792328127149,
          117.2783803771574
         ],
         "mode": "lines",
         "opacity": 1,
         "type": "scattermapbox"
        },
        {
         "lat": [
          34.48747888097904,
          37.07009447918728
         ],
         "line": {
          "color": "#00CC96",
          "width": 1
         },
         "lon": [
          113.792328127149,
          114.4989149321016
         ],
         "mode": "lines",
         "opacity": 1,
         "type": "scattermapbox"
        },
        {
         "lat": [
          34.48747888097904,
          36.08811024456974
         ],
         "line": {
          "color": "#00CC96",
          "width": 1
         },
         "lon": [
          113.792328127149,
          111.512738356361
         ],
         "mode": "lines",
         "opacity": 1,
         "type": "scattermapbox"
        },
        {
         "lat": [
          34.48747888097904,
          36.62556357656246
         ],
         "line": {
          "color": "#00CC96",
          "width": 1
         },
         "lon": [
          113.792328127149,
          114.5332139277783
         ],
         "mode": "lines",
         "opacity": 1,
         "type": "scattermapbox"
        },
        {
         "lat": [
          34.48747888097904,
          33.58291634117343
         ],
         "line": {
          "color": "#00CC96",
          "width": 1
         },
         "lon": [
          113.792328127149,
          114.0106299585456
         ],
         "mode": "lines",
         "opacity": 1,
         "type": "scattermapbox"
        },
        {
         "lat": [
          34.48747888097904,
          32.91799515400531
         ],
         "line": {
          "color": "#00CC96",
          "width": 1
         },
         "lon": [
          113.792328127149,
          117.3838768458563
         ],
         "mode": "lines",
         "opacity": 1,
         "type": "scattermapbox"
        },
        {
         "lat": [
          34.48747888097904,
          38.04166913884188
         ],
         "line": {
          "color": "#00CC96",
          "width": 1
         },
         "lon": [
          113.792328127149,
          114.5088610208725
         ],
         "mode": "lines",
         "opacity": 1,
         "type": "scattermapbox"
        },
        {
         "lat": [
          34.48747888097904,
          34.77346975390627
         ],
         "line": {
          "color": "#00CC96",
          "width": 1
         },
         "lon": [
          113.792328127149,
          111.1941341473168
         ],
         "mode": "lines",
         "opacity": 1,
         "type": "scattermapbox"
        },
        {
         "lat": [
          34.48747888097904,
          32.01093810474285
         ],
         "line": {
          "color": "#00CC96",
          "width": 1
         },
         "lon": [
          113.792328127149,
          112.1163256977821
         ],
         "mode": "lines",
         "opacity": 1,
         "type": "scattermapbox"
        },
        {
         "lat": [
          34.48747888097904,
          32.99281483167919
         ],
         "line": {
          "color": "#00CC96",
          "width": 1
         },
         "lon": [
          113.792328127149,
          112.5224592560118
         ],
         "mode": "lines",
         "opacity": 1,
         "type": "scattermapbox"
        },
        {
         "lat": [
          34.48747888097904,
          28.31533925357757
         ],
         "line": {
          "color": "#00CC96",
          "width": 1
         },
         "lon": [
          113.792328127149,
          109.7344422775661
         ],
         "mode": "lines",
         "opacity": 1,
         "type": "scattermapbox"
        },
        {
         "lat": [
          34.48747888097904,
          30.27471062336162
         ],
         "line": {
          "color": "#00CC96",
          "width": 1
         },
         "lon": [
          113.792328127149,
          109.4832871762125
         ],
         "mode": "lines",
         "opacity": 1,
         "type": "scattermapbox"
        },
        {
         "lat": [
          34.48747888097904,
          34.7477864125606
         ],
         "line": {
          "color": "#00CC96",
          "width": 1
         },
         "lon": [
          113.792328127149,
          113.6193255888591
         ],
         "mode": "lines",
         "opacity": 1,
         "type": "scattermapbox"
        },
        {
         "lat": [
          34.48747888097904,
          32.63157768676001
         ],
         "line": {
          "color": "#00CC96",
          "width": 1
         },
         "lon": [
          113.792328127149,
          110.7926649102856
         ],
         "mode": "lines",
         "opacity": 1,
         "type": "scattermapbox"
        },
        {
         "lat": [
          34.48747888097904,
          28.68621233484596
         ],
         "line": {
          "color": "#00CC96",
          "width": 1
         },
         "lon": [
          113.792328127149,
          115.8532852729079
         ],
         "mode": "lines",
         "opacity": 1,
         "type": "scattermapbox"
        },
        {
         "lat": [
          34.48747888097904,
          24.81346271120227
         ],
         "line": {
          "color": "#00CC96",
          "width": 1
         },
         "lon": [
          113.792328127149,
          113.5923294112387
         ],
         "mode": "lines",
         "opacity": 1,
         "type": "scattermapbox"
        },
        {
         "lat": [
          34.48747888097904,
          24.48248267708086
         ],
         "line": {
          "color": "#00CC96",
          "width": 1
         },
         "lon": [
          113.792328127149,
          118.084448093873
         ],
         "mode": "lines",
         "opacity": 1,
         "type": "scattermapbox"
        },
        {
         "lat": [
          34.48747888097904,
          33.76759369387327
         ],
         "line": {
          "color": "#00CC96",
          "width": 1
         },
         "lon": [
          113.792328127149,
          113.1863800141984
         ],
         "mode": "lines",
         "opacity": 1,
         "type": "scattermapbox"
        },
        {
         "lat": [
          34.48747888097904,
          31.30106716114456
         ],
         "line": {
          "color": "#00CC96",
          "width": 1
         },
         "lon": [
          113.792328127149,
          120.5811331033317
         ],
         "mode": "lines",
         "opacity": 1,
         "type": "scattermapbox"
        },
        {
         "lat": [
          34.48747888097904,
          27.95235980536817
         ],
         "line": {
          "color": "#00CC96",
          "width": 1
         },
         "lon": [
          113.792328127149,
          116.3531836141162
         ],
         "mode": "lines",
         "opacity": 1,
         "type": "scattermapbox"
        },
        {
         "lat": [
          34.48747888097904,
          28.87483938230682
         ],
         "line": {
          "color": "#00CC96",
          "width": 1
         },
         "lon": [
          113.792328127149,
          105.4386624441242
         ],
         "mode": "lines",
         "opacity": 1,
         "type": "scattermapbox"
        },
        {
         "lat": [
          34.48747888097904,
          30.45656364420607
         ],
         "line": {
          "color": "#00CC96",
          "width": 1
         },
         "lon": [
          113.792328127149,
          114.8672467200515
         ],
         "mode": "lines",
         "opacity": 1,
         "type": "scattermapbox"
        },
        {
         "lat": [
          34.48747888097904,
          35.02716522530418
         ],
         "line": {
          "color": "#00CC96",
          "width": 1
         },
         "lon": [
          113.792328127149,
          111.0017399957335
         ],
         "mode": "lines",
         "opacity": 1,
         "type": "scattermapbox"
        },
        {
         "lat": [
          34.48747888097904,
          29.11994460352727
         ],
         "line": {
          "color": "#00CC96",
          "width": 1
         },
         "lon": [
          113.792328127149,
          110.4742346915475
         ],
         "mode": "lines",
         "opacity": 1,
         "type": "scattermapbox"
        },
        {
         "lat": [
          34.48747888097904,
          30.33771856112028
         ],
         "line": {
          "color": "#00CC96",
          "width": 1
         },
         "lon": [
          113.792328127149,
          112.2340263095486
         ],
         "mode": "lines",
         "opacity": 1,
         "type": "scattermapbox"
        },
        {
         "lat": [
          34.48747888097904,
          30.59551563172663
         ],
         "line": {
          "color": "#00CC96",
          "width": 1
         },
         "lon": [
          113.792328127149,
          114.2999542047298
         ],
         "mode": "lines",
         "opacity": 1,
         "type": "scattermapbox"
        },
        {
         "lat": [
          34.48747888097904,
          23.35675589262061
         ],
         "line": {
          "color": "#00CC96",
          "width": 1
         },
         "lon": [
          113.792328127149,
          116.6775143618734
         ],
         "mode": "lines",
         "opacity": 1,
         "type": "scattermapbox"
        },
        {
         "lat": [
          34.48747888097904,
          31.03762682496149
         ],
         "line": {
          "color": "#00CC96",
          "width": 1
         },
         "lon": [
          113.792328127149,
          112.1934245655764
         ],
         "mode": "lines",
         "opacity": 1,
         "type": "scattermapbox"
        },
        {
         "lat": [
          34.48747888097904,
          34.03705424166669
         ],
         "line": {
          "color": "#00CC96",
          "width": 1
         },
         "lon": [
          113.792328127149,
          113.8467520160274
         ],
         "mode": "lines",
         "opacity": 1,
         "type": "scattermapbox"
        },
        {
         "lat": [
          34.48747888097904,
          19.52310520944081
         ],
         "line": {
          "color": "#00CC96",
          "width": 1
         },
         "lon": [
          113.792328127149,
          109.5767984155979
         ],
         "mode": "lines",
         "opacity": 1,
         "type": "scattermapbox"
        },
        {
         "lat": [
          34.48747888097904,
          24.51593413543268
         ],
         "line": {
          "color": "#00CC96",
          "width": 1
         },
         "lon": [
          113.792328127149,
          117.6427017011435
         ],
         "mode": "lines",
         "opacity": 1,
         "type": "scattermapbox"
        },
        {
         "lat": [
          34.48747888097904,
          29.84391849264382
         ],
         "line": {
          "color": "#00CC96",
          "width": 1
         },
         "lon": [
          113.792328127149,
          114.3170938337267
         ],
         "mode": "lines",
         "opacity": 1,
         "type": "scattermapbox"
        },
        {
         "lat": [
          34.48747888097904,
          25.07789418380283
         ],
         "line": {
          "color": "#00CC96",
          "width": 1
         },
         "lon": [
          113.792328127149,
          117.0126782413234
         ],
         "mode": "lines",
         "opacity": 1,
         "type": "scattermapbox"
        },
        {
         "lat": [
          34.48747888097904,
          30.20208788314098
         ],
         "line": {
          "color": "#00CC96",
          "width": 1
         },
         "lon": [
          113.792328127149,
          115.0331487829698
         ],
         "mode": "lines",
         "opacity": 1,
         "type": "scattermapbox"
        },
        {
         "lat": [
          34.48747888097904,
          20.01938822575099
         ],
         "line": {
          "color": "#00CC96",
          "width": 1
         },
         "lon": [
          113.792328127149,
          110.3448278590682
         ],
         "mode": "lines",
         "opacity": 1,
         "type": "scattermapbox"
        },
        {
         "lat": [
          34.48747888097904,
          31.69209471228168
         ],
         "line": {
          "color": "#00CC96",
          "width": 1
         },
         "lon": [
          113.792328127149,
          113.3762466668986
         ],
         "mode": "lines",
         "opacity": 1,
         "type": "scattermapbox"
        },
        {
         "lat": [
          34.48747888097904,
          34.76650596571172
         ],
         "line": {
          "color": "#00CC96",
          "width": 1
         },
         "lon": [
          113.792328127149,
          113.7474156266135
         ],
         "mode": "lines",
         "opacity": 1,
         "type": "scattermapbox"
        },
        {
         "lat": [
          34.48747888097904,
          27.55830958891995
         ],
         "line": {
          "color": "#00CC96",
          "width": 1
         },
         "lon": [
          113.792328127149,
          109.9938246198597
         ],
         "mode": "lines",
         "opacity": 1,
         "type": "scattermapbox"
        },
        {
         "lat": [
          34.48747888097904,
          29.03470474864293
         ],
         "line": {
          "color": "#00CC96",
          "width": 1
         },
         "lon": [
          113.792328127149,
          111.6928984567219
         ],
         "mode": "lines",
         "opacity": 1,
         "type": "scattermapbox"
        },
        {
         "lat": [
          34.48747888097904,
          34.33105343685244
         ],
         "line": {
          "color": "#00CC96",
          "width": 1
         },
         "lon": [
          113.792328127149,
          108.70432818877
         ],
         "mode": "lines",
         "opacity": 1,
         "type": "scattermapbox"
        },
        {
         "lat": [
          34.48747888097904,
          29.27146640241873
         ],
         "line": {
          "color": "#00CC96",
          "width": 1
         },
         "lon": [
          113.792328127149,
          117.1730932594236
         ],
         "mode": "lines",
         "opacity": 1,
         "type": "scattermapbox"
        },
        {
         "lat": [
          34.48747888097904,
          29.70763010190234
         ],
         "line": {
          "color": "#00CC96",
          "width": 1
         },
         "lon": [
          113.792328127149,
          115.9968498897885
         ],
         "mode": "lines",
         "opacity": 1,
         "type": "scattermapbox"
        },
        {
         "lat": [
          34.48747888097904,
          26.26684005591786
         ],
         "line": {
          "color": "#00CC96",
          "width": 1
         },
         "lon": [
          113.792328127149,
          117.6337852475838
         ],
         "mode": "lines",
         "opacity": 1,
         "type": "scattermapbox"
        },
        {
         "lat": [
          34.48747888097904,
          30.92704875840485
         ],
         "line": {
          "color": "#00CC96",
          "width": 1
         },
         "lon": [
          113.792328127149,
          113.9114171453589
         ],
         "mode": "lines",
         "opacity": 1,
         "type": "scattermapbox"
        },
        {
         "lat": [
          34.48747888097904,
          24.29123871036554
         ],
         "line": {
          "color": "#00CC96",
          "width": 1
         },
         "lon": [
          113.792328127149,
          116.1174052422547
         ],
         "mode": "lines",
         "opacity": 1,
         "type": "scattermapbox"
        },
        {
         "lat": [
          34.48747888097904,
          30.69441159948845
         ],
         "line": {
          "color": "#00CC96",
          "width": 1
         },
         "lon": [
          113.792328127149,
          111.2808231203681
         ],
         "mode": "lines",
         "opacity": 1,
         "type": "scattermapbox"
        },
        {
         "lat": [
          34.48747888097904,
          33.84602023421478
         ],
         "line": {
          "color": "#00CC96",
          "width": 1
         },
         "lon": [
          113.792328127149,
          115.7731280236451
         ],
         "mode": "lines",
         "opacity": 1,
         "type": "scattermapbox"
        },
        {
         "lat": [
          34.48747888097904,
          37.68634353557753
         ],
         "line": {
          "color": "#00CC96",
          "width": 1
         },
         "lon": [
          113.792328127149,
          112.7462041891047
         ],
         "mode": "lines",
         "opacity": 1,
         "type": "scattermapbox"
        },
        {
         "lat": [
          34.48747888097904,
          30.54886596183148
         ],
         "line": {
          "color": "#00CC96",
          "width": 1
         },
         "lon": [
          113.792328127149,
          114.3363714923768
         ],
         "mode": "lines",
         "opacity": 1,
         "type": "scattermapbox"
        },
        {
         "lat": [
          34.48747888097904,
          25.45688085615284
         ],
         "line": {
          "color": "#00CC96",
          "width": 1
         },
         "lon": [
          113.792328127149,
          119.0030583278949
         ],
         "mode": "lines",
         "opacity": 1,
         "type": "scattermapbox"
        },
        {
         "lat": [
          34.48747888097904,
          34.62069425847153
         ],
         "line": {
          "color": "#00CC96",
          "width": 1
         },
         "lon": [
          113.792328127149,
          112.4477739744806
         ],
         "mode": "lines",
         "opacity": 1,
         "type": "scattermapbox"
        },
        {
         "lat": [
          34.63031715995263,
          38.87297673416556
         ],
         "line": {
          "color": "#AB63FA",
          "width": 1
         },
         "lon": [
          108.9336012932089,
          115.4584681544313
         ],
         "mode": "lines",
         "opacity": 1,
         "type": "scattermapbox"
        },
        {
         "lat": [
          34.63031715995263,
          35.21640061005598
         ],
         "line": {
          "color": "#AB63FA",
          "width": 1
         },
         "lon": [
          108.9336012932089,
          113.2354557720119
         ],
         "mode": "lines",
         "opacity": 1,
         "type": "scattermapbox"
        },
        {
         "lat": [
          34.63031715995263,
          31.73575608295598
         ],
         "line": {
          "color": "#AB63FA",
          "width": 1
         },
         "lon": [
          108.9336012932089,
          116.5167623870941
         ],
         "mode": "lines",
         "opacity": 1,
         "type": "scattermapbox"
        },
        {
         "lat": [
          34.63031715995263,
          34.79814088178576
         ],
         "line": {
          "color": "#AB63FA",
          "width": 1
         },
         "lon": [
          108.9336012932089,
          114.3017451893433
         ],
         "mode": "lines",
         "opacity": 1,
         "type": "scattermapbox"
        },
        {
         "lat": [
          34.63031715995263,
          40.70959455770206
         ],
         "line": {
          "color": "#AB63FA",
          "width": 1
         },
         "lon": [
          108.9336012932089,
          120.8317448357023
         ],
         "mode": "lines",
         "opacity": 1,
         "type": "scattermapbox"
        },
        {
         "lat": [
          34.63031715995263,
          37.73828947669901
         ],
         "line": {
          "color": "#AB63FA",
          "width": 1
         },
         "lon": [
          108.9336012932089,
          115.6642998789322
         ],
         "mode": "lines",
         "opacity": 1,
         "type": "scattermapbox"
        },
        {
         "lat": [
          34.63031715995263,
          36.09740671694131
         ],
         "line": {
          "color": "#AB63FA",
          "width": 1
         },
         "lon": [
          108.9336012932089,
          114.3863032251404
         ],
         "mode": "lines",
         "opacity": 1,
         "type": "scattermapbox"
        },
        {
         "lat": [
          34.63031715995263,
          41.09306620182436
         ],
         "line": {
          "color": "#AB63FA",
          "width": 1
         },
         "lon": [
          108.9336012932089,
          121.1213539396126
         ],
         "mode": "lines",
         "opacity": 1,
         "type": "scattermapbox"
        },
        {
         "lat": [
          34.63031715995263,
          39.902626245166
         ],
         "line": {
          "color": "#AB63FA",
          "width": 1
         },
         "lon": [
          108.9336012932089,
          116.4012828477588
         ],
         "mode": "lines",
         "opacity": 1,
         "type": "scattermapbox"
        },
        {
         "lat": [
          34.63031715995263,
          37.87005096677684
         ],
         "line": {
          "color": "#AB63FA",
          "width": 1
         },
         "lon": [
          108.9336012932089,
          112.5425630342325
         ],
         "mode": "lines",
         "opacity": 1,
         "type": "scattermapbox"
        },
        {
         "lat": [
          34.63031715995263,
          35.76184910581689
         ],
         "line": {
          "color": "#AB63FA",
          "width": 1
         },
         "lon": [
          108.9336012932089,
          115.0233457843086
         ],
         "mode": "lines",
         "opacity": 1,
         "type": "scattermapbox"
        },
        {
         "lat": [
          34.63031715995263,
          39.93427691598691
         ],
         "line": {
          "color": "#AB63FA",
          "width": 1
         },
         "lon": [
          108.9336012932089,
          119.5947177212679
         ],
         "mode": "lines",
         "opacity": 1,
         "type": "scattermapbox"
        },
        {
         "lat": [
          34.63031715995263,
          35.30359480186157
         ],
         "line": {
          "color": "#AB63FA",
          "width": 1
         },
         "lon": [
          108.9336012932089,
          113.9208970878092
         ],
         "mode": "lines",
         "opacity": 1,
         "type": "scattermapbox"
        },
        {
         "lat": [
          34.63031715995263,
          33.01335650611892
         ],
         "line": {
          "color": "#AB63FA",
          "width": 1
         },
         "lon": [
          108.9336012932089,
          114.0164292106147
         ],
         "mode": "lines",
         "opacity": 1,
         "type": "scattermapbox"
        },
        {
         "lat": [
          34.63031715995263,
          41.10674546752389
         ],
         "line": {
          "color": "#AB63FA",
          "width": 1
         },
         "lon": [
          108.9336012932089,
          122.9888556604474
         ],
         "mode": "lines",
         "opacity": 1,
         "type": "scattermapbox"
        },
        {
         "lat": [
          34.63031715995263,
          39.33042586350068
         ],
         "line": {
          "color": "#AB63FA",
          "width": 1
         },
         "lon": [
          108.9336012932089,
          112.4259678830538
         ],
         "mode": "lines",
         "opacity": 1,
         "type": "scattermapbox"
        },
        {
         "lat": [
          34.63031715995263,
          33.62771504579078
         ],
         "line": {
          "color": "#AB63FA",
          "width": 1
         },
         "lon": [
          108.9336012932089,
          114.6914875280797
         ],
         "mode": "lines",
         "opacity": 1,
         "type": "scattermapbox"
        },
        {
         "lat": [
          34.63031715995263,
          34.41554751048077
         ],
         "line": {
          "color": "#AB63FA",
          "width": 1
         },
         "lon": [
          108.9336012932089,
          115.6508712568022
         ],
         "mode": "lines",
         "opacity": 1,
         "type": "scattermapbox"
        },
        {
         "lat": [
          34.63031715995263,
          36.19521524648712
         ],
         "line": {
          "color": "#AB63FA",
          "width": 1
         },
         "lon": [
          108.9336012932089,
          113.1095869618306
         ],
         "mode": "lines",
         "opacity": 1,
         "type": "scattermapbox"
        },
        {
         "lat": [
          34.63031715995263,
          42.25587691695832
         ],
         "line": {
          "color": "#AB63FA",
          "width": 1
         },
         "lon": [
          108.9336012932089,
          118.8806794224993
         ],
         "mode": "lines",
         "opacity": 1,
         "type": "scattermapbox"
        },
        {
         "lat": [
          34.63031715995263,
          38.28487573162408
         ],
         "line": {
          "color": "#AB63FA",
          "width": 1
         },
         "lon": [
          108.9336012932089,
          109.7290105322149
         ],
         "mode": "lines",
         "opacity": 1,
         "type": "scattermapbox"
        },
        {
         "lat": [
          34.63031715995263,
          33.64794994611666
         ],
         "line": {
          "color": "#AB63FA",
          "width": 1
         },
         "lon": [
          108.9336012932089,
          116.95899047143
         ],
         "mode": "lines",
         "opacity": 1,
         "type": "scattermapbox"
        },
        {
         "lat": [
          34.63031715995263,
          34.59768100862672
         ],
         "line": {
          "color": "#AB63FA",
          "width": 1
         },
         "lon": [
          108.9336012932089,
          119.2160715736077
         ],
         "mode": "lines",
         "opacity": 1,
         "type": "scattermapbox"
        },
        {
         "lat": [
          34.63031715995263,
          37.85646220510019
         ],
         "line": {
          "color": "#AB63FA",
          "width": 1
         },
         "lon": [
          108.9336012932089,
          113.574107092927
         ],
         "mode": "lines",
         "opacity": 1,
         "type": "scattermapbox"
        },
        {
         "lat": [
          34.63031715995263,
          41.80326291802402
         ],
         "line": {
          "color": "#AB63FA",
          "width": 1
         },
         "lon": [
          108.9336012932089,
          123.4253315842275
         ],
         "mode": "lines",
         "opacity": 1,
         "type": "scattermapbox"
        },
        {
         "lat": [
          34.63031715995263,
          42.01951815368355
         ],
         "line": {
          "color": "#AB63FA",
          "width": 1
         },
         "lon": [
          108.9336012932089,
          121.6649262102888
         ],
         "mode": "lines",
         "opacity": 1,
         "type": "scattermapbox"
        },
        {
         "lat": [
          34.63031715995263,
          41.87872843096351
         ],
         "line": {
          "color": "#AB63FA",
          "width": 1
         },
         "lon": [
          108.9336012932089,
          123.9514479031235
         ],
         "mode": "lines",
         "opacity": 1,
         "type": "scattermapbox"
        },
        {
         "lat": [
          34.63031715995263,
          35.49110504705786
         ],
         "line": {
          "color": "#AB63FA",
          "width": 1
         },
         "lon": [
          108.9336012932089,
          112.8457114258861
         ],
         "mode": "lines",
         "opacity": 1,
         "type": "scattermapbox"
        },
        {
         "lat": [
          34.63031715995263,
          33.611763586717
         ],
         "line": {
          "color": "#AB63FA",
          "width": 1
         },
         "lon": [
          108.9336012932089,
          119.0098472690756
         ],
         "mode": "lines",
         "opacity": 1,
         "type": "scattermapbox"
        },
        {
         "lat": [
          34.63031715995263,
          33.96458366057329
         ],
         "line": {
          "color": "#AB63FA",
          "width": 1
         },
         "lon": [
          108.9336012932089,
          118.2696951415908
         ],
         "mode": "lines",
         "opacity": 1,
         "type": "scattermapbox"
        },
        {
         "lat": [
          34.63031715995263,
          35.74730281423409
         ],
         "line": {
          "color": "#AB63FA",
          "width": 1
         },
         "lon": [
          108.9336012932089,
          114.2913498473666
         ],
         "mode": "lines",
         "opacity": 1,
         "type": "scattermapbox"
        },
        {
         "lat": [
          34.63031715995263,
          33.95726296715417
         ],
         "line": {
          "color": "#AB63FA",
          "width": 1
         },
         "lon": [
          108.9336012932089,
          116.7928608550622
         ],
         "mode": "lines",
         "opacity": 1,
         "type": "scattermapbox"
        },
        {
         "lat": [
          34.63031715995263,
          41.26517446940125
         ],
         "line": {
          "color": "#AB63FA",
          "width": 1
         },
         "lon": [
          108.9336012932089,
          123.2312079197878
         ],
         "mode": "lines",
         "opacity": 1,
         "type": "scattermapbox"
        },
        {
         "lat": [
          34.63031715995263,
          41.11791379409293
         ],
         "line": {
          "color": "#AB63FA",
          "width": 1
         },
         "lon": [
          108.9336012932089,
          122.0652294108859
         ],
         "mode": "lines",
         "opacity": 1,
         "type": "scattermapbox"
        },
        {
         "lat": [
          34.63031715995263,
          37.51752738993748
         ],
         "line": {
          "color": "#AB63FA",
          "width": 1
         },
         "lon": [
          108.9336012932089,
          111.1379504274304
         ],
         "mode": "lines",
         "opacity": 1,
         "type": "scattermapbox"
        },
        {
         "lat": [
          34.63031715995263,
          39.62954759868035
         ],
         "line": {
          "color": "#AB63FA",
          "width": 1
         },
         "lon": [
          108.9336012932089,
          118.1738965760385
         ],
         "mode": "lines",
         "opacity": 1,
         "type": "scattermapbox"
        },
        {
         "lat": [
          34.63031715995263,
          40.95250667908144
         ],
         "line": {
          "color": "#AB63FA",
          "width": 1
         },
         "lon": [
          108.9336012932089,
          117.9561006544303
         ],
         "mode": "lines",
         "opacity": 1,
         "type": "scattermapbox"
        },
        {
         "lat": [
          34.63031715995263,
          37.07009447918728
         ],
         "line": {
          "color": "#AB63FA",
          "width": 1
         },
         "lon": [
          108.9336012932089,
          114.4989149321016
         ],
         "mode": "lines",
         "opacity": 1,
         "type": "scattermapbox"
        },
        {
         "lat": [
          34.63031715995263,
          36.08811024456974
         ],
         "line": {
          "color": "#AB63FA",
          "width": 1
         },
         "lon": [
          108.9336012932089,
          111.512738356361
         ],
         "mode": "lines",
         "opacity": 1,
         "type": "scattermapbox"
        },
        {
         "lat": [
          34.63031715995263,
          36.62556357656246
         ],
         "line": {
          "color": "#AB63FA",
          "width": 1
         },
         "lon": [
          108.9336012932089,
          114.5332139277783
         ],
         "mode": "lines",
         "opacity": 1,
         "type": "scattermapbox"
        },
        {
         "lat": [
          34.63031715995263,
          33.58291634117343
         ],
         "line": {
          "color": "#AB63FA",
          "width": 1
         },
         "lon": [
          108.9336012932089,
          114.0106299585456
         ],
         "mode": "lines",
         "opacity": 1,
         "type": "scattermapbox"
        },
        {
         "lat": [
          34.63031715995263,
          38.41608696241872
         ],
         "line": {
          "color": "#AB63FA",
          "width": 1
         },
         "lon": [
          108.9336012932089,
          112.727613615456
         ],
         "mode": "lines",
         "opacity": 1,
         "type": "scattermapbox"
        },
        {
         "lat": [
          34.63031715995263,
          38.04166913884188
         ],
         "line": {
          "color": "#AB63FA",
          "width": 1
         },
         "lon": [
          108.9336012932089,
          114.5088610208725
         ],
         "mode": "lines",
         "opacity": 1,
         "type": "scattermapbox"
        },
        {
         "lat": [
          34.63031715995263,
          38.30390787880884
         ],
         "line": {
          "color": "#AB63FA",
          "width": 1
         },
         "lon": [
          108.9336012932089,
          116.833033542554
         ],
         "mode": "lines",
         "opacity": 1,
         "type": "scattermapbox"
        },
        {
         "lat": [
          34.63031715995263,
          40.8411402225846
         ],
         "line": {
          "color": "#AB63FA",
          "width": 1
         },
         "lon": [
          108.9336012932089,
          111.7422639952268
         ],
         "mode": "lines",
         "opacity": 1,
         "type": "scattermapbox"
        },
        {
         "lat": [
          34.63031715995263,
          40.65629113306126
         ],
         "line": {
          "color": "#AB63FA",
          "width": 1
         },
         "lon": [
          108.9336012932089,
          109.8346292526299
         ],
         "mode": "lines",
         "opacity": 1,
         "type": "scattermapbox"
        },
        {
         "lat": [
          34.63031715995263,
          39.902626245166
         ],
         "line": {
          "color": "#AB63FA",
          "width": 1
         },
         "lon": [
          108.9336012932089,
          116.4012828477588
         ],
         "mode": "lines",
         "opacity": 1,
         "type": "scattermapbox"
        },
        {
         "lat": [
          34.63031715995263,
          40.07557310802614
         ],
         "line": {
          "color": "#AB63FA",
          "width": 1
         },
         "lon": [
          108.9336012932089,
          113.2931269502874
         ],
         "mode": "lines",
         "opacity": 1,
         "type": "scattermapbox"
        },
        {
         "lat": [
          34.63031715995263,
          40.82308854129995
         ],
         "line": {
          "color": "#AB63FA",
          "width": 1
         },
         "lon": [
          108.9336012932089,
          114.8814226622556
         ],
         "mode": "lines",
         "opacity": 1,
         "type": "scattermapbox"
        },
        {
         "lat": [
          34.63031715995263,
          43.65052523160977
         ],
         "line": {
          "color": "#AB63FA",
          "width": 1
         },
         "lon": [
          108.9336012932089,
          122.2378879047936
         ],
         "mode": "lines",
         "opacity": 1,
         "type": "scattermapbox"
        },
        {
         "lat": [
          34.63031715995263,
          40.99301005071572
         ],
         "line": {
          "color": "#AB63FA",
          "width": 1
         },
         "lon": [
          108.9336012932089,
          113.1253090209648
         ],
         "mode": "lines",
         "opacity": 1,
         "type": "scattermapbox"
        },
        {
         "lat": [
          34.63031715995263,
          39.60724263159052
         ],
         "line": {
          "color": "#AB63FA",
          "width": 1
         },
         "lon": [
          108.9336012932089,
          109.7756072826352
         ],
         "mode": "lines",
         "opacity": 1,
         "type": "scattermapbox"
        },
        {
         "lat": [
          34.63031715995263,
          39.53695727577932
         ],
         "line": {
          "color": "#AB63FA",
          "width": 1
         },
         "lon": [
          108.9336012932089,
          116.677852879759
         ],
         "mode": "lines",
         "opacity": 1,
         "type": "scattermapbox"
        },
        {
         "lat": [
          34.63031715995263,
          34.77346975390627
         ],
         "line": {
          "color": "#AB63FA",
          "width": 1
         },
         "lon": [
          108.9336012932089,
          111.1941341473168
         ],
         "mode": "lines",
         "opacity": 1,
         "type": "scattermapbox"
        },
        {
         "lat": [
          34.63031715995263,
          32.01093810474285
         ],
         "line": {
          "color": "#AB63FA",
          "width": 1
         },
         "lon": [
          108.9336012932089,
          112.1163256977821
         ],
         "mode": "lines",
         "opacity": 1,
         "type": "scattermapbox"
        },
        {
         "lat": [
          34.63031715995263,
          32.99281483167919
         ],
         "line": {
          "color": "#AB63FA",
          "width": 1
         },
         "lon": [
          108.9336012932089,
          112.5224592560118
         ],
         "mode": "lines",
         "opacity": 1,
         "type": "scattermapbox"
        },
        {
         "lat": [
          34.63031715995263,
          34.7477864125606
         ],
         "line": {
          "color": "#AB63FA",
          "width": 1
         },
         "lon": [
          108.9336012932089,
          113.6193255888591
         ],
         "mode": "lines",
         "opacity": 1,
         "type": "scattermapbox"
        },
        {
         "lat": [
          34.63031715995263,
          32.63157768676001
         ],
         "line": {
          "color": "#AB63FA",
          "width": 1
         },
         "lon": [
          108.9336012932089,
          110.7926649102856
         ],
         "mode": "lines",
         "opacity": 1,
         "type": "scattermapbox"
        },
        {
         "lat": [
          34.63031715995263,
          33.76759369387327
         ],
         "line": {
          "color": "#AB63FA",
          "width": 1
         },
         "lon": [
          108.9336012932089,
          113.1863800141984
         ],
         "mode": "lines",
         "opacity": 1,
         "type": "scattermapbox"
        },
        {
         "lat": [
          34.63031715995263,
          28.87483938230682
         ],
         "line": {
          "color": "#AB63FA",
          "width": 1
         },
         "lon": [
          108.9336012932089,
          105.4386624441242
         ],
         "mode": "lines",
         "opacity": 1,
         "type": "scattermapbox"
        },
        {
         "lat": [
          34.63031715995263,
          35.02716522530418
         ],
         "line": {
          "color": "#AB63FA",
          "width": 1
         },
         "lon": [
          108.9336012932089,
          111.0017399957335
         ],
         "mode": "lines",
         "opacity": 1,
         "type": "scattermapbox"
        },
        {
         "lat": [
          34.63031715995263,
          34.03705424166669
         ],
         "line": {
          "color": "#AB63FA",
          "width": 1
         },
         "lon": [
          108.9336012932089,
          113.8467520160274
         ],
         "mode": "lines",
         "opacity": 1,
         "type": "scattermapbox"
        },
        {
         "lat": [
          34.63031715995263,
          31.69209471228168
         ],
         "line": {
          "color": "#AB63FA",
          "width": 1
         },
         "lon": [
          108.9336012932089,
          113.3762466668986
         ],
         "mode": "lines",
         "opacity": 1,
         "type": "scattermapbox"
        },
        {
         "lat": [
          34.63031715995263,
          34.33105343685244
         ],
         "line": {
          "color": "#AB63FA",
          "width": 1
         },
         "lon": [
          108.9336012932089,
          108.70432818877
         ],
         "mode": "lines",
         "opacity": 1,
         "type": "scattermapbox"
        },
        {
         "lat": [
          34.63031715995263,
          33.84602023421478
         ],
         "line": {
          "color": "#AB63FA",
          "width": 1
         },
         "lon": [
          108.9336012932089,
          115.7731280236451
         ],
         "mode": "lines",
         "opacity": 1,
         "type": "scattermapbox"
        },
        {
         "lat": [
          34.63031715995263,
          37.68634353557753
         ],
         "line": {
          "color": "#AB63FA",
          "width": 1
         },
         "lon": [
          108.9336012932089,
          112.7462041891047
         ],
         "mode": "lines",
         "opacity": 1,
         "type": "scattermapbox"
        },
        {
         "lat": [
          34.63031715995263,
          34.62069425847153
         ],
         "line": {
          "color": "#AB63FA",
          "width": 1
         },
         "lon": [
          108.9336012932089,
          112.4477739744806
         ],
         "mode": "lines",
         "opacity": 1,
         "type": "scattermapbox"
        },
        {
         "lat": [
          34.63031715995263,
          36.06141171846495
         ],
         "line": {
          "color": "#AB63FA",
          "width": 1
         },
         "lon": [
          108.9336012932089,
          103.8318948117832
         ],
         "mode": "lines",
         "opacity": 1,
         "type": "scattermapbox"
        },
        {
         "lat": [
          34.63031715995263,
          34.36339558112846
         ],
         "line": {
          "color": "#AB63FA",
          "width": 1
         },
         "lon": [
          108.9336012932089,
          107.2332812200772
         ],
         "mode": "lines",
         "opacity": 1,
         "type": "scattermapbox"
        },
        {
         "lat": [
          34.63031715995263,
          33.06937808326742
         ],
         "line": {
          "color": "#AB63FA",
          "width": 1
         },
         "lon": [
          108.9336012932089,
          107.0188196460534
         ],
         "mode": "lines",
         "opacity": 1,
         "type": "scattermapbox"
        },
        {
         "lat": [
          34.63031715995263,
          35.54352430899147
         ],
         "line": {
          "color": "#AB63FA",
          "width": 1
         },
         "lon": [
          108.9336012932089,
          106.6610286688978
         ],
         "mode": "lines",
         "opacity": 1,
         "type": "scattermapbox"
        },
        {
         "lat": [
          34.63031715995263,
          35.70948020808187
         ],
         "line": {
          "color": "#AB63FA",
          "width": 1
         },
         "lon": [
          108.9336012932089,
          107.6388965577504
         ],
         "mode": "lines",
         "opacity": 1,
         "type": "scattermapbox"
        },
        {
         "lat": [
          34.63031715995263,
          37.92798045819693
         ],
         "line": {
          "color": "#AB63FA",
          "width": 1
         },
         "lon": [
          108.9336012932089,
          102.6362981150711
         ],
         "mode": "lines",
         "opacity": 1,
         "type": "scattermapbox"
        },
        {
         "lat": [
          34.63031715995263,
          40.81607321636371
         ],
         "line": {
          "color": "#AB63FA",
          "width": 1
         },
         "lon": [
          108.9336012932089,
          111.7587040406893
         ],
         "mode": "lines",
         "opacity": 1,
         "type": "scattermapbox"
        },
        {
         "lat": [
          34.63031715995263,
          34.98452245844625
         ],
         "line": {
          "color": "#AB63FA",
          "width": 1
         },
         "lon": [
          108.9336012932089,
          102.9093063078813
         ],
         "mode": "lines",
         "opacity": 1,
         "type": "scattermapbox"
        },
        {
         "lat": [
          34.63031715995263,
          37.99690919719102
         ],
         "line": {
          "color": "#AB63FA",
          "width": 1
         },
         "lon": [
          108.9336012932089,
          106.1939858033097
         ],
         "mode": "lines",
         "opacity": 1,
         "type": "scattermapbox"
        },
        {
         "lat": [
          34.63031715995263,
          36.58534208664667
         ],
         "line": {
          "color": "#AB63FA",
          "width": 1
         },
         "lon": [
          108.9336012932089,
          109.4843056704631
         ],
         "mode": "lines",
         "opacity": 1,
         "type": "scattermapbox"
        },
        {
         "lat": [
          34.63031715995263,
          31.2117043271299
         ],
         "line": {
          "color": "#AB63FA",
          "width": 1
         },
         "lon": [
          108.9336012932089,
          107.4633548893442
         ],
         "mode": "lines",
         "opacity": 1,
         "type": "scattermapbox"
        },
        {
         "lat": [
          34.63031715995263,
          31.12899552745817
         ],
         "line": {
          "color": "#AB63FA",
          "width": 1
         },
         "lon": [
          108.9336012932089,
          104.3952141871174
         ],
         "mode": "lines",
         "opacity": 1,
         "type": "scattermapbox"
        },
        {
         "lat": [
          34.63031715995263,
          30.13175078920077
         ],
         "line": {
          "color": "#AB63FA",
          "width": 1
         },
         "lon": [
          108.9336012932089,
          104.6252370576223
         ],
         "mode": "lines",
         "opacity": 1,
         "type": "scattermapbox"
        },
        {
         "lat": [
          34.63031715995263,
          31.90165666241077
         ],
         "line": {
          "color": "#AB63FA",
          "width": 1
         },
         "lon": [
          108.9336012932089,
          102.223006553013
         ],
         "mode": "lines",
         "opacity": 1,
         "type": "scattermapbox"
        },
        {
         "lat": [
          34.63031715995263,
          27.88504356472883
         ],
         "line": {
          "color": "#AB63FA",
          "width": 1
         },
         "lon": [
          108.9336012932089,
          102.265841134515
         ],
         "mode": "lines",
         "opacity": 1,
         "type": "scattermapbox"
        },
        {
         "lat": [
          34.63031715995263,
          28.75519768160823
         ],
         "line": {
          "color": "#AB63FA",
          "width": 1
         },
         "lon": [
          108.9336012932089,
          104.6408382179202
         ],
         "mode": "lines",
         "opacity": 1,
         "type": "scattermapbox"
        },
        {
         "lat": [
          34.63031715995263,
          35.60153855696797
         ],
         "line": {
          "color": "#AB63FA",
          "width": 1
         },
         "lon": [
          108.9336012932089,
          103.2082935117161
         ],
         "mode": "lines",
         "opacity": 1,
         "type": "scattermapbox"
        },
        {
         "lat": [
          34.63031715995263,
          31.46973069933239
         ],
         "line": {
          "color": "#AB63FA",
          "width": 1
         },
         "lon": [
          108.9336012932089,
          104.6765055884907
         ],
         "mode": "lines",
         "opacity": 1,
         "type": "scattermapbox"
        },
        {
         "lat": [
          34.63031715995263,
          30.84007214993655
         ],
         "line": {
          "color": "#AB63FA",
          "width": 1
         },
         "lon": [
          108.9336012932089,
          106.1066772287715
         ],
         "mode": "lines",
         "opacity": 1,
         "type": "scattermapbox"
        },
        {
         "lat": [
          34.63031715995263,
          31.87008571552613
         ],
         "line": {
          "color": "#AB63FA",
          "width": 1
         },
         "lon": [
          108.9336012932089,
          106.7433360907896
         ],
         "mode": "lines",
         "opacity": 1,
         "type": "scattermapbox"
        },
        {
         "lat": [
          34.63031715995263,
          30.53563957427876
         ],
         "line": {
          "color": "#AB63FA",
          "width": 1
         },
         "lon": [
          108.9336012932089,
          105.5894893487255
         ],
         "mode": "lines",
         "opacity": 1,
         "type": "scattermapbox"
        },
        {
         "lat": [
          34.63031715995263,
          29.3418851374181
         ],
         "line": {
          "color": "#AB63FA",
          "width": 1
         },
         "lon": [
          108.9336012932089,
          104.7757456053025
         ],
         "mode": "lines",
         "opacity": 1,
         "type": "scattermapbox"
        },
        {
         "lat": [
          34.63031715995263,
          30.45874152168983
         ],
         "line": {
          "color": "#AB63FA",
          "width": 1
         },
         "lon": [
          108.9336012932089,
          106.6294280176608
         ],
         "mode": "lines",
         "opacity": 1,
         "type": "scattermapbox"
        },
        {
         "lat": [
          34.63031715995263,
          30.0523443545809
         ],
         "line": {
          "color": "#AB63FA",
          "width": 1
         },
         "lon": [
          108.9336012932089,
          101.9607944939152
         ],
         "mode": "lines",
         "opacity": 1,
         "type": "scattermapbox"
        },
        {
         "lat": [
          34.63031715995263,
          32.43782752968448
         ],
         "line": {
          "color": "#AB63FA",
          "width": 1
         },
         "lon": [
          108.9336012932089,
          105.8396443188976
         ],
         "mode": "lines",
         "opacity": 1,
         "type": "scattermapbox"
        },
        {
         "lat": [
          34.63031715995263,
          31.14329275102384
         ],
         "line": {
          "color": "#AB63FA",
          "width": 1
         },
         "lon": [
          108.9336012932089,
          97.17148314940665
         ],
         "mode": "lines",
         "opacity": 1,
         "type": "scattermapbox"
        },
        {
         "lat": [
          34.63031715995263,
          29.98320267641596
         ],
         "line": {
          "color": "#AB63FA",
          "width": 1
         },
         "lon": [
          108.9336012932089,
          103.0114015388349
         ],
         "mode": "lines",
         "opacity": 1,
         "type": "scattermapbox"
        },
        {
         "lat": [
          34.63031715995263,
          36.01603794874545
         ],
         "line": {
          "color": "#AB63FA",
          "width": 1
         },
         "lon": [
          108.9336012932089,
          106.2384139928036
         ],
         "mode": "lines",
         "opacity": 1,
         "type": "scattermapbox"
        },
        {
         "lat": [
          34.63031715995263,
          38.98239939588928
         ],
         "line": {
          "color": "#AB63FA",
          "width": 1
         },
         "lon": [
          108.9336012932089,
          106.3785987467326
         ],
         "mode": "lines",
         "opacity": 1,
         "type": "scattermapbox"
        },
        {
         "lat": [
          34.63031715995263,
          38.48673019128655
         ],
         "line": {
          "color": "#AB63FA",
          "width": 1
         },
         "lon": [
          108.9336012932089,
          106.2265069321992
         ],
         "mode": "lines",
         "opacity": 1,
         "type": "scattermapbox"
        },
        {
         "lat": [
          34.63031715995263,
          32.68679720585862
         ],
         "line": {
          "color": "#AB63FA",
          "width": 1
         },
         "lon": [
          108.9336012932089,
          109.0241758754163
         ],
         "mode": "lines",
         "opacity": 1,
         "type": "scattermapbox"
        },
        {
         "lat": [
          34.63031715995263,
          33.40263907882024
         ],
         "line": {
          "color": "#AB63FA",
          "width": 1
         },
         "lon": [
          108.9336012932089,
          104.9189654162553
         ],
         "mode": "lines",
         "opacity": 1,
         "type": "scattermapbox"
        },
        {
         "lat": [
          34.63031715995263,
          38.85133075491287
         ],
         "line": {
          "color": "#AB63FA",
          "width": 1
         },
         "lon": [
          108.9336012932089,
          105.7247062442973
         ],
         "mode": "lines",
         "opacity": 1,
         "type": "scattermapbox"
        },
        {
         "lat": [
          34.63031715995263,
          34.58218380144906
         ],
         "line": {
          "color": "#AB63FA",
          "width": 1
         },
         "lon": [
          108.9336012932089,
          105.7210163282105
         ],
         "mode": "lines",
         "opacity": 1,
         "type": "scattermapbox"
        },
        {
         "lat": [
          34.63031715995263,
          38.9252336905743
         ],
         "line": {
          "color": "#AB63FA",
          "width": 1
         },
         "lon": [
          108.9336012932089,
          100.4481121115437
         ],
         "mode": "lines",
         "opacity": 1,
         "type": "scattermapbox"
        },
        {
         "lat": [
          34.63031715995263,
          36.50197437688492
         ],
         "line": {
          "color": "#AB63FA",
          "width": 1
         },
         "lon": [
          108.9336012932089,
          102.1022159005829
         ],
         "mode": "lines",
         "opacity": 1,
         "type": "scattermapbox"
        },
        {
         "lat": [
          34.63031715995263,
          34.8978478277209
         ],
         "line": {
          "color": "#AB63FA",
          "width": 1
         },
         "lon": [
          108.9336012932089,
          108.9405296688392
         ],
         "mode": "lines",
         "opacity": 1,
         "type": "scattermapbox"
        },
        {
         "lat": [
          34.63031715995263,
          36.61722375080831
         ],
         "line": {
          "color": "#AB63FA",
          "width": 1
         },
         "lon": [
          108.9336012932089,
          101.7762927404526
         ],
         "mode": "lines",
         "opacity": 1,
         "type": "scattermapbox"
        },
        {
         "lat": [
          34.63031715995263,
          27.72918933516938
         ],
         "line": {
          "color": "#AB63FA",
          "width": 1
         },
         "lon": [
          108.9336012932089,
          106.9235728918846
         ],
         "mode": "lines",
         "opacity": 1,
         "type": "scattermapbox"
        },
        {
         "lat": [
          34.63031715995263,
          26.59628129977204
         ],
         "line": {
          "color": "#AB63FA",
          "width": 1
         },
         "lon": [
          108.9336012932089,
          104.8278184351933
         ],
         "mode": "lines",
         "opacity": 1,
         "type": "scattermapbox"
        },
        {
         "lat": [
          34.63031715995263,
          34.47290911965604
         ],
         "line": {
          "color": "#AB63FA",
          "width": 1
         },
         "lon": [
          108.9336012932089,
          100.243467122574
         ],
         "mode": "lines",
         "opacity": 1,
         "type": "scattermapbox"
        },
        {
         "lat": [
          34.63031715995263,
          29.5658490143256
         ],
         "line": {
          "color": "#AB63FA",
          "width": 1
         },
         "lon": [
          108.9336012932089,
          106.5478312634267
         ],
         "mode": "lines",
         "opacity": 1,
         "type": "scattermapbox"
        },
        {
         "lat": [
          34.63031715995263,
          32.50359180804994
         ],
         "line": {
          "color": "#AB63FA",
          "width": 1
         },
         "lon": [
          108.9336012932089,
          80.10358684866438
         ],
         "mode": "lines",
         "opacity": 1,
         "type": "scattermapbox"
        },
        {
         "lat": [
          34.63031715995263,
          37.49941170198301
         ],
         "line": {
          "color": "#AB63FA",
          "width": 1
         },
         "lon": [
          108.9336012932089,
          105.1931310282931
         ],
         "mode": "lines",
         "opacity": 1,
         "type": "scattermapbox"
        },
        {
         "lat": [
          34.63031715995263,
          40.74177069274513
         ],
         "line": {
          "color": "#AB63FA",
          "width": 1
         },
         "lon": [
          108.9336012932089,
          107.3820708392117
         ],
         "mode": "lines",
         "opacity": 1,
         "type": "scattermapbox"
        },
        {
         "lat": [
          34.63031715995263,
          35.58120785689678
         ],
         "line": {
          "color": "#AB63FA",
          "width": 1
         },
         "lon": [
          108.9336012932089,
          104.623617338011
         ],
         "mode": "lines",
         "opacity": 1,
         "type": "scattermapbox"
        },
        {
         "lat": [
          34.63031715995263,
          34.50130608517758
         ],
         "line": {
          "color": "#AB63FA",
          "width": 1
         },
         "lon": [
          108.9336012932089,
          109.504625293394
         ],
         "mode": "lines",
         "opacity": 1,
         "type": "scattermapbox"
        },
        {
         "lat": [
          34.63031715995263,
          34.34312953840049
         ],
         "line": {
          "color": "#AB63FA",
          "width": 1
         },
         "lon": [
          108.9336012932089,
          108.9355291153062
         ],
         "mode": "lines",
         "opacity": 1,
         "type": "scattermapbox"
        },
        {
         "lat": [
          34.63031715995263,
          33.87210573316656
         ],
         "line": {
          "color": "#AB63FA",
          "width": 1
         },
         "lon": [
          108.9336012932089,
          109.9354974186974
         ],
         "mode": "lines",
         "opacity": 1,
         "type": "scattermapbox"
        },
        {
         "lat": [
          34.63031715995263,
          46.07553890622198
         ],
         "line": {
          "color": "#AB63FA",
          "width": 1
         },
         "lon": [
          108.9336012932089,
          122.0608579323195
         ],
         "mode": "lines",
         "opacity": 1,
         "type": "scattermapbox"
        },
        {
         "lat": [
          34.63031715995263,
          39.6544390366507
         ],
         "line": {
          "color": "#AB63FA",
          "width": 1
         },
         "lon": [
          108.9336012932089,
          106.7894841071682
         ],
         "mode": "lines",
         "opacity": 1,
         "type": "scattermapbox"
        },
        {
         "lat": [
          34.63031715995263,
          26.85859236359501
         ],
         "line": {
          "color": "#AB63FA",
          "width": 1
         },
         "lon": [
          108.9336012932089,
          100.226617197402
         ],
         "mode": "lines",
         "opacity": 1,
         "type": "scattermapbox"
        },
        {
         "lat": [
          34.63031715995263,
          27.34168368255112
         ],
         "line": {
          "color": "#AB63FA",
          "width": 1
         },
         "lon": [
          108.9336012932089,
          103.7153750119609
         ],
         "mode": "lines",
         "opacity": 1,
         "type": "scattermapbox"
        },
        {
         "lat": [
          34.63031715995263,
          25.60952165934802
         ],
         "line": {
          "color": "#AB63FA",
          "width": 1
         },
         "lon": [
          108.9336012932089,
          100.266540437132
         ],
         "mode": "lines",
         "opacity": 1,
         "type": "scattermapbox"
        },
        {
         "lat": [
          34.63031715995263,
          24.43652522328061
         ],
         "line": {
          "color": "#AB63FA",
          "width": 1
         },
         "lon": [
          108.9336012932089,
          98.58474196486381
         ],
         "mode": "lines",
         "opacity": 1,
         "type": "scattermapbox"
        },
        {
         "lat": [
          34.63031715995263,
          25.85588172220572
         ],
         "line": {
          "color": "#AB63FA",
          "width": 1
         },
         "lon": [
          108.9336012932089,
          98.85270009438005
         ],
         "mode": "lines",
         "opacity": 1,
         "type": "scattermapbox"
        },
        {
         "lat": [
          34.63031715995263,
          36.54466066268684
         ],
         "line": {
          "color": "#AB63FA",
          "width": 1
         },
         "lon": [
          108.9336012932089,
          104.1357374526611
         ],
         "mode": "lines",
         "opacity": 1,
         "type": "scattermapbox"
        },
        {
         "lat": [
          37.66638377238687,
          38.87297673416556
         ],
         "line": {
          "color": "#FFA15A",
          "width": 1
         },
         "lon": [
          112.6719120037593,
          115.4584681544313
         ],
         "mode": "lines",
         "opacity": 1,
         "type": "scattermapbox"
        },
        {
         "lat": [
          37.66638377238687,
          35.21640061005598
         ],
         "line": {
          "color": "#FFA15A",
          "width": 1
         },
         "lon": [
          112.6719120037593,
          113.2354557720119
         ],
         "mode": "lines",
         "opacity": 1,
         "type": "scattermapbox"
        },
        {
         "lat": [
          37.66638377238687,
          31.73575608295598
         ],
         "line": {
          "color": "#FFA15A",
          "width": 1
         },
         "lon": [
          112.6719120037593,
          116.5167623870941
         ],
         "mode": "lines",
         "opacity": 1,
         "type": "scattermapbox"
        },
        {
         "lat": [
          37.66638377238687,
          37.73828947669901
         ],
         "line": {
          "color": "#FFA15A",
          "width": 1
         },
         "lon": [
          112.6719120037593,
          115.6642998789322
         ],
         "mode": "lines",
         "opacity": 1,
         "type": "scattermapbox"
        },
        {
         "lat": [
          37.66638377238687,
          36.09740671694131
         ],
         "line": {
          "color": "#FFA15A",
          "width": 1
         },
         "lon": [
          112.6719120037593,
          114.3863032251404
         ],
         "mode": "lines",
         "opacity": 1,
         "type": "scattermapbox"
        },
        {
         "lat": [
          37.66638377238687,
          39.902626245166
         ],
         "line": {
          "color": "#FFA15A",
          "width": 1
         },
         "lon": [
          112.6719120037593,
          116.4012828477588
         ],
         "mode": "lines",
         "opacity": 1,
         "type": "scattermapbox"
        },
        {
         "lat": [
          37.66638377238687,
          37.87005096677684
         ],
         "line": {
          "color": "#FFA15A",
          "width": 1
         },
         "lon": [
          112.6719120037593,
          112.5425630342325
         ],
         "mode": "lines",
         "opacity": 1,
         "type": "scattermapbox"
        },
        {
         "lat": [
          37.66638377238687,
          35.76184910581689
         ],
         "line": {
          "color": "#FFA15A",
          "width": 1
         },
         "lon": [
          112.6719120037593,
          115.0233457843086
         ],
         "mode": "lines",
         "opacity": 1,
         "type": "scattermapbox"
        },
        {
         "lat": [
          37.66638377238687,
          39.33042586350068
         ],
         "line": {
          "color": "#FFA15A",
          "width": 1
         },
         "lon": [
          112.6719120037593,
          112.4259678830538
         ],
         "mode": "lines",
         "opacity": 1,
         "type": "scattermapbox"
        },
        {
         "lat": [
          37.66638377238687,
          36.19521524648712
         ],
         "line": {
          "color": "#FFA15A",
          "width": 1
         },
         "lon": [
          112.6719120037593,
          113.1095869618306
         ],
         "mode": "lines",
         "opacity": 1,
         "type": "scattermapbox"
        },
        {
         "lat": [
          37.66638377238687,
          42.25587691695832
         ],
         "line": {
          "color": "#FFA15A",
          "width": 1
         },
         "lon": [
          112.6719120037593,
          118.8806794224993
         ],
         "mode": "lines",
         "opacity": 1,
         "type": "scattermapbox"
        },
        {
         "lat": [
          37.66638377238687,
          38.28487573162408
         ],
         "line": {
          "color": "#FFA15A",
          "width": 1
         },
         "lon": [
          112.6719120037593,
          109.7290105322149
         ],
         "mode": "lines",
         "opacity": 1,
         "type": "scattermapbox"
        },
        {
         "lat": [
          37.66638377238687,
          33.64794994611666
         ],
         "line": {
          "color": "#FFA15A",
          "width": 1
         },
         "lon": [
          112.6719120037593,
          116.95899047143
         ],
         "mode": "lines",
         "opacity": 1,
         "type": "scattermapbox"
        },
        {
         "lat": [
          37.66638377238687,
          37.85646220510019
         ],
         "line": {
          "color": "#FFA15A",
          "width": 1
         },
         "lon": [
          112.6719120037593,
          113.574107092927
         ],
         "mode": "lines",
         "opacity": 1,
         "type": "scattermapbox"
        },
        {
         "lat": [
          37.66638377238687,
          35.49110504705786
         ],
         "line": {
          "color": "#FFA15A",
          "width": 1
         },
         "lon": [
          112.6719120037593,
          112.8457114258861
         ],
         "mode": "lines",
         "opacity": 1,
         "type": "scattermapbox"
        },
        {
         "lat": [
          37.66638377238687,
          35.74730281423409
         ],
         "line": {
          "color": "#FFA15A",
          "width": 1
         },
         "lon": [
          112.6719120037593,
          114.2913498473666
         ],
         "mode": "lines",
         "opacity": 1,
         "type": "scattermapbox"
        },
        {
         "lat": [
          37.66638377238687,
          37.51752738993748
         ],
         "line": {
          "color": "#FFA15A",
          "width": 1
         },
         "lon": [
          112.6719120037593,
          111.1379504274304
         ],
         "mode": "lines",
         "opacity": 1,
         "type": "scattermapbox"
        },
        {
         "lat": [
          37.66638377238687,
          37.07009447918728
         ],
         "line": {
          "color": "#FFA15A",
          "width": 1
         },
         "lon": [
          112.6719120037593,
          114.4989149321016
         ],
         "mode": "lines",
         "opacity": 1,
         "type": "scattermapbox"
        },
        {
         "lat": [
          37.66638377238687,
          36.08811024456974
         ],
         "line": {
          "color": "#FFA15A",
          "width": 1
         },
         "lon": [
          112.6719120037593,
          111.512738356361
         ],
         "mode": "lines",
         "opacity": 1,
         "type": "scattermapbox"
        },
        {
         "lat": [
          37.66638377238687,
          36.62556357656246
         ],
         "line": {
          "color": "#FFA15A",
          "width": 1
         },
         "lon": [
          112.6719120037593,
          114.5332139277783
         ],
         "mode": "lines",
         "opacity": 1,
         "type": "scattermapbox"
        },
        {
         "lat": [
          37.66638377238687,
          38.41608696241872
         ],
         "line": {
          "color": "#FFA15A",
          "width": 1
         },
         "lon": [
          112.6719120037593,
          112.727613615456
         ],
         "mode": "lines",
         "opacity": 1,
         "type": "scattermapbox"
        },
        {
         "lat": [
          37.66638377238687,
          38.04166913884188
         ],
         "line": {
          "color": "#FFA15A",
          "width": 1
         },
         "lon": [
          112.6719120037593,
          114.5088610208725
         ],
         "mode": "lines",
         "opacity": 1,
         "type": "scattermapbox"
        },
        {
         "lat": [
          37.66638377238687,
          38.30390787880884
         ],
         "line": {
          "color": "#FFA15A",
          "width": 1
         },
         "lon": [
          112.6719120037593,
          116.833033542554
         ],
         "mode": "lines",
         "opacity": 1,
         "type": "scattermapbox"
        },
        {
         "lat": [
          37.66638377238687,
          40.8411402225846
         ],
         "line": {
          "color": "#FFA15A",
          "width": 1
         },
         "lon": [
          112.6719120037593,
          111.7422639952268
         ],
         "mode": "lines",
         "opacity": 1,
         "type": "scattermapbox"
        },
        {
         "lat": [
          37.66638377238687,
          40.65629113306126
         ],
         "line": {
          "color": "#FFA15A",
          "width": 1
         },
         "lon": [
          112.6719120037593,
          109.8346292526299
         ],
         "mode": "lines",
         "opacity": 1,
         "type": "scattermapbox"
        },
        {
         "lat": [
          37.66638377238687,
          40.07557310802614
         ],
         "line": {
          "color": "#FFA15A",
          "width": 1
         },
         "lon": [
          112.6719120037593,
          113.2931269502874
         ],
         "mode": "lines",
         "opacity": 1,
         "type": "scattermapbox"
        },
        {
         "lat": [
          37.66638377238687,
          40.82308854129995
         ],
         "line": {
          "color": "#FFA15A",
          "width": 1
         },
         "lon": [
          112.6719120037593,
          114.8814226622556
         ],
         "mode": "lines",
         "opacity": 1,
         "type": "scattermapbox"
        },
        {
         "lat": [
          37.66638377238687,
          40.99301005071572
         ],
         "line": {
          "color": "#FFA15A",
          "width": 1
         },
         "lon": [
          112.6719120037593,
          113.1253090209648
         ],
         "mode": "lines",
         "opacity": 1,
         "type": "scattermapbox"
        },
        {
         "lat": [
          37.66638377238687,
          39.60724263159052
         ],
         "line": {
          "color": "#FFA15A",
          "width": 1
         },
         "lon": [
          112.6719120037593,
          109.7756072826352
         ],
         "mode": "lines",
         "opacity": 1,
         "type": "scattermapbox"
        },
        {
         "lat": [
          37.66638377238687,
          43.93128150032256
         ],
         "line": {
          "color": "#FFA15A",
          "width": 1
         },
         "lon": [
          112.6719120037593,
          116.0414004756569
         ],
         "mode": "lines",
         "opacity": 1,
         "type": "scattermapbox"
        },
        {
         "lat": [
          37.66638377238687,
          34.77346975390627
         ],
         "line": {
          "color": "#FFA15A",
          "width": 1
         },
         "lon": [
          112.6719120037593,
          111.1941341473168
         ],
         "mode": "lines",
         "opacity": 1,
         "type": "scattermapbox"
        },
        {
         "lat": [
          37.66638377238687,
          35.02716522530418
         ],
         "line": {
          "color": "#FFA15A",
          "width": 1
         },
         "lon": [
          112.6719120037593,
          111.0017399957335
         ],
         "mode": "lines",
         "opacity": 1,
         "type": "scattermapbox"
        },
        {
         "lat": [
          37.66638377238687,
          34.33105343685244
         ],
         "line": {
          "color": "#FFA15A",
          "width": 1
         },
         "lon": [
          112.6719120037593,
          108.70432818877
         ],
         "mode": "lines",
         "opacity": 1,
         "type": "scattermapbox"
        },
        {
         "lat": [
          37.66638377238687,
          37.68634353557753
         ],
         "line": {
          "color": "#FFA15A",
          "width": 1
         },
         "lon": [
          112.6719120037593,
          112.7462041891047
         ],
         "mode": "lines",
         "opacity": 1,
         "type": "scattermapbox"
        },
        {
         "lat": [
          37.66638377238687,
          34.62069425847153
         ],
         "line": {
          "color": "#FFA15A",
          "width": 1
         },
         "lon": [
          112.6719120037593,
          112.4477739744806
         ],
         "mode": "lines",
         "opacity": 1,
         "type": "scattermapbox"
        },
        {
         "lat": [
          37.66638377238687,
          40.81607321636371
         ],
         "line": {
          "color": "#FFA15A",
          "width": 1
         },
         "lon": [
          112.6719120037593,
          111.7587040406893
         ],
         "mode": "lines",
         "opacity": 1,
         "type": "scattermapbox"
        },
        {
         "lat": [
          37.66638377238687,
          40.74177069274513
         ],
         "line": {
          "color": "#FFA15A",
          "width": 1
         },
         "lon": [
          112.6719120037593,
          107.3820708392117
         ],
         "mode": "lines",
         "opacity": 1,
         "type": "scattermapbox"
        },
        {
         "lat": [
          32.00530522681915,
          32.14893045727153
         ],
         "line": {
          "color": "#19D3F3",
          "width": 1
         },
         "lon": [
          119.0494352058129,
          114.0851344571613
         ],
         "mode": "lines",
         "opacity": 1,
         "type": "scattermapbox"
        },
        {
         "lat": [
          32.00530522681915,
          32.30357289491218
         ],
         "line": {
          "color": "#19D3F3",
          "width": 1
         },
         "lon": [
          119.0494352058129,
          118.3117146495258
         ],
         "mode": "lines",
         "opacity": 1,
         "type": "scattermapbox"
        },
        {
         "lat": [
          32.00530522681915,
          31.73575608295598
         ],
         "line": {
          "color": "#19D3F3",
          "width": 1
         },
         "lon": [
          119.0494352058129,
          116.5167623870941
         ],
         "mode": "lines",
         "opacity": 1,
         "type": "scattermapbox"
        },
        {
         "lat": [
          32.00530522681915,
          32.45800429536821
         ],
         "line": {
          "color": "#19D3F3",
          "width": 1
         },
         "lon": [
          119.0494352058129,
          119.91838005602
         ],
         "mode": "lines",
         "opacity": 1,
         "type": "scattermapbox"
        },
        {
         "lat": [
          32.00530522681915,
          31.2323452344023
         ],
         "line": {
          "color": "#19D3F3",
          "width": 1
         },
         "lon": [
          119.0494352058129,
          121.4691632652304
         ],
         "mode": "lines",
         "opacity": 1,
         "type": "scattermapbox"
        },
        {
         "lat": [
          32.00530522681915,
          32.62754369430915
         ],
         "line": {
          "color": "#19D3F3",
          "width": 1
         },
         "lon": [
          119.0494352058129,
          116.9945269148156
         ],
         "mode": "lines",
         "opacity": 1,
         "type": "scattermapbox"
        },
        {
         "lat": [
          32.00530522681915,
          32.06232355267544
         ],
         "line": {
          "color": "#19D3F3",
          "width": 1
         },
         "lon": [
          119.0494352058129,
          118.7916846702178
         ],
         "mode": "lines",
         "opacity": 1,
         "type": "scattermapbox"
        },
        {
         "lat": [
          32.00530522681915,
          31.35470362228185
         ],
         "line": {
          "color": "#19D3F3",
          "width": 1
         },
         "lon": [
          119.0494352058129,
          118.4275501703881
         ],
         "mode": "lines",
         "opacity": 1,
         "type": "scattermapbox"
        },
        {
         "lat": [
          32.00530522681915,
          36.06681047224894
         ],
         "line": {
          "color": "#19D3F3",
          "width": 1
         },
         "lon": [
          119.0494352058129,
          120.3775084640287
         ],
         "mode": "lines",
         "opacity": 1,
         "type": "scattermapbox"
        },
        {
         "lat": [
          32.00530522681915,
          32.18972309867631
         ],
         "line": {
          "color": "#19D3F3",
          "width": 1
         },
         "lon": [
          119.0494352058129,
          119.4203835018594
         ],
         "mode": "lines",
         "opacity": 1,
         "type": "scattermapbox"
        },
        {
         "lat": [
          32.00530522681915,
          41.10674546752389
         ],
         "line": {
          "color": "#19D3F3",
          "width": 1
         },
         "lon": [
          119.0494352058129,
          122.9888556604474
         ],
         "mode": "lines",
         "opacity": 1,
         "type": "scattermapbox"
        },
        {
         "lat": [
          32.00530522681915,
          31.82258053795522
         ],
         "line": {
          "color": "#19D3F3",
          "width": 1
         },
         "lon": [
          119.0494352058129,
          117.2217530206498
         ],
         "mode": "lines",
         "opacity": 1,
         "type": "scattermapbox"
        },
        {
         "lat": [
          32.00530522681915,
          31.98233962550012
         ],
         "line": {
          "color": "#19D3F3",
          "width": 1
         },
         "lon": [
          119.0494352058129,
          120.8900735716123
         ],
         "mode": "lines",
         "opacity": 1,
         "type": "scattermapbox"
        },
        {
         "lat": [
          32.00530522681915,
          31.67242798566556
         ],
         "line": {
          "color": "#19D3F3",
          "width": 1
         },
         "lon": [
          119.0494352058129,
          118.501560200216
         ],
         "mode": "lines",
         "opacity": 1,
         "type": "scattermapbox"
        },
        {
         "lat": [
          32.00530522681915,
          33.34881077578557
         ],
         "line": {
          "color": "#19D3F3",
          "width": 1
         },
         "lon": [
          119.0494352058129,
          120.1586027412798
         ],
         "mode": "lines",
         "opacity": 1,
         "type": "scattermapbox"
        },
        {
         "lat": [
          32.00530522681915,
          40.66544437055811
         ],
         "line": {
          "color": "#19D3F3",
          "width": 1
         },
         "lon": [
          119.0494352058129,
          122.2302400702165
         ],
         "mode": "lines",
         "opacity": 1,
         "type": "scattermapbox"
        },
        {
         "lat": [
          32.00530522681915,
          30.54578375093637
         ],
         "line": {
          "color": "#19D3F3",
          "width": 1
         },
         "lon": [
          119.0494352058129,
          117.0583094488215
         ],
         "mode": "lines",
         "opacity": 1,
         "type": "scattermapbox"
        },
        {
         "lat": [
          32.00530522681915,
          30.94293557276461
         ],
         "line": {
          "color": "#19D3F3",
          "width": 1
         },
         "lon": [
          119.0494352058129,
          118.7536914610581
         ],
         "mode": "lines",
         "opacity": 1,
         "type": "scattermapbox"
        },
        {
         "lat": [
          32.00530522681915,
          33.64794994611666
         ],
         "line": {
          "color": "#19D3F3",
          "width": 1
         },
         "lon": [
          119.0494352058129,
          116.95899047143
         ],
         "mode": "lines",
         "opacity": 1,
         "type": "scattermapbox"
        },
        {
         "lat": [
          32.00530522681915,
          29.71706301538657
         ],
         "line": {
          "color": "#19D3F3",
          "width": 1
         },
         "lon": [
          119.0494352058129,
          118.3322856589073
         ],
         "mode": "lines",
         "opacity": 1,
         "type": "scattermapbox"
        },
        {
         "lat": [
          32.00530522681915,
          34.59768100862672
         ],
         "line": {
          "color": "#19D3F3",
          "width": 1
         },
         "lon": [
          119.0494352058129,
          119.2160715736077
         ],
         "mode": "lines",
         "opacity": 1,
         "type": "scattermapbox"
        },
        {
         "lat": [
          32.00530522681915,
          31.81274316521338
         ],
         "line": {
          "color": "#19D3F3",
          "width": 1
         },
         "lon": [
          119.0494352058129,
          119.9692475651995
         ],
         "mode": "lines",
         "opacity": 1,
         "type": "scattermapbox"
        },
        {
         "lat": [
          32.00530522681915,
          39.998962954379
         ],
         "line": {
          "color": "#19D3F3",
          "width": 1
         },
         "lon": [
          119.0494352058129,
          124.3489462400518
         ],
         "mode": "lines",
         "opacity": 1,
         "type": "scattermapbox"
        },
        {
         "lat": [
          32.00530522681915,
          30.89639388346604
         ],
         "line": {
          "color": "#19D3F3",
          "width": 1
         },
         "lon": [
          119.0494352058129,
          120.0819509034296
         ],
         "mode": "lines",
         "opacity": 1,
         "type": "scattermapbox"
        },
        {
         "lat": [
          32.00530522681915,
          30.66714344132274
         ],
         "line": {
          "color": "#19D3F3",
          "width": 1
         },
         "lon": [
          119.0494352058129,
          117.4860824783757
         ],
         "mode": "lines",
         "opacity": 1,
         "type": "scattermapbox"
        },
        {
         "lat": [
          32.00530522681915,
          30.94771223306929
         ],
         "line": {
          "color": "#19D3F3",
          "width": 1
         },
         "lon": [
          119.0494352058129,
          117.8067260077645
         ],
         "mode": "lines",
         "opacity": 1,
         "type": "scattermapbox"
        },
        {
         "lat": [
          32.00530522681915,
          33.611763586717
         ],
         "line": {
          "color": "#19D3F3",
          "width": 1
         },
         "lon": [
          119.0494352058129,
          119.0098472690756
         ],
         "mode": "lines",
         "opacity": 1,
         "type": "scattermapbox"
        },
        {
         "lat": [
          32.00530522681915,
          33.96458366057329
         ],
         "line": {
          "color": "#19D3F3",
          "width": 1
         },
         "lon": [
          119.0494352058129,
          118.2696951415908
         ],
         "mode": "lines",
         "opacity": 1,
         "type": "scattermapbox"
        },
        {
         "lat": [
          32.00530522681915,
          33.95726296715417
         ],
         "line": {
          "color": "#19D3F3",
          "width": 1
         },
         "lon": [
          119.0494352058129,
          116.7928608550622
         ],
         "mode": "lines",
         "opacity": 1,
         "type": "scattermapbox"
        },
        {
         "lat": [
          32.00530522681915,
          34.20706393180895
         ],
         "line": {
          "color": "#19D3F3",
          "width": 1
         },
         "lon": [
          119.0494352058129,
          117.2783803771574
         ],
         "mode": "lines",
         "opacity": 1,
         "type": "scattermapbox"
        },
        {
         "lat": [
          32.00530522681915,
          27.99755639661836
         ],
         "line": {
          "color": "#19D3F3",
          "width": 1
         },
         "lon": [
          119.0494352058129,
          120.6953146770179
         ],
         "mode": "lines",
         "opacity": 1,
         "type": "scattermapbox"
        },
        {
         "lat": [
          32.00530522681915,
          32.91799515400531
         ],
         "line": {
          "color": "#19D3F3",
          "width": 1
         },
         "lon": [
          119.0494352058129,
          117.3838768458563
         ],
         "mode": "lines",
         "opacity": 1,
         "type": "scattermapbox"
        },
        {
         "lat": [
          32.00530522681915,
          35.41664985448086
         ],
         "line": {
          "color": "#19D3F3",
          "width": 1
         },
         "lon": [
          119.0494352058129,
          119.5214386156121
         ],
         "mode": "lines",
         "opacity": 1,
         "type": "scattermapbox"
        },
        {
         "lat": [
          32.00530522681915,
          32.39608761324173
         ],
         "line": {
          "color": "#19D3F3",
          "width": 1
         },
         "lon": [
          119.0494352058129,
          119.4074816928227
         ],
         "mode": "lines",
         "opacity": 1,
         "type": "scattermapbox"
        },
        {
         "lat": [
          32.00530522681915,
          32.89211160308685
         ],
         "line": {
          "color": "#19D3F3",
          "width": 1
         },
         "lon": [
          119.0494352058129,
          115.8088195468257
         ],
         "mode": "lines",
         "opacity": 1,
         "type": "scattermapbox"
        },
        {
         "lat": [
          32.00530522681915,
          28.47103856667617
         ],
         "line": {
          "color": "#19D3F3",
          "width": 1
         },
         "lon": [
          119.0494352058129,
          119.9183913224205
         ],
         "mode": "lines",
         "opacity": 1,
         "type": "scattermapbox"
        },
        {
         "lat": [
          32.00530522681915,
          31.30106716114456
         ],
         "line": {
          "color": "#19D3F3",
          "width": 1
         },
         "lon": [
          119.0494352058129,
          120.5811331033317
         ],
         "mode": "lines",
         "opacity": 1,
         "type": "scattermapbox"
        },
        {
         "lat": [
          32.00530522681915,
          33.84602023421478
         ],
         "line": {
          "color": "#19D3F3",
          "width": 1
         },
         "lon": [
          119.0494352058129,
          115.7731280236451
         ],
         "mode": "lines",
         "opacity": 1,
         "type": "scattermapbox"
        },
        {
         "lat": [
          32.00530522681915,
          25.45688085615284
         ],
         "line": {
          "color": "#19D3F3",
          "width": 1
         },
         "lon": [
          119.0494352058129,
          119.0030583278949
         ],
         "mode": "lines",
         "opacity": 1,
         "type": "scattermapbox"
        },
        {
         "lat": [
          32.00530522681915,
          29.87713052207049
         ],
         "line": {
          "color": "#19D3F3",
          "width": 1
         },
         "lon": [
          119.0494352058129,
          121.5461886035697
         ],
         "mode": "lines",
         "opacity": 1,
         "type": "scattermapbox"
        },
        {
         "lat": [
          32.00530522681915,
          30.74842732095237
         ],
         "line": {
          "color": "#19D3F3",
          "width": 1
         },
         "lon": [
          119.0494352058129,
          120.7511656273119
         ],
         "mode": "lines",
         "opacity": 1,
         "type": "scattermapbox"
        },
        {
         "lat": [
          32.00530522681915,
          26.66910233527991
         ],
         "line": {
          "color": "#19D3F3",
          "width": 1
         },
         "lon": [
          119.0494352058129,
          119.5433363814137
         ],
         "mode": "lines",
         "opacity": 1,
         "type": "scattermapbox"
        },
        {
         "lat": [
          32.00530522681915,
          31.49306603700403
         ],
         "line": {
          "color": "#19D3F3",
          "width": 1
         },
         "lon": [
          119.0494352058129,
          120.3073076042237
         ],
         "mode": "lines",
         "opacity": 1,
         "type": "scattermapbox"
        },
        {
         "lat": [
          32.00530522681915,
          26.0776181921898
         ],
         "line": {
          "color": "#19D3F3",
          "width": 1
         },
         "lon": [
          119.0494352058129,
          119.2917011892226
         ],
         "mode": "lines",
         "opacity": 1,
         "type": "scattermapbox"
        },
        {
         "lat": [
          32.00530522681915,
          30.03238398245454
         ],
         "line": {
          "color": "#19D3F3",
          "width": 1
         },
         "lon": [
          119.0494352058129,
          120.5761448871077
         ],
         "mode": "lines",
         "opacity": 1,
         "type": "scattermapbox"
        },
        {
         "lat": [
          32.00530522681915,
          28.97315464783074
         ],
         "line": {
          "color": "#19D3F3",
          "width": 1
         },
         "lon": [
          119.0494352058129,
          118.854654147615
         ],
         "mode": "lines",
         "opacity": 1,
         "type": "scattermapbox"
        },
        {
         "lat": [
          32.00530522681915,
          29.08204039822681
         ],
         "line": {
          "color": "#19D3F3",
          "width": 1
         },
         "lon": [
          119.0494352058129,
          119.6427445137875
         ],
         "mode": "lines",
         "opacity": 1,
         "type": "scattermapbox"
        },
        {
         "lat": [
          32.00530522681915,
          30.24827350364001
         ],
         "line": {
          "color": "#19D3F3",
          "width": 1
         },
         "lon": [
          119.0494352058129,
          120.2053988812982
         ],
         "mode": "lines",
         "opacity": 1,
         "type": "scattermapbox"
        },
        {
         "lat": [
          32.00530522681915,
          28.65933140957997
         ],
         "line": {
          "color": "#19D3F3",
          "width": 1
         },
         "lon": [
          119.0494352058129,
          121.4163247141463
         ],
         "mode": "lines",
         "opacity": 1,
         "type": "scattermapbox"
        },
        {
         "lat": [
          29.38079929558913,
          32.14893045727153
         ],
         "line": {
          "color": "#FF6692",
          "width": 1
         },
         "lon": [
          113.1584727838096,
          114.0851344571613
         ],
         "mode": "lines",
         "opacity": 1,
         "type": "scattermapbox"
        },
        {
         "lat": [
          29.38079929558913,
          31.73575608295598
         ],
         "line": {
          "color": "#FF6692",
          "width": 1
         },
         "lon": [
          113.1584727838096,
          116.5167623870941
         ],
         "mode": "lines",
         "opacity": 1,
         "type": "scattermapbox"
        },
        {
         "lat": [
          29.38079929558913,
          32.62754369430915
         ],
         "line": {
          "color": "#FF6692",
          "width": 1
         },
         "lon": [
          113.1584727838096,
          116.9945269148156
         ],
         "mode": "lines",
         "opacity": 1,
         "type": "scattermapbox"
        },
        {
         "lat": [
          29.38079929558913,
          32.06232355267544
         ],
         "line": {
          "color": "#FF6692",
          "width": 1
         },
         "lon": [
          113.1584727838096,
          118.7916846702178
         ],
         "mode": "lines",
         "opacity": 1,
         "type": "scattermapbox"
        },
        {
         "lat": [
          29.38079929558913,
          31.35470362228185
         ],
         "line": {
          "color": "#FF6692",
          "width": 1
         },
         "lon": [
          113.1584727838096,
          118.4275501703881
         ],
         "mode": "lines",
         "opacity": 1,
         "type": "scattermapbox"
        },
        {
         "lat": [
          29.38079929558913,
          33.01335650611892
         ],
         "line": {
          "color": "#FF6692",
          "width": 1
         },
         "lon": [
          113.1584727838096,
          114.0164292106147
         ],
         "mode": "lines",
         "opacity": 1,
         "type": "scattermapbox"
        },
        {
         "lat": [
          29.38079929558913,
          31.82258053795522
         ],
         "line": {
          "color": "#FF6692",
          "width": 1
         },
         "lon": [
          113.1584727838096,
          117.2217530206498
         ],
         "mode": "lines",
         "opacity": 1,
         "type": "scattermapbox"
        },
        {
         "lat": [
          29.38079929558913,
          33.62771504579078
         ],
         "line": {
          "color": "#FF6692",
          "width": 1
         },
         "lon": [
          113.1584727838096,
          114.6914875280797
         ],
         "mode": "lines",
         "opacity": 1,
         "type": "scattermapbox"
        },
        {
         "lat": [
          29.38079929558913,
          30.54578375093637
         ],
         "line": {
          "color": "#FF6692",
          "width": 1
         },
         "lon": [
          113.1584727838096,
          117.0583094488215
         ],
         "mode": "lines",
         "opacity": 1,
         "type": "scattermapbox"
        },
        {
         "lat": [
          29.38079929558913,
          30.94293557276461
         ],
         "line": {
          "color": "#FF6692",
          "width": 1
         },
         "lon": [
          113.1584727838096,
          118.7536914610581
         ],
         "mode": "lines",
         "opacity": 1,
         "type": "scattermapbox"
        },
        {
         "lat": [
          29.38079929558913,
          29.71706301538657
         ],
         "line": {
          "color": "#FF6692",
          "width": 1
         },
         "lon": [
          113.1584727838096,
          118.3322856589073
         ],
         "mode": "lines",
         "opacity": 1,
         "type": "scattermapbox"
        },
        {
         "lat": [
          29.38079929558913,
          30.66714344132274
         ],
         "line": {
          "color": "#FF6692",
          "width": 1
         },
         "lon": [
          113.1584727838096,
          117.4860824783757
         ],
         "mode": "lines",
         "opacity": 1,
         "type": "scattermapbox"
        },
        {
         "lat": [
          29.38079929558913,
          30.94771223306929
         ],
         "line": {
          "color": "#FF6692",
          "width": 1
         },
         "lon": [
          113.1584727838096,
          117.8067260077645
         ],
         "mode": "lines",
         "opacity": 1,
         "type": "scattermapbox"
        },
        {
         "lat": [
          29.38079929558913,
          33.58291634117343
         ],
         "line": {
          "color": "#FF6692",
          "width": 1
         },
         "lon": [
          113.1584727838096,
          114.0106299585456
         ],
         "mode": "lines",
         "opacity": 1,
         "type": "scattermapbox"
        },
        {
         "lat": [
          29.38079929558913,
          27.99755639661836
         ],
         "line": {
          "color": "#FF6692",
          "width": 1
         },
         "lon": [
          113.1584727838096,
          120.6953146770179
         ],
         "mode": "lines",
         "opacity": 1,
         "type": "scattermapbox"
        },
        {
         "lat": [
          29.38079929558913,
          32.91799515400531
         ],
         "line": {
          "color": "#FF6692",
          "width": 1
         },
         "lon": [
          113.1584727838096,
          117.3838768458563
         ],
         "mode": "lines",
         "opacity": 1,
         "type": "scattermapbox"
        },
        {
         "lat": [
          29.38079929558913,
          32.89211160308685
         ],
         "line": {
          "color": "#FF6692",
          "width": 1
         },
         "lon": [
          113.1584727838096,
          115.8088195468257
         ],
         "mode": "lines",
         "opacity": 1,
         "type": "scattermapbox"
        },
        {
         "lat": [
          29.38079929558913,
          28.47103856667617
         ],
         "line": {
          "color": "#FF6692",
          "width": 1
         },
         "lon": [
          113.1584727838096,
          119.9183913224205
         ],
         "mode": "lines",
         "opacity": 1,
         "type": "scattermapbox"
        },
        {
         "lat": [
          29.38079929558913,
          32.01093810474285
         ],
         "line": {
          "color": "#FF6692",
          "width": 1
         },
         "lon": [
          113.1584727838096,
          112.1163256977821
         ],
         "mode": "lines",
         "opacity": 1,
         "type": "scattermapbox"
        },
        {
         "lat": [
          29.38079929558913,
          32.99281483167919
         ],
         "line": {
          "color": "#FF6692",
          "width": 1
         },
         "lon": [
          113.1584727838096,
          112.5224592560118
         ],
         "mode": "lines",
         "opacity": 1,
         "type": "scattermapbox"
        },
        {
         "lat": [
          29.38079929558913,
          28.31533925357757
         ],
         "line": {
          "color": "#FF6692",
          "width": 1
         },
         "lon": [
          113.1584727838096,
          109.7344422775661
         ],
         "mode": "lines",
         "opacity": 1,
         "type": "scattermapbox"
        },
        {
         "lat": [
          29.38079929558913,
          30.27471062336162
         ],
         "line": {
          "color": "#FF6692",
          "width": 1
         },
         "lon": [
          113.1584727838096,
          109.4832871762125
         ],
         "mode": "lines",
         "opacity": 1,
         "type": "scattermapbox"
        },
        {
         "lat": [
          29.38079929558913,
          32.63157768676001
         ],
         "line": {
          "color": "#FF6692",
          "width": 1
         },
         "lon": [
          113.1584727838096,
          110.7926649102856
         ],
         "mode": "lines",
         "opacity": 1,
         "type": "scattermapbox"
        },
        {
         "lat": [
          29.38079929558913,
          28.68621233484596
         ],
         "line": {
          "color": "#FF6692",
          "width": 1
         },
         "lon": [
          113.1584727838096,
          115.8532852729079
         ],
         "mode": "lines",
         "opacity": 1,
         "type": "scattermapbox"
        },
        {
         "lat": [
          29.38079929558913,
          24.81346271120227
         ],
         "line": {
          "color": "#FF6692",
          "width": 1
         },
         "lon": [
          113.1584727838096,
          113.5923294112387
         ],
         "mode": "lines",
         "opacity": 1,
         "type": "scattermapbox"
        },
        {
         "lat": [
          29.38079929558913,
          24.48248267708086
         ],
         "line": {
          "color": "#FF6692",
          "width": 1
         },
         "lon": [
          113.1584727838096,
          118.084448093873
         ],
         "mode": "lines",
         "opacity": 1,
         "type": "scattermapbox"
        },
        {
         "lat": [
          29.38079929558913,
          33.76759369387327
         ],
         "line": {
          "color": "#FF6692",
          "width": 1
         },
         "lon": [
          113.1584727838096,
          113.1863800141984
         ],
         "mode": "lines",
         "opacity": 1,
         "type": "scattermapbox"
        },
        {
         "lat": [
          29.38079929558913,
          27.95235980536817
         ],
         "line": {
          "color": "#FF6692",
          "width": 1
         },
         "lon": [
          113.1584727838096,
          116.3531836141162
         ],
         "mode": "lines",
         "opacity": 1,
         "type": "scattermapbox"
        },
        {
         "lat": [
          29.38079929558913,
          28.87483938230682
         ],
         "line": {
          "color": "#FF6692",
          "width": 1
         },
         "lon": [
          113.1584727838096,
          105.4386624441242
         ],
         "mode": "lines",
         "opacity": 1,
         "type": "scattermapbox"
        },
        {
         "lat": [
          29.38079929558913,
          30.45656364420607
         ],
         "line": {
          "color": "#FF6692",
          "width": 1
         },
         "lon": [
          113.1584727838096,
          114.8672467200515
         ],
         "mode": "lines",
         "opacity": 1,
         "type": "scattermapbox"
        },
        {
         "lat": [
          29.38079929558913,
          29.11994460352727
         ],
         "line": {
          "color": "#FF6692",
          "width": 1
         },
         "lon": [
          113.1584727838096,
          110.4742346915475
         ],
         "mode": "lines",
         "opacity": 1,
         "type": "scattermapbox"
        },
        {
         "lat": [
          29.38079929558913,
          30.33771856112028
         ],
         "line": {
          "color": "#FF6692",
          "width": 1
         },
         "lon": [
          113.1584727838096,
          112.2340263095486
         ],
         "mode": "lines",
         "opacity": 1,
         "type": "scattermapbox"
        },
        {
         "lat": [
          29.38079929558913,
          30.59551563172663
         ],
         "line": {
          "color": "#FF6692",
          "width": 1
         },
         "lon": [
          113.1584727838096,
          114.2999542047298
         ],
         "mode": "lines",
         "opacity": 1,
         "type": "scattermapbox"
        },
        {
         "lat": [
          29.38079929558913,
          23.35675589262061
         ],
         "line": {
          "color": "#FF6692",
          "width": 1
         },
         "lon": [
          113.1584727838096,
          116.6775143618734
         ],
         "mode": "lines",
         "opacity": 1,
         "type": "scattermapbox"
        },
        {
         "lat": [
          29.38079929558913,
          31.03762682496149
         ],
         "line": {
          "color": "#FF6692",
          "width": 1
         },
         "lon": [
          113.1584727838096,
          112.1934245655764
         ],
         "mode": "lines",
         "opacity": 1,
         "type": "scattermapbox"
        },
        {
         "lat": [
          29.38079929558913,
          19.52310520944081
         ],
         "line": {
          "color": "#FF6692",
          "width": 1
         },
         "lon": [
          113.1584727838096,
          109.5767984155979
         ],
         "mode": "lines",
         "opacity": 1,
         "type": "scattermapbox"
        },
        {
         "lat": [
          29.38079929558913,
          24.51593413543268
         ],
         "line": {
          "color": "#FF6692",
          "width": 1
         },
         "lon": [
          113.1584727838096,
          117.6427017011435
         ],
         "mode": "lines",
         "opacity": 1,
         "type": "scattermapbox"
        },
        {
         "lat": [
          29.38079929558913,
          29.84391849264382
         ],
         "line": {
          "color": "#FF6692",
          "width": 1
         },
         "lon": [
          113.1584727838096,
          114.3170938337267
         ],
         "mode": "lines",
         "opacity": 1,
         "type": "scattermapbox"
        },
        {
         "lat": [
          29.38079929558913,
          25.07789418380283
         ],
         "line": {
          "color": "#FF6692",
          "width": 1
         },
         "lon": [
          113.1584727838096,
          117.0126782413234
         ],
         "mode": "lines",
         "opacity": 1,
         "type": "scattermapbox"
        },
        {
         "lat": [
          29.38079929558913,
          30.20208788314098
         ],
         "line": {
          "color": "#FF6692",
          "width": 1
         },
         "lon": [
          113.1584727838096,
          115.0331487829698
         ],
         "mode": "lines",
         "opacity": 1,
         "type": "scattermapbox"
        },
        {
         "lat": [
          29.38079929558913,
          20.01938822575099
         ],
         "line": {
          "color": "#FF6692",
          "width": 1
         },
         "lon": [
          113.1584727838096,
          110.3448278590682
         ],
         "mode": "lines",
         "opacity": 1,
         "type": "scattermapbox"
        },
        {
         "lat": [
          29.38079929558913,
          31.69209471228168
         ],
         "line": {
          "color": "#FF6692",
          "width": 1
         },
         "lon": [
          113.1584727838096,
          113.3762466668986
         ],
         "mode": "lines",
         "opacity": 1,
         "type": "scattermapbox"
        },
        {
         "lat": [
          29.38079929558913,
          27.55830958891995
         ],
         "line": {
          "color": "#FF6692",
          "width": 1
         },
         "lon": [
          113.1584727838096,
          109.9938246198597
         ],
         "mode": "lines",
         "opacity": 1,
         "type": "scattermapbox"
        },
        {
         "lat": [
          29.38079929558913,
          29.03470474864293
         ],
         "line": {
          "color": "#FF6692",
          "width": 1
         },
         "lon": [
          113.1584727838096,
          111.6928984567219
         ],
         "mode": "lines",
         "opacity": 1,
         "type": "scattermapbox"
        },
        {
         "lat": [
          29.38079929558913,
          29.27146640241873
         ],
         "line": {
          "color": "#FF6692",
          "width": 1
         },
         "lon": [
          113.1584727838096,
          117.1730932594236
         ],
         "mode": "lines",
         "opacity": 1,
         "type": "scattermapbox"
        },
        {
         "lat": [
          29.38079929558913,
          29.70763010190234
         ],
         "line": {
          "color": "#FF6692",
          "width": 1
         },
         "lon": [
          113.1584727838096,
          115.9968498897885
         ],
         "mode": "lines",
         "opacity": 1,
         "type": "scattermapbox"
        },
        {
         "lat": [
          29.38079929558913,
          26.26684005591786
         ],
         "line": {
          "color": "#FF6692",
          "width": 1
         },
         "lon": [
          113.1584727838096,
          117.6337852475838
         ],
         "mode": "lines",
         "opacity": 1,
         "type": "scattermapbox"
        },
        {
         "lat": [
          29.38079929558913,
          30.92704875840485
         ],
         "line": {
          "color": "#FF6692",
          "width": 1
         },
         "lon": [
          113.1584727838096,
          113.9114171453589
         ],
         "mode": "lines",
         "opacity": 1,
         "type": "scattermapbox"
        },
        {
         "lat": [
          29.38079929558913,
          24.29123871036554
         ],
         "line": {
          "color": "#FF6692",
          "width": 1
         },
         "lon": [
          113.1584727838096,
          116.1174052422547
         ],
         "mode": "lines",
         "opacity": 1,
         "type": "scattermapbox"
        },
        {
         "lat": [
          29.38079929558913,
          30.69441159948845
         ],
         "line": {
          "color": "#FF6692",
          "width": 1
         },
         "lon": [
          113.1584727838096,
          111.2808231203681
         ],
         "mode": "lines",
         "opacity": 1,
         "type": "scattermapbox"
        },
        {
         "lat": [
          29.38079929558913,
          33.84602023421478
         ],
         "line": {
          "color": "#FF6692",
          "width": 1
         },
         "lon": [
          113.1584727838096,
          115.7731280236451
         ],
         "mode": "lines",
         "opacity": 1,
         "type": "scattermapbox"
        },
        {
         "lat": [
          29.38079929558913,
          30.54886596183148
         ],
         "line": {
          "color": "#FF6692",
          "width": 1
         },
         "lon": [
          113.1584727838096,
          114.3363714923768
         ],
         "mode": "lines",
         "opacity": 1,
         "type": "scattermapbox"
        },
        {
         "lat": [
          29.38079929558913,
          25.45688085615284
         ],
         "line": {
          "color": "#FF6692",
          "width": 1
         },
         "lon": [
          113.1584727838096,
          119.0030583278949
         ],
         "mode": "lines",
         "opacity": 1,
         "type": "scattermapbox"
        },
        {
         "lat": [
          29.38079929558913,
          31.2117043271299
         ],
         "line": {
          "color": "#FF6692",
          "width": 1
         },
         "lon": [
          113.1584727838096,
          107.4633548893442
         ],
         "mode": "lines",
         "opacity": 1,
         "type": "scattermapbox"
        },
        {
         "lat": [
          29.38079929558913,
          30.13175078920077
         ],
         "line": {
          "color": "#FF6692",
          "width": 1
         },
         "lon": [
          113.1584727838096,
          104.6252370576223
         ],
         "mode": "lines",
         "opacity": 1,
         "type": "scattermapbox"
        },
        {
         "lat": [
          29.38079929558913,
          31.90165666241077
         ],
         "line": {
          "color": "#FF6692",
          "width": 1
         },
         "lon": [
          113.1584727838096,
          102.223006553013
         ],
         "mode": "lines",
         "opacity": 1,
         "type": "scattermapbox"
        },
        {
         "lat": [
          29.38079929558913,
          27.88504356472883
         ],
         "line": {
          "color": "#FF6692",
          "width": 1
         },
         "lon": [
          113.1584727838096,
          102.265841134515
         ],
         "mode": "lines",
         "opacity": 1,
         "type": "scattermapbox"
        },
        {
         "lat": [
          29.38079929558913,
          28.75519768160823
         ],
         "line": {
          "color": "#FF6692",
          "width": 1
         },
         "lon": [
          113.1584727838096,
          104.6408382179202
         ],
         "mode": "lines",
         "opacity": 1,
         "type": "scattermapbox"
        },
        {
         "lat": [
          29.38079929558913,
          31.46973069933239
         ],
         "line": {
          "color": "#FF6692",
          "width": 1
         },
         "lon": [
          113.1584727838096,
          104.6765055884907
         ],
         "mode": "lines",
         "opacity": 1,
         "type": "scattermapbox"
        },
        {
         "lat": [
          29.38079929558913,
          30.84007214993655
         ],
         "line": {
          "color": "#FF6692",
          "width": 1
         },
         "lon": [
          113.1584727838096,
          106.1066772287715
         ],
         "mode": "lines",
         "opacity": 1,
         "type": "scattermapbox"
        },
        {
         "lat": [
          29.38079929558913,
          31.87008571552613
         ],
         "line": {
          "color": "#FF6692",
          "width": 1
         },
         "lon": [
          113.1584727838096,
          106.7433360907896
         ],
         "mode": "lines",
         "opacity": 1,
         "type": "scattermapbox"
        },
        {
         "lat": [
          29.38079929558913,
          29.3418851374181
         ],
         "line": {
          "color": "#FF6692",
          "width": 1
         },
         "lon": [
          113.1584727838096,
          104.7757456053025
         ],
         "mode": "lines",
         "opacity": 1,
         "type": "scattermapbox"
        },
        {
         "lat": [
          29.38079929558913,
          30.45874152168983
         ],
         "line": {
          "color": "#FF6692",
          "width": 1
         },
         "lon": [
          113.1584727838096,
          106.6294280176608
         ],
         "mode": "lines",
         "opacity": 1,
         "type": "scattermapbox"
        },
        {
         "lat": [
          29.38079929558913,
          30.0523443545809
         ],
         "line": {
          "color": "#FF6692",
          "width": 1
         },
         "lon": [
          113.1584727838096,
          101.9607944939152
         ],
         "mode": "lines",
         "opacity": 1,
         "type": "scattermapbox"
        },
        {
         "lat": [
          29.38079929558913,
          32.43782752968448
         ],
         "line": {
          "color": "#FF6692",
          "width": 1
         },
         "lon": [
          113.1584727838096,
          105.8396443188976
         ],
         "mode": "lines",
         "opacity": 1,
         "type": "scattermapbox"
        },
        {
         "lat": [
          29.38079929558913,
          27.72918933516938
         ],
         "line": {
          "color": "#FF6692",
          "width": 1
         },
         "lon": [
          113.1584727838096,
          106.9235728918846
         ],
         "mode": "lines",
         "opacity": 1,
         "type": "scattermapbox"
        },
        {
         "lat": [
          29.38079929558913,
          26.59628129977204
         ],
         "line": {
          "color": "#FF6692",
          "width": 1
         },
         "lon": [
          113.1584727838096,
          104.8278184351933
         ],
         "mode": "lines",
         "opacity": 1,
         "type": "scattermapbox"
        },
        {
         "lat": [
          29.38079929558913,
          29.5658490143256
         ],
         "line": {
          "color": "#FF6692",
          "width": 1
         },
         "lon": [
          113.1584727838096,
          106.5478312634267
         ],
         "mode": "lines",
         "opacity": 1,
         "type": "scattermapbox"
        },
        {
         "lat": [
          29.38079929558913,
          26.85859236359501
         ],
         "line": {
          "color": "#FF6692",
          "width": 1
         },
         "lon": [
          113.1584727838096,
          100.226617197402
         ],
         "mode": "lines",
         "opacity": 1,
         "type": "scattermapbox"
        },
        {
         "lat": [
          29.38079929558913,
          27.34168368255112
         ],
         "line": {
          "color": "#FF6692",
          "width": 1
         },
         "lon": [
          113.1584727838096,
          103.7153750119609
         ],
         "mode": "lines",
         "opacity": 1,
         "type": "scattermapbox"
        },
        {
         "lat": [
          29.38079929558913,
          25.60952165934802
         ],
         "line": {
          "color": "#FF6692",
          "width": 1
         },
         "lon": [
          113.1584727838096,
          100.266540437132
         ],
         "mode": "lines",
         "opacity": 1,
         "type": "scattermapbox"
        },
        {
         "lat": [
          29.38079929558913,
          24.43652522328061
         ],
         "line": {
          "color": "#FF6692",
          "width": 1
         },
         "lon": [
          113.1584727838096,
          98.58474196486381
         ],
         "mode": "lines",
         "opacity": 1,
         "type": "scattermapbox"
        },
        {
         "lat": [
          29.38079929558913,
          25.85588172220572
         ],
         "line": {
          "color": "#FF6692",
          "width": 1
         },
         "lon": [
          113.1584727838096,
          98.85270009438005
         ],
         "mode": "lines",
         "opacity": 1,
         "type": "scattermapbox"
        },
        {
         "lat": [
          29.38079929558913,
          27.7033952036923
         ],
         "line": {
          "color": "#FF6692",
          "width": 1
         },
         "lon": [
          113.1584727838096,
          111.9879998873743
         ],
         "mode": "lines",
         "opacity": 1,
         "type": "scattermapbox"
        },
        {
         "lat": [
          29.38079929558913,
          22.81969289402053
         ],
         "line": {
          "color": "#FF6692",
          "width": 1
         },
         "lon": [
          113.1584727838096,
          108.362477121497
         ],
         "mode": "lines",
         "opacity": 1,
         "type": "scattermapbox"
        },
        {
         "lat": [
          29.38079929558913,
          29.58280912023783
         ],
         "line": {
          "color": "#FF6692",
          "width": 1
         },
         "lon": [
          113.1584727838096,
          105.0552159487049
         ],
         "mode": "lines",
         "opacity": 1,
         "type": "scattermapbox"
        },
        {
         "lat": [
          29.38079929558913,
          23.47955829321463
         ],
         "line": {
          "color": "#FF6692",
          "width": 1
         },
         "lon": [
          113.1584727838096,
          111.274015703365
         ],
         "mode": "lines",
         "opacity": 1,
         "type": "scattermapbox"
        },
        {
         "lat": [
          29.38079929558913,
          26.89680824683814
         ],
         "line": {
          "color": "#FF6692",
          "width": 1
         },
         "lon": [
          113.1584727838096,
          112.5667549296271
         ],
         "mode": "lines",
         "opacity": 1,
         "type": "scattermapbox"
        },
        {
         "lat": [
          29.38079929558913,
          23.11442986508254
         ],
         "line": {
          "color": "#FF6692",
          "width": 1
         },
         "lon": [
          113.1584727838096,
          109.5947354798691
         ],
         "mode": "lines",
         "opacity": 1,
         "type": "scattermapbox"
        },
        {
         "lat": [
          29.38079929558913,
          27.24212198420047
         ],
         "line": {
          "color": "#FF6692",
          "width": 1
         },
         "lon": [
          113.1584727838096,
          111.46221384419
         ],
         "mode": "lines",
         "opacity": 1,
         "type": "scattermapbox"
        },
        {
         "lat": [
          29.38079929558913,
          24.69568601285607
         ],
         "line": {
          "color": "#FF6692",
          "width": 1
         },
         "lon": [
          113.1584727838096,
          108.0810096435724
         ],
         "mode": "lines",
         "opacity": 1,
         "type": "scattermapbox"
        },
        {
         "lat": [
          29.38079929558913,
          22.54582555967459
         ],
         "line": {
          "color": "#FF6692",
          "width": 1
         },
         "lon": [
          113.1584727838096,
          114.0527603784418
         ],
         "mode": "lines",
         "opacity": 1,
         "type": "scattermapbox"
        },
        {
         "lat": [
          29.38079929558913,
          23.90524065563987
         ],
         "line": {
          "color": "#FF6692",
          "width": 1
         },
         "lon": [
          113.1584727838096,
          106.6147948071433
         ],
         "mode": "lines",
         "opacity": 1,
         "type": "scattermapbox"
        },
        {
         "lat": [
          29.38079929558913,
          26.25752124739282
         ],
         "line": {
          "color": "#FF6692",
          "width": 1
         },
         "lon": [
          113.1584727838096,
          107.5179199131978
         ],
         "mode": "lines",
         "opacity": 1,
         "type": "scattermapbox"
        },
        {
         "lat": [
          29.38079929558913,
          26.58699009505417
         ],
         "line": {
          "color": "#FF6692",
          "width": 1
         },
         "lon": [
          113.1584727838096,
          107.9787341141204
         ],
         "mode": "lines",
         "opacity": 1,
         "type": "scattermapbox"
        },
        {
         "lat": [
          29.38079929558913,
          26.25661020954963
         ],
         "line": {
          "color": "#FF6692",
          "width": 1
         },
         "lon": [
          113.1584727838096,
          105.944234857304
         ],
         "mode": "lines",
         "opacity": 1,
         "type": "scattermapbox"
        },
        {
         "lat": [
          29.38079929558913,
          25.09093405808564
         ],
         "line": {
          "color": "#FF6692",
          "width": 1
         },
         "lon": [
          113.1584727838096,
          104.9039323613744
         ],
         "mode": "lines",
         "opacity": 1,
         "type": "scattermapbox"
        },
        {
         "lat": [
          29.38079929558913,
          27.73477832582868
         ],
         "line": {
          "color": "#FF6692",
          "width": 1
         },
         "lon": [
          113.1584727838096,
          109.1850122201689
         ],
         "mode": "lines",
         "opacity": 1,
         "type": "scattermapbox"
        },
        {
         "lat": [
          29.38079929558913,
          27.30596661372806
         ],
         "line": {
          "color": "#FF6692",
          "width": 1
         },
         "lon": [
          113.1584727838096,
          105.2807802738927
         ],
         "mode": "lines",
         "opacity": 1,
         "type": "scattermapbox"
        },
        {
         "lat": [
          29.38079929558913,
          26.65133479795816
         ],
         "line": {
          "color": "#FF6692",
          "width": 1
         },
         "lon": [
          113.1584727838096,
          106.6265908397277
         ],
         "mode": "lines",
         "opacity": 1,
         "type": "scattermapbox"
        },
        {
         "lat": [
          29.38079929558913,
          21.27309617063639
         ],
         "line": {
          "color": "#FF6692",
          "width": 1
         },
         "lon": [
          113.1584727838096,
          110.354889157503
         ],
         "mode": "lines",
         "opacity": 1,
         "type": "scattermapbox"
        },
        {
         "lat": [
          29.38079929558913,
          23.40338124080785
         ],
         "line": {
          "color": "#FF6692",
          "width": 1
         },
         "lon": [
          113.1584727838096,
          104.2141451396921
         ],
         "mode": "lines",
         "opacity": 1,
         "type": "scattermapbox"
        },
        {
         "lat": [
          29.38079929558913,
          23.36564593259077
         ],
         "line": {
          "color": "#FF6692",
          "width": 1
         },
         "lon": [
          113.1584727838096,
          103.3727785187104
         ],
         "mode": "lines",
         "opacity": 1,
         "type": "scattermapbox"
        },
        {
         "lat": [
          29.38079929558913,
          22.01021097537386
         ],
         "line": {
          "color": "#FF6692",
          "width": 1
         },
         "lon": [
          113.1584727838096,
          100.7966529405068
         ],
         "mode": "lines",
         "opacity": 1,
         "type": "scattermapbox"
        },
        {
         "lat": [
          29.38079929558913,
          22.82805845259796
         ],
         "line": {
          "color": "#FF6692",
          "width": 1
         },
         "lon": [
          113.1584727838096,
          100.9653388647515
         ],
         "mode": "lines",
         "opacity": 1,
         "type": "scattermapbox"
        },
        {
         "lat": [
          29.38079929558913,
          24.88316116418696
         ],
         "line": {
          "color": "#FF6692",
          "width": 1
         },
         "lon": [
          113.1584727838096,
          102.8314726024856
         ],
         "mode": "lines",
         "opacity": 1,
         "type": "scattermapbox"
        },
        {
         "lat": [
          29.38079929558913,
          25.49299843430843
         ],
         "line": {
          "color": "#FF6692",
          "width": 1
         },
         "lon": [
          113.1584727838096,
          103.7941408167699
         ],
         "mode": "lines",
         "opacity": 1,
         "type": "scattermapbox"
        },
        {
         "lat": [
          29.38079929558913,
          25.04856596148663
         ],
         "line": {
          "color": "#FF6692",
          "width": 1
         },
         "lon": [
          113.1584727838096,
          101.5265948761278
         ],
         "mode": "lines",
         "opacity": 1,
         "type": "scattermapbox"
        },
        {
         "lat": [
          29.38079929558913,
          26.66910233527991
         ],
         "line": {
          "color": "#FF6692",
          "width": 1
         },
         "lon": [
          113.1584727838096,
          119.5433363814137
         ],
         "mode": "lines",
         "opacity": 1,
         "type": "scattermapbox"
        },
        {
         "lat": [
          29.38079929558913,
          26.0776181921898
         ],
         "line": {
          "color": "#FF6692",
          "width": 1
         },
         "lon": [
          113.1584727838096,
          119.2917011892226
         ],
         "mode": "lines",
         "opacity": 1,
         "type": "scattermapbox"
        },
        {
         "lat": [
          29.38079929558913,
          28.97315464783074
         ],
         "line": {
          "color": "#FF6692",
          "width": 1
         },
         "lon": [
          113.1584727838096,
          118.854654147615
         ],
         "mode": "lines",
         "opacity": 1,
         "type": "scattermapbox"
        },
        {
         "lat": [
          29.38079929558913,
          29.08204039822681
         ],
         "line": {
          "color": "#FF6692",
          "width": 1
         },
         "lon": [
          113.1584727838096,
          119.6427445137875
         ],
         "mode": "lines",
         "opacity": 1,
         "type": "scattermapbox"
        },
        {
         "lat": [
          29.38079929558913,
          28.65933140957997
         ],
         "line": {
          "color": "#FF6692",
          "width": 1
         },
         "lon": [
          113.1584727838096,
          121.4163247141463
         ],
         "mode": "lines",
         "opacity": 1,
         "type": "scattermapbox"
        },
        {
         "lat": [
          29.38079929558913,
          28.26333077443565
         ],
         "line": {
          "color": "#FF6692",
          "width": 1
         },
         "lon": [
          113.1584727838096,
          117.0639390123689
         ],
         "mode": "lines",
         "opacity": 1,
         "type": "scattermapbox"
        },
        {
         "lat": [
          29.38079929558913,
          25.27640737125314
         ],
         "line": {
          "color": "#FF6692",
          "width": 1
         },
         "lon": [
          113.1584727838096,
          110.2856160493322
         ],
         "mode": "lines",
         "opacity": 1,
         "type": "scattermapbox"
        },
        {
         "lat": [
          29.38079929558913,
          27.62617060128652
         ],
         "line": {
          "color": "#FF6692",
          "width": 1
         },
         "lon": [
          113.1584727838096,
          113.8492410599548
         ],
         "mode": "lines",
         "opacity": 1,
         "type": "scattermapbox"
        },
        {
         "lat": [
          29.38079929558913,
          25.83501973395543
         ],
         "line": {
          "color": "#FF6692",
          "width": 1
         },
         "lon": [
          113.1584727838096,
          114.9303090866153
         ],
         "mode": "lines",
         "opacity": 1,
         "type": "scattermapbox"
        },
        {
         "lat": [
          29.38079929558913,
          24.87704868485578
         ],
         "line": {
          "color": "#FF6692",
          "width": 1
         },
         "lon": [
          113.1584727838096,
          118.6711374909511
         ],
         "mode": "lines",
         "opacity": 1,
         "type": "scattermapbox"
        },
        {
         "lat": [
          29.38079929558913,
          22.63914531488788
         ],
         "line": {
          "color": "#FF6692",
          "width": 1
         },
         "lon": [
          113.1584727838096,
          110.1602485882664
         ],
         "mode": "lines",
         "opacity": 1,
         "type": "scattermapbox"
        },
        {
         "lat": [
          29.38079929558913,
          23.11434132447145
         ],
         "line": {
          "color": "#FF6692",
          "width": 1
         },
         "lon": [
          113.1584727838096,
          114.4112231590118
         ],
         "mode": "lines",
         "opacity": 1,
         "type": "scattermapbox"
        },
        {
         "lat": [
          29.38079929558913,
          21.48363837917861
         ],
         "line": {
          "color": "#FF6692",
          "width": 1
         },
         "lon": [
          113.1584727838096,
          109.115632600491
         ],
         "mode": "lines",
         "opacity": 1,
         "type": "scattermapbox"
        },
        {
         "lat": [
          29.38079929558913,
          28.23172481249612
         ],
         "line": {
          "color": "#FF6692",
          "width": 1
         },
         "lon": [
          113.1584727838096,
          112.9333749497692
         ],
         "mode": "lines",
         "opacity": 1,
         "type": "scattermapbox"
        },
        {
         "lat": [
          29.38079929558913,
          26.42398447631974
         ],
         "line": {
          "color": "#FF6692",
          "width": 1
         },
         "lon": [
          113.1584727838096,
          111.6082031062636
         ],
         "mode": "lines",
         "opacity": 1,
         "type": "scattermapbox"
        },
        {
         "lat": [
          29.38079929558913,
          23.13183994295568
         ],
         "line": {
          "color": "#FF6692",
          "width": 1
         },
         "lon": [
          113.1584727838096,
          113.2591072209036
         ],
         "mode": "lines",
         "opacity": 1,
         "type": "scattermapbox"
        },
        {
         "lat": [
          29.38079929558913,
          24.3281899387336
         ],
         "line": {
          "color": "#FF6692",
          "width": 1
         },
         "lon": [
          113.1584727838096,
          109.4113447001055
         ],
         "mode": "lines",
         "opacity": 1,
         "type": "scattermapbox"
        },
        {
         "lat": [
          29.38079929558913,
          23.55239616559447
         ],
         "line": {
          "color": "#FF6692",
          "width": 1
         },
         "lon": [
          113.1584727838096,
          116.3681272690569
         ],
         "mode": "lines",
         "opacity": 1,
         "type": "scattermapbox"
        },
        {
         "lat": [
          29.38079929558913,
          27.83068422933131
         ],
         "line": {
          "color": "#FF6692",
          "width": 1
         },
         "lon": [
          113.1584727838096,
          113.1281661277162
         ],
         "mode": "lines",
         "opacity": 1,
         "type": "scattermapbox"
        },
        {
         "lat": [
          29.38079929558913,
          27.82126896986176
         ],
         "line": {
          "color": "#FF6692",
          "width": 1
         },
         "lon": [
          113.1584727838096,
          114.9125028115343
         ],
         "mode": "lines",
         "opacity": 1,
         "type": "scattermapbox"
        },
        {
         "lat": [
          29.38079929558913,
          23.02325767171811
         ],
         "line": {
          "color": "#FF6692",
          "width": 1
         },
         "lon": [
          113.1584727838096,
          113.7465689259144
         ],
         "mode": "lines",
         "opacity": 1,
         "type": "scattermapbox"
        },
        {
         "lat": [
          29.38079929558913,
          28.55701776626178
         ],
         "line": {
          "color": "#FF6692",
          "width": 1
         },
         "lon": [
          113.1584727838096,
          112.3494809086573
         ],
         "mode": "lines",
         "opacity": 1,
         "type": "scattermapbox"
        },
        {
         "lat": [
          29.38079929558913,
          27.83319689390759
         ],
         "line": {
          "color": "#FF6692",
          "width": 1
         },
         "lon": [
          113.1584727838096,
          112.9386306519383
         ],
         "mode": "lines",
         "opacity": 1,
         "type": "scattermapbox"
        },
        {
         "lat": [
          29.38079929558913,
          24.40661137243972
         ],
         "line": {
          "color": "#FF6692",
          "width": 1
         },
         "lon": [
          113.1584727838096,
          111.5615733816437
         ],
         "mode": "lines",
         "opacity": 1,
         "type": "scattermapbox"
        },
        {
         "lat": [
          29.38079929558913,
          30.39463323771165
         ],
         "line": {
          "color": "#FF6692",
          "width": 1
         },
         "lon": [
          113.1584727838096,
          114.8898001694227
         ],
         "mode": "lines",
         "opacity": 1,
         "type": "scattermapbox"
        },
        {
         "lat": [
          29.38079929558913,
          21.86070458069074
         ],
         "line": {
          "color": "#FF6692",
          "width": 1
         },
         "lon": [
          113.1584727838096,
          111.9771709235079
         ],
         "mode": "lines",
         "opacity": 1,
         "type": "scattermapbox"
        },
        {
         "lat": [
          29.38079929558913,
          23.74619659509287
         ],
         "line": {
          "color": "#FF6692",
          "width": 1
         },
         "lon": [
          113.1584727838096,
          114.6957546912138
         ],
         "mode": "lines",
         "opacity": 1,
         "type": "scattermapbox"
        },
        {
         "lat": [
          29.38079929558913,
          27.1168104600029
         ],
         "line": {
          "color": "#FF6692",
          "width": 1
         },
         "lon": [
          113.1584727838096,
          114.9875428650263
         ],
         "mode": "lines",
         "opacity": 1,
         "type": "scattermapbox"
        },
        {
         "lat": [
          29.38079929558913,
          22.52033709433309
         ],
         "line": {
          "color": "#FF6692",
          "width": 1
         },
         "lon": [
          113.1584727838096,
          113.3873020309186
         ],
         "mode": "lines",
         "opacity": 1,
         "type": "scattermapbox"
        },
        {
         "lat": [
          29.38079929558913,
          28.45827544557124
         ],
         "line": {
          "color": "#FF6692",
          "width": 1
         },
         "lon": [
          113.1584727838096,
          117.9384605453474
         ],
         "mode": "lines",
         "opacity": 1,
         "type": "scattermapbox"
        },
        {
         "lat": [
          29.38079929558913,
          25.77348538002096
         ],
         "line": {
          "color": "#FF6692",
          "width": 1
         },
         "lon": [
          113.1584727838096,
          113.0092286976784
         ],
         "mode": "lines",
         "opacity": 1,
         "type": "scattermapbox"
        },
        {
         "lat": [
          29.38079929558913,
          27.81871943652997
         ],
         "line": {
          "color": "#FF6692",
          "width": 1
         },
         "lon": [
          113.1584727838096,
          114.4114676050099
         ],
         "mode": "lines",
         "opacity": 1,
         "type": "scattermapbox"
        },
        {
         "lat": [
          29.38079929558913,
          29.3596514802874
         ],
         "line": {
          "color": "#FF6692",
          "width": 1
         },
         "lon": [
          113.1584727838096,
          113.122987599309
         ],
         "mode": "lines",
         "opacity": 1,
         "type": "scattermapbox"
        },
        {
         "lat": [
          29.38079929558913,
          23.02409533068309
         ],
         "line": {
          "color": "#FF6692",
          "width": 1
         },
         "lon": [
          113.1584727838096,
          113.1159291678165
         ],
         "mode": "lines",
         "opacity": 1,
         "type": "scattermapbox"
        },
        {
         "lat": [
          43.15403445056779,
          31.73575608295598
         ],
         "line": {
          "color": "#B6E880",
          "width": 1
         },
         "lon": [
          124.4181295045634,
          116.5167623870941
         ],
         "mode": "lines",
         "opacity": 1,
         "type": "scattermapbox"
        },
        {
         "lat": [
          43.15403445056779,
          40.70959455770206
         ],
         "line": {
          "color": "#B6E880",
          "width": 1
         },
         "lon": [
          124.4181295045634,
          120.8317448357023
         ],
         "mode": "lines",
         "opacity": 1,
         "type": "scattermapbox"
        },
        {
         "lat": [
          43.15403445056779,
          41.09306620182436
         ],
         "line": {
          "color": "#B6E880",
          "width": 1
         },
         "lon": [
          124.4181295045634,
          121.1213539396126
         ],
         "mode": "lines",
         "opacity": 1,
         "type": "scattermapbox"
        },
        {
         "lat": [
          43.15403445056779,
          39.902626245166
         ],
         "line": {
          "color": "#B6E880",
          "width": 1
         },
         "lon": [
          124.4181295045634,
          116.4012828477588
         ],
         "mode": "lines",
         "opacity": 1,
         "type": "scattermapbox"
        },
        {
         "lat": [
          43.15403445056779,
          39.08314262375163
         ],
         "line": {
          "color": "#B6E880",
          "width": 1
         },
         "lon": [
          124.4181295045634,
          117.1946754317495
         ],
         "mode": "lines",
         "opacity": 1,
         "type": "scattermapbox"
        },
        {
         "lat": [
          43.15403445056779,
          39.93427691598691
         ],
         "line": {
          "color": "#B6E880",
          "width": 1
         },
         "lon": [
          124.4181295045634,
          119.5947177212679
         ],
         "mode": "lines",
         "opacity": 1,
         "type": "scattermapbox"
        },
        {
         "lat": [
          43.15403445056779,
          41.10674546752389
         ],
         "line": {
          "color": "#B6E880",
          "width": 1
         },
         "lon": [
          124.4181295045634,
          122.9888556604474
         ],
         "mode": "lines",
         "opacity": 1,
         "type": "scattermapbox"
        },
        {
         "lat": [
          43.15403445056779,
          40.66544437055811
         ],
         "line": {
          "color": "#B6E880",
          "width": 1
         },
         "lon": [
          124.4181295045634,
          122.2302400702165
         ],
         "mode": "lines",
         "opacity": 1,
         "type": "scattermapbox"
        },
        {
         "lat": [
          43.15403445056779,
          38.91322925994839
         ],
         "line": {
          "color": "#B6E880",
          "width": 1
         },
         "lon": [
          124.4181295045634,
          121.6097414873907
         ],
         "mode": "lines",
         "opacity": 1,
         "type": "scattermapbox"
        },
        {
         "lat": [
          43.15403445056779,
          42.25587691695832
         ],
         "line": {
          "color": "#B6E880",
          "width": 1
         },
         "lon": [
          124.4181295045634,
          118.8806794224993
         ],
         "mode": "lines",
         "opacity": 1,
         "type": "scattermapbox"
        },
        {
         "lat": [
          43.15403445056779,
          41.80326291802402
         ],
         "line": {
          "color": "#B6E880",
          "width": 1
         },
         "lon": [
          124.4181295045634,
          123.4253315842275
         ],
         "mode": "lines",
         "opacity": 1,
         "type": "scattermapbox"
        },
        {
         "lat": [
          43.15403445056779,
          39.998962954379
         ],
         "line": {
          "color": "#B6E880",
          "width": 1
         },
         "lon": [
          124.4181295045634,
          124.3489462400518
         ],
         "mode": "lines",
         "opacity": 1,
         "type": "scattermapbox"
        },
        {
         "lat": [
          43.15403445056779,
          42.01951815368355
         ],
         "line": {
          "color": "#B6E880",
          "width": 1
         },
         "lon": [
          124.4181295045634,
          121.6649262102888
         ],
         "mode": "lines",
         "opacity": 1,
         "type": "scattermapbox"
        },
        {
         "lat": [
          43.15403445056779,
          37.46284183566092
         ],
         "line": {
          "color": "#B6E880",
          "width": 1
         },
         "lon": [
          124.4181295045634,
          121.4427159708412
         ],
         "mode": "lines",
         "opacity": 1,
         "type": "scattermapbox"
        },
        {
         "lat": [
          43.15403445056779,
          41.87872843096351
         ],
         "line": {
          "color": "#B6E880",
          "width": 1
         },
         "lon": [
          124.4181295045634,
          123.9514479031235
         ],
         "mode": "lines",
         "opacity": 1,
         "type": "scattermapbox"
        },
        {
         "lat": [
          43.15403445056779,
          41.26517446940125
         ],
         "line": {
          "color": "#B6E880",
          "width": 1
         },
         "lon": [
          124.4181295045634,
          123.2312079197878
         ],
         "mode": "lines",
         "opacity": 1,
         "type": "scattermapbox"
        },
        {
         "lat": [
          43.15403445056779,
          41.11791379409293
         ],
         "line": {
          "color": "#B6E880",
          "width": 1
         },
         "lon": [
          124.4181295045634,
          122.0652294108859
         ],
         "mode": "lines",
         "opacity": 1,
         "type": "scattermapbox"
        },
        {
         "lat": [
          43.15403445056779,
          39.62954759868035
         ],
         "line": {
          "color": "#B6E880",
          "width": 1
         },
         "lon": [
          124.4181295045634,
          118.1738965760385
         ],
         "mode": "lines",
         "opacity": 1,
         "type": "scattermapbox"
        },
        {
         "lat": [
          43.15403445056779,
          40.95250667908144
         ],
         "line": {
          "color": "#B6E880",
          "width": 1
         },
         "lon": [
          124.4181295045634,
          117.9561006544303
         ],
         "mode": "lines",
         "opacity": 1,
         "type": "scattermapbox"
        },
        {
         "lat": [
          43.15403445056779,
          37.51203174558772
         ],
         "line": {
          "color": "#B6E880",
          "width": 1
         },
         "lon": [
          124.4181295045634,
          122.1153552474822
         ],
         "mode": "lines",
         "opacity": 1,
         "type": "scattermapbox"
        },
        {
         "lat": [
          43.15403445056779,
          38.30390787880884
         ],
         "line": {
          "color": "#B6E880",
          "width": 1
         },
         "lon": [
          124.4181295045634,
          116.833033542554
         ],
         "mode": "lines",
         "opacity": 1,
         "type": "scattermapbox"
        },
        {
         "lat": [
          43.15403445056779,
          42.22154773477672
         ],
         "line": {
          "color": "#B6E880",
          "width": 1
         },
         "lon": [
          124.4181295045634,
          123.7201627592107
         ],
         "mode": "lines",
         "opacity": 1,
         "type": "scattermapbox"
        },
        {
         "lat": [
          43.15403445056779,
          41.57143607080685
         ],
         "line": {
          "color": "#B6E880",
          "width": 1
         },
         "lon": [
          124.4181295045634,
          120.4446736419042
         ],
         "mode": "lines",
         "opacity": 1,
         "type": "scattermapbox"
        },
        {
         "lat": [
          43.15403445056779,
          39.902626245166
         ],
         "line": {
          "color": "#B6E880",
          "width": 1
         },
         "lon": [
          124.4181295045634,
          116.4012828477588
         ],
         "mode": "lines",
         "opacity": 1,
         "type": "scattermapbox"
        },
        {
         "lat": [
          43.15403445056779,
          40.82308854129995
         ],
         "line": {
          "color": "#B6E880",
          "width": 1
         },
         "lon": [
          124.4181295045634,
          114.8814226622556
         ],
         "mode": "lines",
         "opacity": 1,
         "type": "scattermapbox"
        },
        {
         "lat": [
          43.15403445056779,
          43.65052523160977
         ],
         "line": {
          "color": "#B6E880",
          "width": 1
         },
         "lon": [
          124.4181295045634,
          122.2378879047936
         ],
         "mode": "lines",
         "opacity": 1,
         "type": "scattermapbox"
        },
        {
         "lat": [
          43.15403445056779,
          41.29208302479014
         ],
         "line": {
          "color": "#B6E880",
          "width": 1
         },
         "lon": [
          124.4181295045634,
          123.7605948505183
         ],
         "mode": "lines",
         "opacity": 1,
         "type": "scattermapbox"
        },
        {
         "lat": [
          43.15403445056779,
          43.81463051275358
         ],
         "line": {
          "color": "#B6E880",
          "width": 1
         },
         "lon": [
          124.4181295045634,
          125.3170556355448
         ],
         "mode": "lines",
         "opacity": 1,
         "type": "scattermapbox"
        },
        {
         "lat": [
          43.15403445056779,
          43.93128150032256
         ],
         "line": {
          "color": "#B6E880",
          "width": 1
         },
         "lon": [
          124.4181295045634,
          116.0414004756569
         ],
         "mode": "lines",
         "opacity": 1,
         "type": "scattermapbox"
        },
        {
         "lat": [
          43.15403445056779,
          39.53695727577932
         ],
         "line": {
          "color": "#B6E880",
          "width": 1
         },
         "lon": [
          124.4181295045634,
          116.677852879759
         ],
         "mode": "lines",
         "opacity": 1,
         "type": "scattermapbox"
        },
        {
         "lat": [
          43.15403445056779,
          40.81607321636371
         ],
         "line": {
          "color": "#B6E880",
          "width": 1
         },
         "lon": [
          124.4181295045634,
          111.7587040406893
         ],
         "mode": "lines",
         "opacity": 1,
         "type": "scattermapbox"
        },
        {
         "lat": [
          43.15403445056779,
          46.07553890622198
         ],
         "line": {
          "color": "#B6E880",
          "width": 1
         },
         "lon": [
          124.4181295045634,
          122.0608579323195
         ],
         "mode": "lines",
         "opacity": 1,
         "type": "scattermapbox"
        },
        {
         "lat": [
          43.15403445056779,
          45.76952421736279
         ],
         "line": {
          "color": "#B6E880",
          "width": 1
         },
         "lon": [
          124.4181295045634,
          130.9954707831791
         ],
         "mode": "lines",
         "opacity": 1,
         "type": "scattermapbox"
        },
        {
         "lat": [
          43.15403445056779,
          46.79771597065292
         ],
         "line": {
          "color": "#B6E880",
          "width": 1
         },
         "lon": [
          124.4181295045634,
          130.3111451263799
         ],
         "mode": "lines",
         "opacity": 1,
         "type": "scattermapbox"
        },
        {
         "lat": [
          43.15403445056779,
          47.35231321775213
         ],
         "line": {
          "color": "#B6E880",
          "width": 1
         },
         "lon": [
          124.4181295045634,
          123.9116401073984
         ],
         "mode": "lines",
         "opacity": 1,
         "type": "scattermapbox"
        },
        {
         "lat": [
          43.15403445056779,
          49.20963003946251
         ],
         "line": {
          "color": "#B6E880",
          "width": 1
         },
         "lon": [
          124.4181295045634,
          119.7583899763413
         ],
         "mode": "lines",
         "opacity": 1,
         "type": "scattermapbox"
        },
        {
         "lat": [
          43.15403445056779,
          46.64426752618719
         ],
         "line": {
          "color": "#B6E880",
          "width": 1
         },
         "lon": [
          124.4181295045634,
          131.1510069771096
         ],
         "mode": "lines",
         "opacity": 1,
         "type": "scattermapbox"
        },
        {
         "lat": [
          43.15403445056779,
          42.88538963725586
         ],
         "line": {
          "color": "#B6E880",
          "width": 1
         },
         "lon": [
          124.4181295045634,
          125.1371243298611
         ],
         "mode": "lines",
         "opacity": 1,
         "type": "scattermapbox"
        },
        {
         "lat": [
          43.15403445056779,
          43.83561599238054
         ],
         "line": {
          "color": "#B6E880",
          "width": 1
         },
         "lon": [
          124.4181295045634,
          126.5438692036536
         ],
         "mode": "lines",
         "opacity": 1,
         "type": "scattermapbox"
        },
        {
         "lat": [
          43.15403445056779,
          45.61772161997866
         ],
         "line": {
          "color": "#B6E880",
          "width": 1
         },
         "lon": [
          124.4181295045634,
          122.8331420715561
         ],
         "mode": "lines",
         "opacity": 1,
         "type": "scattermapbox"
        },
        {
         "lat": [
          43.15403445056779,
          46.58720522020402
         ],
         "line": {
          "color": "#B6E880",
          "width": 1
         },
         "lon": [
          124.4181295045634,
          125.0967328203679
         ],
         "mode": "lines",
         "opacity": 1,
         "type": "scattermapbox"
        },
        {
         "lat": [
          43.15403445056779,
          46.65196017516132
         ],
         "line": {
          "color": "#B6E880",
          "width": 1
         },
         "lon": [
          124.4181295045634,
          126.9625904009473
         ],
         "mode": "lines",
         "opacity": 1,
         "type": "scattermapbox"
        },
        {
         "lat": [
          43.15403445056779,
          42.88877357900488
         ],
         "line": {
          "color": "#B6E880",
          "width": 1
         },
         "lon": [
          124.4181295045634,
          129.5019905807352
         ],
         "mode": "lines",
         "opacity": 1,
         "type": "scattermapbox"
        },
        {
         "lat": [
          43.15403445056779,
          44.54969496595082
         ],
         "line": {
          "color": "#B6E880",
          "width": 1
         },
         "lon": [
          124.4181295045634,
          129.6261051100511
         ],
         "mode": "lines",
         "opacity": 1,
         "type": "scattermapbox"
        },
        {
         "lat": [
          43.15403445056779,
          41.7262449323065
         ],
         "line": {
          "color": "#B6E880",
          "width": 1
         },
         "lon": [
          124.4181295045634,
          125.9340480370677
         ],
         "mode": "lines",
         "opacity": 1,
         "type": "scattermapbox"
        },
        {
         "lat": [
          43.15403445056779,
          47.3474843456173
         ],
         "line": {
          "color": "#B6E880",
          "width": 1
         },
         "lon": [
          124.4181295045634,
          130.2901267545506
         ],
         "mode": "lines",
         "opacity": 1,
         "type": "scattermapbox"
        },
        {
         "lat": [
          43.15403445056779,
          41.93748279699102
         ],
         "line": {
          "color": "#B6E880",
          "width": 1
         },
         "lon": [
          124.4181295045634,
          126.4177249758252
         ],
         "mode": "lines",
         "opacity": 1,
         "type": "scattermapbox"
        },
        {
         "lat": [
          43.15403445056779,
          45.13980772046496
         ],
         "line": {
          "color": "#B6E880",
          "width": 1
         },
         "lon": [
          124.4181295045634,
          124.8188159261021
         ],
         "mode": "lines",
         "opacity": 1,
         "type": "scattermapbox"
        },
        {
         "lat": [
          43.15403445056779,
          50.24368593698285
         ],
         "line": {
          "color": "#B6E880",
          "width": 1
         },
         "lon": [
          124.4181295045634,
          127.521248509938
         ],
         "mode": "lines",
         "opacity": 1,
         "type": "scattermapbox"
        },
        {
         "lat": [
          43.15403445056779,
          45.80177718939836
         ],
         "line": {
          "color": "#B6E880",
          "width": 1
         },
         "lon": [
          124.4181295045634,
          126.5289038817265
         ],
         "mode": "lines",
         "opacity": 1,
         "type": "scattermapbox"
        },
        {
         "lat": [
          43.15403445056779,
          43.16385395902515
         ],
         "line": {
          "color": "#B6E880",
          "width": 1
         },
         "lon": [
          124.4181295045634,
          124.3442076195231
         ],
         "mode": "lines",
         "opacity": 1,
         "type": "scattermapbox"
        },
        {
         "lat": [
          30.43526374766115,
          28.31533925357757
         ],
         "line": {
          "color": "#FF97FF",
          "width": 1
         },
         "lon": [
          103.7963218966275,
          109.7344422775661
         ],
         "mode": "lines",
         "opacity": 1,
         "type": "scattermapbox"
        },
        {
         "lat": [
          30.43526374766115,
          30.27471062336162
         ],
         "line": {
          "color": "#FF97FF",
          "width": 1
         },
         "lon": [
          103.7963218966275,
          109.4832871762125
         ],
         "mode": "lines",
         "opacity": 1,
         "type": "scattermapbox"
        },
        {
         "lat": [
          30.43526374766115,
          28.87483938230682
         ],
         "line": {
          "color": "#FF97FF",
          "width": 1
         },
         "lon": [
          103.7963218966275,
          105.4386624441242
         ],
         "mode": "lines",
         "opacity": 1,
         "type": "scattermapbox"
        },
        {
         "lat": [
          30.43526374766115,
          29.11994460352727
         ],
         "line": {
          "color": "#FF97FF",
          "width": 1
         },
         "lon": [
          103.7963218966275,
          110.4742346915475
         ],
         "mode": "lines",
         "opacity": 1,
         "type": "scattermapbox"
        },
        {
         "lat": [
          30.43526374766115,
          19.52310520944081
         ],
         "line": {
          "color": "#FF97FF",
          "width": 1
         },
         "lon": [
          103.7963218966275,
          109.5767984155979
         ],
         "mode": "lines",
         "opacity": 1,
         "type": "scattermapbox"
        },
        {
         "lat": [
          30.43526374766115,
          20.01938822575099
         ],
         "line": {
          "color": "#FF97FF",
          "width": 1
         },
         "lon": [
          103.7963218966275,
          110.3448278590682
         ],
         "mode": "lines",
         "opacity": 1,
         "type": "scattermapbox"
        },
        {
         "lat": [
          30.43526374766115,
          27.55830958891995
         ],
         "line": {
          "color": "#FF97FF",
          "width": 1
         },
         "lon": [
          103.7963218966275,
          109.9938246198597
         ],
         "mode": "lines",
         "opacity": 1,
         "type": "scattermapbox"
        },
        {
         "lat": [
          30.43526374766115,
          29.03470474864293
         ],
         "line": {
          "color": "#FF97FF",
          "width": 1
         },
         "lon": [
          103.7963218966275,
          111.6928984567219
         ],
         "mode": "lines",
         "opacity": 1,
         "type": "scattermapbox"
        },
        {
         "lat": [
          30.43526374766115,
          34.33105343685244
         ],
         "line": {
          "color": "#FF97FF",
          "width": 1
         },
         "lon": [
          103.7963218966275,
          108.70432818877
         ],
         "mode": "lines",
         "opacity": 1,
         "type": "scattermapbox"
        },
        {
         "lat": [
          30.43526374766115,
          30.69441159948845
         ],
         "line": {
          "color": "#FF97FF",
          "width": 1
         },
         "lon": [
          103.7963218966275,
          111.2808231203681
         ],
         "mode": "lines",
         "opacity": 1,
         "type": "scattermapbox"
        },
        {
         "lat": [
          30.43526374766115,
          31.2117043271299
         ],
         "line": {
          "color": "#FF97FF",
          "width": 1
         },
         "lon": [
          103.7963218966275,
          107.4633548893442
         ],
         "mode": "lines",
         "opacity": 1,
         "type": "scattermapbox"
        },
        {
         "lat": [
          30.43526374766115,
          31.12899552745817
         ],
         "line": {
          "color": "#FF97FF",
          "width": 1
         },
         "lon": [
          103.7963218966275,
          104.3952141871174
         ],
         "mode": "lines",
         "opacity": 1,
         "type": "scattermapbox"
        },
        {
         "lat": [
          30.43526374766115,
          30.13175078920077
         ],
         "line": {
          "color": "#FF97FF",
          "width": 1
         },
         "lon": [
          103.7963218966275,
          104.6252370576223
         ],
         "mode": "lines",
         "opacity": 1,
         "type": "scattermapbox"
        },
        {
         "lat": [
          30.43526374766115,
          31.90165666241077
         ],
         "line": {
          "color": "#FF97FF",
          "width": 1
         },
         "lon": [
          103.7963218966275,
          102.223006553013
         ],
         "mode": "lines",
         "opacity": 1,
         "type": "scattermapbox"
        },
        {
         "lat": [
          30.43526374766115,
          27.88504356472883
         ],
         "line": {
          "color": "#FF97FF",
          "width": 1
         },
         "lon": [
          103.7963218966275,
          102.265841134515
         ],
         "mode": "lines",
         "opacity": 1,
         "type": "scattermapbox"
        },
        {
         "lat": [
          30.43526374766115,
          28.75519768160823
         ],
         "line": {
          "color": "#FF97FF",
          "width": 1
         },
         "lon": [
          103.7963218966275,
          104.6408382179202
         ],
         "mode": "lines",
         "opacity": 1,
         "type": "scattermapbox"
        },
        {
         "lat": [
          30.43526374766115,
          31.46973069933239
         ],
         "line": {
          "color": "#FF97FF",
          "width": 1
         },
         "lon": [
          103.7963218966275,
          104.6765055884907
         ],
         "mode": "lines",
         "opacity": 1,
         "type": "scattermapbox"
        },
        {
         "lat": [
          30.43526374766115,
          30.84007214993655
         ],
         "line": {
          "color": "#FF97FF",
          "width": 1
         },
         "lon": [
          103.7963218966275,
          106.1066772287715
         ],
         "mode": "lines",
         "opacity": 1,
         "type": "scattermapbox"
        },
        {
         "lat": [
          30.43526374766115,
          31.87008571552613
         ],
         "line": {
          "color": "#FF97FF",
          "width": 1
         },
         "lon": [
          103.7963218966275,
          106.7433360907896
         ],
         "mode": "lines",
         "opacity": 1,
         "type": "scattermapbox"
        },
        {
         "lat": [
          30.43526374766115,
          30.53563957427876
         ],
         "line": {
          "color": "#FF97FF",
          "width": 1
         },
         "lon": [
          103.7963218966275,
          105.5894893487255
         ],
         "mode": "lines",
         "opacity": 1,
         "type": "scattermapbox"
        },
        {
         "lat": [
          30.43526374766115,
          29.3418851374181
         ],
         "line": {
          "color": "#FF97FF",
          "width": 1
         },
         "lon": [
          103.7963218966275,
          104.7757456053025
         ],
         "mode": "lines",
         "opacity": 1,
         "type": "scattermapbox"
        },
        {
         "lat": [
          30.43526374766115,
          30.45874152168983
         ],
         "line": {
          "color": "#FF97FF",
          "width": 1
         },
         "lon": [
          103.7963218966275,
          106.6294280176608
         ],
         "mode": "lines",
         "opacity": 1,
         "type": "scattermapbox"
        },
        {
         "lat": [
          30.43526374766115,
          30.0523443545809
         ],
         "line": {
          "color": "#FF97FF",
          "width": 1
         },
         "lon": [
          103.7963218966275,
          101.9607944939152
         ],
         "mode": "lines",
         "opacity": 1,
         "type": "scattermapbox"
        },
        {
         "lat": [
          30.43526374766115,
          32.43782752968448
         ],
         "line": {
          "color": "#FF97FF",
          "width": 1
         },
         "lon": [
          103.7963218966275,
          105.8396443188976
         ],
         "mode": "lines",
         "opacity": 1,
         "type": "scattermapbox"
        },
        {
         "lat": [
          30.43526374766115,
          31.14329275102384
         ],
         "line": {
          "color": "#FF97FF",
          "width": 1
         },
         "lon": [
          103.7963218966275,
          97.17148314940665
         ],
         "mode": "lines",
         "opacity": 1,
         "type": "scattermapbox"
        },
        {
         "lat": [
          30.43526374766115,
          29.98320267641596
         ],
         "line": {
          "color": "#FF97FF",
          "width": 1
         },
         "lon": [
          103.7963218966275,
          103.0114015388349
         ],
         "mode": "lines",
         "opacity": 1,
         "type": "scattermapbox"
        },
        {
         "lat": [
          30.43526374766115,
          27.72918933516938
         ],
         "line": {
          "color": "#FF97FF",
          "width": 1
         },
         "lon": [
          103.7963218966275,
          106.9235728918846
         ],
         "mode": "lines",
         "opacity": 1,
         "type": "scattermapbox"
        },
        {
         "lat": [
          30.43526374766115,
          26.59628129977204
         ],
         "line": {
          "color": "#FF97FF",
          "width": 1
         },
         "lon": [
          103.7963218966275,
          104.8278184351933
         ],
         "mode": "lines",
         "opacity": 1,
         "type": "scattermapbox"
        },
        {
         "lat": [
          30.43526374766115,
          34.47290911965604
         ],
         "line": {
          "color": "#FF97FF",
          "width": 1
         },
         "lon": [
          103.7963218966275,
          100.243467122574
         ],
         "mode": "lines",
         "opacity": 1,
         "type": "scattermapbox"
        },
        {
         "lat": [
          30.43526374766115,
          29.5658490143256
         ],
         "line": {
          "color": "#FF97FF",
          "width": 1
         },
         "lon": [
          103.7963218966275,
          106.5478312634267
         ],
         "mode": "lines",
         "opacity": 1,
         "type": "scattermapbox"
        },
        {
         "lat": [
          30.43526374766115,
          26.85859236359501
         ],
         "line": {
          "color": "#FF97FF",
          "width": 1
         },
         "lon": [
          103.7963218966275,
          100.226617197402
         ],
         "mode": "lines",
         "opacity": 1,
         "type": "scattermapbox"
        },
        {
         "lat": [
          30.43526374766115,
          27.34168368255112
         ],
         "line": {
          "color": "#FF97FF",
          "width": 1
         },
         "lon": [
          103.7963218966275,
          103.7153750119609
         ],
         "mode": "lines",
         "opacity": 1,
         "type": "scattermapbox"
        },
        {
         "lat": [
          30.43526374766115,
          25.60952165934802
         ],
         "line": {
          "color": "#FF97FF",
          "width": 1
         },
         "lon": [
          103.7963218966275,
          100.266540437132
         ],
         "mode": "lines",
         "opacity": 1,
         "type": "scattermapbox"
        },
        {
         "lat": [
          30.43526374766115,
          24.43652522328061
         ],
         "line": {
          "color": "#FF97FF",
          "width": 1
         },
         "lon": [
          103.7963218966275,
          98.58474196486381
         ],
         "mode": "lines",
         "opacity": 1,
         "type": "scattermapbox"
        },
        {
         "lat": [
          30.43526374766115,
          25.85588172220572
         ],
         "line": {
          "color": "#FF97FF",
          "width": 1
         },
         "lon": [
          103.7963218966275,
          98.85270009438005
         ],
         "mode": "lines",
         "opacity": 1,
         "type": "scattermapbox"
        },
        {
         "lat": [
          30.43526374766115,
          27.7033952036923
         ],
         "line": {
          "color": "#FF97FF",
          "width": 1
         },
         "lon": [
          103.7963218966275,
          111.9879998873743
         ],
         "mode": "lines",
         "opacity": 1,
         "type": "scattermapbox"
        },
        {
         "lat": [
          30.43526374766115,
          22.81969289402053
         ],
         "line": {
          "color": "#FF97FF",
          "width": 1
         },
         "lon": [
          103.7963218966275,
          108.362477121497
         ],
         "mode": "lines",
         "opacity": 1,
         "type": "scattermapbox"
        },
        {
         "lat": [
          30.43526374766115,
          29.55486012728612
         ],
         "line": {
          "color": "#FF97FF",
          "width": 1
         },
         "lon": [
          103.7963218966275,
          103.7633582225082
         ],
         "mode": "lines",
         "opacity": 1,
         "type": "scattermapbox"
        },
        {
         "lat": [
          30.43526374766115,
          30.07825703112998
         ],
         "line": {
          "color": "#FF97FF",
          "width": 1
         },
         "lon": [
          103.7963218966275,
          103.8464324283255
         ],
         "mode": "lines",
         "opacity": 1,
         "type": "scattermapbox"
        },
        {
         "lat": [
          30.43526374766115,
          29.58280912023783
         ],
         "line": {
          "color": "#FF97FF",
          "width": 1
         },
         "lon": [
          103.7963218966275,
          105.0552159487049
         ],
         "mode": "lines",
         "opacity": 1,
         "type": "scattermapbox"
        },
        {
         "lat": [
          30.43526374766115,
          30.57472618688221
         ],
         "line": {
          "color": "#FF97FF",
          "width": 1
         },
         "lon": [
          103.7963218966275,
          104.0640406467982
         ],
         "mode": "lines",
         "opacity": 1,
         "type": "scattermapbox"
        },
        {
         "lat": [
          30.43526374766115,
          23.47955829321463
         ],
         "line": {
          "color": "#FF97FF",
          "width": 1
         },
         "lon": [
          103.7963218966275,
          111.274015703365
         ],
         "mode": "lines",
         "opacity": 1,
         "type": "scattermapbox"
        },
        {
         "lat": [
          30.43526374766115,
          26.89680824683814
         ],
         "line": {
          "color": "#FF97FF",
          "width": 1
         },
         "lon": [
          103.7963218966275,
          112.5667549296271
         ],
         "mode": "lines",
         "opacity": 1,
         "type": "scattermapbox"
        },
        {
         "lat": [
          30.43526374766115,
          23.11442986508254
         ],
         "line": {
          "color": "#FF97FF",
          "width": 1
         },
         "lon": [
          103.7963218966275,
          109.5947354798691
         ],
         "mode": "lines",
         "opacity": 1,
         "type": "scattermapbox"
        },
        {
         "lat": [
          30.43526374766115,
          27.24212198420047
         ],
         "line": {
          "color": "#FF97FF",
          "width": 1
         },
         "lon": [
          103.7963218966275,
          111.46221384419
         ],
         "mode": "lines",
         "opacity": 1,
         "type": "scattermapbox"
        },
        {
         "lat": [
          30.43526374766115,
          24.69568601285607
         ],
         "line": {
          "color": "#FF97FF",
          "width": 1
         },
         "lon": [
          103.7963218966275,
          108.0810096435724
         ],
         "mode": "lines",
         "opacity": 1,
         "type": "scattermapbox"
        },
        {
         "lat": [
          30.43526374766115,
          22.54582555967459
         ],
         "line": {
          "color": "#FF97FF",
          "width": 1
         },
         "lon": [
          103.7963218966275,
          114.0527603784418
         ],
         "mode": "lines",
         "opacity": 1,
         "type": "scattermapbox"
        },
        {
         "lat": [
          30.43526374766115,
          23.90524065563987
         ],
         "line": {
          "color": "#FF97FF",
          "width": 1
         },
         "lon": [
          103.7963218966275,
          106.6147948071433
         ],
         "mode": "lines",
         "opacity": 1,
         "type": "scattermapbox"
        },
        {
         "lat": [
          30.43526374766115,
          26.25752124739282
         ],
         "line": {
          "color": "#FF97FF",
          "width": 1
         },
         "lon": [
          103.7963218966275,
          107.5179199131978
         ],
         "mode": "lines",
         "opacity": 1,
         "type": "scattermapbox"
        },
        {
         "lat": [
          30.43526374766115,
          26.58699009505417
         ],
         "line": {
          "color": "#FF97FF",
          "width": 1
         },
         "lon": [
          103.7963218966275,
          107.9787341141204
         ],
         "mode": "lines",
         "opacity": 1,
         "type": "scattermapbox"
        },
        {
         "lat": [
          30.43526374766115,
          26.25661020954963
         ],
         "line": {
          "color": "#FF97FF",
          "width": 1
         },
         "lon": [
          103.7963218966275,
          105.944234857304
         ],
         "mode": "lines",
         "opacity": 1,
         "type": "scattermapbox"
        },
        {
         "lat": [
          30.43526374766115,
          25.09093405808564
         ],
         "line": {
          "color": "#FF97FF",
          "width": 1
         },
         "lon": [
          103.7963218966275,
          104.9039323613744
         ],
         "mode": "lines",
         "opacity": 1,
         "type": "scattermapbox"
        },
        {
         "lat": [
          30.43526374766115,
          27.73477832582868
         ],
         "line": {
          "color": "#FF97FF",
          "width": 1
         },
         "lon": [
          103.7963218966275,
          109.1850122201689
         ],
         "mode": "lines",
         "opacity": 1,
         "type": "scattermapbox"
        },
        {
         "lat": [
          30.43526374766115,
          27.30596661372806
         ],
         "line": {
          "color": "#FF97FF",
          "width": 1
         },
         "lon": [
          103.7963218966275,
          105.2807802738927
         ],
         "mode": "lines",
         "opacity": 1,
         "type": "scattermapbox"
        },
        {
         "lat": [
          30.43526374766115,
          26.65133479795816
         ],
         "line": {
          "color": "#FF97FF",
          "width": 1
         },
         "lon": [
          103.7963218966275,
          106.6265908397277
         ],
         "mode": "lines",
         "opacity": 1,
         "type": "scattermapbox"
        },
        {
         "lat": [
          30.43526374766115,
          21.27309617063639
         ],
         "line": {
          "color": "#FF97FF",
          "width": 1
         },
         "lon": [
          103.7963218966275,
          110.354889157503
         ],
         "mode": "lines",
         "opacity": 1,
         "type": "scattermapbox"
        },
        {
         "lat": [
          30.43526374766115,
          23.40338124080785
         ],
         "line": {
          "color": "#FF97FF",
          "width": 1
         },
         "lon": [
          103.7963218966275,
          104.2141451396921
         ],
         "mode": "lines",
         "opacity": 1,
         "type": "scattermapbox"
        },
        {
         "lat": [
          30.43526374766115,
          23.36564593259077
         ],
         "line": {
          "color": "#FF97FF",
          "width": 1
         },
         "lon": [
          103.7963218966275,
          103.3727785187104
         ],
         "mode": "lines",
         "opacity": 1,
         "type": "scattermapbox"
        },
        {
         "lat": [
          30.43526374766115,
          22.01021097537386
         ],
         "line": {
          "color": "#FF97FF",
          "width": 1
         },
         "lon": [
          103.7963218966275,
          100.7966529405068
         ],
         "mode": "lines",
         "opacity": 1,
         "type": "scattermapbox"
        },
        {
         "lat": [
          30.43526374766115,
          22.82805845259796
         ],
         "line": {
          "color": "#FF97FF",
          "width": 1
         },
         "lon": [
          103.7963218966275,
          100.9653388647515
         ],
         "mode": "lines",
         "opacity": 1,
         "type": "scattermapbox"
        },
        {
         "lat": [
          30.43526374766115,
          24.88316116418696
         ],
         "line": {
          "color": "#FF97FF",
          "width": 1
         },
         "lon": [
          103.7963218966275,
          102.8314726024856
         ],
         "mode": "lines",
         "opacity": 1,
         "type": "scattermapbox"
        },
        {
         "lat": [
          30.43526374766115,
          25.49299843430843
         ],
         "line": {
          "color": "#FF97FF",
          "width": 1
         },
         "lon": [
          103.7963218966275,
          103.7941408167699
         ],
         "mode": "lines",
         "opacity": 1,
         "type": "scattermapbox"
        },
        {
         "lat": [
          30.43526374766115,
          25.04856596148663
         ],
         "line": {
          "color": "#FF97FF",
          "width": 1
         },
         "lon": [
          103.7963218966275,
          101.5265948761278
         ],
         "mode": "lines",
         "opacity": 1,
         "type": "scattermapbox"
        },
        {
         "lat": [
          30.43526374766115,
          24.35509872756021
         ],
         "line": {
          "color": "#FF97FF",
          "width": 1
         },
         "lon": [
          103.7963218966275,
          102.5452870357915
         ],
         "mode": "lines",
         "opacity": 1,
         "type": "scattermapbox"
        },
        {
         "lat": [
          30.43526374766115,
          23.88016567387444
         ],
         "line": {
          "color": "#FF97FF",
          "width": 1
         },
         "lon": [
          103.7963218966275,
          100.0783382546188
         ],
         "mode": "lines",
         "opacity": 1,
         "type": "scattermapbox"
        }
       ],
       "layout": {
        "mapbox": {
         "accesstoken": "pk.eyJ1IjoiY2h1bnhpYW9saSIsImEiOiJjbDRtb3V3a2QxeTk2M2pyeXozYXV2NTl6In0.YzvDEk9hGVLJPXLHVrPiLQ",
         "style": "dark"
        },
        "margin": {
         "b": 0,
         "l": 0,
         "r": 0,
         "t": 0
        },
        "showlegend": false,
        "template": {
         "data": {
          "bar": [
           {
            "error_x": {
             "color": "#2a3f5f"
            },
            "error_y": {
             "color": "#2a3f5f"
            },
            "marker": {
             "line": {
              "color": "#E5ECF6",
              "width": 0.5
             },
             "pattern": {
              "fillmode": "overlay",
              "size": 10,
              "solidity": 0.2
             }
            },
            "type": "bar"
           }
          ],
          "barpolar": [
           {
            "marker": {
             "line": {
              "color": "#E5ECF6",
              "width": 0.5
             },
             "pattern": {
              "fillmode": "overlay",
              "size": 10,
              "solidity": 0.2
             }
            },
            "type": "barpolar"
           }
          ],
          "carpet": [
           {
            "aaxis": {
             "endlinecolor": "#2a3f5f",
             "gridcolor": "white",
             "linecolor": "white",
             "minorgridcolor": "white",
             "startlinecolor": "#2a3f5f"
            },
            "baxis": {
             "endlinecolor": "#2a3f5f",
             "gridcolor": "white",
             "linecolor": "white",
             "minorgridcolor": "white",
             "startlinecolor": "#2a3f5f"
            },
            "type": "carpet"
           }
          ],
          "choropleth": [
           {
            "colorbar": {
             "outlinewidth": 0,
             "ticks": ""
            },
            "type": "choropleth"
           }
          ],
          "contour": [
           {
            "colorbar": {
             "outlinewidth": 0,
             "ticks": ""
            },
            "colorscale": [
             [
              0,
              "#0d0887"
             ],
             [
              0.1111111111111111,
              "#46039f"
             ],
             [
              0.2222222222222222,
              "#7201a8"
             ],
             [
              0.3333333333333333,
              "#9c179e"
             ],
             [
              0.4444444444444444,
              "#bd3786"
             ],
             [
              0.5555555555555556,
              "#d8576b"
             ],
             [
              0.6666666666666666,
              "#ed7953"
             ],
             [
              0.7777777777777778,
              "#fb9f3a"
             ],
             [
              0.8888888888888888,
              "#fdca26"
             ],
             [
              1,
              "#f0f921"
             ]
            ],
            "type": "contour"
           }
          ],
          "contourcarpet": [
           {
            "colorbar": {
             "outlinewidth": 0,
             "ticks": ""
            },
            "type": "contourcarpet"
           }
          ],
          "heatmap": [
           {
            "colorbar": {
             "outlinewidth": 0,
             "ticks": ""
            },
            "colorscale": [
             [
              0,
              "#0d0887"
             ],
             [
              0.1111111111111111,
              "#46039f"
             ],
             [
              0.2222222222222222,
              "#7201a8"
             ],
             [
              0.3333333333333333,
              "#9c179e"
             ],
             [
              0.4444444444444444,
              "#bd3786"
             ],
             [
              0.5555555555555556,
              "#d8576b"
             ],
             [
              0.6666666666666666,
              "#ed7953"
             ],
             [
              0.7777777777777778,
              "#fb9f3a"
             ],
             [
              0.8888888888888888,
              "#fdca26"
             ],
             [
              1,
              "#f0f921"
             ]
            ],
            "type": "heatmap"
           }
          ],
          "heatmapgl": [
           {
            "colorbar": {
             "outlinewidth": 0,
             "ticks": ""
            },
            "colorscale": [
             [
              0,
              "#0d0887"
             ],
             [
              0.1111111111111111,
              "#46039f"
             ],
             [
              0.2222222222222222,
              "#7201a8"
             ],
             [
              0.3333333333333333,
              "#9c179e"
             ],
             [
              0.4444444444444444,
              "#bd3786"
             ],
             [
              0.5555555555555556,
              "#d8576b"
             ],
             [
              0.6666666666666666,
              "#ed7953"
             ],
             [
              0.7777777777777778,
              "#fb9f3a"
             ],
             [
              0.8888888888888888,
              "#fdca26"
             ],
             [
              1,
              "#f0f921"
             ]
            ],
            "type": "heatmapgl"
           }
          ],
          "histogram": [
           {
            "marker": {
             "pattern": {
              "fillmode": "overlay",
              "size": 10,
              "solidity": 0.2
             }
            },
            "type": "histogram"
           }
          ],
          "histogram2d": [
           {
            "colorbar": {
             "outlinewidth": 0,
             "ticks": ""
            },
            "colorscale": [
             [
              0,
              "#0d0887"
             ],
             [
              0.1111111111111111,
              "#46039f"
             ],
             [
              0.2222222222222222,
              "#7201a8"
             ],
             [
              0.3333333333333333,
              "#9c179e"
             ],
             [
              0.4444444444444444,
              "#bd3786"
             ],
             [
              0.5555555555555556,
              "#d8576b"
             ],
             [
              0.6666666666666666,
              "#ed7953"
             ],
             [
              0.7777777777777778,
              "#fb9f3a"
             ],
             [
              0.8888888888888888,
              "#fdca26"
             ],
             [
              1,
              "#f0f921"
             ]
            ],
            "type": "histogram2d"
           }
          ],
          "histogram2dcontour": [
           {
            "colorbar": {
             "outlinewidth": 0,
             "ticks": ""
            },
            "colorscale": [
             [
              0,
              "#0d0887"
             ],
             [
              0.1111111111111111,
              "#46039f"
             ],
             [
              0.2222222222222222,
              "#7201a8"
             ],
             [
              0.3333333333333333,
              "#9c179e"
             ],
             [
              0.4444444444444444,
              "#bd3786"
             ],
             [
              0.5555555555555556,
              "#d8576b"
             ],
             [
              0.6666666666666666,
              "#ed7953"
             ],
             [
              0.7777777777777778,
              "#fb9f3a"
             ],
             [
              0.8888888888888888,
              "#fdca26"
             ],
             [
              1,
              "#f0f921"
             ]
            ],
            "type": "histogram2dcontour"
           }
          ],
          "mesh3d": [
           {
            "colorbar": {
             "outlinewidth": 0,
             "ticks": ""
            },
            "type": "mesh3d"
           }
          ],
          "parcoords": [
           {
            "line": {
             "colorbar": {
              "outlinewidth": 0,
              "ticks": ""
             }
            },
            "type": "parcoords"
           }
          ],
          "pie": [
           {
            "automargin": true,
            "type": "pie"
           }
          ],
          "scatter": [
           {
            "marker": {
             "colorbar": {
              "outlinewidth": 0,
              "ticks": ""
             }
            },
            "type": "scatter"
           }
          ],
          "scatter3d": [
           {
            "line": {
             "colorbar": {
              "outlinewidth": 0,
              "ticks": ""
             }
            },
            "marker": {
             "colorbar": {
              "outlinewidth": 0,
              "ticks": ""
             }
            },
            "type": "scatter3d"
           }
          ],
          "scattercarpet": [
           {
            "marker": {
             "colorbar": {
              "outlinewidth": 0,
              "ticks": ""
             }
            },
            "type": "scattercarpet"
           }
          ],
          "scattergeo": [
           {
            "marker": {
             "colorbar": {
              "outlinewidth": 0,
              "ticks": ""
             }
            },
            "type": "scattergeo"
           }
          ],
          "scattergl": [
           {
            "marker": {
             "colorbar": {
              "outlinewidth": 0,
              "ticks": ""
             }
            },
            "type": "scattergl"
           }
          ],
          "scattermapbox": [
           {
            "marker": {
             "colorbar": {
              "outlinewidth": 0,
              "ticks": ""
             }
            },
            "type": "scattermapbox"
           }
          ],
          "scatterpolar": [
           {
            "marker": {
             "colorbar": {
              "outlinewidth": 0,
              "ticks": ""
             }
            },
            "type": "scatterpolar"
           }
          ],
          "scatterpolargl": [
           {
            "marker": {
             "colorbar": {
              "outlinewidth": 0,
              "ticks": ""
             }
            },
            "type": "scatterpolargl"
           }
          ],
          "scatterternary": [
           {
            "marker": {
             "colorbar": {
              "outlinewidth": 0,
              "ticks": ""
             }
            },
            "type": "scatterternary"
           }
          ],
          "surface": [
           {
            "colorbar": {
             "outlinewidth": 0,
             "ticks": ""
            },
            "colorscale": [
             [
              0,
              "#0d0887"
             ],
             [
              0.1111111111111111,
              "#46039f"
             ],
             [
              0.2222222222222222,
              "#7201a8"
             ],
             [
              0.3333333333333333,
              "#9c179e"
             ],
             [
              0.4444444444444444,
              "#bd3786"
             ],
             [
              0.5555555555555556,
              "#d8576b"
             ],
             [
              0.6666666666666666,
              "#ed7953"
             ],
             [
              0.7777777777777778,
              "#fb9f3a"
             ],
             [
              0.8888888888888888,
              "#fdca26"
             ],
             [
              1,
              "#f0f921"
             ]
            ],
            "type": "surface"
           }
          ],
          "table": [
           {
            "cells": {
             "fill": {
              "color": "#EBF0F8"
             },
             "line": {
              "color": "white"
             }
            },
            "header": {
             "fill": {
              "color": "#C8D4E3"
             },
             "line": {
              "color": "white"
             }
            },
            "type": "table"
           }
          ]
         },
         "layout": {
          "annotationdefaults": {
           "arrowcolor": "#2a3f5f",
           "arrowhead": 0,
           "arrowwidth": 1
          },
          "autotypenumbers": "strict",
          "coloraxis": {
           "colorbar": {
            "outlinewidth": 0,
            "ticks": ""
           }
          },
          "colorscale": {
           "diverging": [
            [
             0,
             "#8e0152"
            ],
            [
             0.1,
             "#c51b7d"
            ],
            [
             0.2,
             "#de77ae"
            ],
            [
             0.3,
             "#f1b6da"
            ],
            [
             0.4,
             "#fde0ef"
            ],
            [
             0.5,
             "#f7f7f7"
            ],
            [
             0.6,
             "#e6f5d0"
            ],
            [
             0.7,
             "#b8e186"
            ],
            [
             0.8,
             "#7fbc41"
            ],
            [
             0.9,
             "#4d9221"
            ],
            [
             1,
             "#276419"
            ]
           ],
           "sequential": [
            [
             0,
             "#0d0887"
            ],
            [
             0.1111111111111111,
             "#46039f"
            ],
            [
             0.2222222222222222,
             "#7201a8"
            ],
            [
             0.3333333333333333,
             "#9c179e"
            ],
            [
             0.4444444444444444,
             "#bd3786"
            ],
            [
             0.5555555555555556,
             "#d8576b"
            ],
            [
             0.6666666666666666,
             "#ed7953"
            ],
            [
             0.7777777777777778,
             "#fb9f3a"
            ],
            [
             0.8888888888888888,
             "#fdca26"
            ],
            [
             1,
             "#f0f921"
            ]
           ],
           "sequentialminus": [
            [
             0,
             "#0d0887"
            ],
            [
             0.1111111111111111,
             "#46039f"
            ],
            [
             0.2222222222222222,
             "#7201a8"
            ],
            [
             0.3333333333333333,
             "#9c179e"
            ],
            [
             0.4444444444444444,
             "#bd3786"
            ],
            [
             0.5555555555555556,
             "#d8576b"
            ],
            [
             0.6666666666666666,
             "#ed7953"
            ],
            [
             0.7777777777777778,
             "#fb9f3a"
            ],
            [
             0.8888888888888888,
             "#fdca26"
            ],
            [
             1,
             "#f0f921"
            ]
           ]
          },
          "colorway": [
           "#636efa",
           "#EF553B",
           "#00cc96",
           "#ab63fa",
           "#FFA15A",
           "#19d3f3",
           "#FF6692",
           "#B6E880",
           "#FF97FF",
           "#FECB52"
          ],
          "font": {
           "color": "#2a3f5f"
          },
          "geo": {
           "bgcolor": "white",
           "lakecolor": "white",
           "landcolor": "#E5ECF6",
           "showlakes": true,
           "showland": true,
           "subunitcolor": "white"
          },
          "hoverlabel": {
           "align": "left"
          },
          "hovermode": "closest",
          "mapbox": {
           "style": "light"
          },
          "paper_bgcolor": "white",
          "plot_bgcolor": "#E5ECF6",
          "polar": {
           "angularaxis": {
            "gridcolor": "white",
            "linecolor": "white",
            "ticks": ""
           },
           "bgcolor": "#E5ECF6",
           "radialaxis": {
            "gridcolor": "white",
            "linecolor": "white",
            "ticks": ""
           }
          },
          "scene": {
           "xaxis": {
            "backgroundcolor": "#E5ECF6",
            "gridcolor": "white",
            "gridwidth": 2,
            "linecolor": "white",
            "showbackground": true,
            "ticks": "",
            "zerolinecolor": "white"
           },
           "yaxis": {
            "backgroundcolor": "#E5ECF6",
            "gridcolor": "white",
            "gridwidth": 2,
            "linecolor": "white",
            "showbackground": true,
            "ticks": "",
            "zerolinecolor": "white"
           },
           "zaxis": {
            "backgroundcolor": "#E5ECF6",
            "gridcolor": "white",
            "gridwidth": 2,
            "linecolor": "white",
            "showbackground": true,
            "ticks": "",
            "zerolinecolor": "white"
           }
          },
          "shapedefaults": {
           "line": {
            "color": "#2a3f5f"
           }
          },
          "ternary": {
           "aaxis": {
            "gridcolor": "white",
            "linecolor": "white",
            "ticks": ""
           },
           "baxis": {
            "gridcolor": "white",
            "linecolor": "white",
            "ticks": ""
           },
           "bgcolor": "#E5ECF6",
           "caxis": {
            "gridcolor": "white",
            "linecolor": "white",
            "ticks": ""
           }
          },
          "title": {
           "x": 0.05
          },
          "xaxis": {
           "automargin": true,
           "gridcolor": "white",
           "linecolor": "white",
           "ticks": "",
           "title": {
            "standoff": 15
           },
           "zerolinecolor": "white",
           "zerolinewidth": 2
          },
          "yaxis": {
           "automargin": true,
           "gridcolor": "white",
           "linecolor": "white",
           "ticks": "",
           "title": {
            "standoff": 15
           },
           "zerolinecolor": "white",
           "zerolinewidth": 2
          }
         }
        },
        "title": {
         "text": "Customer Flows"
        }
       }
      }
     },
     "metadata": {},
     "output_type": "display_data"
    }
   ],
   "source": [
    "### plot customer flows - slow plot - discard\n",
    "fig = go.Figure(go.Scattermapbox(\n",
    "    mode = \"markers\",\n",
    "    lon = customers_df['Longitude'],\n",
    "    lat = customers_df['Latitude'],\n",
    "    marker = {'size': 1}))\n",
    "\n",
    "color_dict = dict(zip(sc_flow_plot_df['Origin'].unique(), px.colors.qualitative.Plotly[0:len(sc_flow_plot_df['Origin'].unique())+1]))\n",
    "\n",
    "for i in range(len(sc_flow_plot_df)):\n",
    "    fig.add_trace(\n",
    "        go.Scattermapbox(\n",
    "            lon = [sc_flow_plot_df['start_lon'][i], sc_flow_plot_df['end_lon'][i]],\n",
    "            lat = [sc_flow_plot_df['start_lat'][i], sc_flow_plot_df['end_lat'][i]],\n",
    "            mode = 'lines',\n",
    "            line = dict(width = 1, color = color_dict[sc_flow_plot_df['Origin'][i]]),\n",
    "            opacity = 1,\n",
    "        )\n",
    "    )\n",
    "\n",
    "fig.update_layout(title_text = 'Customer Flows',\n",
    "                    showlegend = False,\n",
    "                    mapbox_style=\"dark\", \n",
    "                    mapbox_accesstoken=token)\n",
    "fig.update_layout(margin={\"r\":0,\"t\":0,\"l\":0,\"b\":0})\n",
    "\n",
    "fig.show()"
   ]
  },
  {
   "cell_type": "code",
   "execution_count": null,
   "metadata": {},
   "outputs": [],
   "source": []
  }
 ],
 "metadata": {
  "kernelspec": {
   "display_name": "Python 3.9.7 ('gurobienv')",
   "language": "python",
   "name": "python3"
  },
  "language_info": {
   "codemirror_mode": {
    "name": "ipython",
    "version": 3
   },
   "file_extension": ".py",
   "mimetype": "text/x-python",
   "name": "python",
   "nbconvert_exporter": "python",
   "pygments_lexer": "ipython3",
   "version": "3.9.7"
  },
  "vscode": {
   "interpreter": {
    "hash": "18e91175e1516bff4eef934baab7668e39e52ce0c83f1a8b750e9bc89fc9161f"
   }
  }
 },
 "nbformat": 4,
 "nbformat_minor": 2
}
